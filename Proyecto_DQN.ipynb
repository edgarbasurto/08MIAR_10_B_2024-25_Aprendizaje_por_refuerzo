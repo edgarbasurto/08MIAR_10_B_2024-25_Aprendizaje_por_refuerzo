{
 "cells": [
  {
   "cell_type": "markdown",
   "id": "213ddeb2",
   "metadata": {
    "id": "213ddeb2"
   },
   "source": [
    "# Actividad - Proyecto práctico: DQN con SpaceInvaders\n",
    "\n",
    "**Máster en Inteligencia Artificial - Aprendizaje por Refuerzo**\n",
    "\n",
    "> La actividad se desarrollará en grupos pre-definidos de 2-3 alumnos. Se debe indicar los nombres en orden alfabético (de apellidos). Recordad que esta actividad se corresponde con un 30% de la nota final de la asignatura. Se debe entregar entregar el trabajo en la presente notebook.\n",
    "*   Alumno 1: Manjarrez Jinez Paúl Alexander\n",
    "*   Alumno 2: Bravo Esquivias Gustavo Roger\n",
    "*   Alumno 3: Pardo Hortua Eduar Uriel\n",
    "*   Alumno 4: Basurto Cruz Edgar Daniel\n",
    "\n",
    "**Link de GitHub:** https://github.com/edgarbasurto/08MIAR_10_B_2024-25_Aprendizaje_por_refuerzo"
   ]
  },
  {
   "cell_type": "markdown",
   "id": "cfc4821f-6693-4d6b-b881-7f71a45070c3",
   "metadata": {},
   "source": [
    "---\n",
    "## **PARTE 1** - Instalación y requisitos previos\n",
    "\n",
    "> Las prácticas han sido preparadas para poder realizarse en el entorno de trabajo de Google Colab. Sin embargo, esta plataforma presenta ciertas incompatibilidades a la hora de visualizar la renderización en gym. Por ello, para obtener estas visualizaciones, se deberá trasladar el entorno de trabajo a local. Por ello, el presente dosier presenta instrucciones para poder trabajar en ambos entornos. Siga los siguientes pasos para un correcto funcionamiento:\n",
    "1.   **LOCAL:** Preparar el enviroment, siguiendo las intrucciones detalladas en la sección *1.1.Preparar enviroment*.\n",
    "2.  **AMBOS:** Modificar las variables \"mount\" y \"drive_mount\" a la carpeta de trabajo en drive en el caso de estar en Colab, y ejecturar la celda *1.2.Localizar entorno de trabajo*.\n",
    "3. **COLAB:** se deberá ejecutar las celdas correspondientes al montaje de la carpeta de trabajo en Drive. Esta corresponde a la sección *1.3.Montar carpeta de datos local*.\n",
    "4.  **AMBOS:** Instalar las librerías necesarias, siguiendo la sección *1.4.Instalar librerías necesarias*.\n"
   ]
  },
  {
   "cell_type": "markdown",
   "id": "d7ffdb58-bba6-4795-8a6e-7f555ae1e66c",
   "metadata": {},
   "source": [
    "---\n",
    "### 1.1. Preparar enviroment (solo local)\n",
    "\n",
    "\n",
    "\n",
    "> Para preparar el entorno de trabajo en local, se han seguido los siguientes pasos:\n",
    "1. En Windows, puede ser necesario instalar las C++ Build Tools. Para ello, siga los siguientes pasos: https://towardsdatascience.com/how-to-install-openai-gym-in-a-windows-environment-338969e24d30.\n",
    "2. Instalar Anaconda\n",
    "3. Siguiendo el código que se presenta comentado en la próxima celda: Crear un enviroment, cambiar la ruta de trabajo, e instalar librerías básicas.\n",
    "\n",
    "\n",
    "```\n",
    "conda create --name miar_rl python=3.8\n",
    "conda activate miar_rl\n",
    "cd \"PATH_TO_FOLDER\"\n",
    "conda install git\n",
    "pip install jupyter\n",
    "```\n",
    "\n",
    "\n",
    "4. Abrir la notebook con *jupyter-notebook*.\n",
    "\n",
    "\n",
    "\n",
    "```\n",
    "jupyter-notebook\n",
    "```\n"
   ]
  },
  {
   "cell_type": "markdown",
   "id": "dc0674b3-ffd3-47a8-84e2-afa872ba57c8",
   "metadata": {},
   "source": [
    "---\n",
    "### 1.2. Localizar entorno de trabajo: Google colab o local"
   ]
  },
  {
   "cell_type": "code",
   "execution_count": 1,
   "id": "1d908af4-396e-4046-8b56-3b26f390fa83",
   "metadata": {
    "jupyter": {
     "is_executing": true
    }
   },
   "outputs": [],
   "source": [
    "# ATENCIÓN!! Modificar ruta relativa a la práctica si es distinta (drive_root)\n",
    "mount='/content/gdrive'\n",
    "drive_root = mount + \"/My Drive/08_MIAR/actividades/proyecto practico\"\n",
    "\n",
    "try:\n",
    "    from google.colab import drive\n",
    "    IN_COLAB=True\n",
    "except:\n",
    "    IN_COLAB=False"
   ]
  },
  {
   "cell_type": "markdown",
   "id": "73317aca-5158-4d34-92fe-cd6d5b5ddfa9",
   "metadata": {},
   "source": [
    "---\n",
    "### 1.3. Montar carpeta de datos local (solo Colab)"
   ]
  },
  {
   "cell_type": "code",
   "execution_count": 32,
   "id": "b2710a76-4981-4743-9bcc-0fa9fb361784",
   "metadata": {
    "jupyter": {
     "is_executing": true
    }
   },
   "outputs": [
    {
     "name": "stdout",
     "output_type": "stream",
     "text": [
      "Archivos en el directorio: \n",
      "['Proyecto_DQN.ipynb', 'modelo_final.pth', 'space_invader_dqn.mp4', '.ipynb_checkpoints']\n"
     ]
    }
   ],
   "source": [
    "# Switch to the directory on the Google Drive that you want to use\n",
    "import os\n",
    "if IN_COLAB:\n",
    "  print(\"We're running Colab\")\n",
    "\n",
    "  if IN_COLAB:\n",
    "    # Mount the Google Drive at mount\n",
    "    print(\"Colab: mounting Google drive on \", mount)\n",
    "\n",
    "    drive.mount(mount)\n",
    "\n",
    "    # Create drive_root if it doesn't exist\n",
    "    create_drive_root = True\n",
    "    if create_drive_root:\n",
    "      print(\"\\nColab: making sure \", drive_root, \" exists.\")\n",
    "      os.makedirs(drive_root, exist_ok=True)\n",
    "\n",
    "    # Change to the directory\n",
    "    print(\"\\nColab: Changing directory to \", drive_root)\n",
    "    %cd $drive_root\n",
    "# Verify we're in the correct working directory\n",
    "%pwd\n",
    "print(\"Archivos en el directorio: \")\n",
    "print(os.listdir())"
   ]
  },
  {
   "cell_type": "markdown",
   "id": "8cd3fe6e-49b9-4874-8d56-5fbb11ff2d1c",
   "metadata": {},
   "source": [
    "---\n",
    "### 1.4. Instalar librerías necesarias"
   ]
  },
  {
   "cell_type": "code",
   "execution_count": 54,
   "id": "f677a023-e844-417a-a26c-5479ad829273",
   "metadata": {
    "jupyter": {
     "is_executing": true
    }
   },
   "outputs": [
    {
     "name": "stdout",
     "output_type": "stream",
     "text": [
      "Requirement already satisfied: torch==2.7.1 in /opt/anaconda3/lib/python3.12/site-packages (2.7.1)\n",
      "Requirement already satisfied: filelock in /opt/anaconda3/lib/python3.12/site-packages (from torch==2.7.1) (3.13.1)\n",
      "Requirement already satisfied: typing-extensions>=4.10.0 in /opt/anaconda3/lib/python3.12/site-packages (from torch==2.7.1) (4.11.0)\n",
      "Requirement already satisfied: setuptools in /opt/anaconda3/lib/python3.12/site-packages (from torch==2.7.1) (75.1.0)\n",
      "Requirement already satisfied: sympy>=1.13.3 in /opt/anaconda3/lib/python3.12/site-packages (from torch==2.7.1) (1.14.0)\n",
      "Requirement already satisfied: networkx in /opt/anaconda3/lib/python3.12/site-packages (from torch==2.7.1) (3.3)\n",
      "Requirement already satisfied: jinja2 in /opt/anaconda3/lib/python3.12/site-packages (from torch==2.7.1) (3.1.4)\n",
      "Requirement already satisfied: fsspec in /opt/anaconda3/lib/python3.12/site-packages (from torch==2.7.1) (2024.6.1)\n",
      "Requirement already satisfied: mpmath<1.4,>=1.1.0 in /opt/anaconda3/lib/python3.12/site-packages (from sympy>=1.13.3->torch==2.7.1) (1.3.0)\n",
      "Requirement already satisfied: MarkupSafe>=2.0 in /opt/anaconda3/lib/python3.12/site-packages (from jinja2->torch==2.7.1) (2.1.3)\n",
      "Note: you may need to restart the kernel to use updated packages.\n",
      "Requirement already satisfied: torchvision in /opt/anaconda3/lib/python3.12/site-packages (0.22.1)\n",
      "Requirement already satisfied: numpy in /opt/anaconda3/lib/python3.12/site-packages (from torchvision) (1.26.4)\n",
      "Requirement already satisfied: torch==2.7.1 in /opt/anaconda3/lib/python3.12/site-packages (from torchvision) (2.7.1)\n",
      "Requirement already satisfied: pillow!=8.3.*,>=5.3.0 in /opt/anaconda3/lib/python3.12/site-packages (from torchvision) (9.5.0)\n",
      "Requirement already satisfied: filelock in /opt/anaconda3/lib/python3.12/site-packages (from torch==2.7.1->torchvision) (3.13.1)\n",
      "Requirement already satisfied: typing-extensions>=4.10.0 in /opt/anaconda3/lib/python3.12/site-packages (from torch==2.7.1->torchvision) (4.11.0)\n",
      "Requirement already satisfied: setuptools in /opt/anaconda3/lib/python3.12/site-packages (from torch==2.7.1->torchvision) (75.1.0)\n",
      "Requirement already satisfied: sympy>=1.13.3 in /opt/anaconda3/lib/python3.12/site-packages (from torch==2.7.1->torchvision) (1.14.0)\n",
      "Requirement already satisfied: networkx in /opt/anaconda3/lib/python3.12/site-packages (from torch==2.7.1->torchvision) (3.3)\n",
      "Requirement already satisfied: jinja2 in /opt/anaconda3/lib/python3.12/site-packages (from torch==2.7.1->torchvision) (3.1.4)\n",
      "Requirement already satisfied: fsspec in /opt/anaconda3/lib/python3.12/site-packages (from torch==2.7.1->torchvision) (2024.6.1)\n",
      "Requirement already satisfied: mpmath<1.4,>=1.1.0 in /opt/anaconda3/lib/python3.12/site-packages (from sympy>=1.13.3->torch==2.7.1->torchvision) (1.3.0)\n",
      "Requirement already satisfied: MarkupSafe>=2.0 in /opt/anaconda3/lib/python3.12/site-packages (from jinja2->torch==2.7.1->torchvision) (2.1.3)\n",
      "Note: you may need to restart the kernel to use updated packages.\n",
      "Requirement already satisfied: torchaudio in /opt/anaconda3/lib/python3.12/site-packages (2.7.1)\n",
      "Requirement already satisfied: torch==2.7.1 in /opt/anaconda3/lib/python3.12/site-packages (from torchaudio) (2.7.1)\n",
      "Requirement already satisfied: filelock in /opt/anaconda3/lib/python3.12/site-packages (from torch==2.7.1->torchaudio) (3.13.1)\n",
      "Requirement already satisfied: typing-extensions>=4.10.0 in /opt/anaconda3/lib/python3.12/site-packages (from torch==2.7.1->torchaudio) (4.11.0)\n",
      "Requirement already satisfied: setuptools in /opt/anaconda3/lib/python3.12/site-packages (from torch==2.7.1->torchaudio) (75.1.0)\n",
      "Requirement already satisfied: sympy>=1.13.3 in /opt/anaconda3/lib/python3.12/site-packages (from torch==2.7.1->torchaudio) (1.14.0)\n",
      "Requirement already satisfied: networkx in /opt/anaconda3/lib/python3.12/site-packages (from torch==2.7.1->torchaudio) (3.3)\n",
      "Requirement already satisfied: jinja2 in /opt/anaconda3/lib/python3.12/site-packages (from torch==2.7.1->torchaudio) (3.1.4)\n",
      "Requirement already satisfied: fsspec in /opt/anaconda3/lib/python3.12/site-packages (from torch==2.7.1->torchaudio) (2024.6.1)\n",
      "Requirement already satisfied: mpmath<1.4,>=1.1.0 in /opt/anaconda3/lib/python3.12/site-packages (from sympy>=1.13.3->torch==2.7.1->torchaudio) (1.3.0)\n",
      "Requirement already satisfied: MarkupSafe>=2.0 in /opt/anaconda3/lib/python3.12/site-packages (from jinja2->torch==2.7.1->torchaudio) (2.1.3)\n",
      "Note: you may need to restart the kernel to use updated packages.\n",
      "zsh:1: no matches found: gymnasium[atari,accept-rom-license]==0.29\n",
      "Note: you may need to restart the kernel to use updated packages.\n",
      "\u001b[31mERROR: Could not find a version that satisfies the requirement gymnasium-atari==0.29 (from versions: none)\u001b[0m\u001b[31m\n",
      "\u001b[0m\u001b[31mERROR: No matching distribution found for gymnasium-atari==0.29\u001b[0m\u001b[31m\n",
      "\u001b[0mNote: you may need to restart the kernel to use updated packages.\n",
      "Requirement already satisfied: ale-py==0.10 in /opt/anaconda3/lib/python3.12/site-packages (0.10.0)\n",
      "Requirement already satisfied: numpy<2.0 in /opt/anaconda3/lib/python3.12/site-packages (from ale-py==0.10) (1.26.4)\n",
      "Note: you may need to restart the kernel to use updated packages.\n",
      "Requirement already satisfied: autorom==0.6 in /opt/anaconda3/lib/python3.12/site-packages (0.6.0)\n",
      "Requirement already satisfied: click in /opt/anaconda3/lib/python3.12/site-packages (from autorom==0.6) (8.1.7)\n",
      "Requirement already satisfied: requests in /opt/anaconda3/lib/python3.12/site-packages (from autorom==0.6) (2.32.3)\n",
      "Requirement already satisfied: libtorrent in /opt/anaconda3/lib/python3.12/site-packages (from autorom==0.6) (2.0.11)\n",
      "Requirement already satisfied: charset-normalizer<4,>=2 in /opt/anaconda3/lib/python3.12/site-packages (from requests->autorom==0.6) (3.3.2)\n",
      "Requirement already satisfied: idna<4,>=2.5 in /opt/anaconda3/lib/python3.12/site-packages (from requests->autorom==0.6) (3.7)\n",
      "Requirement already satisfied: urllib3<3,>=1.21.1 in /opt/anaconda3/lib/python3.12/site-packages (from requests->autorom==0.6) (2.2.3)\n",
      "Requirement already satisfied: certifi>=2017.4.17 in /opt/anaconda3/lib/python3.12/site-packages (from requests->autorom==0.6) (2024.8.30)\n",
      "Note: you may need to restart the kernel to use updated packages.\n",
      "Requirement already satisfied: imageio in /opt/anaconda3/lib/python3.12/site-packages (2.33.1)\n",
      "Requirement already satisfied: numpy in /opt/anaconda3/lib/python3.12/site-packages (from imageio) (1.26.4)\n",
      "Requirement already satisfied: pillow>=8.3.2 in /opt/anaconda3/lib/python3.12/site-packages (from imageio) (9.5.0)\n",
      "Note: you may need to restart the kernel to use updated packages.\n",
      "Requirement already satisfied: opencv-python in /opt/anaconda3/lib/python3.12/site-packages (4.11.0.86)\n",
      "Requirement already satisfied: numpy>=1.21.2 in /opt/anaconda3/lib/python3.12/site-packages (from opencv-python) (1.26.4)\n",
      "Note: you may need to restart the kernel to use updated packages.\n",
      "Requirement already satisfied: tqdm in /opt/anaconda3/lib/python3.12/site-packages (4.66.5)\n",
      "Note: you may need to restart the kernel to use updated packages.\n",
      "Requirement already satisfied: numpy in /opt/anaconda3/lib/python3.12/site-packages (1.26.4)\n",
      "Note: you may need to restart the kernel to use updated packages.\n"
     ]
    }
   ],
   "source": [
    "if IN_COLAB:\n",
    "    %pip install gym==0.17.3\n",
    "    %pip install git+https://github.com/Kojoley/atari-py.git\n",
    "    %pip install keras-rl2==1.0.5\n",
    "    %pip install tensorflow==2.18\n",
    "else:\n",
    "    %pip install torch==2.7.1\n",
    "    %pip install torchvision\n",
    "    %pip install torchaudio\n",
    "    %pip install gymnasium[atari,accept-rom-license]==0.29\n",
    "    %pip install gymnasium-atari==0.29\n",
    "    %pip install ale-py==0.10\n",
    "    %pip install autorom==0.6\n",
    "    %pip install imageio\n",
    "    %pip install opencv-python\n",
    "    %pip install tqdm\n",
    "    %pip install numpy\n",
    "    %pip install imageio"
   ]
  },
  {
   "cell_type": "markdown",
   "id": "6d210d46-7807-4963-b844-458eac5bd96b",
   "metadata": {},
   "source": [
    "---\n",
    "## **PARTE 2**. Enunciado\n",
    "\n",
    "Consideraciones a tener en cuenta:\n",
    "\n",
    "- El entorno sobre el que trabajaremos será _SpaceInvaders-v0_ y el algoritmo que usaremos será _DQN_.\n",
    "\n",
    "- Para nuestro ejercicio, el requisito mínimo será alcanzado cuando el agente consiga una **media de recompensa por encima de 20 puntos en modo test**. Por ello, esta media de la recompensa se calculará a partir del código de test en la última celda del notebook.\n",
    "\n",
    "Este proyecto práctico consta de tres partes:\n",
    "\n",
    "1.   Implementar la red neuronal que se usará en la solución\n",
    "2.   Implementar las distintas piezas de la solución DQN\n",
    "3.   Justificar la respuesta en relación a los resultados obtenidos\n",
    "\n",
    "**Rúbrica**: Se valorará la originalidad en la solución aportada, así como la capacidad de discutir los resultados de forma detallada. El requisito mínimo servirá para aprobar la actividad, bajo premisa de que la discusión del resultado sera apropiada.\n",
    "\n",
    "IMPORTANTE:\n",
    "\n",
    "* Si no se consigue una puntuación óptima, responder sobre la mejor puntuación obtenida.\n",
    "* Para entrenamientos largos, recordad que podéis usar checkpoints de vuestros modelos para retomar los entrenamientos. En este caso, recordad cambiar los parámetros adecuadamente (sobre todo los relacionados con el proceso de exploración).\n",
    "* Se deberá entregar unicamente el notebook y los pesos del mejor modelo en un fichero .zip, de forma organizada.\n",
    "* Cada alumno deberá de subir la solución de forma individual."
   ]
  },
  {
   "cell_type": "markdown",
   "id": "d459eef8-2cbc-4592-b24d-1645b984fbe6",
   "metadata": {},
   "source": [
    "---\n",
    "## **PARTE 3**. Desarrollo y preguntas"
   ]
  },
  {
   "cell_type": "markdown",
   "id": "a646c4f4-0918-43d9-821c-30a1b87870fd",
   "metadata": {},
   "source": [
    "#### Importar librerías"
   ]
  },
  {
   "cell_type": "code",
   "execution_count": 26,
   "id": "938bbb6e",
   "metadata": {
    "colab": {
     "base_uri": "https://localhost:8080/"
    },
    "id": "938bbb6e",
    "outputId": "7b0afa54-91ad-4f04-c6c0-f5c0a5be5be0"
   },
   "outputs": [],
   "source": [
    "import ale_py\n",
    "import gymnasium as gym\n",
    "import torch\n",
    "import torch.nn as nn\n",
    "import torch.nn.functional as F\n",
    "import numpy as np\n",
    "import random\n",
    "from collections import deque\n",
    "import matplotlib.pyplot as plt\n",
    "import time\n",
    "import imageio\n",
    "import cv2\n"
   ]
  },
  {
   "cell_type": "markdown",
   "id": "d186e2e5-ec24-46d8-8336-c396aa224016",
   "metadata": {},
   "source": [
    "#### Configuración Base"
   ]
  },
  {
   "cell_type": "code",
   "execution_count": null,
   "id": "d199d191-95ef-48e7-97a7-109e818029c3",
   "metadata": {},
   "outputs": [],
   "source": [
    "INPUT_SHAPE = (84, 84)\n",
    "WINDOW_LENGTH = 4\n",
    "\n",
    "env_name = 'ALE/SpaceInvaders-v5'"
   ]
  },
  {
   "cell_type": "markdown",
   "id": "9a966ff8-d66e-48ec-9963-3301577a74ba",
   "metadata": {},
   "source": [
    "### 1. Implementación de la red neuronal"
   ]
  },
  {
   "cell_type": "code",
   "execution_count": 29,
   "id": "471ab6a8",
   "metadata": {
    "id": "471ab6a8"
   },
   "outputs": [],
   "source": [
    "# Definición de red neuronal\n",
    "class DQN(nn.Module):\n",
    "    def __init__(self, input_shape, num_actions):\n",
    "        super(DQN, self).__init__()\n",
    "        self.conv1 = nn.Conv2d(input_shape[0], 32, kernel_size=8, stride=4)\n",
    "        self.conv2 = nn.Conv2d(32, 64, kernel_size=4, stride=2)\n",
    "        self.conv3 = nn.Conv2d(64, 64, kernel_size=3, stride=1)\n",
    "\n",
    "        conv_out_size = self._get_conv_out(input_shape)\n",
    "        self.fc1 = nn.Linear(conv_out_size, 512)\n",
    "        self.fc2 = nn.Linear(512, num_actions)\n",
    "\n",
    "    def _get_conv_out(self, shape):\n",
    "        o = torch.zeros(1, *shape)\n",
    "        o = self.conv3(self.conv2(self.conv1(o)))\n",
    "        return int(np.prod(o.size()))\n",
    "\n",
    "    def forward(self, x):\n",
    "        x = x / 255.0\n",
    "        x = F.relu(self.conv1(x))\n",
    "        x = F.relu(self.conv2(x))\n",
    "        x = F.relu(self.conv3(x))\n",
    "        x = torch.flatten(x, 1)\n",
    "        x = F.relu(self.fc1(x))\n",
    "        return self.fc2(x)"
   ]
  },
  {
   "cell_type": "code",
   "execution_count": 31,
   "id": "6720909b",
   "metadata": {
    "id": "6720909b"
   },
   "outputs": [],
   "source": [
    "# Replay buffer y frame stack\n",
    "class ReplayBuffer:\n",
    "    def __init__(self, capacity):\n",
    "        self.buffer = deque(maxlen=capacity)\n",
    "\n",
    "    def push(self, s, a, r, s_, d):\n",
    "        self.buffer.append((s, a, r, s_, d))\n",
    "\n",
    "    def sample(self, batch_size):\n",
    "        batch = random.sample(self.buffer, batch_size)\n",
    "        states, actions, rewards, next_states, dones = zip(*batch)\n",
    "        return (np.stack(states), actions, rewards, np.stack(next_states), dones)\n",
    "\n",
    "    def __len__(self):\n",
    "        return len(self.buffer)\n",
    "\n",
    "class FrameStack:\n",
    "    def __init__(self, k):\n",
    "        self.k = k\n",
    "        self.frames = deque([], maxlen=k)\n",
    "        self.last_frame = None\n",
    "\n",
    "    def reset(self, obs):\n",
    "        f = self.preprocess(obs)\n",
    "        self.last_frame = f\n",
    "        for _ in range(self.k): self.frames.append(f)\n",
    "        return np.stack(self.frames, axis=0)\n",
    "\n",
    "    def step(self, obs):\n",
    "        f = self.preprocess(obs)\n",
    "        self.frames.append(f)\n",
    "        self.last_frame = f\n",
    "        return np.stack(self.frames, axis=0)\n",
    "\n",
    "    def preprocess(self, obs):\n",
    "        # Convertir a escala de grises\n",
    "        gray = cv2.cvtColor(obs, cv2.COLOR_RGB2GRAY)\n",
    "\n",
    "        # Recortar para eliminar marcador de puntuación y bordes\n",
    "        cropped = gray[30:195, 8:152]\n",
    "\n",
    "        # Redimensionar a 84x84\n",
    "        resized = cv2.resize(cropped, INPUT_SHAPE, interpolation=cv2.INTER_AREA)\n",
    "\n",
    "        # Promediar con el frame anterior si existe\n",
    "        if self.last_frame is not None:\n",
    "            resized = (resized.astype(np.float32) + self.last_frame.astype(np.float32)) / 2.0\n",
    "\n",
    "        return resized.astype(np.uint8)"
   ]
  },
  {
   "cell_type": "code",
   "execution_count": 33,
   "id": "01502ff1",
   "metadata": {
    "id": "01502ff1"
   },
   "outputs": [],
   "source": [
    "# Función de acción y entrenamiento\n",
    "def select_action(model, state, epsilon, num_actions, device):\n",
    "    if random.random() < epsilon:\n",
    "        return random.randint(0, num_actions - 1)\n",
    "    state = torch.tensor(state, dtype=torch.float32).unsqueeze(0).to(device)\n",
    "    with torch.no_grad():\n",
    "        q = model(state)\n",
    "    return q.argmax().item()\n",
    "\n",
    "def train(model, target, buffer, opt, batch_size, gamma, device):\n",
    "    if len(buffer) < batch_size: return\n",
    "    s, a, r, s_, d = buffer.sample(batch_size)\n",
    "    s = torch.tensor(s, dtype=torch.float32).to(device)\n",
    "    a = torch.tensor(a, dtype=torch.int64).to(device)\n",
    "    r = torch.tensor(r, dtype=torch.float32).to(device)\n",
    "    s_ = torch.tensor(s_, dtype=torch.float32).to(device)\n",
    "    d = torch.tensor(d, dtype=torch.float32).to(device)\n",
    "    \n",
    "    q = model(s).gather(1, a.unsqueeze(1)).squeeze()\n",
    "    next_actions = model(s_).max(1)[1].unsqueeze(1)\n",
    "    q_ = target(s_).gather(1, next_actions).squeeze()\n",
    "    target_q = r + gamma * q_ * (1.0 - d.float())\n",
    "    loss = nn.MSELoss()(q, target_q)\n",
    "    \n",
    "    opt.zero_grad()\n",
    "    loss.backward()\n",
    "    opt.step()"
   ]
  },
  {
   "cell_type": "code",
   "execution_count": 35,
   "id": "cd9c40b5-2873-473f-ab1f-bdb078ff99de",
   "metadata": {},
   "outputs": [],
   "source": [
    "# Visualización del preprocesamiento de frames\n",
    "def verify_preprocessing(episodes=3, save_images=False):\n",
    "    env = gym.make(env_name, render_mode=\"human\")\n",
    "    stacker = FrameStack(4)\n",
    "    \n",
    "    for episode in range(episodes):\n",
    "        obs, _ = env.reset()\n",
    "        state = stacker.reset(obs)\n",
    "        done = False\n",
    "        frame_count = 0\n",
    "        \n",
    "        while not done and frame_count < 1:\n",
    "            action = env.action_space.sample()\n",
    "            next_obs, _, terminated, truncated, _ = env.step(action)\n",
    "            done = terminated or truncated\n",
    "            \n",
    "            # Procesar frame\n",
    "            processed_frame = stacker.preprocess(next_obs)\n",
    "            \n",
    "            # Visualización en tiempo real\n",
    "            plt.figure(figsize=(6, 3))\n",
    "            \n",
    "            plt.subplot(1, 2, 1)\n",
    "            plt.imshow(next_obs)\n",
    "            plt.title(\"Original\")\n",
    "            plt.axis(\"off\")\n",
    "            \n",
    "            plt.subplot(1, 2, 2)\n",
    "            plt.imshow(processed_frame, cmap='gray')\n",
    "            plt.title(\"Preprocesado\")\n",
    "            plt.axis(\"off\")\n",
    "            \n",
    "            plt.tight_layout()\n",
    "            \n",
    "            if save_images:\n",
    "                plt.savefig(f\"frame_{episode}_{frame_count}.png\")\n",
    "            \n",
    "            plt.show(block=False)\n",
    "            plt.pause(0.01)\n",
    "            plt.close()\n",
    "            \n",
    "            frame_count += 1\n",
    "            \n",
    "            if done:\n",
    "                break\n",
    "    \n",
    "    env.close()"
   ]
  },
  {
   "cell_type": "code",
   "execution_count": 37,
   "id": "7e2518f8",
   "metadata": {
    "colab": {
     "base_uri": "https://localhost:8080/"
    },
    "id": "7e2518f8",
    "outputId": "57b44aa0-48ec-4c89-b5ac-d38b793d04f9"
   },
   "outputs": [
    {
     "name": "stdout",
     "output_type": "stream",
     "text": [
      "\n",
      "=== Verificando preprocesamiento de frames ===\n"
     ]
    },
    {
     "data": {
      "image/png": "[encoded data removed]",
      "text/plain": [
       "<Figure size 600x300 with 2 Axes>"
      ]
     },
     "metadata": {},
     "output_type": "display_data"
    },
    {
     "name": "stdout",
     "output_type": "stream",
     "text": [
      "Shape de observación: (210, 160, 3)\n"
     ]
    }
   ],
   "source": [
    "# Entrenamiento del agente\n",
    "\n",
    "# 1. Inicialización del entorno y componentes\n",
    "env = gym.make(env_name)\n",
    "num_actions = env.action_space.n\n",
    "device = torch.device('cuda' if torch.cuda.is_available() else 'cpu')\n",
    "\n",
    "# 2. VERIFICACIÓN DEL PREPROCESAMIENTO (AÑADE ESTO)\n",
    "print(\"\\n=== Verificando preprocesamiento de frames ===\")\n",
    "verify_preprocessing(episodes=1, save_images=True)\n",
    "\n",
    "# 3. Inicialización de modelos\n",
    "policy = DQN((4, 84, 84), num_actions).to(device)\n",
    "target = DQN((4, 84, 84), num_actions).to(device)\n",
    "target.load_state_dict(policy.state_dict())\n",
    "opt = torch.optim.Adam(policy.parameters(), lr=1e-4)\n",
    "buffer = ReplayBuffer(1000000)\n",
    "stacker = FrameStack(4)\n",
    "\n",
    "obs, _ = env.reset()\n",
    "print(\"Shape de observación:\", obs.shape)"
   ]
  },
  {
   "cell_type": "markdown",
   "id": "1c9897fe-6202-4363-bd57-401a834443c4",
   "metadata": {},
   "source": [
    "### 2. Implementación de la solución DQN"
   ]
  },
  {
   "cell_type": "code",
   "execution_count": 40,
   "id": "E8OTDkMRrmuA",
   "metadata": {
    "colab": {
     "base_uri": "https://localhost:8080/"
    },
    "id": "E8OTDkMRrmuA",
    "outputId": "6771b2ae-0e89-41eb-e974-b9c878cf8046"
   },
   "outputs": [],
   "source": [
    "# Evaluación del agente en modo test\n",
    "def test_agent(env, model, num_episodes=10):\n",
    "    model.eval()\n",
    "    total_rewards = []\n",
    "    for _ in range(num_episodes):\n",
    "        obs, _ = env.reset()\n",
    "        state = stacker.reset(obs)\n",
    "        done = False\n",
    "        total_reward = 0\n",
    "        while not done:\n",
    "            action = select_action(model, state, epsilon=0.0, num_actions=num_actions, device=device)\n",
    "            next_obs, reward, terminated, truncated, _ = env.step(action)\n",
    "            state = stacker.step(next_obs)\n",
    "            normalized_reward = np.clip(reward, -1.0, 1.0)\n",
    "            total_reward += normalized_reward\n",
    "            done = terminated or truncated\n",
    "        total_rewards.append(total_reward)\n",
    "    avg_reward = np.mean(total_rewards)\n",
    "    print(f'Recompensa media en test: {avg_reward:.2f}')\n",
    "    return avg_reward\n"
   ]
  },
  {
   "cell_type": "code",
   "execution_count": 22,
   "id": "drR_RIIPrhPf",
   "metadata": {
    "colab": {
     "base_uri": "https://localhost:8080/"
    },
    "id": "drR_RIIPrhPf",
    "outputId": "f82120e1-64be-485d-d301-ba61c36d0500",
    "scrolled": true
   },
   "outputs": [
    {
     "name": "stderr",
     "output_type": "stream",
     "text": [
      "  0%|          | 0/1500 [00:00<?, ?it/s]"
     ]
    },
    {
     "name": "stdout",
     "output_type": "stream",
     "text": [
      "Episode 0: Reward: 12.0 | Score: 165.0 | Avg last 10: 0.0\n"
     ]
    },
    {
     "name": "stderr",
     "output_type": "stream",
     "text": [
      "  0%|          | 1/1500 [00:10<4:10:42, 10.03s/it]"
     ]
    },
    {
     "name": "stdout",
     "output_type": "stream",
     "text": [
      "Recompensa media en test: 390.00\n",
      "Evaluación @ 0 ep -> reward media: 390.0\n"
     ]
    },
    {
     "name": "stderr",
     "output_type": "stream",
     "text": [
      "  0%|          | 2/1500 [00:22<4:53:20, 11.75s/it]"
     ]
    },
    {
     "name": "stdout",
     "output_type": "stream",
     "text": [
      "Episode 1: Reward: 17.0 | Score: 285.0 | Avg last 10: 0.0\n"
     ]
    },
    {
     "name": "stderr",
     "output_type": "stream",
     "text": [
      "  0%|          | 3/1500 [00:29<3:56:21,  9.47s/it]"
     ]
    },
    {
     "name": "stdout",
     "output_type": "stream",
     "text": [
      "Episode 2: Reward: 5.0 | Score: 55.0 | Avg last 10: 0.0\n"
     ]
    },
    {
     "name": "stderr",
     "output_type": "stream",
     "text": [
      "  0%|          | 4/1500 [00:36<3:31:48,  8.50s/it]"
     ]
    },
    {
     "name": "stdout",
     "output_type": "stream",
     "text": [
      "Episode 3: Reward: 6.0 | Score: 85.0 | Avg last 10: 0.0\n"
     ]
    },
    {
     "name": "stderr",
     "output_type": "stream",
     "text": [
      "  0%|          | 5/1500 [00:44<3:24:45,  8.22s/it]"
     ]
    },
    {
     "name": "stdout",
     "output_type": "stream",
     "text": [
      "Episode 4: Reward: 9.0 | Score: 135.0 | Avg last 10: 0.0\n"
     ]
    },
    {
     "name": "stderr",
     "output_type": "stream",
     "text": [
      "  0%|          | 6/1500 [00:50<3:03:15,  7.36s/it]"
     ]
    },
    {
     "name": "stdout",
     "output_type": "stream",
     "text": [
      "Episode 5: Reward: 4.0 | Score: 65.0 | Avg last 10: 0.0\n"
     ]
    },
    {
     "name": "stderr",
     "output_type": "stream",
     "text": [
      "  0%|          | 7/1500 [00:57<3:01:06,  7.28s/it]"
     ]
    },
    {
     "name": "stdout",
     "output_type": "stream",
     "text": [
      "Episode 6: Reward: 6.0 | Score: 65.0 | Avg last 10: 0.0\n"
     ]
    },
    {
     "name": "stderr",
     "output_type": "stream",
     "text": [
      "  1%|          | 8/1500 [01:06<3:18:48,  8.00s/it]"
     ]
    },
    {
     "name": "stdout",
     "output_type": "stream",
     "text": [
      "Episode 7: Reward: 13.0 | Score: 370.0 | Avg last 10: 0.0\n"
     ]
    },
    {
     "name": "stderr",
     "output_type": "stream",
     "text": [
      "  1%|          | 9/1500 [01:11<2:56:04,  7.09s/it]"
     ]
    },
    {
     "name": "stdout",
     "output_type": "stream",
     "text": [
      "Episode 8: Reward: 5.0 | Score: 75.0 | Avg last 10: 0.0\n"
     ]
    },
    {
     "name": "stderr",
     "output_type": "stream",
     "text": [
      "  1%|          | 10/1500 [01:19<2:59:22,  7.22s/it]"
     ]
    },
    {
     "name": "stdout",
     "output_type": "stream",
     "text": [
      "Episode 9: Reward: 7.0 | Score: 110.0 | Avg last 10: 8.4\n"
     ]
    },
    {
     "name": "stderr",
     "output_type": "stream",
     "text": [
      "  1%|          | 11/1500 [01:28<3:16:01,  7.90s/it]"
     ]
    },
    {
     "name": "stdout",
     "output_type": "stream",
     "text": [
      "Episode 10: Reward: 9.0 | Score: 135.0 | Avg last 10: 8.1\n"
     ]
    },
    {
     "name": "stderr",
     "output_type": "stream",
     "text": [
      "  1%|          | 12/1500 [01:39<3:35:45,  8.70s/it]"
     ]
    },
    {
     "name": "stdout",
     "output_type": "stream",
     "text": [
      "Episode 11: Reward: 16.0 | Score: 220.0 | Avg last 10: 8.0\n"
     ]
    },
    {
     "name": "stderr",
     "output_type": "stream",
     "text": [
      "  1%|          | 13/1500 [01:45<3:18:42,  8.02s/it]"
     ]
    },
    {
     "name": "stdout",
     "output_type": "stream",
     "text": [
      "Episode 12: Reward: 5.0 | Score: 45.0 | Avg last 10: 8.0\n"
     ]
    },
    {
     "name": "stderr",
     "output_type": "stream",
     "text": [
      "  1%|          | 14/1500 [01:54<3:20:33,  8.10s/it]"
     ]
    },
    {
     "name": "stdout",
     "output_type": "stream",
     "text": [
      "Episode 13: Reward: 9.0 | Score: 135.0 | Avg last 10: 8.3\n"
     ]
    },
    {
     "name": "stderr",
     "output_type": "stream",
     "text": [
      "  1%|          | 15/1500 [02:07<4:00:05,  9.70s/it]"
     ]
    },
    {
     "name": "stdout",
     "output_type": "stream",
     "text": [
      "Episode 14: Reward: 15.0 | Score: 230.0 | Avg last 10: 8.9\n"
     ]
    },
    {
     "name": "stderr",
     "output_type": "stream",
     "text": [
      "  1%|          | 16/1500 [02:15<3:46:21,  9.15s/it]"
     ]
    },
    {
     "name": "stdout",
     "output_type": "stream",
     "text": [
      "Episode 15: Reward: 8.0 | Score: 105.0 | Avg last 10: 9.3\n"
     ]
    },
    {
     "name": "stderr",
     "output_type": "stream",
     "text": [
      "  1%|          | 17/1500 [02:21<3:23:14,  8.22s/it]"
     ]
    },
    {
     "name": "stdout",
     "output_type": "stream",
     "text": [
      "Episode 16: Reward: 7.0 | Score: 80.0 | Avg last 10: 9.4\n"
     ]
    },
    {
     "name": "stderr",
     "output_type": "stream",
     "text": [
      "  1%|          | 18/1500 [02:31<3:39:11,  8.87s/it]"
     ]
    },
    {
     "name": "stdout",
     "output_type": "stream",
     "text": [
      "Episode 17: Reward: 6.0 | Score: 80.0 | Avg last 10: 8.7\n"
     ]
    },
    {
     "name": "stderr",
     "output_type": "stream",
     "text": [
      "  1%|▏         | 19/1500 [02:40<3:36:01,  8.75s/it]"
     ]
    },
    {
     "name": "stdout",
     "output_type": "stream",
     "text": [
      "Episode 18: Reward: 8.0 | Score: 120.0 | Avg last 10: 9.0\n"
     ]
    },
    {
     "name": "stderr",
     "output_type": "stream",
     "text": [
      "  1%|▏         | 20/1500 [02:47<3:21:33,  8.17s/it]"
     ]
    },
    {
     "name": "stdout",
     "output_type": "stream",
     "text": [
      "Episode 19: Reward: 6.0 | Score: 80.0 | Avg last 10: 8.9\n"
     ]
    },
    {
     "name": "stderr",
     "output_type": "stream",
     "text": [
      "  1%|▏         | 21/1500 [02:55<3:24:42,  8.30s/it]"
     ]
    },
    {
     "name": "stdout",
     "output_type": "stream",
     "text": [
      "Episode 20: Reward: 11.0 | Score: 180.0 | Avg last 10: 9.1\n"
     ]
    },
    {
     "name": "stderr",
     "output_type": "stream",
     "text": [
      "  1%|▏         | 22/1500 [03:04<3:27:36,  8.43s/it]"
     ]
    },
    {
     "name": "stdout",
     "output_type": "stream",
     "text": [
      "Episode 21: Reward: 6.0 | Score: 90.0 | Avg last 10: 8.1\n"
     ]
    },
    {
     "name": "stderr",
     "output_type": "stream",
     "text": [
      "  2%|▏         | 23/1500 [03:13<3:32:09,  8.62s/it]"
     ]
    },
    {
     "name": "stdout",
     "output_type": "stream",
     "text": [
      "Episode 22: Reward: 10.0 | Score: 165.0 | Avg last 10: 8.6\n"
     ]
    },
    {
     "name": "stderr",
     "output_type": "stream",
     "text": [
      "  2%|▏         | 24/1500 [03:26<4:01:29,  9.82s/it]"
     ]
    },
    {
     "name": "stdout",
     "output_type": "stream",
     "text": [
      "Episode 23: Reward: 16.0 | Score: 245.0 | Avg last 10: 9.3\n"
     ]
    },
    {
     "name": "stderr",
     "output_type": "stream",
     "text": [
      "  2%|▏         | 25/1500 [03:37<4:15:46, 10.40s/it]"
     ]
    },
    {
     "name": "stdout",
     "output_type": "stream",
     "text": [
      "Episode 24: Reward: 15.0 | Score: 240.0 | Avg last 10: 9.3\n"
     ]
    },
    {
     "name": "stderr",
     "output_type": "stream",
     "text": [
      "  2%|▏         | 26/1500 [03:46<4:04:08,  9.94s/it]"
     ]
    },
    {
     "name": "stdout",
     "output_type": "stream",
     "text": [
      "Episode 25: Reward: 9.0 | Score: 135.0 | Avg last 10: 9.4\n"
     ]
    },
    {
     "name": "stderr",
     "output_type": "stream",
     "text": [
      "  2%|▏         | 27/1500 [03:54<3:47:05,  9.25s/it]"
     ]
    },
    {
     "name": "stdout",
     "output_type": "stream",
     "text": [
      "Episode 26: Reward: 4.0 | Score: 50.0 | Avg last 10: 9.1\n"
     ]
    },
    {
     "name": "stderr",
     "output_type": "stream",
     "text": [
      "  2%|▏         | 28/1500 [04:01<3:30:43,  8.59s/it]"
     ]
    },
    {
     "name": "stdout",
     "output_type": "stream",
     "text": [
      "Episode 27: Reward: 6.0 | Score: 60.0 | Avg last 10: 9.1\n"
     ]
    },
    {
     "name": "stderr",
     "output_type": "stream",
     "text": [
      "  2%|▏         | 29/1500 [04:08<3:21:26,  8.22s/it]"
     ]
    },
    {
     "name": "stdout",
     "output_type": "stream",
     "text": [
      "Episode 28: Reward: 6.0 | Score: 105.0 | Avg last 10: 8.9\n"
     ]
    },
    {
     "name": "stderr",
     "output_type": "stream",
     "text": [
      "  2%|▏         | 30/1500 [04:14<3:04:48,  7.54s/it]"
     ]
    },
    {
     "name": "stdout",
     "output_type": "stream",
     "text": [
      "Episode 29: Reward: 3.0 | Score: 20.0 | Avg last 10: 8.6\n"
     ]
    },
    {
     "name": "stderr",
     "output_type": "stream",
     "text": [
      "  2%|▏         | 31/1500 [04:22<3:02:54,  7.47s/it]"
     ]
    },
    {
     "name": "stdout",
     "output_type": "stream",
     "text": [
      "Episode 30: Reward: 5.0 | Score: 55.0 | Avg last 10: 8.0\n"
     ]
    },
    {
     "name": "stderr",
     "output_type": "stream",
     "text": [
      "  2%|▏         | 32/1500 [04:33<3:29:19,  8.56s/it]"
     ]
    },
    {
     "name": "stdout",
     "output_type": "stream",
     "text": [
      "Episode 31: Reward: 12.0 | Score: 210.0 | Avg last 10: 8.6\n"
     ]
    },
    {
     "name": "stderr",
     "output_type": "stream",
     "text": [
      "  2%|▏         | 33/1500 [04:45<3:54:44,  9.60s/it]"
     ]
    },
    {
     "name": "stdout",
     "output_type": "stream",
     "text": [
      "Episode 32: Reward: 13.0 | Score: 215.0 | Avg last 10: 8.9\n"
     ]
    },
    {
     "name": "stderr",
     "output_type": "stream",
     "text": [
      "  2%|▏         | 34/1500 [04:55<4:01:01,  9.86s/it]"
     ]
    },
    {
     "name": "stdout",
     "output_type": "stream",
     "text": [
      "Episode 33: Reward: 12.0 | Score: 210.0 | Avg last 10: 8.5\n"
     ]
    },
    {
     "name": "stderr",
     "output_type": "stream",
     "text": [
      "  2%|▏         | 35/1500 [05:02<3:37:14,  8.90s/it]"
     ]
    },
    {
     "name": "stdout",
     "output_type": "stream",
     "text": [
      "Episode 34: Reward: 6.0 | Score: 85.0 | Avg last 10: 7.6\n"
     ]
    },
    {
     "name": "stderr",
     "output_type": "stream",
     "text": [
      "  2%|▏         | 36/1500 [05:10<3:34:26,  8.79s/it]"
     ]
    },
    {
     "name": "stdout",
     "output_type": "stream",
     "text": [
      "Episode 35: Reward: 6.0 | Score: 105.0 | Avg last 10: 7.3\n"
     ]
    },
    {
     "name": "stderr",
     "output_type": "stream",
     "text": [
      "  2%|▏         | 37/1500 [05:19<3:34:12,  8.78s/it]"
     ]
    },
    {
     "name": "stdout",
     "output_type": "stream",
     "text": [
      "Episode 36: Reward: 9.0 | Score: 110.0 | Avg last 10: 7.8\n"
     ]
    },
    {
     "name": "stderr",
     "output_type": "stream",
     "text": [
      "  3%|▎         | 38/1500 [08:50<28:12:19, 69.45s/it]"
     ]
    },
    {
     "name": "stdout",
     "output_type": "stream",
     "text": [
      "Episode 37: Reward: 9.0 | Score: 135.0 | Avg last 10: 8.1\n"
     ]
    },
    {
     "name": "stderr",
     "output_type": "stream",
     "text": [
      "  3%|▎         | 39/1500 [09:06<21:39:55, 53.39s/it]"
     ]
    },
    {
     "name": "stdout",
     "output_type": "stream",
     "text": [
      "Episode 38: Reward: 20.0 | Score: 325.0 | Avg last 10: 9.5\n"
     ]
    },
    {
     "name": "stderr",
     "output_type": "stream",
     "text": [
      "  3%|▎         | 40/1500 [09:13<15:59:49, 39.44s/it]"
     ]
    },
    {
     "name": "stdout",
     "output_type": "stream",
     "text": [
      "Episode 39: Reward: 6.0 | Score: 60.0 | Avg last 10: 9.8\n"
     ]
    },
    {
     "name": "stderr",
     "output_type": "stream",
     "text": [
      "  3%|▎         | 41/1500 [09:22<12:14:34, 30.21s/it]"
     ]
    },
    {
     "name": "stdout",
     "output_type": "stream",
     "text": [
      "Episode 40: Reward: 8.0 | Score: 120.0 | Avg last 10: 10.1\n"
     ]
    },
    {
     "name": "stderr",
     "output_type": "stream",
     "text": [
      "  3%|▎         | 42/1500 [09:33<9:58:36, 24.63s/it] "
     ]
    },
    {
     "name": "stdout",
     "output_type": "stream",
     "text": [
      "Episode 41: Reward: 10.0 | Score: 155.0 | Avg last 10: 9.9\n"
     ]
    },
    {
     "name": "stderr",
     "output_type": "stream",
     "text": [
      "  3%|▎         | 43/1500 [09:46<8:28:03, 20.92s/it]"
     ]
    },
    {
     "name": "stdout",
     "output_type": "stream",
     "text": [
      "Episode 42: Reward: 15.0 | Score: 215.0 | Avg last 10: 10.1\n"
     ]
    },
    {
     "name": "stderr",
     "output_type": "stream",
     "text": [
      "  3%|▎         | 44/1500 [09:52<6:43:25, 16.62s/it]"
     ]
    },
    {
     "name": "stdout",
     "output_type": "stream",
     "text": [
      "Episode 43: Reward: 9.0 | Score: 125.0 | Avg last 10: 9.8\n"
     ]
    },
    {
     "name": "stderr",
     "output_type": "stream",
     "text": [
      "  3%|▎         | 45/1500 [09:58<5:28:24, 13.54s/it]"
     ]
    },
    {
     "name": "stdout",
     "output_type": "stream",
     "text": [
      "Episode 44: Reward: 9.0 | Score: 125.0 | Avg last 10: 10.1\n"
     ]
    },
    {
     "name": "stderr",
     "output_type": "stream",
     "text": [
      "  3%|▎         | 46/1500 [10:09<5:08:17, 12.72s/it]"
     ]
    },
    {
     "name": "stdout",
     "output_type": "stream",
     "text": [
      "Episode 45: Reward: 12.0 | Score: 385.0 | Avg last 10: 10.7\n"
     ]
    },
    {
     "name": "stderr",
     "output_type": "stream",
     "text": [
      "  3%|▎         | 47/1500 [10:17<4:33:50, 11.31s/it]"
     ]
    },
    {
     "name": "stdout",
     "output_type": "stream",
     "text": [
      "Episode 46: Reward: 4.0 | Score: 50.0 | Avg last 10: 10.2\n"
     ]
    },
    {
     "name": "stderr",
     "output_type": "stream",
     "text": [
      "  3%|▎         | 48/1500 [10:27<4:25:10, 10.96s/it]"
     ]
    },
    {
     "name": "stdout",
     "output_type": "stream",
     "text": [
      "Episode 47: Reward: 10.0 | Score: 140.0 | Avg last 10: 10.3\n"
     ]
    },
    {
     "name": "stderr",
     "output_type": "stream",
     "text": [
      "  3%|▎         | 49/1500 [10:35<3:59:55,  9.92s/it]"
     ]
    },
    {
     "name": "stdout",
     "output_type": "stream",
     "text": [
      "Episode 48: Reward: 8.0 | Score: 100.0 | Avg last 10: 9.1\n"
     ]
    },
    {
     "name": "stderr",
     "output_type": "stream",
     "text": [
      "  3%|▎         | 50/1500 [10:42<3:36:18,  8.95s/it]"
     ]
    },
    {
     "name": "stdout",
     "output_type": "stream",
     "text": [
      "Episode 49: Reward: 5.0 | Score: 75.0 | Avg last 10: 9.0\n"
     ]
    },
    {
     "name": "stderr",
     "output_type": "stream",
     "text": [
      "  3%|▎         | 51/1500 [10:47<3:07:55,  7.78s/it]"
     ]
    },
    {
     "name": "stdout",
     "output_type": "stream",
     "text": [
      "Episode 50: Reward: 5.0 | Score: 75.0 | Avg last 10: 8.7\n"
     ]
    },
    {
     "name": "stderr",
     "output_type": "stream",
     "text": [
      "  3%|▎         | 52/1500 [10:54<3:06:12,  7.72s/it]"
     ]
    },
    {
     "name": "stdout",
     "output_type": "stream",
     "text": [
      "Episode 51: Reward: 8.0 | Score: 120.0 | Avg last 10: 8.5\n"
     ]
    },
    {
     "name": "stderr",
     "output_type": "stream",
     "text": [
      "  4%|▎         | 53/1500 [11:00<2:49:13,  7.02s/it]"
     ]
    },
    {
     "name": "stdout",
     "output_type": "stream",
     "text": [
      "Episode 52: Reward: 7.0 | Score: 90.0 | Avg last 10: 7.7\n"
     ]
    },
    {
     "name": "stderr",
     "output_type": "stream",
     "text": [
      "  4%|▎         | 54/1500 [12:42<14:19:51, 35.68s/it]"
     ]
    },
    {
     "name": "stdout",
     "output_type": "stream",
     "text": [
      "Episode 53: Reward: 11.0 | Score: 180.0 | Avg last 10: 7.9\n"
     ]
    },
    {
     "name": "stderr",
     "output_type": "stream",
     "text": [
      "  4%|▎         | 55/1500 [27:54<119:46:35, 298.41s/it]"
     ]
    },
    {
     "name": "stdout",
     "output_type": "stream",
     "text": [
      "Episode 54: Reward: 13.0 | Score: 200.0 | Avg last 10: 8.3\n"
     ]
    },
    {
     "name": "stderr",
     "output_type": "stream",
     "text": [
      "  4%|▎         | 56/1500 [28:00<84:35:08, 210.88s/it] "
     ]
    },
    {
     "name": "stdout",
     "output_type": "stream",
     "text": [
      "Episode 55: Reward: 9.0 | Score: 135.0 | Avg last 10: 8.0\n"
     ]
    },
    {
     "name": "stderr",
     "output_type": "stream",
     "text": [
      "  4%|▍         | 57/1500 [28:10<60:22:20, 150.62s/it]"
     ]
    },
    {
     "name": "stdout",
     "output_type": "stream",
     "text": [
      "Episode 56: Reward: 10.0 | Score: 150.0 | Avg last 10: 8.6\n"
     ]
    },
    {
     "name": "stderr",
     "output_type": "stream",
     "text": [
      "  4%|▍         | 58/1500 [43:18<151:20:37, 377.83s/it]"
     ]
    },
    {
     "name": "stdout",
     "output_type": "stream",
     "text": [
      "Episode 57: Reward: 3.0 | Score: 20.0 | Avg last 10: 7.9\n"
     ]
    },
    {
     "name": "stderr",
     "output_type": "stream",
     "text": [
      "  4%|▍         | 59/1500 [43:26<106:50:54, 266.94s/it]"
     ]
    },
    {
     "name": "stdout",
     "output_type": "stream",
     "text": [
      "Episode 58: Reward: 5.0 | Score: 45.0 | Avg last 10: 7.6\n"
     ]
    },
    {
     "name": "stderr",
     "output_type": "stream",
     "text": [
      "  4%|▍         | 60/1500 [43:33<75:30:19, 188.76s/it] "
     ]
    },
    {
     "name": "stdout",
     "output_type": "stream",
     "text": [
      "Episode 59: Reward: 4.0 | Score: 50.0 | Avg last 10: 7.5\n"
     ]
    },
    {
     "name": "stderr",
     "output_type": "stream",
     "text": [
      "  4%|▍         | 61/1500 [43:40<53:39:41, 134.25s/it]"
     ]
    },
    {
     "name": "stdout",
     "output_type": "stream",
     "text": [
      "Episode 60: Reward: 8.0 | Score: 85.0 | Avg last 10: 7.8\n"
     ]
    },
    {
     "name": "stderr",
     "output_type": "stream",
     "text": [
      "  4%|▍         | 62/1500 [58:46<146:08:38, 365.87s/it]"
     ]
    },
    {
     "name": "stdout",
     "output_type": "stream",
     "text": [
      "Episode 61: Reward: 6.0 | Score: 80.0 | Avg last 10: 7.6\n"
     ]
    },
    {
     "name": "stderr",
     "output_type": "stream",
     "text": [
      "  4%|▍         | 63/1500 [58:53<102:59:30, 258.02s/it]"
     ]
    },
    {
     "name": "stdout",
     "output_type": "stream",
     "text": [
      "Episode 62: Reward: 5.0 | Score: 55.0 | Avg last 10: 7.4\n"
     ]
    },
    {
     "name": "stderr",
     "output_type": "stream",
     "text": [
      "  4%|▍         | 64/1500 [59:03<73:14:47, 183.63s/it] "
     ]
    },
    {
     "name": "stdout",
     "output_type": "stream",
     "text": [
      "Episode 63: Reward: 11.0 | Score: 135.0 | Avg last 10: 7.4\n"
     ]
    },
    {
     "name": "stderr",
     "output_type": "stream",
     "text": [
      "  4%|▍         | 65/1500 [1:09:43<127:51:41, 320.77s/it]"
     ]
    },
    {
     "name": "stdout",
     "output_type": "stream",
     "text": [
      "Episode 64: Reward: 7.0 | Score: 110.0 | Avg last 10: 6.8\n"
     ]
    },
    {
     "name": "stderr",
     "output_type": "stream",
     "text": [
      "  4%|▍         | 66/1500 [1:09:49<90:05:34, 226.17s/it] "
     ]
    },
    {
     "name": "stdout",
     "output_type": "stream",
     "text": [
      "Episode 65: Reward: 8.0 | Score: 105.0 | Avg last 10: 6.7\n"
     ]
    },
    {
     "name": "stderr",
     "output_type": "stream",
     "text": [
      "  4%|▍         | 67/1500 [1:09:54<63:41:17, 160.00s/it]"
     ]
    },
    {
     "name": "stdout",
     "output_type": "stream",
     "text": [
      "Episode 66: Reward: 3.0 | Score: 20.0 | Avg last 10: 6.0\n"
     ]
    },
    {
     "name": "stderr",
     "output_type": "stream",
     "text": [
      "  5%|▍         | 68/1500 [1:10:03<45:38:00, 114.72s/it]"
     ]
    },
    {
     "name": "stdout",
     "output_type": "stream",
     "text": [
      "Episode 67: Reward: 7.0 | Score: 110.0 | Avg last 10: 6.4\n"
     ]
    },
    {
     "name": "stderr",
     "output_type": "stream",
     "text": [
      "  5%|▍         | 69/1500 [1:10:12<32:57:56, 82.93s/it] "
     ]
    },
    {
     "name": "stdout",
     "output_type": "stream",
     "text": [
      "Episode 68: Reward: 10.0 | Score: 155.0 | Avg last 10: 6.9\n"
     ]
    },
    {
     "name": "stderr",
     "output_type": "stream",
     "text": [
      "  5%|▍         | 70/1500 [1:10:19<23:48:35, 59.94s/it]"
     ]
    },
    {
     "name": "stdout",
     "output_type": "stream",
     "text": [
      "Episode 69: Reward: 5.0 | Score: 45.0 | Avg last 10: 7.0\n"
     ]
    },
    {
     "name": "stderr",
     "output_type": "stream",
     "text": [
      "  5%|▍         | 71/1500 [1:10:26<17:31:01, 44.13s/it]"
     ]
    },
    {
     "name": "stdout",
     "output_type": "stream",
     "text": [
      "Episode 70: Reward: 5.0 | Score: 55.0 | Avg last 10: 6.7\n"
     ]
    },
    {
     "name": "stderr",
     "output_type": "stream",
     "text": [
      "  5%|▍         | 72/1500 [1:10:33<13:06:52, 33.06s/it]"
     ]
    },
    {
     "name": "stdout",
     "output_type": "stream",
     "text": [
      "Episode 71: Reward: 7.0 | Score: 110.0 | Avg last 10: 6.8\n"
     ]
    },
    {
     "name": "stderr",
     "output_type": "stream",
     "text": [
      "  5%|▍         | 73/1500 [1:10:38<9:46:51, 24.67s/it] "
     ]
    },
    {
     "name": "stdout",
     "output_type": "stream",
     "text": [
      "Episode 72: Reward: 4.0 | Score: 50.0 | Avg last 10: 6.7\n"
     ]
    },
    {
     "name": "stderr",
     "output_type": "stream",
     "text": [
      "  5%|▍         | 74/1500 [1:10:46<7:48:59, 19.73s/it]"
     ]
    },
    {
     "name": "stdout",
     "output_type": "stream",
     "text": [
      "Episode 73: Reward: 10.0 | Score: 155.0 | Avg last 10: 6.6\n"
     ]
    },
    {
     "name": "stderr",
     "output_type": "stream",
     "text": [
      "  5%|▌         | 75/1500 [1:10:53<6:14:50, 15.78s/it]"
     ]
    },
    {
     "name": "stdout",
     "output_type": "stream",
     "text": [
      "Episode 74: Reward: 9.0 | Score: 135.0 | Avg last 10: 6.8\n"
     ]
    },
    {
     "name": "stderr",
     "output_type": "stream",
     "text": [
      "  5%|▌         | 76/1500 [1:11:01<5:19:56, 13.48s/it]"
     ]
    },
    {
     "name": "stdout",
     "output_type": "stream",
     "text": [
      "Episode 75: Reward: 4.0 | Score: 40.0 | Avg last 10: 6.4\n"
     ]
    },
    {
     "name": "stderr",
     "output_type": "stream",
     "text": [
      "  5%|▌         | 77/1500 [1:11:11<4:57:16, 12.53s/it]"
     ]
    },
    {
     "name": "stdout",
     "output_type": "stream",
     "text": [
      "Episode 76: Reward: 17.0 | Score: 235.0 | Avg last 10: 7.8\n"
     ]
    },
    {
     "name": "stderr",
     "output_type": "stream",
     "text": [
      "  5%|▌         | 78/1500 [1:11:20<4:27:27, 11.28s/it]"
     ]
    },
    {
     "name": "stdout",
     "output_type": "stream",
     "text": [
      "Episode 77: Reward: 7.0 | Score: 110.0 | Avg last 10: 7.8\n"
     ]
    },
    {
     "name": "stderr",
     "output_type": "stream",
     "text": [
      "  5%|▌         | 79/1500 [1:11:25<3:43:39,  9.44s/it]"
     ]
    },
    {
     "name": "stdout",
     "output_type": "stream",
     "text": [
      "Episode 78: Reward: 6.0 | Score: 90.0 | Avg last 10: 7.4\n"
     ]
    },
    {
     "name": "stderr",
     "output_type": "stream",
     "text": [
      "  5%|▌         | 80/1500 [1:11:38<4:10:21, 10.58s/it]"
     ]
    },
    {
     "name": "stdout",
     "output_type": "stream",
     "text": [
      "Episode 79: Reward: 19.0 | Score: 280.0 | Avg last 10: 8.8\n"
     ]
    },
    {
     "name": "stderr",
     "output_type": "stream",
     "text": [
      "  5%|▌         | 81/1500 [1:11:43<3:30:59,  8.92s/it]"
     ]
    },
    {
     "name": "stdout",
     "output_type": "stream",
     "text": [
      "Episode 80: Reward: 6.0 | Score: 105.0 | Avg last 10: 8.9\n"
     ]
    },
    {
     "name": "stderr",
     "output_type": "stream",
     "text": [
      "  5%|▌         | 82/1500 [1:11:51<3:20:09,  8.47s/it]"
     ]
    },
    {
     "name": "stdout",
     "output_type": "stream",
     "text": [
      "Episode 81: Reward: 8.0 | Score: 105.0 | Avg last 10: 9.0\n"
     ]
    },
    {
     "name": "stderr",
     "output_type": "stream",
     "text": [
      "  6%|▌         | 83/1500 [1:12:00<3:29:03,  8.85s/it]"
     ]
    },
    {
     "name": "stdout",
     "output_type": "stream",
     "text": [
      "Episode 82: Reward: 12.0 | Score: 210.0 | Avg last 10: 9.8\n"
     ]
    },
    {
     "name": "stderr",
     "output_type": "stream",
     "text": [
      "  6%|▌         | 84/1500 [1:12:10<3:38:07,  9.24s/it]"
     ]
    },
    {
     "name": "stdout",
     "output_type": "stream",
     "text": [
      "Episode 83: Reward: 9.0 | Score: 135.0 | Avg last 10: 9.7\n"
     ]
    },
    {
     "name": "stderr",
     "output_type": "stream",
     "text": [
      "  6%|▌         | 85/1500 [1:12:16<3:10:42,  8.09s/it]"
     ]
    },
    {
     "name": "stdout",
     "output_type": "stream",
     "text": [
      "Episode 84: Reward: 7.0 | Score: 80.0 | Avg last 10: 9.5\n"
     ]
    },
    {
     "name": "stderr",
     "output_type": "stream",
     "text": [
      "  6%|▌         | 86/1500 [1:27:25<109:20:24, 278.38s/it]"
     ]
    },
    {
     "name": "stdout",
     "output_type": "stream",
     "text": [
      "Episode 85: Reward: 8.0 | Score: 110.0 | Avg last 10: 9.9\n"
     ]
    },
    {
     "name": "stderr",
     "output_type": "stream",
     "text": [
      "  6%|▌         | 87/1500 [1:27:31<77:14:57, 196.81s/it] "
     ]
    },
    {
     "name": "stdout",
     "output_type": "stream",
     "text": [
      "Episode 86: Reward: 7.0 | Score: 90.0 | Avg last 10: 8.9\n"
     ]
    },
    {
     "name": "stderr",
     "output_type": "stream",
     "text": [
      "  6%|▌         | 88/1500 [1:27:40<55:05:06, 140.44s/it]"
     ]
    },
    {
     "name": "stdout",
     "output_type": "stream",
     "text": [
      "Episode 87: Reward: 10.0 | Score: 155.0 | Avg last 10: 9.2\n"
     ]
    },
    {
     "name": "stderr",
     "output_type": "stream",
     "text": [
      "  6%|▌         | 89/1500 [1:42:52<145:43:42, 371.81s/it]"
     ]
    },
    {
     "name": "stdout",
     "output_type": "stream",
     "text": [
      "Episode 88: Reward: 9.0 | Score: 135.0 | Avg last 10: 9.5\n"
     ]
    },
    {
     "name": "stderr",
     "output_type": "stream",
     "text": [
      "  6%|▌         | 90/1500 [1:43:05<103:26:26, 264.10s/it]"
     ]
    },
    {
     "name": "stdout",
     "output_type": "stream",
     "text": [
      "Episode 89: Reward: 14.0 | Score: 225.0 | Avg last 10: 9.0\n"
     ]
    },
    {
     "name": "stderr",
     "output_type": "stream",
     "text": [
      "  6%|▌         | 91/1500 [1:43:14<73:25:02, 187.58s/it] "
     ]
    },
    {
     "name": "stdout",
     "output_type": "stream",
     "text": [
      "Episode 90: Reward: 7.0 | Score: 110.0 | Avg last 10: 9.1\n"
     ]
    },
    {
     "name": "stderr",
     "output_type": "stream",
     "text": [
      "  6%|▌         | 92/1500 [1:45:25<66:44:29, 170.65s/it]"
     ]
    },
    {
     "name": "stdout",
     "output_type": "stream",
     "text": [
      "Episode 91: Reward: 5.0 | Score: 75.0 | Avg last 10: 8.8\n"
     ]
    },
    {
     "name": "stderr",
     "output_type": "stream",
     "text": [
      "  6%|▌         | 93/1500 [1:59:35<146:24:51, 374.62s/it]"
     ]
    },
    {
     "name": "stdout",
     "output_type": "stream",
     "text": [
      "Episode 92: Reward: 7.0 | Score: 110.0 | Avg last 10: 8.3\n"
     ]
    },
    {
     "name": "stderr",
     "output_type": "stream",
     "text": [
      "  6%|▋         | 94/1500 [1:59:44<103:24:41, 264.78s/it]"
     ]
    },
    {
     "name": "stdout",
     "output_type": "stream",
     "text": [
      "Episode 93: Reward: 14.0 | Score: 210.0 | Avg last 10: 8.8\n"
     ]
    },
    {
     "name": "stderr",
     "output_type": "stream",
     "text": [
      "  6%|▋         | 95/1500 [1:59:53<73:25:07, 188.12s/it] "
     ]
    },
    {
     "name": "stdout",
     "output_type": "stream",
     "text": [
      "Episode 94: Reward: 9.0 | Score: 135.0 | Avg last 10: 9.0\n"
     ]
    },
    {
     "name": "stderr",
     "output_type": "stream",
     "text": [
      "  6%|▋         | 96/1500 [2:00:05<52:45:03, 135.26s/it]"
     ]
    },
    {
     "name": "stdout",
     "output_type": "stream",
     "text": [
      "Episode 95: Reward: 15.0 | Score: 200.0 | Avg last 10: 9.7\n"
     ]
    },
    {
     "name": "stderr",
     "output_type": "stream",
     "text": [
      "  6%|▋         | 97/1500 [2:00:14<37:55:42, 97.32s/it] "
     ]
    },
    {
     "name": "stdout",
     "output_type": "stream",
     "text": [
      "Episode 96: Reward: 10.0 | Score: 155.0 | Avg last 10: 10.0\n"
     ]
    },
    {
     "name": "stderr",
     "output_type": "stream",
     "text": [
      "  7%|▋         | 98/1500 [2:00:24<27:46:09, 71.30s/it]"
     ]
    },
    {
     "name": "stdout",
     "output_type": "stream",
     "text": [
      "Episode 97: Reward: 12.0 | Score: 210.0 | Avg last 10: 10.2\n"
     ]
    },
    {
     "name": "stderr",
     "output_type": "stream",
     "text": [
      "  7%|▋         | 99/1500 [2:00:32<20:18:16, 52.17s/it]"
     ]
    },
    {
     "name": "stdout",
     "output_type": "stream",
     "text": [
      "Episode 98: Reward: 8.0 | Score: 120.0 | Avg last 10: 10.1\n"
     ]
    },
    {
     "name": "stderr",
     "output_type": "stream",
     "text": [
      "  7%|▋         | 100/1500 [2:00:48<16:01:58, 41.23s/it]"
     ]
    },
    {
     "name": "stdout",
     "output_type": "stream",
     "text": [
      "Episode 99: Reward: 14.0 | Score: 425.0 | Avg last 10: 10.1\n",
      "Episode 100: Reward: 5.0 | Score: 75.0 | Avg last 10: 9.9\n"
     ]
    },
    {
     "name": "stderr",
     "output_type": "stream",
     "text": [
      "  7%|▋         | 101/1500 [2:00:56<12:07:44, 31.21s/it]"
     ]
    },
    {
     "name": "stdout",
     "output_type": "stream",
     "text": [
      "Recompensa media en test: 105.00\n",
      "Evaluación @ 100 ep -> reward media: 105.0\n"
     ]
    },
    {
     "name": "stderr",
     "output_type": "stream",
     "text": [
      "  7%|▋         | 102/1500 [2:01:01<9:08:02, 23.52s/it] "
     ]
    },
    {
     "name": "stdout",
     "output_type": "stream",
     "text": [
      "Episode 101: Reward: 7.0 | Score: 110.0 | Avg last 10: 10.1\n"
     ]
    },
    {
     "name": "stderr",
     "output_type": "stream",
     "text": [
      "  7%|▋         | 103/1500 [2:01:11<7:31:26, 19.39s/it]"
     ]
    },
    {
     "name": "stdout",
     "output_type": "stream",
     "text": [
      "Episode 102: Reward: 7.0 | Score: 110.0 | Avg last 10: 10.1\n"
     ]
    },
    {
     "name": "stderr",
     "output_type": "stream",
     "text": [
      "  7%|▋         | 104/1500 [2:01:16<5:49:55, 15.04s/it]"
     ]
    },
    {
     "name": "stdout",
     "output_type": "stream",
     "text": [
      "Episode 103: Reward: 4.0 | Score: 50.0 | Avg last 10: 9.1\n"
     ]
    },
    {
     "name": "stderr",
     "output_type": "stream",
     "text": [
      "  7%|▋         | 105/1500 [2:01:26<5:17:07, 13.64s/it]"
     ]
    },
    {
     "name": "stdout",
     "output_type": "stream",
     "text": [
      "Episode 104: Reward: 10.0 | Score: 155.0 | Avg last 10: 9.2\n"
     ]
    },
    {
     "name": "stderr",
     "output_type": "stream",
     "text": [
      "  7%|▋         | 106/1500 [2:01:34<4:38:35, 11.99s/it]"
     ]
    },
    {
     "name": "stdout",
     "output_type": "stream",
     "text": [
      "Episode 105: Reward: 6.0 | Score: 105.0 | Avg last 10: 8.3\n"
     ]
    },
    {
     "name": "stderr",
     "output_type": "stream",
     "text": [
      "  7%|▋         | 107/1500 [2:01:43<4:13:10, 10.90s/it]"
     ]
    },
    {
     "name": "stdout",
     "output_type": "stream",
     "text": [
      "Episode 106: Reward: 7.0 | Score: 110.0 | Avg last 10: 8.0\n"
     ]
    },
    {
     "name": "stderr",
     "output_type": "stream",
     "text": [
      "  7%|▋         | 108/1500 [2:01:50<3:46:09,  9.75s/it]"
     ]
    },
    {
     "name": "stdout",
     "output_type": "stream",
     "text": [
      "Episode 107: Reward: 8.0 | Score: 120.0 | Avg last 10: 7.6\n"
     ]
    },
    {
     "name": "stderr",
     "output_type": "stream",
     "text": [
      "  7%|▋         | 109/1500 [2:01:55<3:16:45,  8.49s/it]"
     ]
    },
    {
     "name": "stdout",
     "output_type": "stream",
     "text": [
      "Episode 108: Reward: 4.0 | Score: 50.0 | Avg last 10: 7.2\n"
     ]
    },
    {
     "name": "stderr",
     "output_type": "stream",
     "text": [
      "  7%|▋         | 110/1500 [2:02:01<2:55:05,  7.56s/it]"
     ]
    },
    {
     "name": "stdout",
     "output_type": "stream",
     "text": [
      "Episode 109: Reward: 5.0 | Score: 55.0 | Avg last 10: 6.3\n"
     ]
    },
    {
     "name": "stderr",
     "output_type": "stream",
     "text": [
      "  7%|▋         | 111/1500 [2:02:12<3:23:40,  8.80s/it]"
     ]
    },
    {
     "name": "stdout",
     "output_type": "stream",
     "text": [
      "Episode 110: Reward: 15.0 | Score: 195.0 | Avg last 10: 7.3\n"
     ]
    },
    {
     "name": "stderr",
     "output_type": "stream",
     "text": [
      "  7%|▋         | 112/1500 [2:02:22<3:30:31,  9.10s/it]"
     ]
    },
    {
     "name": "stdout",
     "output_type": "stream",
     "text": [
      "Episode 111: Reward: 14.0 | Score: 215.0 | Avg last 10: 8.0\n"
     ]
    },
    {
     "name": "stderr",
     "output_type": "stream",
     "text": [
      "  8%|▊         | 113/1500 [2:02:31<3:30:51,  9.12s/it]"
     ]
    },
    {
     "name": "stdout",
     "output_type": "stream",
     "text": [
      "Episode 112: Reward: 11.0 | Score: 180.0 | Avg last 10: 8.4\n"
     ]
    },
    {
     "name": "stderr",
     "output_type": "stream",
     "text": [
      "  8%|▊         | 114/1500 [2:02:42<3:42:50,  9.65s/it]"
     ]
    },
    {
     "name": "stdout",
     "output_type": "stream",
     "text": [
      "Episode 113: Reward: 13.0 | Score: 215.0 | Avg last 10: 9.3\n"
     ]
    },
    {
     "name": "stderr",
     "output_type": "stream",
     "text": [
      "  8%|▊         | 115/1500 [2:02:48<3:17:43,  8.57s/it]"
     ]
    },
    {
     "name": "stdout",
     "output_type": "stream",
     "text": [
      "Episode 114: Reward: 6.0 | Score: 65.0 | Avg last 10: 8.9\n"
     ]
    },
    {
     "name": "stderr",
     "output_type": "stream",
     "text": [
      "  8%|▊         | 116/1500 [2:17:58<107:11:25, 278.82s/it]"
     ]
    },
    {
     "name": "stdout",
     "output_type": "stream",
     "text": [
      "Episode 115: Reward: 11.0 | Score: 180.0 | Avg last 10: 9.4\n"
     ]
    },
    {
     "name": "stderr",
     "output_type": "stream",
     "text": [
      "  8%|▊         | 117/1500 [2:18:07<76:02:26, 197.94s/it] "
     ]
    },
    {
     "name": "stdout",
     "output_type": "stream",
     "text": [
      "Episode 116: Reward: 5.0 | Score: 75.0 | Avg last 10: 9.2\n"
     ]
    },
    {
     "name": "stderr",
     "output_type": "stream",
     "text": [
      "  8%|▊         | 118/1500 [2:18:16<54:15:04, 141.32s/it]"
     ]
    },
    {
     "name": "stdout",
     "output_type": "stream",
     "text": [
      "Episode 117: Reward: 11.0 | Score: 160.0 | Avg last 10: 9.5\n"
     ]
    },
    {
     "name": "stderr",
     "output_type": "stream",
     "text": [
      "  8%|▊         | 119/1500 [2:18:24<38:53:20, 101.38s/it]"
     ]
    },
    {
     "name": "stdout",
     "output_type": "stream",
     "text": [
      "Episode 118: Reward: 8.0 | Score: 120.0 | Avg last 10: 9.9\n"
     ]
    },
    {
     "name": "stderr",
     "output_type": "stream",
     "text": [
      "  8%|▊         | 120/1500 [2:33:32<131:33:17, 343.19s/it]"
     ]
    },
    {
     "name": "stdout",
     "output_type": "stream",
     "text": [
      "Episode 119: Reward: 6.0 | Score: 65.0 | Avg last 10: 10.0\n"
     ]
    },
    {
     "name": "stderr",
     "output_type": "stream",
     "text": [
      "  8%|▊         | 121/1500 [2:33:40<92:55:49, 242.60s/it] "
     ]
    },
    {
     "name": "stdout",
     "output_type": "stream",
     "text": [
      "Episode 120: Reward: 9.0 | Score: 125.0 | Avg last 10: 9.4\n"
     ]
    },
    {
     "name": "stderr",
     "output_type": "stream",
     "text": [
      "  8%|▊         | 122/1500 [2:33:44<65:34:03, 171.29s/it]"
     ]
    },
    {
     "name": "stdout",
     "output_type": "stream",
     "text": [
      "Episode 121: Reward: 6.0 | Score: 75.0 | Avg last 10: 8.6\n"
     ]
    },
    {
     "name": "stderr",
     "output_type": "stream",
     "text": [
      "  8%|▊         | 123/1500 [2:33:57<47:17:50, 123.65s/it]"
     ]
    },
    {
     "name": "stdout",
     "output_type": "stream",
     "text": [
      "Episode 122: Reward: 13.0 | Score: 175.0 | Avg last 10: 8.8\n"
     ]
    },
    {
     "name": "stderr",
     "output_type": "stream",
     "text": [
      "  8%|▊         | 124/1500 [2:34:21<35:47:35, 93.65s/it] "
     ]
    },
    {
     "name": "stdout",
     "output_type": "stream",
     "text": [
      "Episode 123: Reward: 10.0 | Score: 155.0 | Avg last 10: 8.5\n"
     ]
    },
    {
     "name": "stderr",
     "output_type": "stream",
     "text": [
      "  8%|▊         | 125/1500 [2:49:36<129:56:00, 340.19s/it]"
     ]
    },
    {
     "name": "stdout",
     "output_type": "stream",
     "text": [
      "Episode 124: Reward: 22.0 | Score: 365.0 | Avg last 10: 10.1\n"
     ]
    },
    {
     "name": "stderr",
     "output_type": "stream",
     "text": [
      "  8%|▊         | 126/1500 [2:49:49<92:19:52, 241.92s/it] "
     ]
    },
    {
     "name": "stdout",
     "output_type": "stream",
     "text": [
      "Episode 125: Reward: 11.0 | Score: 160.0 | Avg last 10: 10.1\n"
     ]
    },
    {
     "name": "stderr",
     "output_type": "stream",
     "text": [
      "  8%|▊         | 127/1500 [2:52:27<82:39:47, 216.74s/it]"
     ]
    },
    {
     "name": "stdout",
     "output_type": "stream",
     "text": [
      "Episode 126: Reward: 13.0 | Score: 205.0 | Avg last 10: 10.9\n"
     ]
    },
    {
     "name": "stderr",
     "output_type": "stream",
     "text": [
      "  9%|▊         | 128/1500 [2:52:32<58:25:39, 153.31s/it]"
     ]
    },
    {
     "name": "stdout",
     "output_type": "stream",
     "text": [
      "Episode 127: Reward: 6.0 | Score: 60.0 | Avg last 10: 10.4\n"
     ]
    },
    {
     "name": "stderr",
     "output_type": "stream",
     "text": [
      "  9%|▊         | 129/1500 [2:52:43<42:05:02, 110.50s/it]"
     ]
    },
    {
     "name": "stdout",
     "output_type": "stream",
     "text": [
      "Episode 128: Reward: 12.0 | Score: 155.0 | Avg last 10: 10.8\n"
     ]
    },
    {
     "name": "stderr",
     "output_type": "stream",
     "text": [
      "  9%|▊         | 130/1500 [2:52:56<30:57:46, 81.36s/it] "
     ]
    },
    {
     "name": "stdout",
     "output_type": "stream",
     "text": [
      "Episode 129: Reward: 13.0 | Score: 385.0 | Avg last 10: 11.5\n"
     ]
    },
    {
     "name": "stderr",
     "output_type": "stream",
     "text": [
      "  9%|▊         | 131/1500 [2:53:05<22:39:18, 59.58s/it]"
     ]
    },
    {
     "name": "stdout",
     "output_type": "stream",
     "text": [
      "Episode 130: Reward: 8.0 | Score: 105.0 | Avg last 10: 11.4\n"
     ]
    },
    {
     "name": "stderr",
     "output_type": "stream",
     "text": [
      "  9%|▉         | 132/1500 [2:53:10<16:27:42, 43.32s/it]"
     ]
    },
    {
     "name": "stdout",
     "output_type": "stream",
     "text": [
      "Episode 131: Reward: 7.0 | Score: 80.0 | Avg last 10: 11.5\n"
     ]
    },
    {
     "name": "stderr",
     "output_type": "stream",
     "text": [
      "  9%|▉         | 133/1500 [2:53:21<12:48:14, 33.72s/it]"
     ]
    },
    {
     "name": "stdout",
     "output_type": "stream",
     "text": [
      "Episode 132: Reward: 11.0 | Score: 175.0 | Avg last 10: 11.3\n"
     ]
    },
    {
     "name": "stderr",
     "output_type": "stream",
     "text": [
      "  9%|▉         | 134/1500 [2:54:14<14:59:01, 39.49s/it]"
     ]
    },
    {
     "name": "stdout",
     "output_type": "stream",
     "text": [
      "Episode 133: Reward: 10.0 | Score: 155.0 | Avg last 10: 11.3\n"
     ]
    },
    {
     "name": "stderr",
     "output_type": "stream",
     "text": [
      "  9%|▉         | 135/1500 [2:54:26<11:49:59, 31.21s/it]"
     ]
    },
    {
     "name": "stdout",
     "output_type": "stream",
     "text": [
      "Episode 134: Reward: 11.0 | Score: 180.0 | Avg last 10: 10.2\n"
     ]
    },
    {
     "name": "stderr",
     "output_type": "stream",
     "text": [
      "  9%|▉         | 136/1500 [2:54:32<8:55:29, 23.56s/it] "
     ]
    },
    {
     "name": "stdout",
     "output_type": "stream",
     "text": [
      "Episode 135: Reward: 7.0 | Score: 90.0 | Avg last 10: 9.8\n"
     ]
    },
    {
     "name": "stderr",
     "output_type": "stream",
     "text": [
      "  9%|▉         | 137/1500 [2:54:40<7:10:13, 18.94s/it]"
     ]
    },
    {
     "name": "stdout",
     "output_type": "stream",
     "text": [
      "Episode 136: Reward: 3.0 | Score: 20.0 | Avg last 10: 8.8\n"
     ]
    },
    {
     "name": "stderr",
     "output_type": "stream",
     "text": [
      "  9%|▉         | 138/1500 [2:54:47<5:45:21, 15.21s/it]"
     ]
    },
    {
     "name": "stdout",
     "output_type": "stream",
     "text": [
      "Episode 137: Reward: 6.0 | Score: 105.0 | Avg last 10: 8.8\n"
     ]
    },
    {
     "name": "stderr",
     "output_type": "stream",
     "text": [
      "  9%|▉         | 139/1500 [2:54:56<5:02:37, 13.34s/it]"
     ]
    },
    {
     "name": "stdout",
     "output_type": "stream",
     "text": [
      "Episode 138: Reward: 12.0 | Score: 170.0 | Avg last 10: 8.8\n"
     ]
    },
    {
     "name": "stderr",
     "output_type": "stream",
     "text": [
      "  9%|▉         | 140/1500 [2:55:03<4:21:25, 11.53s/it]"
     ]
    },
    {
     "name": "stdout",
     "output_type": "stream",
     "text": [
      "Episode 139: Reward: 7.0 | Score: 90.0 | Avg last 10: 8.2\n"
     ]
    },
    {
     "name": "stderr",
     "output_type": "stream",
     "text": [
      "  9%|▉         | 141/1500 [2:55:13<4:10:41, 11.07s/it]"
     ]
    },
    {
     "name": "stdout",
     "output_type": "stream",
     "text": [
      "Episode 140: Reward: 14.0 | Score: 195.0 | Avg last 10: 8.8\n"
     ]
    },
    {
     "name": "stderr",
     "output_type": "stream",
     "text": [
      "  9%|▉         | 142/1500 [2:55:20<3:45:00,  9.94s/it]"
     ]
    },
    {
     "name": "stdout",
     "output_type": "stream",
     "text": [
      "Episode 141: Reward: 8.0 | Score: 120.0 | Avg last 10: 8.9\n"
     ]
    },
    {
     "name": "stderr",
     "output_type": "stream",
     "text": [
      " 10%|▉         | 143/1500 [2:55:32<3:57:05, 10.48s/it]"
     ]
    },
    {
     "name": "stdout",
     "output_type": "stream",
     "text": [
      "Episode 142: Reward: 16.0 | Score: 225.0 | Avg last 10: 9.4\n"
     ]
    },
    {
     "name": "stderr",
     "output_type": "stream",
     "text": [
      " 10%|▉         | 144/1500 [2:55:46<4:17:57, 11.41s/it]"
     ]
    },
    {
     "name": "stdout",
     "output_type": "stream",
     "text": [
      "Episode 143: Reward: 13.0 | Score: 365.0 | Avg last 10: 9.7\n"
     ]
    },
    {
     "name": "stderr",
     "output_type": "stream",
     "text": [
      " 10%|▉         | 145/1500 [2:55:54<3:54:58, 10.40s/it]"
     ]
    },
    {
     "name": "stdout",
     "output_type": "stream",
     "text": [
      "Episode 144: Reward: 10.0 | Score: 165.0 | Avg last 10: 9.6\n"
     ]
    },
    {
     "name": "stderr",
     "output_type": "stream",
     "text": [
      " 10%|▉         | 146/1500 [2:55:59<3:19:55,  8.86s/it]"
     ]
    },
    {
     "name": "stdout",
     "output_type": "stream",
     "text": [
      "Episode 145: Reward: 7.0 | Score: 110.0 | Avg last 10: 9.6\n"
     ]
    },
    {
     "name": "stderr",
     "output_type": "stream",
     "text": [
      " 10%|▉         | 147/1500 [2:56:05<3:02:41,  8.10s/it]"
     ]
    },
    {
     "name": "stdout",
     "output_type": "stream",
     "text": [
      "Episode 146: Reward: 7.0 | Score: 135.0 | Avg last 10: 10.0\n"
     ]
    },
    {
     "name": "stderr",
     "output_type": "stream",
     "text": [
      " 10%|▉         | 148/1500 [2:56:17<3:26:11,  9.15s/it]"
     ]
    },
    {
     "name": "stdout",
     "output_type": "stream",
     "text": [
      "Episode 147: Reward: 15.0 | Score: 240.0 | Avg last 10: 10.9\n"
     ]
    },
    {
     "name": "stderr",
     "output_type": "stream",
     "text": [
      " 10%|▉         | 149/1500 [2:56:28<3:37:45,  9.67s/it]"
     ]
    },
    {
     "name": "stdout",
     "output_type": "stream",
     "text": [
      "Episode 148: Reward: 12.0 | Score: 210.0 | Avg last 10: 10.9\n"
     ]
    },
    {
     "name": "stderr",
     "output_type": "stream",
     "text": [
      " 10%|█         | 150/1500 [2:56:37<3:37:57,  9.69s/it]"
     ]
    },
    {
     "name": "stdout",
     "output_type": "stream",
     "text": [
      "Episode 149: Reward: 9.0 | Score: 145.0 | Avg last 10: 11.1\n"
     ]
    },
    {
     "name": "stderr",
     "output_type": "stream",
     "text": [
      " 10%|█         | 151/1500 [2:56:46<3:28:10,  9.26s/it]"
     ]
    },
    {
     "name": "stdout",
     "output_type": "stream",
     "text": [
      "Episode 150: Reward: 7.0 | Score: 65.0 | Avg last 10: 10.4\n"
     ]
    },
    {
     "name": "stderr",
     "output_type": "stream",
     "text": [
      " 10%|█         | 152/1500 [2:56:55<3:26:50,  9.21s/it]"
     ]
    },
    {
     "name": "stdout",
     "output_type": "stream",
     "text": [
      "Episode 151: Reward: 14.0 | Score: 225.0 | Avg last 10: 11.0\n"
     ]
    },
    {
     "name": "stderr",
     "output_type": "stream",
     "text": [
      " 10%|█         | 153/1500 [2:59:46<21:37:47, 57.81s/it]"
     ]
    },
    {
     "name": "stdout",
     "output_type": "stream",
     "text": [
      "Episode 152: Reward: 9.0 | Score: 135.0 | Avg last 10: 10.3\n"
     ]
    },
    {
     "name": "stderr",
     "output_type": "stream",
     "text": [
      " 10%|█         | 154/1500 [2:59:55<16:08:58, 43.19s/it]"
     ]
    },
    {
     "name": "stdout",
     "output_type": "stream",
     "text": [
      "Episode 153: Reward: 10.0 | Score: 130.0 | Avg last 10: 10.0\n"
     ]
    },
    {
     "name": "stderr",
     "output_type": "stream",
     "text": [
      " 10%|█         | 155/1500 [3:00:03<12:11:02, 32.61s/it]"
     ]
    },
    {
     "name": "stdout",
     "output_type": "stream",
     "text": [
      "Episode 154: Reward: 7.0 | Score: 90.0 | Avg last 10: 9.7\n"
     ]
    },
    {
     "name": "stderr",
     "output_type": "stream",
     "text": [
      " 10%|█         | 156/1500 [3:00:11<9:28:14, 25.37s/it] "
     ]
    },
    {
     "name": "stdout",
     "output_type": "stream",
     "text": [
      "Episode 155: Reward: 8.0 | Score: 120.0 | Avg last 10: 9.8\n"
     ]
    },
    {
     "name": "stderr",
     "output_type": "stream",
     "text": [
      " 10%|█         | 157/1500 [3:00:19<7:29:15, 20.07s/it]"
     ]
    },
    {
     "name": "stdout",
     "output_type": "stream",
     "text": [
      "Episode 156: Reward: 9.0 | Score: 125.0 | Avg last 10: 10.0\n"
     ]
    },
    {
     "name": "stderr",
     "output_type": "stream",
     "text": [
      " 11%|█         | 158/1500 [3:00:25<5:51:43, 15.73s/it]"
     ]
    },
    {
     "name": "stdout",
     "output_type": "stream",
     "text": [
      "Episode 157: Reward: 4.0 | Score: 50.0 | Avg last 10: 8.9\n"
     ]
    },
    {
     "name": "stderr",
     "output_type": "stream",
     "text": [
      " 11%|█         | 159/1500 [3:00:31<4:51:39, 13.05s/it]"
     ]
    },
    {
     "name": "stdout",
     "output_type": "stream",
     "text": [
      "Episode 158: Reward: 7.0 | Score: 80.0 | Avg last 10: 8.4\n"
     ]
    },
    {
     "name": "stderr",
     "output_type": "stream",
     "text": [
      " 11%|█         | 160/1500 [3:00:36<3:54:15, 10.49s/it]"
     ]
    },
    {
     "name": "stdout",
     "output_type": "stream",
     "text": [
      "Episode 159: Reward: 5.0 | Score: 75.0 | Avg last 10: 8.0\n"
     ]
    },
    {
     "name": "stderr",
     "output_type": "stream",
     "text": [
      " 11%|█         | 161/1500 [3:00:46<3:51:40, 10.38s/it]"
     ]
    },
    {
     "name": "stdout",
     "output_type": "stream",
     "text": [
      "Episode 160: Reward: 10.0 | Score: 335.0 | Avg last 10: 8.3\n"
     ]
    },
    {
     "name": "stderr",
     "output_type": "stream",
     "text": [
      " 11%|█         | 162/1500 [3:00:51<3:15:17,  8.76s/it]"
     ]
    },
    {
     "name": "stdout",
     "output_type": "stream",
     "text": [
      "Episode 161: Reward: 7.0 | Score: 80.0 | Avg last 10: 7.6\n"
     ]
    },
    {
     "name": "stderr",
     "output_type": "stream",
     "text": [
      " 11%|█         | 163/1500 [3:00:59<3:09:45,  8.52s/it]"
     ]
    },
    {
     "name": "stdout",
     "output_type": "stream",
     "text": [
      "Episode 162: Reward: 3.0 | Score: 30.0 | Avg last 10: 7.0\n"
     ]
    },
    {
     "name": "stderr",
     "output_type": "stream",
     "text": [
      " 11%|█         | 164/1500 [3:01:08<3:12:10,  8.63s/it]"
     ]
    },
    {
     "name": "stdout",
     "output_type": "stream",
     "text": [
      "Episode 163: Reward: 12.0 | Score: 185.0 | Avg last 10: 7.2\n"
     ]
    },
    {
     "name": "stderr",
     "output_type": "stream",
     "text": [
      " 11%|█         | 165/1500 [3:01:20<3:36:58,  9.75s/it]"
     ]
    },
    {
     "name": "stdout",
     "output_type": "stream",
     "text": [
      "Episode 164: Reward: 18.0 | Score: 450.0 | Avg last 10: 8.3\n"
     ]
    },
    {
     "name": "stderr",
     "output_type": "stream",
     "text": [
      " 11%|█         | 166/1500 [3:01:30<3:36:40,  9.75s/it]"
     ]
    },
    {
     "name": "stdout",
     "output_type": "stream",
     "text": [
      "Episode 165: Reward: 8.0 | Score: 120.0 | Avg last 10: 8.3\n"
     ]
    },
    {
     "name": "stderr",
     "output_type": "stream",
     "text": [
      " 11%|█         | 167/1500 [3:01:35<3:03:58,  8.28s/it]"
     ]
    },
    {
     "name": "stdout",
     "output_type": "stream",
     "text": [
      "Episode 166: Reward: 10.0 | Score: 115.0 | Avg last 10: 8.4\n"
     ]
    },
    {
     "name": "stderr",
     "output_type": "stream",
     "text": [
      " 11%|█         | 168/1500 [3:01:43<3:04:32,  8.31s/it]"
     ]
    },
    {
     "name": "stdout",
     "output_type": "stream",
     "text": [
      "Episode 167: Reward: 6.0 | Score: 105.0 | Avg last 10: 8.6\n"
     ]
    },
    {
     "name": "stderr",
     "output_type": "stream",
     "text": [
      " 11%|█▏        | 169/1500 [3:01:50<2:52:54,  7.79s/it]"
     ]
    },
    {
     "name": "stdout",
     "output_type": "stream",
     "text": [
      "Episode 168: Reward: 8.0 | Score: 120.0 | Avg last 10: 8.7\n"
     ]
    },
    {
     "name": "stderr",
     "output_type": "stream",
     "text": [
      " 11%|█▏        | 170/1500 [3:01:59<3:00:24,  8.14s/it]"
     ]
    },
    {
     "name": "stdout",
     "output_type": "stream",
     "text": [
      "Episode 169: Reward: 6.0 | Score: 105.0 | Avg last 10: 8.8\n"
     ]
    },
    {
     "name": "stderr",
     "output_type": "stream",
     "text": [
      " 11%|█▏        | 171/1500 [3:03:04<9:19:01, 25.24s/it]"
     ]
    },
    {
     "name": "stdout",
     "output_type": "stream",
     "text": [
      "Episode 170: Reward: 7.0 | Score: 110.0 | Avg last 10: 8.5\n"
     ]
    },
    {
     "name": "stderr",
     "output_type": "stream",
     "text": [
      " 11%|█▏        | 172/1500 [3:03:14<7:39:07, 20.74s/it]"
     ]
    },
    {
     "name": "stdout",
     "output_type": "stream",
     "text": [
      "Episode 171: Reward: 10.0 | Score: 155.0 | Avg last 10: 8.8\n"
     ]
    },
    {
     "name": "stderr",
     "output_type": "stream",
     "text": [
      " 12%|█▏        | 173/1500 [3:03:19<5:52:50, 15.95s/it]"
     ]
    },
    {
     "name": "stdout",
     "output_type": "stream",
     "text": [
      "Episode 172: Reward: 2.0 | Score: 15.0 | Avg last 10: 8.7\n"
     ]
    },
    {
     "name": "stderr",
     "output_type": "stream",
     "text": [
      " 12%|█▏        | 174/1500 [3:03:27<4:57:36, 13.47s/it]"
     ]
    },
    {
     "name": "stdout",
     "output_type": "stream",
     "text": [
      "Episode 173: Reward: 9.0 | Score: 135.0 | Avg last 10: 8.4\n"
     ]
    },
    {
     "name": "stderr",
     "output_type": "stream",
     "text": [
      " 12%|█▏        | 175/1500 [3:03:34<4:13:29, 11.48s/it]"
     ]
    },
    {
     "name": "stdout",
     "output_type": "stream",
     "text": [
      "Episode 174: Reward: 8.0 | Score: 120.0 | Avg last 10: 7.4\n"
     ]
    },
    {
     "name": "stderr",
     "output_type": "stream",
     "text": [
      " 12%|█▏        | 176/1500 [3:03:42<3:54:52, 10.64s/it]"
     ]
    },
    {
     "name": "stdout",
     "output_type": "stream",
     "text": [
      "Episode 175: Reward: 8.0 | Score: 120.0 | Avg last 10: 7.4\n"
     ]
    },
    {
     "name": "stderr",
     "output_type": "stream",
     "text": [
      " 12%|█▏        | 177/1500 [3:03:56<4:15:35, 11.59s/it]"
     ]
    },
    {
     "name": "stdout",
     "output_type": "stream",
     "text": [
      "Episode 176: Reward: 18.0 | Score: 285.0 | Avg last 10: 8.2\n"
     ]
    },
    {
     "name": "stderr",
     "output_type": "stream",
     "text": [
      " 12%|█▏        | 178/1500 [3:04:06<4:06:47, 11.20s/it]"
     ]
    },
    {
     "name": "stdout",
     "output_type": "stream",
     "text": [
      "Episode 177: Reward: 12.0 | Score: 210.0 | Avg last 10: 8.8\n"
     ]
    },
    {
     "name": "stderr",
     "output_type": "stream",
     "text": [
      " 12%|█▏        | 179/1500 [3:04:18<4:10:47, 11.39s/it]"
     ]
    },
    {
     "name": "stdout",
     "output_type": "stream",
     "text": [
      "Episode 178: Reward: 9.0 | Score: 150.0 | Avg last 10: 8.9\n"
     ]
    },
    {
     "name": "stderr",
     "output_type": "stream",
     "text": [
      " 12%|█▏        | 180/1500 [3:04:25<3:42:48, 10.13s/it]"
     ]
    },
    {
     "name": "stdout",
     "output_type": "stream",
     "text": [
      "Episode 179: Reward: 6.0 | Score: 85.0 | Avg last 10: 8.9\n"
     ]
    },
    {
     "name": "stderr",
     "output_type": "stream",
     "text": [
      " 12%|█▏        | 181/1500 [3:04:38<3:56:29, 10.76s/it]"
     ]
    },
    {
     "name": "stdout",
     "output_type": "stream",
     "text": [
      "Episode 180: Reward: 19.0 | Score: 320.0 | Avg last 10: 10.1\n"
     ]
    },
    {
     "name": "stderr",
     "output_type": "stream",
     "text": [
      " 12%|█▏        | 182/1500 [3:04:47<3:47:39, 10.36s/it]"
     ]
    },
    {
     "name": "stdout",
     "output_type": "stream",
     "text": [
      "Episode 181: Reward: 18.0 | Score: 260.0 | Avg last 10: 10.9\n"
     ]
    },
    {
     "name": "stderr",
     "output_type": "stream",
     "text": [
      " 12%|█▏        | 183/1500 [3:05:00<4:06:56, 11.25s/it]"
     ]
    },
    {
     "name": "stdout",
     "output_type": "stream",
     "text": [
      "Episode 182: Reward: 9.0 | Score: 135.0 | Avg last 10: 11.6\n"
     ]
    },
    {
     "name": "stderr",
     "output_type": "stream",
     "text": [
      " 12%|█▏        | 184/1500 [3:05:10<3:53:19, 10.64s/it]"
     ]
    },
    {
     "name": "stdout",
     "output_type": "stream",
     "text": [
      "Episode 183: Reward: 14.0 | Score: 210.0 | Avg last 10: 12.1\n"
     ]
    },
    {
     "name": "stderr",
     "output_type": "stream",
     "text": [
      " 12%|█▏        | 185/1500 [3:05:43<6:26:03, 17.61s/it]"
     ]
    },
    {
     "name": "stdout",
     "output_type": "stream",
     "text": [
      "Episode 184: Reward: 12.0 | Score: 210.0 | Avg last 10: 12.5\n"
     ]
    },
    {
     "name": "stderr",
     "output_type": "stream",
     "text": [
      " 12%|█▏        | 186/1500 [3:05:57<6:02:07, 16.54s/it]"
     ]
    },
    {
     "name": "stdout",
     "output_type": "stream",
     "text": [
      "Episode 185: Reward: 17.0 | Score: 250.0 | Avg last 10: 13.4\n"
     ]
    },
    {
     "name": "stderr",
     "output_type": "stream",
     "text": [
      " 12%|█▏        | 187/1500 [3:06:04<4:58:22, 13.63s/it]"
     ]
    },
    {
     "name": "stdout",
     "output_type": "stream",
     "text": [
      "Episode 186: Reward: 7.0 | Score: 110.0 | Avg last 10: 12.3\n"
     ]
    },
    {
     "name": "stderr",
     "output_type": "stream",
     "text": [
      " 13%|█▎        | 188/1500 [3:06:16<4:47:59, 13.17s/it]"
     ]
    },
    {
     "name": "stdout",
     "output_type": "stream",
     "text": [
      "Episode 187: Reward: 13.0 | Score: 215.0 | Avg last 10: 12.4\n"
     ]
    },
    {
     "name": "stderr",
     "output_type": "stream",
     "text": [
      " 13%|█▎        | 189/1500 [3:06:25<4:17:57, 11.81s/it]"
     ]
    },
    {
     "name": "stdout",
     "output_type": "stream",
     "text": [
      "Episode 188: Reward: 5.0 | Score: 65.0 | Avg last 10: 12.0\n"
     ]
    },
    {
     "name": "stderr",
     "output_type": "stream",
     "text": [
      " 13%|█▎        | 190/1500 [3:06:37<4:19:03, 11.87s/it]"
     ]
    },
    {
     "name": "stdout",
     "output_type": "stream",
     "text": [
      "Episode 189: Reward: 16.0 | Score: 260.0 | Avg last 10: 13.0\n"
     ]
    },
    {
     "name": "stderr",
     "output_type": "stream",
     "text": [
      " 13%|█▎        | 191/1500 [3:06:46<3:58:53, 10.95s/it]"
     ]
    },
    {
     "name": "stdout",
     "output_type": "stream",
     "text": [
      "Episode 190: Reward: 7.0 | Score: 110.0 | Avg last 10: 11.8\n"
     ]
    },
    {
     "name": "stderr",
     "output_type": "stream",
     "text": [
      " 13%|█▎        | 192/1500 [3:06:57<3:57:29, 10.89s/it]"
     ]
    },
    {
     "name": "stdout",
     "output_type": "stream",
     "text": [
      "Episode 191: Reward: 11.0 | Score: 180.0 | Avg last 10: 11.1\n"
     ]
    },
    {
     "name": "stderr",
     "output_type": "stream",
     "text": [
      " 13%|█▎        | 193/1500 [3:07:12<4:23:46, 12.11s/it]"
     ]
    },
    {
     "name": "stdout",
     "output_type": "stream",
     "text": [
      "Episode 192: Reward: 21.0 | Score: 365.0 | Avg last 10: 12.3\n"
     ]
    },
    {
     "name": "stderr",
     "output_type": "stream",
     "text": [
      " 13%|█▎        | 194/1500 [3:07:18<3:46:02, 10.38s/it]"
     ]
    },
    {
     "name": "stdout",
     "output_type": "stream",
     "text": [
      "Episode 193: Reward: 10.0 | Score: 155.0 | Avg last 10: 11.9\n"
     ]
    },
    {
     "name": "stderr",
     "output_type": "stream",
     "text": [
      " 13%|█▎        | 195/1500 [3:07:33<4:16:12, 11.78s/it]"
     ]
    },
    {
     "name": "stdout",
     "output_type": "stream",
     "text": [
      "Episode 194: Reward: 14.0 | Score: 215.0 | Avg last 10: 12.1\n"
     ]
    },
    {
     "name": "stderr",
     "output_type": "stream",
     "text": [
      " 13%|█▎        | 196/1500 [3:07:40<3:44:53, 10.35s/it]"
     ]
    },
    {
     "name": "stdout",
     "output_type": "stream",
     "text": [
      "Episode 195: Reward: 3.0 | Score: 30.0 | Avg last 10: 10.7\n"
     ]
    },
    {
     "name": "stderr",
     "output_type": "stream",
     "text": [
      " 13%|█▎        | 197/1500 [3:07:51<3:50:19, 10.61s/it]"
     ]
    },
    {
     "name": "stdout",
     "output_type": "stream",
     "text": [
      "Episode 196: Reward: 14.0 | Score: 225.0 | Avg last 10: 11.4\n"
     ]
    },
    {
     "name": "stderr",
     "output_type": "stream",
     "text": [
      " 13%|█▎        | 198/1500 [3:23:03<101:34:59, 280.88s/it]"
     ]
    },
    {
     "name": "stdout",
     "output_type": "stream",
     "text": [
      "Episode 197: Reward: 8.0 | Score: 120.0 | Avg last 10: 10.9\n"
     ]
    },
    {
     "name": "stderr",
     "output_type": "stream",
     "text": [
      " 13%|█▎        | 199/1500 [3:23:11<71:59:23, 199.20s/it] "
     ]
    },
    {
     "name": "stdout",
     "output_type": "stream",
     "text": [
      "Episode 198: Reward: 8.0 | Score: 105.0 | Avg last 10: 11.2\n"
     ]
    },
    {
     "name": "stderr",
     "output_type": "stream",
     "text": [
      " 13%|█▎        | 200/1500 [3:23:26<51:55:01, 143.77s/it]"
     ]
    },
    {
     "name": "stdout",
     "output_type": "stream",
     "text": [
      "Episode 199: Reward: 19.0 | Score: 490.0 | Avg last 10: 11.5\n",
      "Episode 200: Reward: 9.0 | Score: 135.0 | Avg last 10: 11.7\n"
     ]
    },
    {
     "name": "stderr",
     "output_type": "stream",
     "text": [
      " 13%|█▎        | 201/1500 [3:23:37<37:32:56, 104.06s/it]"
     ]
    },
    {
     "name": "stdout",
     "output_type": "stream",
     "text": [
      "Recompensa media en test: 147.00\n",
      "Evaluación @ 200 ep -> reward media: 147.0\n"
     ]
    },
    {
     "name": "stderr",
     "output_type": "stream",
     "text": [
      " 13%|█▎        | 202/1500 [3:23:46<27:13:17, 75.50s/it] "
     ]
    },
    {
     "name": "stdout",
     "output_type": "stream",
     "text": [
      "Episode 201: Reward: 10.0 | Score: 165.0 | Avg last 10: 11.6\n"
     ]
    },
    {
     "name": "stderr",
     "output_type": "stream",
     "text": [
      " 14%|█▎        | 203/1500 [3:23:54<19:52:50, 55.18s/it]"
     ]
    },
    {
     "name": "stdout",
     "output_type": "stream",
     "text": [
      "Episode 202: Reward: 6.0 | Score: 80.0 | Avg last 10: 10.1\n"
     ]
    },
    {
     "name": "stderr",
     "output_type": "stream",
     "text": [
      " 14%|█▎        | 204/1500 [3:23:59<14:27:26, 40.16s/it]"
     ]
    },
    {
     "name": "stdout",
     "output_type": "stream",
     "text": [
      "Episode 203: Reward: 6.0 | Score: 80.0 | Avg last 10: 9.7\n"
     ]
    },
    {
     "name": "stderr",
     "output_type": "stream",
     "text": [
      " 14%|█▎        | 205/1500 [3:24:07<11:01:58, 30.67s/it]"
     ]
    },
    {
     "name": "stdout",
     "output_type": "stream",
     "text": [
      "Episode 204: Reward: 10.0 | Score: 155.0 | Avg last 10: 9.3\n"
     ]
    },
    {
     "name": "stderr",
     "output_type": "stream",
     "text": [
      " 14%|█▎        | 206/1500 [3:24:22<9:15:47, 25.77s/it] "
     ]
    },
    {
     "name": "stdout",
     "output_type": "stream",
     "text": [
      "Episode 205: Reward: 25.0 | Score: 435.0 | Avg last 10: 11.5\n"
     ]
    },
    {
     "name": "stderr",
     "output_type": "stream",
     "text": [
      " 14%|█▍        | 207/1500 [3:24:35<7:53:03, 21.95s/it]"
     ]
    },
    {
     "name": "stdout",
     "output_type": "stream",
     "text": [
      "Episode 206: Reward: 17.0 | Score: 245.0 | Avg last 10: 11.8\n"
     ]
    },
    {
     "name": "stderr",
     "output_type": "stream",
     "text": [
      " 14%|█▍        | 208/1500 [3:24:40<6:02:08, 16.82s/it]"
     ]
    },
    {
     "name": "stdout",
     "output_type": "stream",
     "text": [
      "Episode 207: Reward: 3.0 | Score: 30.0 | Avg last 10: 11.3\n"
     ]
    },
    {
     "name": "stderr",
     "output_type": "stream",
     "text": [
      " 14%|█▍        | 209/1500 [3:24:49<5:17:05, 14.74s/it]"
     ]
    },
    {
     "name": "stdout",
     "output_type": "stream",
     "text": [
      "Episode 208: Reward: 9.0 | Score: 135.0 | Avg last 10: 11.4\n"
     ]
    },
    {
     "name": "stderr",
     "output_type": "stream",
     "text": [
      " 14%|█▍        | 210/1500 [3:24:56<4:25:28, 12.35s/it]"
     ]
    },
    {
     "name": "stdout",
     "output_type": "stream",
     "text": [
      "Episode 209: Reward: 6.0 | Score: 105.0 | Avg last 10: 10.1\n"
     ]
    },
    {
     "name": "stderr",
     "output_type": "stream",
     "text": [
      " 14%|█▍        | 211/1500 [3:25:03<3:51:10, 10.76s/it]"
     ]
    },
    {
     "name": "stdout",
     "output_type": "stream",
     "text": [
      "Episode 210: Reward: 8.0 | Score: 115.0 | Avg last 10: 10.0\n"
     ]
    },
    {
     "name": "stderr",
     "output_type": "stream",
     "text": [
      " 14%|█▍        | 212/1500 [3:25:13<3:42:00, 10.34s/it]"
     ]
    },
    {
     "name": "stdout",
     "output_type": "stream",
     "text": [
      "Episode 211: Reward: 8.0 | Score: 120.0 | Avg last 10: 9.8\n"
     ]
    },
    {
     "name": "stderr",
     "output_type": "stream",
     "text": [
      " 14%|█▍        | 213/1500 [3:25:21<3:26:59,  9.65s/it]"
     ]
    },
    {
     "name": "stdout",
     "output_type": "stream",
     "text": [
      "Episode 212: Reward: 11.0 | Score: 180.0 | Avg last 10: 10.3\n"
     ]
    },
    {
     "name": "stderr",
     "output_type": "stream",
     "text": [
      " 14%|█▍        | 214/1500 [3:25:34<3:47:48, 10.63s/it]"
     ]
    },
    {
     "name": "stdout",
     "output_type": "stream",
     "text": [
      "Episode 213: Reward: 19.0 | Score: 300.0 | Avg last 10: 11.6\n"
     ]
    },
    {
     "name": "stderr",
     "output_type": "stream",
     "text": [
      " 14%|█▍        | 215/1500 [3:25:42<3:31:22,  9.87s/it]"
     ]
    },
    {
     "name": "stdout",
     "output_type": "stream",
     "text": [
      "Episode 214: Reward: 7.0 | Score: 110.0 | Avg last 10: 11.3\n"
     ]
    },
    {
     "name": "stderr",
     "output_type": "stream",
     "text": [
      " 14%|█▍        | 216/1500 [3:25:48<3:07:34,  8.77s/it]"
     ]
    },
    {
     "name": "stdout",
     "output_type": "stream",
     "text": [
      "Episode 215: Reward: 4.0 | Score: 35.0 | Avg last 10: 9.2\n"
     ]
    },
    {
     "name": "stderr",
     "output_type": "stream",
     "text": [
      " 14%|█▍        | 217/1500 [3:25:56<3:04:48,  8.64s/it]"
     ]
    },
    {
     "name": "stdout",
     "output_type": "stream",
     "text": [
      "Episode 216: Reward: 11.0 | Score: 180.0 | Avg last 10: 8.6\n"
     ]
    },
    {
     "name": "stderr",
     "output_type": "stream",
     "text": [
      " 15%|█▍        | 218/1500 [3:26:05<3:06:33,  8.73s/it]"
     ]
    },
    {
     "name": "stdout",
     "output_type": "stream",
     "text": [
      "Episode 217: Reward: 11.0 | Score: 355.0 | Avg last 10: 9.4\n"
     ]
    },
    {
     "name": "stderr",
     "output_type": "stream",
     "text": [
      " 15%|█▍        | 219/1500 [3:26:19<3:37:43, 10.20s/it]"
     ]
    },
    {
     "name": "stdout",
     "output_type": "stream",
     "text": [
      "Episode 218: Reward: 14.0 | Score: 220.0 | Avg last 10: 9.9\n"
     ]
    },
    {
     "name": "stderr",
     "output_type": "stream",
     "text": [
      " 15%|█▍        | 220/1500 [3:26:33<4:02:06, 11.35s/it]"
     ]
    },
    {
     "name": "stdout",
     "output_type": "stream",
     "text": [
      "Episode 219: Reward: 20.0 | Score: 495.0 | Avg last 10: 11.3\n"
     ]
    },
    {
     "name": "stderr",
     "output_type": "stream",
     "text": [
      " 15%|█▍        | 221/1500 [3:26:43<3:51:05, 10.84s/it]"
     ]
    },
    {
     "name": "stdout",
     "output_type": "stream",
     "text": [
      "Episode 220: Reward: 7.0 | Score: 80.0 | Avg last 10: 11.2\n"
     ]
    },
    {
     "name": "stderr",
     "output_type": "stream",
     "text": [
      " 15%|█▍        | 222/1500 [3:26:49<3:23:35,  9.56s/it]"
     ]
    },
    {
     "name": "stdout",
     "output_type": "stream",
     "text": [
      "Episode 221: Reward: 5.0 | Score: 75.0 | Avg last 10: 10.9\n"
     ]
    },
    {
     "name": "stderr",
     "output_type": "stream",
     "text": [
      " 15%|█▍        | 223/1500 [3:26:59<3:25:22,  9.65s/it]"
     ]
    },
    {
     "name": "stdout",
     "output_type": "stream",
     "text": [
      "Episode 222: Reward: 9.0 | Score: 135.0 | Avg last 10: 10.7\n"
     ]
    },
    {
     "name": "stderr",
     "output_type": "stream",
     "text": [
      " 15%|█▍        | 224/1500 [3:27:13<3:51:58, 10.91s/it]"
     ]
    },
    {
     "name": "stdout",
     "output_type": "stream",
     "text": [
      "Episode 223: Reward: 17.0 | Score: 285.0 | Avg last 10: 10.5\n"
     ]
    },
    {
     "name": "stderr",
     "output_type": "stream",
     "text": [
      " 15%|█▌        | 225/1500 [3:27:19<3:23:42,  9.59s/it]"
     ]
    },
    {
     "name": "stdout",
     "output_type": "stream",
     "text": [
      "Episode 224: Reward: 4.0 | Score: 35.0 | Avg last 10: 10.2\n"
     ]
    },
    {
     "name": "stderr",
     "output_type": "stream",
     "text": [
      " 15%|█▌        | 226/1500 [3:27:30<3:31:26,  9.96s/it]"
     ]
    },
    {
     "name": "stdout",
     "output_type": "stream",
     "text": [
      "Episode 225: Reward: 14.0 | Score: 245.0 | Avg last 10: 11.2\n"
     ]
    },
    {
     "name": "stderr",
     "output_type": "stream",
     "text": [
      " 15%|█▌        | 227/1500 [3:27:38<3:20:41,  9.46s/it]"
     ]
    },
    {
     "name": "stdout",
     "output_type": "stream",
     "text": [
      "Episode 226: Reward: 7.0 | Score: 110.0 | Avg last 10: 10.8\n"
     ]
    },
    {
     "name": "stderr",
     "output_type": "stream",
     "text": [
      " 15%|█▌        | 228/1500 [3:27:47<3:16:56,  9.29s/it]"
     ]
    },
    {
     "name": "stdout",
     "output_type": "stream",
     "text": [
      "Episode 227: Reward: 12.0 | Score: 210.0 | Avg last 10: 10.9\n"
     ]
    },
    {
     "name": "stderr",
     "output_type": "stream",
     "text": [
      " 15%|█▌        | 229/1500 [3:27:54<2:59:12,  8.46s/it]"
     ]
    },
    {
     "name": "stdout",
     "output_type": "stream",
     "text": [
      "Episode 228: Reward: 6.0 | Score: 105.0 | Avg last 10: 10.1\n"
     ]
    },
    {
     "name": "stderr",
     "output_type": "stream",
     "text": [
      " 15%|█▌        | 230/1500 [3:28:03<3:03:23,  8.66s/it]"
     ]
    },
    {
     "name": "stdout",
     "output_type": "stream",
     "text": [
      "Episode 229: Reward: 7.0 | Score: 85.0 | Avg last 10: 8.8\n"
     ]
    },
    {
     "name": "stderr",
     "output_type": "stream",
     "text": [
      " 15%|█▌        | 231/1500 [3:28:11<3:01:47,  8.60s/it]"
     ]
    },
    {
     "name": "stdout",
     "output_type": "stream",
     "text": [
      "Episode 230: Reward: 6.0 | Score: 105.0 | Avg last 10: 8.7\n"
     ]
    },
    {
     "name": "stderr",
     "output_type": "stream",
     "text": [
      " 15%|█▌        | 232/1500 [3:28:20<3:03:20,  8.68s/it]"
     ]
    },
    {
     "name": "stdout",
     "output_type": "stream",
     "text": [
      "Episode 231: Reward: 9.0 | Score: 135.0 | Avg last 10: 9.1\n"
     ]
    },
    {
     "name": "stderr",
     "output_type": "stream",
     "text": [
      " 16%|█▌        | 233/1500 [3:28:30<3:12:43,  9.13s/it]"
     ]
    },
    {
     "name": "stdout",
     "output_type": "stream",
     "text": [
      "Episode 232: Reward: 9.0 | Score: 135.0 | Avg last 10: 9.1\n"
     ]
    },
    {
     "name": "stderr",
     "output_type": "stream",
     "text": [
      " 16%|█▌        | 234/1500 [3:28:39<3:10:16,  9.02s/it]"
     ]
    },
    {
     "name": "stdout",
     "output_type": "stream",
     "text": [
      "Episode 233: Reward: 10.0 | Score: 155.0 | Avg last 10: 8.4\n"
     ]
    },
    {
     "name": "stderr",
     "output_type": "stream",
     "text": [
      " 16%|█▌        | 235/1500 [3:28:50<3:21:30,  9.56s/it]"
     ]
    },
    {
     "name": "stdout",
     "output_type": "stream",
     "text": [
      "Episode 234: Reward: 12.0 | Score: 210.0 | Avg last 10: 9.2\n"
     ]
    },
    {
     "name": "stderr",
     "output_type": "stream",
     "text": [
      " 16%|█▌        | 236/1500 [3:28:59<3:16:53,  9.35s/it]"
     ]
    },
    {
     "name": "stdout",
     "output_type": "stream",
     "text": [
      "Episode 235: Reward: 7.0 | Score: 90.0 | Avg last 10: 8.5\n"
     ]
    },
    {
     "name": "stderr",
     "output_type": "stream",
     "text": [
      " 16%|█▌        | 237/1500 [3:29:05<2:54:11,  8.27s/it]"
     ]
    },
    {
     "name": "stdout",
     "output_type": "stream",
     "text": [
      "Episode 236: Reward: 5.0 | Score: 45.0 | Avg last 10: 8.3\n"
     ]
    },
    {
     "name": "stderr",
     "output_type": "stream",
     "text": [
      " 16%|█▌        | 238/1500 [3:29:09<2:32:13,  7.24s/it]"
     ]
    },
    {
     "name": "stdout",
     "output_type": "stream",
     "text": [
      "Episode 237: Reward: 6.0 | Score: 85.0 | Avg last 10: 7.7\n"
     ]
    },
    {
     "name": "stderr",
     "output_type": "stream",
     "text": [
      " 16%|█▌        | 239/1500 [3:29:20<2:53:13,  8.24s/it]"
     ]
    },
    {
     "name": "stdout",
     "output_type": "stream",
     "text": [
      "Episode 238: Reward: 10.0 | Score: 165.0 | Avg last 10: 8.1\n"
     ]
    },
    {
     "name": "stderr",
     "output_type": "stream",
     "text": [
      " 16%|█▌        | 240/1500 [3:29:32<3:15:35,  9.31s/it]"
     ]
    },
    {
     "name": "stdout",
     "output_type": "stream",
     "text": [
      "Episode 239: Reward: 15.0 | Score: 400.0 | Avg last 10: 8.9\n"
     ]
    },
    {
     "name": "stderr",
     "output_type": "stream",
     "text": [
      " 16%|█▌        | 241/1500 [3:29:37<2:51:12,  8.16s/it]"
     ]
    },
    {
     "name": "stdout",
     "output_type": "stream",
     "text": [
      "Episode 240: Reward: 7.0 | Score: 80.0 | Avg last 10: 9.0\n"
     ]
    },
    {
     "name": "stderr",
     "output_type": "stream",
     "text": [
      " 16%|█▌        | 242/1500 [3:29:46<2:52:03,  8.21s/it]"
     ]
    },
    {
     "name": "stdout",
     "output_type": "stream",
     "text": [
      "Episode 241: Reward: 11.0 | Score: 180.0 | Avg last 10: 9.2\n"
     ]
    },
    {
     "name": "stderr",
     "output_type": "stream",
     "text": [
      " 16%|█▌        | 243/1500 [3:29:53<2:44:28,  7.85s/it]"
     ]
    },
    {
     "name": "stdout",
     "output_type": "stream",
     "text": [
      "Episode 242: Reward: 8.0 | Score: 110.0 | Avg last 10: 9.1\n"
     ]
    },
    {
     "name": "stderr",
     "output_type": "stream",
     "text": [
      " 16%|█▋        | 244/1500 [3:30:05<3:14:47,  9.30s/it]"
     ]
    },
    {
     "name": "stdout",
     "output_type": "stream",
     "text": [
      "Episode 243: Reward: 12.0 | Score: 150.0 | Avg last 10: 9.3\n"
     ]
    },
    {
     "name": "stderr",
     "output_type": "stream",
     "text": [
      " 16%|█▋        | 245/1500 [3:30:16<3:21:45,  9.65s/it]"
     ]
    },
    {
     "name": "stdout",
     "output_type": "stream",
     "text": [
      "Episode 244: Reward: 12.0 | Score: 210.0 | Avg last 10: 9.3\n"
     ]
    },
    {
     "name": "stderr",
     "output_type": "stream",
     "text": [
      " 16%|█▋        | 246/1500 [3:30:30<3:51:57, 11.10s/it]"
     ]
    },
    {
     "name": "stdout",
     "output_type": "stream",
     "text": [
      "Episode 245: Reward: 9.0 | Score: 150.0 | Avg last 10: 9.5\n"
     ]
    },
    {
     "name": "stderr",
     "output_type": "stream",
     "text": [
      " 16%|█▋        | 247/1500 [3:30:39<3:37:57, 10.44s/it]"
     ]
    },
    {
     "name": "stdout",
     "output_type": "stream",
     "text": [
      "Episode 246: Reward: 8.0 | Score: 90.0 | Avg last 10: 9.8\n"
     ]
    },
    {
     "name": "stderr",
     "output_type": "stream",
     "text": [
      " 17%|█▋        | 248/1500 [3:30:45<3:08:49,  9.05s/it]"
     ]
    },
    {
     "name": "stdout",
     "output_type": "stream",
     "text": [
      "Episode 247: Reward: 4.0 | Score: 35.0 | Avg last 10: 9.6\n"
     ]
    },
    {
     "name": "stderr",
     "output_type": "stream",
     "text": [
      " 17%|█▋        | 249/1500 [3:30:53<3:01:22,  8.70s/it]"
     ]
    },
    {
     "name": "stdout",
     "output_type": "stream",
     "text": [
      "Episode 248: Reward: 8.0 | Score: 120.0 | Avg last 10: 9.4\n"
     ]
    },
    {
     "name": "stderr",
     "output_type": "stream",
     "text": [
      " 17%|█▋        | 250/1500 [3:31:07<3:33:10, 10.23s/it]"
     ]
    },
    {
     "name": "stdout",
     "output_type": "stream",
     "text": [
      "Episode 249: Reward: 25.0 | Score: 385.0 | Avg last 10: 10.4\n"
     ]
    },
    {
     "name": "stderr",
     "output_type": "stream",
     "text": [
      " 17%|█▋        | 251/1500 [3:31:14<3:11:45,  9.21s/it]"
     ]
    },
    {
     "name": "stdout",
     "output_type": "stream",
     "text": [
      "Episode 250: Reward: 9.0 | Score: 125.0 | Avg last 10: 10.6\n"
     ]
    },
    {
     "name": "stderr",
     "output_type": "stream",
     "text": [
      " 17%|█▋        | 252/1500 [3:31:25<3:28:29, 10.02s/it]"
     ]
    },
    {
     "name": "stdout",
     "output_type": "stream",
     "text": [
      "Episode 251: Reward: 14.0 | Score: 210.0 | Avg last 10: 10.9\n"
     ]
    },
    {
     "name": "stderr",
     "output_type": "stream",
     "text": [
      " 17%|█▋        | 253/1500 [3:31:31<3:01:38,  8.74s/it]"
     ]
    },
    {
     "name": "stdout",
     "output_type": "stream",
     "text": [
      "Episode 252: Reward: 7.0 | Score: 90.0 | Avg last 10: 10.8\n"
     ]
    },
    {
     "name": "stderr",
     "output_type": "stream",
     "text": [
      " 17%|█▋        | 254/1500 [3:31:42<3:15:04,  9.39s/it]"
     ]
    },
    {
     "name": "stdout",
     "output_type": "stream",
     "text": [
      "Episode 253: Reward: 12.0 | Score: 185.0 | Avg last 10: 10.8\n"
     ]
    },
    {
     "name": "stderr",
     "output_type": "stream",
     "text": [
      " 17%|█▋        | 255/1500 [3:31:48<2:50:08,  8.20s/it]"
     ]
    },
    {
     "name": "stdout",
     "output_type": "stream",
     "text": [
      "Episode 254: Reward: 4.0 | Score: 50.0 | Avg last 10: 10.0\n"
     ]
    },
    {
     "name": "stderr",
     "output_type": "stream",
     "text": [
      " 17%|█▋        | 256/1500 [3:31:56<2:48:52,  8.15s/it]"
     ]
    },
    {
     "name": "stdout",
     "output_type": "stream",
     "text": [
      "Episode 255: Reward: 11.0 | Score: 180.0 | Avg last 10: 10.2\n"
     ]
    },
    {
     "name": "stderr",
     "output_type": "stream",
     "text": [
      " 17%|█▋        | 257/1500 [3:32:14<3:50:58, 11.15s/it]"
     ]
    },
    {
     "name": "stdout",
     "output_type": "stream",
     "text": [
      "Episode 256: Reward: 19.0 | Score: 315.0 | Avg last 10: 11.3\n"
     ]
    },
    {
     "name": "stderr",
     "output_type": "stream",
     "text": [
      " 17%|█▋        | 258/1500 [3:32:25<3:49:55, 11.11s/it]"
     ]
    },
    {
     "name": "stdout",
     "output_type": "stream",
     "text": [
      "Episode 257: Reward: 21.0 | Score: 335.0 | Avg last 10: 13.0\n"
     ]
    },
    {
     "name": "stderr",
     "output_type": "stream",
     "text": [
      " 17%|█▋        | 259/1500 [3:32:30<3:11:49,  9.27s/it]"
     ]
    },
    {
     "name": "stdout",
     "output_type": "stream",
     "text": [
      "Episode 258: Reward: 5.0 | Score: 45.0 | Avg last 10: 12.7\n"
     ]
    },
    {
     "name": "stderr",
     "output_type": "stream",
     "text": [
      " 17%|█▋        | 260/1500 [3:32:38<3:05:20,  8.97s/it]"
     ]
    },
    {
     "name": "stdout",
     "output_type": "stream",
     "text": [
      "Episode 259: Reward: 10.0 | Score: 155.0 | Avg last 10: 11.2\n"
     ]
    },
    {
     "name": "stderr",
     "output_type": "stream",
     "text": [
      " 17%|█▋        | 261/1500 [3:32:47<3:06:01,  9.01s/it]"
     ]
    },
    {
     "name": "stdout",
     "output_type": "stream",
     "text": [
      "Episode 260: Reward: 12.0 | Score: 210.0 | Avg last 10: 11.5\n"
     ]
    },
    {
     "name": "stderr",
     "output_type": "stream",
     "text": [
      " 17%|█▋        | 262/1500 [3:39:31<43:51:02, 127.51s/it]"
     ]
    },
    {
     "name": "stdout",
     "output_type": "stream",
     "text": [
      "Episode 261: Reward: 10.0 | Score: 345.0 | Avg last 10: 11.1\n"
     ]
    },
    {
     "name": "stderr",
     "output_type": "stream",
     "text": [
      " 18%|█▊        | 263/1500 [3:39:44<32:01:32, 93.20s/it] "
     ]
    },
    {
     "name": "stdout",
     "output_type": "stream",
     "text": [
      "Episode 262: Reward: 13.0 | Score: 195.0 | Avg last 10: 11.7\n"
     ]
    },
    {
     "name": "stderr",
     "output_type": "stream",
     "text": [
      " 18%|█▊        | 264/1500 [3:39:52<23:14:29, 67.69s/it]"
     ]
    },
    {
     "name": "stdout",
     "output_type": "stream",
     "text": [
      "Episode 263: Reward: 9.0 | Score: 165.0 | Avg last 10: 11.4\n"
     ]
    },
    {
     "name": "stderr",
     "output_type": "stream",
     "text": [
      " 18%|█▊        | 265/1500 [3:39:59<16:55:29, 49.34s/it]"
     ]
    },
    {
     "name": "stdout",
     "output_type": "stream",
     "text": [
      "Episode 264: Reward: 7.0 | Score: 85.0 | Avg last 10: 11.7\n"
     ]
    },
    {
     "name": "stderr",
     "output_type": "stream",
     "text": [
      " 18%|█▊        | 266/1500 [3:40:05<12:30:35, 36.50s/it]"
     ]
    },
    {
     "name": "stdout",
     "output_type": "stream",
     "text": [
      "Episode 265: Reward: 7.0 | Score: 90.0 | Avg last 10: 11.3\n"
     ]
    },
    {
     "name": "stderr",
     "output_type": "stream",
     "text": [
      " 18%|█▊        | 267/1500 [3:40:14<9:39:23, 28.19s/it] "
     ]
    },
    {
     "name": "stdout",
     "output_type": "stream",
     "text": [
      "Episode 266: Reward: 11.0 | Score: 165.0 | Avg last 10: 10.5\n"
     ]
    },
    {
     "name": "stderr",
     "output_type": "stream",
     "text": [
      " 18%|█▊        | 268/1500 [3:40:23<7:40:17, 22.42s/it]"
     ]
    },
    {
     "name": "stdout",
     "output_type": "stream",
     "text": [
      "Episode 267: Reward: 11.0 | Score: 180.0 | Avg last 10: 9.5\n"
     ]
    },
    {
     "name": "stderr",
     "output_type": "stream",
     "text": [
      " 18%|█▊        | 269/1500 [3:40:32<6:13:48, 18.22s/it]"
     ]
    },
    {
     "name": "stdout",
     "output_type": "stream",
     "text": [
      "Episode 268: Reward: 9.0 | Score: 135.0 | Avg last 10: 9.9\n"
     ]
    },
    {
     "name": "stderr",
     "output_type": "stream",
     "text": [
      " 18%|█▊        | 270/1500 [3:40:51<6:19:16, 18.50s/it]"
     ]
    },
    {
     "name": "stdout",
     "output_type": "stream",
     "text": [
      "Episode 269: Reward: 23.0 | Score: 705.0 | Avg last 10: 11.2\n"
     ]
    },
    {
     "name": "stderr",
     "output_type": "stream",
     "text": [
      " 18%|█▊        | 271/1500 [3:41:03<5:42:26, 16.72s/it]"
     ]
    },
    {
     "name": "stdout",
     "output_type": "stream",
     "text": [
      "Episode 270: Reward: 17.0 | Score: 475.0 | Avg last 10: 11.7\n"
     ]
    },
    {
     "name": "stderr",
     "output_type": "stream",
     "text": [
      " 18%|█▊        | 272/1500 [3:41:10<4:41:26, 13.75s/it]"
     ]
    },
    {
     "name": "stdout",
     "output_type": "stream",
     "text": [
      "Episode 271: Reward: 6.0 | Score: 45.0 | Avg last 10: 11.3\n"
     ]
    },
    {
     "name": "stderr",
     "output_type": "stream",
     "text": [
      " 18%|█▊        | 273/1500 [3:41:22<4:26:50, 13.05s/it]"
     ]
    },
    {
     "name": "stdout",
     "output_type": "stream",
     "text": [
      "Episode 272: Reward: 12.0 | Score: 210.0 | Avg last 10: 11.2\n"
     ]
    },
    {
     "name": "stderr",
     "output_type": "stream",
     "text": [
      " 18%|█▊        | 274/1500 [3:41:37<4:41:34, 13.78s/it]"
     ]
    },
    {
     "name": "stdout",
     "output_type": "stream",
     "text": [
      "Episode 273: Reward: 12.0 | Score: 165.0 | Avg last 10: 11.5\n"
     ]
    },
    {
     "name": "stderr",
     "output_type": "stream",
     "text": [
      " 18%|█▊        | 275/1500 [3:41:49<4:31:11, 13.28s/it]"
     ]
    },
    {
     "name": "stdout",
     "output_type": "stream",
     "text": [
      "Episode 274: Reward: 17.0 | Score: 200.0 | Avg last 10: 12.5\n"
     ]
    },
    {
     "name": "stderr",
     "output_type": "stream",
     "text": [
      " 18%|█▊        | 276/1500 [3:42:02<4:29:56, 13.23s/it]"
     ]
    },
    {
     "name": "stdout",
     "output_type": "stream",
     "text": [
      "Episode 275: Reward: 13.0 | Score: 215.0 | Avg last 10: 13.1\n"
     ]
    },
    {
     "name": "stderr",
     "output_type": "stream",
     "text": [
      " 18%|█▊        | 277/1500 [3:42:11<4:02:19, 11.89s/it]"
     ]
    },
    {
     "name": "stdout",
     "output_type": "stream",
     "text": [
      "Episode 276: Reward: 8.0 | Score: 120.0 | Avg last 10: 12.8\n"
     ]
    },
    {
     "name": "stderr",
     "output_type": "stream",
     "text": [
      " 19%|█▊        | 278/1500 [3:42:26<4:19:14, 12.73s/it]"
     ]
    },
    {
     "name": "stdout",
     "output_type": "stream",
     "text": [
      "Episode 277: Reward: 20.0 | Score: 275.0 | Avg last 10: 13.7\n"
     ]
    },
    {
     "name": "stderr",
     "output_type": "stream",
     "text": [
      " 19%|█▊        | 279/1500 [3:42:34<3:51:48, 11.39s/it]"
     ]
    },
    {
     "name": "stdout",
     "output_type": "stream",
     "text": [
      "Episode 278: Reward: 9.0 | Score: 80.0 | Avg last 10: 13.7\n"
     ]
    },
    {
     "name": "stderr",
     "output_type": "stream",
     "text": [
      " 19%|█▊        | 280/1500 [3:42:39<3:13:39,  9.52s/it]"
     ]
    },
    {
     "name": "stdout",
     "output_type": "stream",
     "text": [
      "Episode 279: Reward: 5.0 | Score: 55.0 | Avg last 10: 11.9\n"
     ]
    },
    {
     "name": "stderr",
     "output_type": "stream",
     "text": [
      " 19%|█▊        | 281/1500 [3:42:48<3:09:00,  9.30s/it]"
     ]
    },
    {
     "name": "stdout",
     "output_type": "stream",
     "text": [
      "Episode 280: Reward: 11.0 | Score: 180.0 | Avg last 10: 11.3\n"
     ]
    },
    {
     "name": "stderr",
     "output_type": "stream",
     "text": [
      " 19%|█▉        | 282/1500 [3:42:58<3:16:19,  9.67s/it]"
     ]
    },
    {
     "name": "stdout",
     "output_type": "stream",
     "text": [
      "Episode 281: Reward: 9.0 | Score: 125.0 | Avg last 10: 11.6\n"
     ]
    },
    {
     "name": "stderr",
     "output_type": "stream",
     "text": [
      " 19%|█▉        | 283/1500 [3:43:04<2:53:42,  8.56s/it]"
     ]
    },
    {
     "name": "stdout",
     "output_type": "stream",
     "text": [
      "Episode 282: Reward: 5.0 | Score: 45.0 | Avg last 10: 10.9\n"
     ]
    },
    {
     "name": "stderr",
     "output_type": "stream",
     "text": [
      " 19%|█▉        | 284/1500 [3:43:18<3:21:22,  9.94s/it]"
     ]
    },
    {
     "name": "stdout",
     "output_type": "stream",
     "text": [
      "Episode 283: Reward: 22.0 | Score: 320.0 | Avg last 10: 11.9\n"
     ]
    },
    {
     "name": "stderr",
     "output_type": "stream",
     "text": [
      " 19%|█▉        | 285/1500 [3:43:23<2:55:22,  8.66s/it]"
     ]
    },
    {
     "name": "stdout",
     "output_type": "stream",
     "text": [
      "Episode 284: Reward: 6.0 | Score: 60.0 | Avg last 10: 10.8\n"
     ]
    },
    {
     "name": "stderr",
     "output_type": "stream",
     "text": [
      " 19%|█▉        | 286/1500 [3:43:33<3:02:40,  9.03s/it]"
     ]
    },
    {
     "name": "stdout",
     "output_type": "stream",
     "text": [
      "Episode 285: Reward: 11.0 | Score: 160.0 | Avg last 10: 10.6\n"
     ]
    },
    {
     "name": "stderr",
     "output_type": "stream",
     "text": [
      " 19%|█▉        | 287/1500 [3:43:42<2:58:57,  8.85s/it]"
     ]
    },
    {
     "name": "stdout",
     "output_type": "stream",
     "text": [
      "Episode 286: Reward: 10.0 | Score: 155.0 | Avg last 10: 10.8\n"
     ]
    },
    {
     "name": "stderr",
     "output_type": "stream",
     "text": [
      " 19%|█▉        | 288/1500 [3:43:48<2:46:21,  8.24s/it]"
     ]
    },
    {
     "name": "stdout",
     "output_type": "stream",
     "text": [
      "Episode 287: Reward: 7.0 | Score: 85.0 | Avg last 10: 9.5\n"
     ]
    },
    {
     "name": "stderr",
     "output_type": "stream",
     "text": [
      " 19%|█▉        | 289/1500 [3:43:58<2:53:05,  8.58s/it]"
     ]
    },
    {
     "name": "stdout",
     "output_type": "stream",
     "text": [
      "Episode 288: Reward: 13.0 | Score: 170.0 | Avg last 10: 9.9\n"
     ]
    },
    {
     "name": "stderr",
     "output_type": "stream",
     "text": [
      " 19%|█▉        | 290/1500 [3:44:05<2:41:38,  8.02s/it]"
     ]
    },
    {
     "name": "stdout",
     "output_type": "stream",
     "text": [
      "Episode 289: Reward: 7.0 | Score: 70.0 | Avg last 10: 10.1\n"
     ]
    },
    {
     "name": "stderr",
     "output_type": "stream",
     "text": [
      " 19%|█▉        | 291/1500 [3:44:21<3:30:23, 10.44s/it]"
     ]
    },
    {
     "name": "stdout",
     "output_type": "stream",
     "text": [
      "Episode 290: Reward: 23.0 | Score: 575.0 | Avg last 10: 11.3\n"
     ]
    },
    {
     "name": "stderr",
     "output_type": "stream",
     "text": [
      " 19%|█▉        | 292/1500 [3:44:37<4:04:27, 12.14s/it]"
     ]
    },
    {
     "name": "stdout",
     "output_type": "stream",
     "text": [
      "Episode 291: Reward: 21.0 | Score: 465.0 | Avg last 10: 12.5\n"
     ]
    },
    {
     "name": "stderr",
     "output_type": "stream",
     "text": [
      " 20%|█▉        | 293/1500 [3:44:50<4:12:09, 12.54s/it]"
     ]
    },
    {
     "name": "stdout",
     "output_type": "stream",
     "text": [
      "Episode 292: Reward: 17.0 | Score: 270.0 | Avg last 10: 13.7\n"
     ]
    },
    {
     "name": "stderr",
     "output_type": "stream",
     "text": [
      " 20%|█▉        | 294/1500 [3:44:58<3:44:28, 11.17s/it]"
     ]
    },
    {
     "name": "stdout",
     "output_type": "stream",
     "text": [
      "Episode 293: Reward: 9.0 | Score: 135.0 | Avg last 10: 12.4\n"
     ]
    },
    {
     "name": "stderr",
     "output_type": "stream",
     "text": [
      " 20%|█▉        | 295/1500 [3:45:05<3:18:17,  9.87s/it]"
     ]
    },
    {
     "name": "stdout",
     "output_type": "stream",
     "text": [
      "Episode 294: Reward: 7.0 | Score: 70.0 | Avg last 10: 12.5\n"
     ]
    },
    {
     "name": "stderr",
     "output_type": "stream",
     "text": [
      " 20%|█▉        | 296/1500 [3:45:16<3:24:38, 10.20s/it]"
     ]
    },
    {
     "name": "stdout",
     "output_type": "stream",
     "text": [
      "Episode 295: Reward: 15.0 | Score: 210.0 | Avg last 10: 12.9\n"
     ]
    },
    {
     "name": "stderr",
     "output_type": "stream",
     "text": [
      " 20%|█▉        | 297/1500 [3:45:27<3:28:11, 10.38s/it]"
     ]
    },
    {
     "name": "stdout",
     "output_type": "stream",
     "text": [
      "Episode 296: Reward: 13.0 | Score: 215.0 | Avg last 10: 13.2\n"
     ]
    },
    {
     "name": "stderr",
     "output_type": "stream",
     "text": [
      " 20%|█▉        | 298/1500 [3:45:37<3:28:33, 10.41s/it]"
     ]
    },
    {
     "name": "stdout",
     "output_type": "stream",
     "text": [
      "Episode 297: Reward: 13.0 | Score: 145.0 | Avg last 10: 13.8\n"
     ]
    },
    {
     "name": "stderr",
     "output_type": "stream",
     "text": [
      " 20%|█▉        | 299/1500 [3:45:51<3:47:04, 11.34s/it]"
     ]
    },
    {
     "name": "stdout",
     "output_type": "stream",
     "text": [
      "Episode 298: Reward: 18.0 | Score: 265.0 | Avg last 10: 14.3\n"
     ]
    },
    {
     "name": "stderr",
     "output_type": "stream",
     "text": [
      " 20%|██        | 300/1500 [3:45:59<3:31:12, 10.56s/it]"
     ]
    },
    {
     "name": "stdout",
     "output_type": "stream",
     "text": [
      "Episode 299: Reward: 15.0 | Score: 155.0 | Avg last 10: 15.1\n",
      "Episode 300: Reward: 10.0 | Score: 155.0 | Avg last 10: 13.8\n"
     ]
    },
    {
     "name": "stderr",
     "output_type": "stream",
     "text": [
      " 20%|██        | 301/1500 [3:46:11<3:39:28, 10.98s/it]"
     ]
    },
    {
     "name": "stdout",
     "output_type": "stream",
     "text": [
      "Recompensa media en test: 262.00\n",
      "Evaluación @ 300 ep -> reward media: 262.0\n"
     ]
    },
    {
     "name": "stderr",
     "output_type": "stream",
     "text": [
      " 20%|██        | 302/1500 [3:46:20<3:25:07, 10.27s/it]"
     ]
    },
    {
     "name": "stdout",
     "output_type": "stream",
     "text": [
      "Episode 301: Reward: 12.0 | Score: 150.0 | Avg last 10: 12.9\n"
     ]
    },
    {
     "name": "stderr",
     "output_type": "stream",
     "text": [
      " 20%|██        | 303/1500 [3:46:26<3:00:21,  9.04s/it]"
     ]
    },
    {
     "name": "stdout",
     "output_type": "stream",
     "text": [
      "Episode 302: Reward: 6.0 | Score: 60.0 | Avg last 10: 11.8\n"
     ]
    },
    {
     "name": "stderr",
     "output_type": "stream",
     "text": [
      " 20%|██        | 304/1500 [3:46:36<3:05:03,  9.28s/it]"
     ]
    },
    {
     "name": "stdout",
     "output_type": "stream",
     "text": [
      "Episode 303: Reward: 9.0 | Score: 135.0 | Avg last 10: 11.8\n"
     ]
    },
    {
     "name": "stderr",
     "output_type": "stream",
     "text": [
      " 20%|██        | 305/1500 [3:46:46<3:09:44,  9.53s/it]"
     ]
    },
    {
     "name": "stdout",
     "output_type": "stream",
     "text": [
      "Episode 304: Reward: 12.0 | Score: 170.0 | Avg last 10: 12.3\n"
     ]
    },
    {
     "name": "stderr",
     "output_type": "stream",
     "text": [
      " 20%|██        | 306/1500 [3:46:52<2:46:15,  8.35s/it]"
     ]
    },
    {
     "name": "stdout",
     "output_type": "stream",
     "text": [
      "Episode 305: Reward: 4.0 | Score: 35.0 | Avg last 10: 11.2\n"
     ]
    },
    {
     "name": "stderr",
     "output_type": "stream",
     "text": [
      " 20%|██        | 307/1500 [3:47:01<2:53:27,  8.72s/it]"
     ]
    },
    {
     "name": "stdout",
     "output_type": "stream",
     "text": [
      "Episode 306: Reward: 14.0 | Score: 170.0 | Avg last 10: 11.3\n"
     ]
    },
    {
     "name": "stderr",
     "output_type": "stream",
     "text": [
      " 21%|██        | 308/1500 [3:47:07<2:35:58,  7.85s/it]"
     ]
    },
    {
     "name": "stdout",
     "output_type": "stream",
     "text": [
      "Episode 307: Reward: 10.0 | Score: 155.0 | Avg last 10: 11.0\n"
     ]
    },
    {
     "name": "stderr",
     "output_type": "stream",
     "text": [
      " 21%|██        | 309/1500 [3:47:13<2:26:24,  7.38s/it]"
     ]
    },
    {
     "name": "stdout",
     "output_type": "stream",
     "text": [
      "Episode 308: Reward: 11.0 | Score: 155.0 | Avg last 10: 10.3\n"
     ]
    },
    {
     "name": "stderr",
     "output_type": "stream",
     "text": [
      " 21%|██        | 310/1500 [3:47:20<2:23:50,  7.25s/it]"
     ]
    },
    {
     "name": "stdout",
     "output_type": "stream",
     "text": [
      "Episode 309: Reward: 10.0 | Score: 160.0 | Avg last 10: 9.8\n"
     ]
    },
    {
     "name": "stderr",
     "output_type": "stream",
     "text": [
      " 21%|██        | 311/1500 [3:47:26<2:10:56,  6.61s/it]"
     ]
    },
    {
     "name": "stdout",
     "output_type": "stream",
     "text": [
      "Episode 310: Reward: 6.0 | Score: 65.0 | Avg last 10: 9.4\n"
     ]
    },
    {
     "name": "stderr",
     "output_type": "stream",
     "text": [
      " 21%|██        | 312/1500 [3:47:35<2:29:41,  7.56s/it]"
     ]
    },
    {
     "name": "stdout",
     "output_type": "stream",
     "text": [
      "Episode 311: Reward: 12.0 | Score: 185.0 | Avg last 10: 9.4\n"
     ]
    },
    {
     "name": "stderr",
     "output_type": "stream",
     "text": [
      " 21%|██        | 313/1500 [3:47:51<3:19:25, 10.08s/it]"
     ]
    },
    {
     "name": "stdout",
     "output_type": "stream",
     "text": [
      "Episode 312: Reward: 14.0 | Score: 415.0 | Avg last 10: 10.2\n"
     ]
    },
    {
     "name": "stderr",
     "output_type": "stream",
     "text": [
      " 21%|██        | 314/1500 [3:48:08<3:56:25, 11.96s/it]"
     ]
    },
    {
     "name": "stdout",
     "output_type": "stream",
     "text": [
      "Episode 313: Reward: 15.0 | Score: 190.0 | Avg last 10: 10.8\n"
     ]
    },
    {
     "name": "stderr",
     "output_type": "stream",
     "text": [
      " 21%|██        | 315/1500 [3:48:17<3:42:11, 11.25s/it]"
     ]
    },
    {
     "name": "stdout",
     "output_type": "stream",
     "text": [
      "Episode 314: Reward: 10.0 | Score: 155.0 | Avg last 10: 10.6\n"
     ]
    },
    {
     "name": "stderr",
     "output_type": "stream",
     "text": [
      " 21%|██        | 316/1500 [3:48:24<3:15:25,  9.90s/it]"
     ]
    },
    {
     "name": "stdout",
     "output_type": "stream",
     "text": [
      "Episode 315: Reward: 4.0 | Score: 35.0 | Avg last 10: 10.6\n"
     ]
    },
    {
     "name": "stderr",
     "output_type": "stream",
     "text": [
      " 21%|██        | 317/1500 [3:48:36<3:28:20, 10.57s/it]"
     ]
    },
    {
     "name": "stdout",
     "output_type": "stream",
     "text": [
      "Episode 316: Reward: 11.0 | Score: 180.0 | Avg last 10: 10.3\n"
     ]
    },
    {
     "name": "stderr",
     "output_type": "stream",
     "text": [
      " 21%|██        | 318/1500 [3:48:43<3:08:20,  9.56s/it]"
     ]
    },
    {
     "name": "stdout",
     "output_type": "stream",
     "text": [
      "Episode 317: Reward: 5.0 | Score: 75.0 | Avg last 10: 9.8\n"
     ]
    },
    {
     "name": "stderr",
     "output_type": "stream",
     "text": [
      " 21%|██▏       | 319/1500 [3:48:56<3:26:17, 10.48s/it]"
     ]
    },
    {
     "name": "stdout",
     "output_type": "stream",
     "text": [
      "Episode 318: Reward: 15.0 | Score: 240.0 | Avg last 10: 10.2\n"
     ]
    },
    {
     "name": "stderr",
     "output_type": "stream",
     "text": [
      " 21%|██▏       | 320/1500 [3:49:05<3:15:58,  9.96s/it]"
     ]
    },
    {
     "name": "stdout",
     "output_type": "stream",
     "text": [
      "Episode 319: Reward: 9.0 | Score: 135.0 | Avg last 10: 10.1\n"
     ]
    },
    {
     "name": "stderr",
     "output_type": "stream",
     "text": [
      " 21%|██▏       | 321/1500 [3:49:19<3:38:37, 11.13s/it]"
     ]
    },
    {
     "name": "stdout",
     "output_type": "stream",
     "text": [
      "Episode 320: Reward: 18.0 | Score: 485.0 | Avg last 10: 11.3\n"
     ]
    },
    {
     "name": "stderr",
     "output_type": "stream",
     "text": [
      " 21%|██▏       | 322/1500 [3:49:29<3:34:49, 10.94s/it]"
     ]
    },
    {
     "name": "stdout",
     "output_type": "stream",
     "text": [
      "Episode 321: Reward: 11.0 | Score: 150.0 | Avg last 10: 11.2\n"
     ]
    },
    {
     "name": "stderr",
     "output_type": "stream",
     "text": [
      " 22%|██▏       | 323/1500 [3:49:43<3:53:44, 11.92s/it]"
     ]
    },
    {
     "name": "stdout",
     "output_type": "stream",
     "text": [
      "Episode 322: Reward: 22.0 | Score: 335.0 | Avg last 10: 12.0\n"
     ]
    },
    {
     "name": "stderr",
     "output_type": "stream",
     "text": [
      " 22%|██▏       | 324/1500 [3:49:51<3:26:28, 10.53s/it]"
     ]
    },
    {
     "name": "stdout",
     "output_type": "stream",
     "text": [
      "Episode 323: Reward: 3.0 | Score: 20.0 | Avg last 10: 10.8\n"
     ]
    },
    {
     "name": "stderr",
     "output_type": "stream",
     "text": [
      " 22%|██▏       | 325/1500 [3:49:57<3:01:23,  9.26s/it]"
     ]
    },
    {
     "name": "stdout",
     "output_type": "stream",
     "text": [
      "Episode 324: Reward: 7.0 | Score: 75.0 | Avg last 10: 10.5\n"
     ]
    },
    {
     "name": "stderr",
     "output_type": "stream",
     "text": [
      " 22%|██▏       | 326/1500 [3:50:09<3:15:47, 10.01s/it]"
     ]
    },
    {
     "name": "stdout",
     "output_type": "stream",
     "text": [
      "Episode 325: Reward: 14.0 | Score: 200.0 | Avg last 10: 11.5\n"
     ]
    },
    {
     "name": "stderr",
     "output_type": "stream",
     "text": [
      " 22%|██▏       | 327/1500 [3:50:24<3:45:27, 11.53s/it]"
     ]
    },
    {
     "name": "stdout",
     "output_type": "stream",
     "text": [
      "Episode 326: Reward: 19.0 | Score: 245.0 | Avg last 10: 12.3\n"
     ]
    },
    {
     "name": "stderr",
     "output_type": "stream",
     "text": [
      " 22%|██▏       | 328/1500 [3:50:36<3:50:55, 11.82s/it]"
     ]
    },
    {
     "name": "stdout",
     "output_type": "stream",
     "text": [
      "Episode 327: Reward: 13.0 | Score: 195.0 | Avg last 10: 13.1\n"
     ]
    },
    {
     "name": "stderr",
     "output_type": "stream",
     "text": [
      " 22%|██▏       | 329/1500 [3:50:47<3:47:19, 11.65s/it]"
     ]
    },
    {
     "name": "stdout",
     "output_type": "stream",
     "text": [
      "Episode 328: Reward: 18.0 | Score: 315.0 | Avg last 10: 13.4\n"
     ]
    },
    {
     "name": "stderr",
     "output_type": "stream",
     "text": [
      " 22%|██▏       | 330/1500 [3:50:56<3:31:30, 10.85s/it]"
     ]
    },
    {
     "name": "stdout",
     "output_type": "stream",
     "text": [
      "Episode 329: Reward: 12.0 | Score: 210.0 | Avg last 10: 13.7\n"
     ]
    },
    {
     "name": "stderr",
     "output_type": "stream",
     "text": [
      " 22%|██▏       | 331/1500 [3:51:07<3:31:27, 10.85s/it]"
     ]
    },
    {
     "name": "stdout",
     "output_type": "stream",
     "text": [
      "Episode 330: Reward: 11.0 | Score: 180.0 | Avg last 10: 13.0\n"
     ]
    },
    {
     "name": "stderr",
     "output_type": "stream",
     "text": [
      " 22%|██▏       | 332/1500 [3:51:14<3:07:11,  9.62s/it]"
     ]
    },
    {
     "name": "stdout",
     "output_type": "stream",
     "text": [
      "Episode 331: Reward: 10.0 | Score: 120.0 | Avg last 10: 12.9\n"
     ]
    },
    {
     "name": "stderr",
     "output_type": "stream",
     "text": [
      " 22%|██▏       | 333/1500 [3:51:25<3:13:23,  9.94s/it]"
     ]
    },
    {
     "name": "stdout",
     "output_type": "stream",
     "text": [
      "Episode 332: Reward: 14.0 | Score: 180.0 | Avg last 10: 12.1\n"
     ]
    },
    {
     "name": "stderr",
     "output_type": "stream",
     "text": [
      " 22%|██▏       | 334/1500 [3:51:33<3:04:31,  9.49s/it]"
     ]
    },
    {
     "name": "stdout",
     "output_type": "stream",
     "text": [
      "Episode 333: Reward: 9.0 | Score: 125.0 | Avg last 10: 12.7\n"
     ]
    },
    {
     "name": "stderr",
     "output_type": "stream",
     "text": [
      " 22%|██▏       | 335/1500 [3:51:42<3:01:55,  9.37s/it]"
     ]
    },
    {
     "name": "stdout",
     "output_type": "stream",
     "text": [
      "Episode 334: Reward: 12.0 | Score: 135.0 | Avg last 10: 13.2\n"
     ]
    },
    {
     "name": "stderr",
     "output_type": "stream",
     "text": [
      " 22%|██▏       | 336/1500 [3:51:48<2:42:12,  8.36s/it]"
     ]
    },
    {
     "name": "stdout",
     "output_type": "stream",
     "text": [
      "Episode 335: Reward: 1.0 | Score: 5.0 | Avg last 10: 11.9\n"
     ]
    },
    {
     "name": "stderr",
     "output_type": "stream",
     "text": [
      " 22%|██▏       | 337/1500 [3:52:02<3:11:42,  9.89s/it]"
     ]
    },
    {
     "name": "stdout",
     "output_type": "stream",
     "text": [
      "Episode 336: Reward: 21.0 | Score: 375.0 | Avg last 10: 12.1\n"
     ]
    },
    {
     "name": "stderr",
     "output_type": "stream",
     "text": [
      " 23%|██▎       | 338/1500 [3:52:09<2:55:45,  9.08s/it]"
     ]
    },
    {
     "name": "stdout",
     "output_type": "stream",
     "text": [
      "Episode 337: Reward: 9.0 | Score: 125.0 | Avg last 10: 11.7\n"
     ]
    },
    {
     "name": "stderr",
     "output_type": "stream",
     "text": [
      " 23%|██▎       | 339/1500 [3:52:16<2:43:45,  8.46s/it]"
     ]
    },
    {
     "name": "stdout",
     "output_type": "stream",
     "text": [
      "Episode 338: Reward: 7.0 | Score: 110.0 | Avg last 10: 10.6\n"
     ]
    },
    {
     "name": "stderr",
     "output_type": "stream",
     "text": [
      " 23%|██▎       | 340/1500 [3:52:29<3:10:23,  9.85s/it]"
     ]
    },
    {
     "name": "stdout",
     "output_type": "stream",
     "text": [
      "Episode 339: Reward: 16.0 | Score: 430.0 | Avg last 10: 11.0\n"
     ]
    },
    {
     "name": "stderr",
     "output_type": "stream",
     "text": [
      " 23%|██▎       | 341/1500 [3:52:38<3:07:51,  9.72s/it]"
     ]
    },
    {
     "name": "stdout",
     "output_type": "stream",
     "text": [
      "Episode 340: Reward: 9.0 | Score: 125.0 | Avg last 10: 10.8\n"
     ]
    },
    {
     "name": "stderr",
     "output_type": "stream",
     "text": [
      " 23%|██▎       | 342/1500 [3:52:45<2:48:51,  8.75s/it]"
     ]
    },
    {
     "name": "stdout",
     "output_type": "stream",
     "text": [
      "Episode 341: Reward: 9.0 | Score: 135.0 | Avg last 10: 10.7\n"
     ]
    },
    {
     "name": "stderr",
     "output_type": "stream",
     "text": [
      " 23%|██▎       | 343/1500 [3:52:57<3:07:59,  9.75s/it]"
     ]
    },
    {
     "name": "stdout",
     "output_type": "stream",
     "text": [
      "Episode 342: Reward: 11.0 | Score: 180.0 | Avg last 10: 10.4\n"
     ]
    },
    {
     "name": "stderr",
     "output_type": "stream",
     "text": [
      " 23%|██▎       | 344/1500 [3:53:04<2:52:01,  8.93s/it]"
     ]
    },
    {
     "name": "stdout",
     "output_type": "stream",
     "text": [
      "Episode 343: Reward: 9.0 | Score: 130.0 | Avg last 10: 10.4\n"
     ]
    },
    {
     "name": "stderr",
     "output_type": "stream",
     "text": [
      " 23%|██▎       | 345/1500 [3:53:14<2:58:27,  9.27s/it]"
     ]
    },
    {
     "name": "stdout",
     "output_type": "stream",
     "text": [
      "Episode 344: Reward: 13.0 | Score: 200.0 | Avg last 10: 10.5\n"
     ]
    },
    {
     "name": "stderr",
     "output_type": "stream",
     "text": [
      " 23%|██▎       | 346/1500 [3:53:21<2:42:07,  8.43s/it]"
     ]
    },
    {
     "name": "stdout",
     "output_type": "stream",
     "text": [
      "Episode 345: Reward: 6.0 | Score: 60.0 | Avg last 10: 11.0\n"
     ]
    },
    {
     "name": "stderr",
     "output_type": "stream",
     "text": [
      " 23%|██▎       | 347/1500 [3:53:35<3:14:59, 10.15s/it]"
     ]
    },
    {
     "name": "stdout",
     "output_type": "stream",
     "text": [
      "Episode 346: Reward: 14.0 | Score: 225.0 | Avg last 10: 10.3\n"
     ]
    },
    {
     "name": "stderr",
     "output_type": "stream",
     "text": [
      " 23%|██▎       | 348/1500 [3:53:47<3:27:08, 10.79s/it]"
     ]
    },
    {
     "name": "stdout",
     "output_type": "stream",
     "text": [
      "Episode 347: Reward: 23.0 | Score: 540.0 | Avg last 10: 11.7\n"
     ]
    },
    {
     "name": "stderr",
     "output_type": "stream",
     "text": [
      " 23%|██▎       | 349/1500 [3:53:58<3:27:18, 10.81s/it]"
     ]
    },
    {
     "name": "stdout",
     "output_type": "stream",
     "text": [
      "Episode 348: Reward: 11.0 | Score: 180.0 | Avg last 10: 12.1\n"
     ]
    },
    {
     "name": "stderr",
     "output_type": "stream",
     "text": [
      " 23%|██▎       | 350/1500 [3:54:10<3:37:01, 11.32s/it]"
     ]
    },
    {
     "name": "stdout",
     "output_type": "stream",
     "text": [
      "Episode 349: Reward: 21.0 | Score: 350.0 | Avg last 10: 12.6\n"
     ]
    },
    {
     "name": "stderr",
     "output_type": "stream",
     "text": [
      " 23%|██▎       | 351/1500 [3:54:19<3:22:49, 10.59s/it]"
     ]
    },
    {
     "name": "stdout",
     "output_type": "stream",
     "text": [
      "Episode 350: Reward: 10.0 | Score: 125.0 | Avg last 10: 12.7\n"
     ]
    },
    {
     "name": "stderr",
     "output_type": "stream",
     "text": [
      " 23%|██▎       | 352/1500 [3:54:36<3:56:13, 12.35s/it]"
     ]
    },
    {
     "name": "stdout",
     "output_type": "stream",
     "text": [
      "Episode 351: Reward: 20.0 | Score: 330.0 | Avg last 10: 13.8\n"
     ]
    },
    {
     "name": "stderr",
     "output_type": "stream",
     "text": [
      " 24%|██▎       | 353/1500 [3:54:44<3:35:23, 11.27s/it]"
     ]
    },
    {
     "name": "stdout",
     "output_type": "stream",
     "text": [
      "Episode 352: Reward: 13.0 | Score: 145.0 | Avg last 10: 14.0\n"
     ]
    },
    {
     "name": "stderr",
     "output_type": "stream",
     "text": [
      " 24%|██▎       | 354/1500 [4:09:58<89:47:00, 282.04s/it]"
     ]
    },
    {
     "name": "stdout",
     "output_type": "stream",
     "text": [
      "Episode 353: Reward: 10.0 | Score: 155.0 | Avg last 10: 14.1\n"
     ]
    },
    {
     "name": "stderr",
     "output_type": "stream",
     "text": [
      " 24%|██▎       | 355/1500 [4:10:23<65:10:15, 204.90s/it]"
     ]
    },
    {
     "name": "stdout",
     "output_type": "stream",
     "text": [
      "Episode 354: Reward: 20.0 | Score: 325.0 | Avg last 10: 14.8\n"
     ]
    },
    {
     "name": "stderr",
     "output_type": "stream",
     "text": [
      " 24%|██▎       | 356/1500 [4:11:51<53:54:25, 169.64s/it]"
     ]
    },
    {
     "name": "stdout",
     "output_type": "stream",
     "text": [
      "Episode 355: Reward: 12.0 | Score: 210.0 | Avg last 10: 15.4\n"
     ]
    },
    {
     "name": "stderr",
     "output_type": "stream",
     "text": [
      " 24%|██▍       | 357/1500 [4:26:52<123:35:46, 389.28s/it]"
     ]
    },
    {
     "name": "stdout",
     "output_type": "stream",
     "text": [
      "Episode 356: Reward: 7.0 | Score: 65.0 | Avg last 10: 14.7\n"
     ]
    },
    {
     "name": "stderr",
     "output_type": "stream",
     "text": [
      " 24%|██▍       | 358/1500 [4:48:23<209:16:29, 659.71s/it]"
     ]
    },
    {
     "name": "stdout",
     "output_type": "stream",
     "text": [
      "Episode 357: Reward: 5.0 | Score: 45.0 | Avg last 10: 12.9\n"
     ]
    },
    {
     "name": "stderr",
     "output_type": "stream",
     "text": [
      " 24%|██▍       | 359/1500 [4:53:47<177:10:45, 559.02s/it]"
     ]
    },
    {
     "name": "stdout",
     "output_type": "stream",
     "text": [
      "Episode 358: Reward: 13.0 | Score: 210.0 | Avg last 10: 13.1\n"
     ]
    },
    {
     "name": "stderr",
     "output_type": "stream",
     "text": [
      " 24%|██▍       | 360/1500 [5:12:25<230:05:57, 726.63s/it]"
     ]
    },
    {
     "name": "stdout",
     "output_type": "stream",
     "text": [
      "Episode 359: Reward: 25.0 | Score: 390.0 | Avg last 10: 13.5\n"
     ]
    },
    {
     "name": "stderr",
     "output_type": "stream",
     "text": [
      " 24%|██▍       | 361/1500 [5:14:55<175:12:14, 553.76s/it]"
     ]
    },
    {
     "name": "stdout",
     "output_type": "stream",
     "text": [
      "Episode 360: Reward: 17.0 | Score: 285.0 | Avg last 10: 14.2\n"
     ]
    },
    {
     "name": "stderr",
     "output_type": "stream",
     "text": [
      " 24%|██▍       | 362/1500 [5:16:10<129:36:58, 410.03s/it]"
     ]
    },
    {
     "name": "stdout",
     "output_type": "stream",
     "text": [
      "Episode 361: Reward: 16.0 | Score: 255.0 | Avg last 10: 13.8\n"
     ]
    },
    {
     "name": "stderr",
     "output_type": "stream",
     "text": [
      " 24%|██▍       | 363/1500 [5:16:34<92:53:44, 294.13s/it] "
     ]
    },
    {
     "name": "stdout",
     "output_type": "stream",
     "text": [
      "Episode 362: Reward: 13.0 | Score: 195.0 | Avg last 10: 13.8\n"
     ]
    },
    {
     "name": "stderr",
     "output_type": "stream",
     "text": [
      " 24%|██▍       | 364/1500 [5:16:53<66:51:17, 211.86s/it]"
     ]
    },
    {
     "name": "stdout",
     "output_type": "stream",
     "text": [
      "Episode 363: Reward: 8.0 | Score: 85.0 | Avg last 10: 13.6\n"
     ]
    },
    {
     "name": "stderr",
     "output_type": "stream",
     "text": [
      " 24%|██▍       | 365/1500 [5:17:06<47:55:56, 152.03s/it]"
     ]
    },
    {
     "name": "stdout",
     "output_type": "stream",
     "text": [
      "Episode 364: Reward: 7.0 | Score: 80.0 | Avg last 10: 12.3\n"
     ]
    },
    {
     "name": "stderr",
     "output_type": "stream",
     "text": [
      " 24%|██▍       | 366/1500 [5:17:35<36:17:47, 115.23s/it]"
     ]
    },
    {
     "name": "stdout",
     "output_type": "stream",
     "text": [
      "Episode 365: Reward: 14.0 | Score: 175.0 | Avg last 10: 12.5\n"
     ]
    },
    {
     "name": "stderr",
     "output_type": "stream",
     "text": [
      " 24%|██▍       | 367/1500 [5:35:55<129:14:57, 410.68s/it]"
     ]
    },
    {
     "name": "stdout",
     "output_type": "stream",
     "text": [
      "Episode 366: Reward: 15.0 | Score: 240.0 | Avg last 10: 13.3\n"
     ]
    },
    {
     "name": "stderr",
     "output_type": "stream",
     "text": [
      " 25%|██▍       | 368/1500 [5:55:53<203:25:08, 646.92s/it]"
     ]
    },
    {
     "name": "stdout",
     "output_type": "stream",
     "text": [
      "Episode 367: Reward: 15.0 | Score: 230.0 | Avg last 10: 14.3\n"
     ]
    },
    {
     "name": "stderr",
     "output_type": "stream",
     "text": [
      " 25%|██▍       | 369/1500 [6:31:43<344:51:04, 1097.67s/it]"
     ]
    },
    {
     "name": "stdout",
     "output_type": "stream",
     "text": [
      "Episode 368: Reward: 16.0 | Score: 260.0 | Avg last 10: 14.6\n"
     ]
    },
    {
     "name": "stderr",
     "output_type": "stream",
     "text": [
      " 25%|██▍       | 370/1500 [6:50:10<345:27:15, 1100.56s/it]"
     ]
    },
    {
     "name": "stdout",
     "output_type": "stream",
     "text": [
      "Episode 369: Reward: 11.0 | Score: 180.0 | Avg last 10: 13.2\n"
     ]
    },
    {
     "name": "stderr",
     "output_type": "stream",
     "text": [
      " 25%|██▍       | 371/1500 [6:51:03<246:35:27, 786.30s/it] "
     ]
    },
    {
     "name": "stdout",
     "output_type": "stream",
     "text": [
      "Episode 370: Reward: 11.0 | Score: 180.0 | Avg last 10: 12.6\n"
     ]
    },
    {
     "name": "stderr",
     "output_type": "stream",
     "text": [
      " 25%|██▍       | 372/1500 [6:57:18<207:41:24, 662.84s/it]"
     ]
    },
    {
     "name": "stdout",
     "output_type": "stream",
     "text": [
      "Episode 371: Reward: 23.0 | Score: 345.0 | Avg last 10: 13.3\n"
     ]
    },
    {
     "name": "stderr",
     "output_type": "stream",
     "text": [
      " 25%|██▍       | 373/1500 [6:57:43<147:37:48, 471.58s/it]"
     ]
    },
    {
     "name": "stdout",
     "output_type": "stream",
     "text": [
      "Episode 372: Reward: 11.0 | Score: 185.0 | Avg last 10: 13.1\n"
     ]
    },
    {
     "name": "stderr",
     "output_type": "stream",
     "text": [
      " 25%|██▍       | 374/1500 [6:58:45<109:04:27, 348.73s/it]"
     ]
    },
    {
     "name": "stdout",
     "output_type": "stream",
     "text": [
      "Episode 373: Reward: 15.0 | Score: 615.0 | Avg last 10: 13.8\n"
     ]
    },
    {
     "name": "stderr",
     "output_type": "stream",
     "text": [
      " 25%|██▌       | 375/1500 [7:16:32<176:16:18, 564.07s/it]"
     ]
    },
    {
     "name": "stdout",
     "output_type": "stream",
     "text": [
      "Episode 374: Reward: 15.0 | Score: 200.0 | Avg last 10: 14.6\n"
     ]
    },
    {
     "name": "stderr",
     "output_type": "stream",
     "text": [
      " 25%|██▌       | 376/1500 [7:33:47<220:13:12, 705.33s/it]"
     ]
    },
    {
     "name": "stdout",
     "output_type": "stream",
     "text": [
      "Episode 375: Reward: 19.0 | Score: 305.0 | Avg last 10: 15.1\n"
     ]
    },
    {
     "name": "stderr",
     "output_type": "stream",
     "text": [
      " 25%|██▌       | 377/1500 [7:51:21<252:42:19, 810.10s/it]"
     ]
    },
    {
     "name": "stdout",
     "output_type": "stream",
     "text": [
      "Episode 376: Reward: 10.0 | Score: 135.0 | Avg last 10: 14.6\n"
     ]
    },
    {
     "name": "stderr",
     "output_type": "stream",
     "text": [
      " 25%|██▌       | 378/1500 [7:58:21<215:58:17, 692.96s/it]"
     ]
    },
    {
     "name": "stdout",
     "output_type": "stream",
     "text": [
      "Episode 377: Reward: 13.0 | Score: 180.0 | Avg last 10: 14.4\n"
     ]
    },
    {
     "name": "stderr",
     "output_type": "stream",
     "text": [
      " 25%|██▌       | 379/1500 [7:58:35<152:22:09, 489.32s/it]"
     ]
    },
    {
     "name": "stdout",
     "output_type": "stream",
     "text": [
      "Episode 378: Reward: 6.0 | Score: 65.0 | Avg last 10: 13.4\n"
     ]
    },
    {
     "name": "stderr",
     "output_type": "stream",
     "text": [
      " 25%|██▌       | 380/1500 [7:58:57<108:36:50, 349.12s/it]"
     ]
    },
    {
     "name": "stdout",
     "output_type": "stream",
     "text": [
      "Episode 379: Reward: 10.0 | Score: 155.0 | Avg last 10: 13.3\n"
     ]
    },
    {
     "name": "stderr",
     "output_type": "stream",
     "text": [
      " 25%|██▌       | 381/1500 [7:59:18<77:51:51, 250.50s/it] "
     ]
    },
    {
     "name": "stdout",
     "output_type": "stream",
     "text": [
      "Episode 380: Reward: 8.0 | Score: 85.0 | Avg last 10: 13.0\n"
     ]
    },
    {
     "name": "stderr",
     "output_type": "stream",
     "text": [
      " 25%|██▌       | 382/1500 [7:59:59<58:19:00, 187.78s/it]"
     ]
    },
    {
     "name": "stdout",
     "output_type": "stream",
     "text": [
      "Episode 381: Reward: 20.0 | Score: 540.0 | Avg last 10: 12.7\n"
     ]
    },
    {
     "name": "stderr",
     "output_type": "stream",
     "text": [
      " 26%|██▌       | 383/1500 [8:25:38<184:04:06, 593.24s/it]"
     ]
    },
    {
     "name": "stdout",
     "output_type": "stream",
     "text": [
      "Episode 382: Reward: 20.0 | Score: 325.0 | Avg last 10: 13.6\n"
     ]
    },
    {
     "name": "stderr",
     "output_type": "stream",
     "text": [
      " 26%|██▌       | 384/1500 [8:27:30<139:07:14, 448.78s/it]"
     ]
    },
    {
     "name": "stdout",
     "output_type": "stream",
     "text": [
      "Episode 383: Reward: 14.0 | Score: 400.0 | Avg last 10: 13.5\n"
     ]
    },
    {
     "name": "stderr",
     "output_type": "stream",
     "text": [
      " 26%|██▌       | 385/1500 [8:58:49<271:54:06, 877.89s/it]"
     ]
    },
    {
     "name": "stdout",
     "output_type": "stream",
     "text": [
      "Episode 384: Reward: 14.0 | Score: 200.0 | Avg last 10: 13.4\n"
     ]
    },
    {
     "name": "stderr",
     "output_type": "stream",
     "text": [
      " 26%|██▌       | 386/1500 [8:59:44<195:13:28, 630.89s/it]"
     ]
    },
    {
     "name": "stdout",
     "output_type": "stream",
     "text": [
      "Episode 385: Reward: 8.0 | Score: 75.0 | Avg last 10: 12.3\n"
     ]
    },
    {
     "name": "stderr",
     "output_type": "stream",
     "text": [
      " 26%|██▌       | 387/1500 [9:01:29<146:15:36, 473.08s/it]"
     ]
    },
    {
     "name": "stdout",
     "output_type": "stream",
     "text": [
      "Episode 386: Reward: 5.0 | Score: 35.0 | Avg last 10: 11.8\n"
     ]
    },
    {
     "name": "stderr",
     "output_type": "stream",
     "text": [
      " 26%|██▌       | 388/1500 [9:03:24<113:01:44, 365.92s/it]"
     ]
    },
    {
     "name": "stdout",
     "output_type": "stream",
     "text": [
      "Episode 387: Reward: 9.0 | Score: 110.0 | Avg last 10: 11.4\n"
     ]
    },
    {
     "name": "stderr",
     "output_type": "stream",
     "text": [
      " 26%|██▌       | 389/1500 [9:37:12<266:46:18, 864.43s/it]"
     ]
    },
    {
     "name": "stdout",
     "output_type": "stream",
     "text": [
      "Episode 388: Reward: 10.0 | Score: 125.0 | Avg last 10: 11.8\n"
     ]
    },
    {
     "name": "stderr",
     "output_type": "stream",
     "text": [
      " 26%|██▌       | 390/1500 [9:53:37<277:42:41, 900.69s/it]"
     ]
    },
    {
     "name": "stdout",
     "output_type": "stream",
     "text": [
      "Episode 389: Reward: 5.0 | Score: 40.0 | Avg last 10: 11.3\n"
     ]
    },
    {
     "name": "stderr",
     "output_type": "stream",
     "text": [
      " 26%|██▌       | 391/1500 [10:00:25<231:56:07, 752.90s/it]"
     ]
    },
    {
     "name": "stdout",
     "output_type": "stream",
     "text": [
      "Episode 390: Reward: 15.0 | Score: 240.0 | Avg last 10: 12.0\n"
     ]
    },
    {
     "name": "stderr",
     "output_type": "stream",
     "text": [
      " 26%|██▌       | 392/1500 [10:00:56<165:04:25, 536.34s/it]"
     ]
    },
    {
     "name": "stdout",
     "output_type": "stream",
     "text": [
      "Episode 391: Reward: 13.0 | Score: 215.0 | Avg last 10: 11.3\n"
     ]
    },
    {
     "name": "stderr",
     "output_type": "stream",
     "text": [
      " 26%|██▌       | 393/1500 [10:01:29<118:24:16, 385.06s/it]"
     ]
    },
    {
     "name": "stdout",
     "output_type": "stream",
     "text": [
      "Episode 392: Reward: 12.0 | Score: 185.0 | Avg last 10: 10.5\n"
     ]
    },
    {
     "name": "stderr",
     "output_type": "stream",
     "text": [
      " 26%|██▋       | 394/1500 [10:19:03<180:00:12, 585.91s/it]"
     ]
    },
    {
     "name": "stdout",
     "output_type": "stream",
     "text": [
      "Episode 393: Reward: 14.0 | Score: 205.0 | Avg last 10: 10.5\n"
     ]
    },
    {
     "name": "stderr",
     "output_type": "stream",
     "text": [
      " 26%|██▋       | 395/1500 [10:38:21<232:29:08, 757.42s/it]"
     ]
    },
    {
     "name": "stdout",
     "output_type": "stream",
     "text": [
      "Episode 394: Reward: 15.0 | Score: 230.0 | Avg last 10: 10.6\n"
     ]
    },
    {
     "name": "stderr",
     "output_type": "stream",
     "text": [
      " 26%|██▋       | 396/1500 [11:00:50<286:44:24, 935.02s/it]"
     ]
    },
    {
     "name": "stdout",
     "output_type": "stream",
     "text": [
      "Episode 395: Reward: 17.0 | Score: 270.0 | Avg last 10: 11.5\n"
     ]
    },
    {
     "name": "stderr",
     "output_type": "stream",
     "text": [
      " 26%|██▋       | 397/1500 [11:34:20<385:14:57, 1257.39s/it]"
     ]
    },
    {
     "name": "stdout",
     "output_type": "stream",
     "text": [
      "Episode 396: Reward: 15.0 | Score: 210.0 | Avg last 10: 12.5\n"
     ]
    },
    {
     "name": "stderr",
     "output_type": "stream",
     "text": [
      " 27%|██▋       | 398/1500 [11:35:19<274:52:35, 897.96s/it] "
     ]
    },
    {
     "name": "stdout",
     "output_type": "stream",
     "text": [
      "Episode 397: Reward: 8.0 | Score: 100.0 | Avg last 10: 12.4\n"
     ]
    },
    {
     "name": "stderr",
     "output_type": "stream",
     "text": [
      " 27%|██▋       | 399/1500 [11:52:48<288:29:39, 943.31s/it]"
     ]
    },
    {
     "name": "stdout",
     "output_type": "stream",
     "text": [
      "Episode 398: Reward: 9.0 | Score: 95.0 | Avg last 10: 12.3\n"
     ]
    },
    {
     "name": "stderr",
     "output_type": "stream",
     "text": [
      " 27%|██▋       | 400/1500 [11:54:50<212:53:37, 696.74s/it]"
     ]
    },
    {
     "name": "stdout",
     "output_type": "stream",
     "text": [
      "Episode 399: Reward: 20.0 | Score: 275.0 | Avg last 10: 13.8\n",
      "Episode 400: Reward: 6.0 | Score: 100.0 | Avg last 10: 12.9\n"
     ]
    },
    {
     "name": "stderr",
     "output_type": "stream",
     "text": [
      " 27%|██▋       | 401/1500 [11:56:28<157:51:53, 517.12s/it]"
     ]
    },
    {
     "name": "stdout",
     "output_type": "stream",
     "text": [
      "Recompensa media en test: 144.00\n",
      "Evaluación @ 400 ep -> reward media: 144.0\n"
     ]
    },
    {
     "name": "stderr",
     "output_type": "stream",
     "text": [
      " 27%|██▋       | 402/1500 [11:57:28<115:57:05, 380.17s/it]"
     ]
    },
    {
     "name": "stdout",
     "output_type": "stream",
     "text": [
      "Episode 401: Reward: 11.0 | Score: 180.0 | Avg last 10: 12.7\n"
     ]
    },
    {
     "name": "stderr",
     "output_type": "stream",
     "text": [
      " 27%|██▋       | 403/1500 [12:01:54<105:23:38, 345.87s/it]"
     ]
    },
    {
     "name": "stdout",
     "output_type": "stream",
     "text": [
      "Episode 402: Reward: 9.0 | Score: 135.0 | Avg last 10: 12.4\n"
     ]
    },
    {
     "name": "stderr",
     "output_type": "stream",
     "text": [
      " 27%|██▋       | 404/1500 [12:18:49<166:25:33, 546.65s/it]"
     ]
    },
    {
     "name": "stdout",
     "output_type": "stream",
     "text": [
      "Episode 403: Reward: 7.0 | Score: 85.0 | Avg last 10: 11.7\n"
     ]
    },
    {
     "name": "stderr",
     "output_type": "stream",
     "text": [
      " 27%|██▋       | 405/1500 [12:19:10<118:15:25, 388.79s/it]"
     ]
    },
    {
     "name": "stdout",
     "output_type": "stream",
     "text": [
      "Episode 404: Reward: 9.0 | Score: 135.0 | Avg last 10: 11.1\n"
     ]
    },
    {
     "name": "stderr",
     "output_type": "stream",
     "text": [
      " 27%|██▋       | 406/1500 [12:19:26<84:14:05, 277.19s/it] "
     ]
    },
    {
     "name": "stdout",
     "output_type": "stream",
     "text": [
      "Episode 405: Reward: 9.0 | Score: 125.0 | Avg last 10: 10.3\n"
     ]
    },
    {
     "name": "stderr",
     "output_type": "stream",
     "text": [
      " 27%|██▋       | 407/1500 [12:19:42<60:22:15, 198.84s/it]"
     ]
    },
    {
     "name": "stdout",
     "output_type": "stream",
     "text": [
      "Episode 406: Reward: 11.0 | Score: 150.0 | Avg last 10: 9.9\n"
     ]
    },
    {
     "name": "stderr",
     "output_type": "stream",
     "text": [
      " 27%|██▋       | 408/1500 [12:20:01<43:56:58, 144.89s/it]"
     ]
    },
    {
     "name": "stdout",
     "output_type": "stream",
     "text": [
      "Episode 407: Reward: 8.0 | Score: 100.0 | Avg last 10: 9.9\n"
     ]
    },
    {
     "name": "stderr",
     "output_type": "stream",
     "text": [
      " 27%|██▋       | 409/1500 [12:20:32<33:33:47, 110.75s/it]"
     ]
    },
    {
     "name": "stdout",
     "output_type": "stream",
     "text": [
      "Episode 408: Reward: 18.0 | Score: 435.0 | Avg last 10: 10.8\n"
     ]
    },
    {
     "name": "stderr",
     "output_type": "stream",
     "text": [
      " 27%|██▋       | 410/1500 [12:21:03<26:15:15, 86.71s/it] "
     ]
    },
    {
     "name": "stdout",
     "output_type": "stream",
     "text": [
      "Episode 409: Reward: 16.0 | Score: 260.0 | Avg last 10: 10.4\n"
     ]
    },
    {
     "name": "stderr",
     "output_type": "stream",
     "text": [
      " 27%|██▋       | 411/1500 [12:21:19<19:48:32, 65.48s/it]"
     ]
    },
    {
     "name": "stdout",
     "output_type": "stream",
     "text": [
      "Episode 410: Reward: 10.0 | Score: 150.0 | Avg last 10: 10.8\n"
     ]
    },
    {
     "name": "stderr",
     "output_type": "stream",
     "text": [
      " 27%|██▋       | 412/1500 [12:53:04<186:34:39, 617.35s/it]"
     ]
    },
    {
     "name": "stdout",
     "output_type": "stream",
     "text": [
      "Episode 411: Reward: 17.0 | Score: 260.0 | Avg last 10: 11.4\n"
     ]
    },
    {
     "name": "stderr",
     "output_type": "stream",
     "text": [
      " 28%|██▊       | 413/1500 [13:02:51<183:36:28, 608.08s/it]"
     ]
    },
    {
     "name": "stdout",
     "output_type": "stream",
     "text": [
      "Episode 412: Reward: 8.0 | Score: 120.0 | Avg last 10: 11.3\n"
     ]
    },
    {
     "name": "stderr",
     "output_type": "stream",
     "text": [
      " 28%|██▊       | 414/1500 [13:20:31<224:23:36, 743.85s/it]"
     ]
    },
    {
     "name": "stdout",
     "output_type": "stream",
     "text": [
      "Episode 413: Reward: 4.0 | Score: 35.0 | Avg last 10: 11.0\n"
     ]
    },
    {
     "name": "stderr",
     "output_type": "stream",
     "text": [
      " 28%|██▊       | 415/1500 [13:38:14<253:01:22, 839.52s/it]"
     ]
    },
    {
     "name": "stdout",
     "output_type": "stream",
     "text": [
      "Episode 414: Reward: 24.0 | Score: 570.0 | Avg last 10: 12.5\n"
     ]
    },
    {
     "name": "stderr",
     "output_type": "stream",
     "text": [
      " 28%|██▊       | 416/1500 [13:55:16<269:16:14, 894.26s/it]"
     ]
    },
    {
     "name": "stdout",
     "output_type": "stream",
     "text": [
      "Episode 415: Reward: 16.0 | Score: 445.0 | Avg last 10: 13.2\n"
     ]
    },
    {
     "name": "stderr",
     "output_type": "stream",
     "text": [
      " 28%|██▊       | 417/1500 [14:03:59<235:29:50, 782.82s/it]"
     ]
    },
    {
     "name": "stdout",
     "output_type": "stream",
     "text": [
      "Episode 416: Reward: 10.0 | Score: 115.0 | Avg last 10: 13.1\n"
     ]
    },
    {
     "name": "stderr",
     "output_type": "stream",
     "text": [
      " 28%|██▊       | 418/1500 [14:40:05<360:00:51, 1197.83s/it]"
     ]
    },
    {
     "name": "stdout",
     "output_type": "stream",
     "text": [
      "Episode 417: Reward: 13.0 | Score: 215.0 | Avg last 10: 13.6\n"
     ]
    },
    {
     "name": "stderr",
     "output_type": "stream",
     "text": [
      " 28%|██▊       | 419/1500 [14:53:55<326:33:40, 1087.53s/it]"
     ]
    },
    {
     "name": "stdout",
     "output_type": "stream",
     "text": [
      "Episode 418: Reward: 12.0 | Score: 210.0 | Avg last 10: 13.0\n"
     ]
    },
    {
     "name": "stderr",
     "output_type": "stream",
     "text": [
      " 28%|██▊       | 420/1500 [15:04:50<287:20:19, 957.80s/it] "
     ]
    },
    {
     "name": "stdout",
     "output_type": "stream",
     "text": [
      "Episode 419: Reward: 18.0 | Score: 290.0 | Avg last 10: 13.2\n"
     ]
    },
    {
     "name": "stderr",
     "output_type": "stream",
     "text": [
      " 28%|██▊       | 421/1500 [15:20:31<285:34:46, 952.81s/it]"
     ]
    },
    {
     "name": "stdout",
     "output_type": "stream",
     "text": [
      "Episode 420: Reward: 12.0 | Score: 185.0 | Avg last 10: 13.4\n"
     ]
    },
    {
     "name": "stderr",
     "output_type": "stream",
     "text": [
      " 28%|██▊       | 422/1500 [15:52:04<369:45:05, 1234.79s/it]"
     ]
    },
    {
     "name": "stdout",
     "output_type": "stream",
     "text": [
      "Episode 421: Reward: 15.0 | Score: 240.0 | Avg last 10: 13.2\n"
     ]
    },
    {
     "name": "stderr",
     "output_type": "stream",
     "text": [
      " 28%|██▊       | 423/1500 [16:05:58<333:27:54, 1114.65s/it]"
     ]
    },
    {
     "name": "stdout",
     "output_type": "stream",
     "text": [
      "Episode 422: Reward: 9.0 | Score: 135.0 | Avg last 10: 13.3\n"
     ]
    },
    {
     "name": "stderr",
     "output_type": "stream",
     "text": [
      " 28%|██▊       | 424/1500 [16:37:32<403:01:09, 1348.39s/it]"
     ]
    },
    {
     "name": "stdout",
     "output_type": "stream",
     "text": [
      "Episode 423: Reward: 11.0 | Score: 180.0 | Avg last 10: 14.0\n"
     ]
    },
    {
     "name": "stderr",
     "output_type": "stream",
     "text": [
      " 28%|██▊       | 425/1500 [16:56:18<382:42:59, 1281.66s/it]"
     ]
    },
    {
     "name": "stdout",
     "output_type": "stream",
     "text": [
      "Episode 424: Reward: 14.0 | Score: 205.0 | Avg last 10: 13.0\n"
     ]
    },
    {
     "name": "stderr",
     "output_type": "stream",
     "text": [
      " 28%|██▊       | 426/1500 [17:22:10<406:31:58, 1362.68s/it]"
     ]
    },
    {
     "name": "stdout",
     "output_type": "stream",
     "text": [
      "Episode 425: Reward: 16.0 | Score: 275.0 | Avg last 10: 13.0\n"
     ]
    },
    {
     "name": "stderr",
     "output_type": "stream",
     "text": [
      " 28%|██▊       | 427/1500 [17:54:46<459:14:54, 1540.81s/it]"
     ]
    },
    {
     "name": "stdout",
     "output_type": "stream",
     "text": [
      "Episode 426: Reward: 13.0 | Score: 195.0 | Avg last 10: 13.3\n"
     ]
    },
    {
     "name": "stderr",
     "output_type": "stream",
     "text": [
      " 29%|██▊       | 428/1500 [18:07:54<391:29:43, 1314.72s/it]"
     ]
    },
    {
     "name": "stdout",
     "output_type": "stream",
     "text": [
      "Episode 427: Reward: 10.0 | Score: 150.0 | Avg last 10: 13.0\n"
     ]
    },
    {
     "name": "stderr",
     "output_type": "stream",
     "text": [
      " 29%|██▊       | 429/1500 [18:39:23<442:23:20, 1487.02s/it]"
     ]
    },
    {
     "name": "stdout",
     "output_type": "stream",
     "text": [
      "Episode 428: Reward: 16.0 | Score: 440.0 | Avg last 10: 13.4\n"
     ]
    },
    {
     "name": "stderr",
     "output_type": "stream",
     "text": [
      " 29%|██▊       | 430/1500 [18:56:00<398:17:27, 1340.04s/it]"
     ]
    },
    {
     "name": "stdout",
     "output_type": "stream",
     "text": [
      "Episode 429: Reward: 11.0 | Score: 155.0 | Avg last 10: 12.7\n"
     ]
    },
    {
     "name": "stderr",
     "output_type": "stream",
     "text": [
      " 29%|██▊       | 431/1500 [19:08:49<347:04:22, 1168.81s/it]"
     ]
    },
    {
     "name": "stdout",
     "output_type": "stream",
     "text": [
      "Episode 430: Reward: 11.0 | Score: 160.0 | Avg last 10: 12.6\n"
     ]
    },
    {
     "name": "stderr",
     "output_type": "stream",
     "text": [
      " 29%|██▉       | 432/1500 [19:24:17<325:21:49, 1096.73s/it]"
     ]
    },
    {
     "name": "stdout",
     "output_type": "stream",
     "text": [
      "Episode 431: Reward: 21.0 | Score: 345.0 | Avg last 10: 13.2\n"
     ]
    },
    {
     "name": "stderr",
     "output_type": "stream",
     "text": [
      " 29%|██▉       | 433/1500 [19:24:35<229:04:04, 772.86s/it] "
     ]
    },
    {
     "name": "stdout",
     "output_type": "stream",
     "text": [
      "Episode 432: Reward: 8.0 | Score: 110.0 | Avg last 10: 13.1\n"
     ]
    },
    {
     "name": "stderr",
     "output_type": "stream",
     "text": [
      " 29%|██▉       | 434/1500 [19:55:13<323:27:39, 1092.36s/it]"
     ]
    },
    {
     "name": "stdout",
     "output_type": "stream",
     "text": [
      "Episode 433: Reward: 21.0 | Score: 355.0 | Avg last 10: 14.1\n"
     ]
    },
    {
     "name": "stderr",
     "output_type": "stream",
     "text": [
      " 29%|██▉       | 435/1500 [20:09:52<304:18:32, 1028.65s/it]"
     ]
    },
    {
     "name": "stdout",
     "output_type": "stream",
     "text": [
      "Episode 434: Reward: 20.0 | Score: 335.0 | Avg last 10: 14.7\n"
     ]
    },
    {
     "name": "stderr",
     "output_type": "stream",
     "text": [
      " 29%|██▉       | 436/1500 [20:10:06<214:02:40, 724.21s/it] "
     ]
    },
    {
     "name": "stdout",
     "output_type": "stream",
     "text": [
      "Episode 435: Reward: 7.0 | Score: 85.0 | Avg last 10: 13.8\n"
     ]
    },
    {
     "name": "stderr",
     "output_type": "stream",
     "text": [
      " 29%|██▉       | 437/1500 [20:10:17<150:37:31, 510.11s/it]"
     ]
    },
    {
     "name": "stdout",
     "output_type": "stream",
     "text": [
      "Episode 436: Reward: 9.0 | Score: 130.0 | Avg last 10: 13.4\n"
     ]
    },
    {
     "name": "stderr",
     "output_type": "stream",
     "text": [
      " 29%|██▉       | 438/1500 [20:25:31<186:12:27, 631.21s/it]"
     ]
    },
    {
     "name": "stdout",
     "output_type": "stream",
     "text": [
      "Episode 437: Reward: 10.0 | Score: 155.0 | Avg last 10: 13.4\n"
     ]
    },
    {
     "name": "stderr",
     "output_type": "stream",
     "text": [
      " 29%|██▉       | 439/1500 [20:40:57<212:05:32, 719.63s/it]"
     ]
    },
    {
     "name": "stdout",
     "output_type": "stream",
     "text": [
      "Episode 438: Reward: 17.0 | Score: 260.0 | Avg last 10: 13.5\n"
     ]
    },
    {
     "name": "stderr",
     "output_type": "stream",
     "text": [
      " 29%|██▉       | 440/1500 [20:41:12<149:42:04, 508.42s/it]"
     ]
    },
    {
     "name": "stdout",
     "output_type": "stream",
     "text": [
      "Episode 439: Reward: 9.0 | Score: 95.0 | Avg last 10: 13.3\n"
     ]
    },
    {
     "name": "stderr",
     "output_type": "stream",
     "text": [
      " 29%|██▉       | 441/1500 [20:56:35<186:09:57, 632.86s/it]"
     ]
    },
    {
     "name": "stdout",
     "output_type": "stream",
     "text": [
      "Episode 440: Reward: 17.0 | Score: 290.0 | Avg last 10: 13.9\n"
     ]
    },
    {
     "name": "stderr",
     "output_type": "stream",
     "text": [
      " 29%|██▉       | 442/1500 [20:56:55<131:53:32, 448.78s/it]"
     ]
    },
    {
     "name": "stdout",
     "output_type": "stream",
     "text": [
      "Episode 441: Reward: 11.0 | Score: 180.0 | Avg last 10: 12.9\n"
     ]
    },
    {
     "name": "stderr",
     "output_type": "stream",
     "text": [
      " 30%|██▉       | 443/1500 [21:11:00<166:39:17, 567.60s/it]"
     ]
    },
    {
     "name": "stdout",
     "output_type": "stream",
     "text": [
      "Episode 442: Reward: 12.0 | Score: 185.0 | Avg last 10: 13.3\n"
     ]
    },
    {
     "name": "stderr",
     "output_type": "stream",
     "text": [
      " 30%|██▉       | 444/1500 [21:26:31<198:31:10, 676.77s/it]"
     ]
    },
    {
     "name": "stdout",
     "output_type": "stream",
     "text": [
      "Episode 443: Reward: 11.0 | Score: 185.0 | Avg last 10: 12.3\n"
     ]
    },
    {
     "name": "stderr",
     "output_type": "stream",
     "text": [
      " 30%|██▉       | 445/1500 [21:26:49<140:25:52, 479.20s/it]"
     ]
    },
    {
     "name": "stdout",
     "output_type": "stream",
     "text": [
      "Episode 444: Reward: 9.0 | Score: 135.0 | Avg last 10: 11.2\n"
     ]
    },
    {
     "name": "stderr",
     "output_type": "stream",
     "text": [
      " 30%|██▉       | 446/1500 [21:42:17<179:39:39, 613.64s/it]"
     ]
    },
    {
     "name": "stdout",
     "output_type": "stream",
     "text": [
      "Episode 445: Reward: 15.0 | Score: 240.0 | Avg last 10: 12.0\n"
     ]
    },
    {
     "name": "stderr",
     "output_type": "stream",
     "text": [
      " 30%|██▉       | 447/1500 [21:42:26<126:26:04, 432.25s/it]"
     ]
    },
    {
     "name": "stdout",
     "output_type": "stream",
     "text": [
      "Episode 446: Reward: 6.0 | Score: 65.0 | Avg last 10: 11.7\n"
     ]
    },
    {
     "name": "stderr",
     "output_type": "stream",
     "text": [
      " 30%|██▉       | 448/1500 [21:57:50<169:27:29, 579.90s/it]"
     ]
    },
    {
     "name": "stdout",
     "output_type": "stream",
     "text": [
      "Episode 447: Reward: 26.0 | Score: 595.0 | Avg last 10: 13.3\n"
     ]
    },
    {
     "name": "stderr",
     "output_type": "stream",
     "text": [
      " 30%|██▉       | 449/1500 [22:11:09<188:27:35, 645.53s/it]"
     ]
    },
    {
     "name": "stdout",
     "output_type": "stream",
     "text": [
      "Episode 448: Reward: 11.0 | Score: 155.0 | Avg last 10: 12.7\n"
     ]
    },
    {
     "name": "stderr",
     "output_type": "stream",
     "text": [
      " 30%|███       | 450/1500 [22:11:21<132:50:42, 455.47s/it]"
     ]
    },
    {
     "name": "stdout",
     "output_type": "stream",
     "text": [
      "Episode 449: Reward: 12.0 | Score: 185.0 | Avg last 10: 13.0\n"
     ]
    },
    {
     "name": "stderr",
     "output_type": "stream",
     "text": [
      " 30%|███       | 451/1500 [22:11:32<93:51:48, 322.12s/it] "
     ]
    },
    {
     "name": "stdout",
     "output_type": "stream",
     "text": [
      "Episode 450: Reward: 10.0 | Score: 155.0 | Avg last 10: 12.3\n"
     ]
    },
    {
     "name": "stderr",
     "output_type": "stream",
     "text": [
      " 30%|███       | 452/1500 [22:11:46<66:51:03, 229.64s/it]"
     ]
    },
    {
     "name": "stdout",
     "output_type": "stream",
     "text": [
      "Episode 451: Reward: 23.0 | Score: 360.0 | Avg last 10: 13.5\n"
     ]
    },
    {
     "name": "stderr",
     "output_type": "stream",
     "text": [
      " 30%|███       | 453/1500 [22:11:54<47:27:41, 163.19s/it]"
     ]
    },
    {
     "name": "stdout",
     "output_type": "stream",
     "text": [
      "Episode 452: Reward: 9.0 | Score: 105.0 | Avg last 10: 13.2\n"
     ]
    },
    {
     "name": "stderr",
     "output_type": "stream",
     "text": [
      " 30%|███       | 454/1500 [22:12:03<33:58:58, 116.96s/it]"
     ]
    },
    {
     "name": "stdout",
     "output_type": "stream",
     "text": [
      "Episode 453: Reward: 15.0 | Score: 205.0 | Avg last 10: 13.6\n"
     ]
    },
    {
     "name": "stderr",
     "output_type": "stream",
     "text": [
      " 30%|███       | 455/1500 [22:12:13<24:37:32, 84.84s/it] "
     ]
    },
    {
     "name": "stdout",
     "output_type": "stream",
     "text": [
      "Episode 454: Reward: 9.0 | Score: 135.0 | Avg last 10: 13.6\n"
     ]
    },
    {
     "name": "stderr",
     "output_type": "stream",
     "text": [
      " 30%|███       | 456/1500 [22:12:24<18:11:46, 62.75s/it]"
     ]
    },
    {
     "name": "stdout",
     "output_type": "stream",
     "text": [
      "Episode 455: Reward: 13.0 | Score: 180.0 | Avg last 10: 13.4\n"
     ]
    },
    {
     "name": "stderr",
     "output_type": "stream",
     "text": [
      " 30%|███       | 457/1500 [22:12:33<13:33:37, 46.81s/it]"
     ]
    },
    {
     "name": "stdout",
     "output_type": "stream",
     "text": [
      "Episode 456: Reward: 10.0 | Score: 155.0 | Avg last 10: 13.8\n"
     ]
    },
    {
     "name": "stderr",
     "output_type": "stream",
     "text": [
      " 31%|███       | 458/1500 [22:12:43<10:20:16, 35.72s/it]"
     ]
    },
    {
     "name": "stdout",
     "output_type": "stream",
     "text": [
      "Episode 457: Reward: 9.0 | Score: 130.0 | Avg last 10: 12.1\n"
     ]
    },
    {
     "name": "stderr",
     "output_type": "stream",
     "text": [
      " 31%|███       | 459/1500 [22:12:54<8:08:19, 28.15s/it] "
     ]
    },
    {
     "name": "stdout",
     "output_type": "stream",
     "text": [
      "Episode 458: Reward: 15.0 | Score: 240.0 | Avg last 10: 12.5\n"
     ]
    },
    {
     "name": "stderr",
     "output_type": "stream",
     "text": [
      " 31%|███       | 460/1500 [22:13:05<6:40:32, 23.11s/it]"
     ]
    },
    {
     "name": "stdout",
     "output_type": "stream",
     "text": [
      "Episode 459: Reward: 18.0 | Score: 260.0 | Avg last 10: 13.1\n"
     ]
    },
    {
     "name": "stderr",
     "output_type": "stream",
     "text": [
      " 31%|███       | 461/1500 [22:13:31<6:56:27, 24.05s/it]"
     ]
    },
    {
     "name": "stdout",
     "output_type": "stream",
     "text": [
      "Episode 460: Reward: 19.0 | Score: 320.0 | Avg last 10: 14.0\n"
     ]
    },
    {
     "name": "stderr",
     "output_type": "stream",
     "text": [
      " 31%|███       | 462/1500 [22:13:47<6:10:59, 21.45s/it]"
     ]
    },
    {
     "name": "stdout",
     "output_type": "stream",
     "text": [
      "Episode 461: Reward: 16.0 | Score: 440.0 | Avg last 10: 13.3\n"
     ]
    },
    {
     "name": "stderr",
     "output_type": "stream",
     "text": [
      " 31%|███       | 463/1500 [22:14:10<6:21:48, 22.09s/it]"
     ]
    },
    {
     "name": "stdout",
     "output_type": "stream",
     "text": [
      "Episode 462: Reward: 18.0 | Score: 275.0 | Avg last 10: 14.2\n"
     ]
    },
    {
     "name": "stderr",
     "output_type": "stream",
     "text": [
      " 31%|███       | 464/1500 [22:14:19<5:12:56, 18.12s/it]"
     ]
    },
    {
     "name": "stdout",
     "output_type": "stream",
     "text": [
      "Episode 463: Reward: 4.0 | Score: 45.0 | Avg last 10: 13.1\n"
     ]
    },
    {
     "name": "stderr",
     "output_type": "stream",
     "text": [
      " 31%|███       | 465/1500 [22:14:35<5:01:43, 17.49s/it]"
     ]
    },
    {
     "name": "stdout",
     "output_type": "stream",
     "text": [
      "Episode 464: Reward: 18.0 | Score: 265.0 | Avg last 10: 14.0\n"
     ]
    },
    {
     "name": "stderr",
     "output_type": "stream",
     "text": [
      " 31%|███       | 466/1500 [22:14:46<4:24:51, 15.37s/it]"
     ]
    },
    {
     "name": "stdout",
     "output_type": "stream",
     "text": [
      "Episode 465: Reward: 10.0 | Score: 155.0 | Avg last 10: 13.7\n"
     ]
    },
    {
     "name": "stderr",
     "output_type": "stream",
     "text": [
      " 31%|███       | 467/1500 [22:14:55<3:52:19, 13.49s/it]"
     ]
    },
    {
     "name": "stdout",
     "output_type": "stream",
     "text": [
      "Episode 466: Reward: 7.0 | Score: 105.0 | Avg last 10: 13.4\n"
     ]
    },
    {
     "name": "stderr",
     "output_type": "stream",
     "text": [
      " 31%|███       | 468/1500 [22:15:02<3:22:26, 11.77s/it]"
     ]
    },
    {
     "name": "stdout",
     "output_type": "stream",
     "text": [
      "Episode 467: Reward: 7.0 | Score: 105.0 | Avg last 10: 13.2\n"
     ]
    },
    {
     "name": "stderr",
     "output_type": "stream",
     "text": [
      " 31%|███▏      | 469/1500 [22:15:17<3:35:55, 12.57s/it]"
     ]
    },
    {
     "name": "stdout",
     "output_type": "stream",
     "text": [
      "Episode 468: Reward: 17.0 | Score: 285.0 | Avg last 10: 13.4\n"
     ]
    },
    {
     "name": "stderr",
     "output_type": "stream",
     "text": [
      " 31%|███▏      | 470/1500 [22:15:31<3:43:10, 13.00s/it]"
     ]
    },
    {
     "name": "stdout",
     "output_type": "stream",
     "text": [
      "Episode 469: Reward: 16.0 | Score: 255.0 | Avg last 10: 13.2\n"
     ]
    },
    {
     "name": "stderr",
     "output_type": "stream",
     "text": [
      " 31%|███▏      | 471/1500 [22:15:42<3:34:15, 12.49s/it]"
     ]
    },
    {
     "name": "stdout",
     "output_type": "stream",
     "text": [
      "Episode 470: Reward: 11.0 | Score: 180.0 | Avg last 10: 12.4\n"
     ]
    },
    {
     "name": "stderr",
     "output_type": "stream",
     "text": [
      " 31%|███▏      | 472/1500 [22:15:59<3:57:13, 13.85s/it]"
     ]
    },
    {
     "name": "stdout",
     "output_type": "stream",
     "text": [
      "Episode 471: Reward: 14.0 | Score: 210.0 | Avg last 10: 12.2\n"
     ]
    },
    {
     "name": "stderr",
     "output_type": "stream",
     "text": [
      " 32%|███▏      | 473/1500 [22:16:15<4:07:27, 14.46s/it]"
     ]
    },
    {
     "name": "stdout",
     "output_type": "stream",
     "text": [
      "Episode 472: Reward: 17.0 | Score: 255.0 | Avg last 10: 12.1\n"
     ]
    },
    {
     "name": "stderr",
     "output_type": "stream",
     "text": [
      " 32%|███▏      | 474/1500 [22:17:35<9:40:48, 33.97s/it]"
     ]
    },
    {
     "name": "stdout",
     "output_type": "stream",
     "text": [
      "Episode 473: Reward: 12.0 | Score: 155.0 | Avg last 10: 12.9\n"
     ]
    },
    {
     "name": "stderr",
     "output_type": "stream",
     "text": [
      " 32%|███▏      | 475/1500 [22:17:49<8:02:08, 28.22s/it]"
     ]
    },
    {
     "name": "stdout",
     "output_type": "stream",
     "text": [
      "Episode 474: Reward: 13.0 | Score: 185.0 | Avg last 10: 12.4\n"
     ]
    },
    {
     "name": "stderr",
     "output_type": "stream",
     "text": [
      " 32%|███▏      | 476/1500 [22:17:59<6:26:32, 22.65s/it]"
     ]
    },
    {
     "name": "stdout",
     "output_type": "stream",
     "text": [
      "Episode 475: Reward: 11.0 | Score: 180.0 | Avg last 10: 12.5\n"
     ]
    },
    {
     "name": "stderr",
     "output_type": "stream",
     "text": [
      " 32%|███▏      | 477/1500 [22:18:17<6:01:25, 21.20s/it]"
     ]
    },
    {
     "name": "stdout",
     "output_type": "stream",
     "text": [
      "Episode 476: Reward: 26.0 | Score: 560.0 | Avg last 10: 14.4\n"
     ]
    },
    {
     "name": "stderr",
     "output_type": "stream",
     "text": [
      " 32%|███▏      | 478/1500 [22:18:31<5:23:19, 18.98s/it]"
     ]
    },
    {
     "name": "stdout",
     "output_type": "stream",
     "text": [
      "Episode 477: Reward: 15.0 | Score: 230.0 | Avg last 10: 15.2\n"
     ]
    },
    {
     "name": "stderr",
     "output_type": "stream",
     "text": [
      " 32%|███▏      | 479/1500 [22:18:40<4:34:00, 16.10s/it]"
     ]
    },
    {
     "name": "stdout",
     "output_type": "stream",
     "text": [
      "Episode 478: Reward: 12.0 | Score: 130.0 | Avg last 10: 14.7\n"
     ]
    },
    {
     "name": "stderr",
     "output_type": "stream",
     "text": [
      " 32%|███▏      | 480/1500 [22:18:52<4:10:10, 14.72s/it]"
     ]
    },
    {
     "name": "stdout",
     "output_type": "stream",
     "text": [
      "Episode 479: Reward: 11.0 | Score: 180.0 | Avg last 10: 14.2\n"
     ]
    },
    {
     "name": "stderr",
     "output_type": "stream",
     "text": [
      " 32%|███▏      | 481/1500 [22:19:11<4:34:50, 16.18s/it]"
     ]
    },
    {
     "name": "stdout",
     "output_type": "stream",
     "text": [
      "Episode 480: Reward: 31.0 | Score: 500.0 | Avg last 10: 16.2\n"
     ]
    },
    {
     "name": "stderr",
     "output_type": "stream",
     "text": [
      " 32%|███▏      | 482/1500 [22:19:24<4:19:00, 15.27s/it]"
     ]
    },
    {
     "name": "stdout",
     "output_type": "stream",
     "text": [
      "Episode 481: Reward: 18.0 | Score: 260.0 | Avg last 10: 16.6\n"
     ]
    },
    {
     "name": "stderr",
     "output_type": "stream",
     "text": [
      " 32%|███▏      | 483/1500 [22:19:34<3:53:03, 13.75s/it]"
     ]
    },
    {
     "name": "stdout",
     "output_type": "stream",
     "text": [
      "Episode 482: Reward: 10.0 | Score: 130.0 | Avg last 10: 15.9\n"
     ]
    },
    {
     "name": "stderr",
     "output_type": "stream",
     "text": [
      " 32%|███▏      | 484/1500 [22:19:45<3:38:34, 12.91s/it]"
     ]
    },
    {
     "name": "stdout",
     "output_type": "stream",
     "text": [
      "Episode 483: Reward: 14.0 | Score: 205.0 | Avg last 10: 16.1\n"
     ]
    },
    {
     "name": "stderr",
     "output_type": "stream",
     "text": [
      " 32%|███▏      | 485/1500 [22:19:58<3:36:11, 12.78s/it]"
     ]
    },
    {
     "name": "stdout",
     "output_type": "stream",
     "text": [
      "Episode 484: Reward: 15.0 | Score: 215.0 | Avg last 10: 16.3\n"
     ]
    },
    {
     "name": "stderr",
     "output_type": "stream",
     "text": [
      " 32%|███▏      | 486/1500 [22:20:12<3:43:16, 13.21s/it]"
     ]
    },
    {
     "name": "stdout",
     "output_type": "stream",
     "text": [
      "Episode 485: Reward: 19.0 | Score: 325.0 | Avg last 10: 17.1\n"
     ]
    },
    {
     "name": "stderr",
     "output_type": "stream",
     "text": [
      " 32%|███▏      | 487/1500 [22:20:28<3:54:14, 13.87s/it]"
     ]
    },
    {
     "name": "stdout",
     "output_type": "stream",
     "text": [
      "Episode 486: Reward: 16.0 | Score: 245.0 | Avg last 10: 16.1\n"
     ]
    },
    {
     "name": "stderr",
     "output_type": "stream",
     "text": [
      " 33%|███▎      | 488/1500 [22:20:41<3:52:14, 13.77s/it]"
     ]
    },
    {
     "name": "stdout",
     "output_type": "stream",
     "text": [
      "Episode 487: Reward: 16.0 | Score: 260.0 | Avg last 10: 16.2\n"
     ]
    },
    {
     "name": "stderr",
     "output_type": "stream",
     "text": [
      " 33%|███▎      | 489/1500 [22:20:49<3:22:53, 12.04s/it]"
     ]
    },
    {
     "name": "stdout",
     "output_type": "stream",
     "text": [
      "Episode 488: Reward: 9.0 | Score: 150.0 | Avg last 10: 15.9\n"
     ]
    },
    {
     "name": "stderr",
     "output_type": "stream",
     "text": [
      " 33%|███▎      | 490/1500 [22:21:03<3:32:03, 12.60s/it]"
     ]
    },
    {
     "name": "stdout",
     "output_type": "stream",
     "text": [
      "Episode 489: Reward: 20.0 | Score: 330.0 | Avg last 10: 16.8\n"
     ]
    },
    {
     "name": "stderr",
     "output_type": "stream",
     "text": [
      " 33%|███▎      | 491/1500 [22:21:18<3:43:55, 13.32s/it]"
     ]
    },
    {
     "name": "stdout",
     "output_type": "stream",
     "text": [
      "Episode 490: Reward: 19.0 | Score: 280.0 | Avg last 10: 15.6\n"
     ]
    },
    {
     "name": "stderr",
     "output_type": "stream",
     "text": [
      " 33%|███▎      | 492/1500 [22:21:29<3:30:06, 12.51s/it]"
     ]
    },
    {
     "name": "stdout",
     "output_type": "stream",
     "text": [
      "Episode 491: Reward: 12.0 | Score: 150.0 | Avg last 10: 15.0\n"
     ]
    },
    {
     "name": "stderr",
     "output_type": "stream",
     "text": [
      " 33%|███▎      | 493/1500 [22:21:45<3:50:11, 13.72s/it]"
     ]
    },
    {
     "name": "stdout",
     "output_type": "stream",
     "text": [
      "Episode 492: Reward: 22.0 | Score: 330.0 | Avg last 10: 16.2\n"
     ]
    },
    {
     "name": "stderr",
     "output_type": "stream",
     "text": [
      " 33%|███▎      | 494/1500 [22:21:53<3:18:39, 11.85s/it]"
     ]
    },
    {
     "name": "stdout",
     "output_type": "stream",
     "text": [
      "Episode 493: Reward: 9.0 | Score: 130.0 | Avg last 10: 15.7\n"
     ]
    },
    {
     "name": "stderr",
     "output_type": "stream",
     "text": [
      " 33%|███▎      | 495/1500 [22:22:03<3:09:53, 11.34s/it]"
     ]
    },
    {
     "name": "stdout",
     "output_type": "stream",
     "text": [
      "Episode 494: Reward: 12.0 | Score: 155.0 | Avg last 10: 15.4\n"
     ]
    },
    {
     "name": "stderr",
     "output_type": "stream",
     "text": [
      " 33%|███▎      | 496/1500 [22:37:16<78:39:03, 282.02s/it]"
     ]
    },
    {
     "name": "stdout",
     "output_type": "stream",
     "text": [
      "Episode 495: Reward: 13.0 | Score: 180.0 | Avg last 10: 14.8\n"
     ]
    },
    {
     "name": "stderr",
     "output_type": "stream",
     "text": [
      " 33%|███▎      | 497/1500 [22:37:25<55:42:35, 199.96s/it]"
     ]
    },
    {
     "name": "stdout",
     "output_type": "stream",
     "text": [
      "Episode 496: Reward: 6.0 | Score: 65.0 | Avg last 10: 13.8\n"
     ]
    },
    {
     "name": "stderr",
     "output_type": "stream",
     "text": [
      " 33%|███▎      | 498/1500 [22:37:33<39:40:21, 142.54s/it]"
     ]
    },
    {
     "name": "stdout",
     "output_type": "stream",
     "text": [
      "Episode 497: Reward: 13.0 | Score: 190.0 | Avg last 10: 13.5\n"
     ]
    },
    {
     "name": "stderr",
     "output_type": "stream",
     "text": [
      " 33%|███▎      | 499/1500 [22:52:43<103:36:11, 372.60s/it]"
     ]
    },
    {
     "name": "stdout",
     "output_type": "stream",
     "text": [
      "Episode 498: Reward: 8.0 | Score: 105.0 | Avg last 10: 13.4\n"
     ]
    },
    {
     "name": "stderr",
     "output_type": "stream",
     "text": [
      " 33%|███▎      | 500/1500 [22:52:53<73:19:53, 263.99s/it] "
     ]
    },
    {
     "name": "stdout",
     "output_type": "stream",
     "text": [
      "Episode 499: Reward: 8.0 | Score: 100.0 | Avg last 10: 12.2\n",
      "Episode 500: Reward: 12.0 | Score: 210.0 | Avg last 10: 11.5\n"
     ]
    },
    {
     "name": "stderr",
     "output_type": "stream",
     "text": [
      " 33%|███▎      | 501/1500 [22:53:06<52:18:31, 188.50s/it]"
     ]
    },
    {
     "name": "stdout",
     "output_type": "stream",
     "text": [
      "Recompensa media en test: 250.00\n",
      "Evaluación @ 500 ep -> reward media: 250.0\n"
     ]
    },
    {
     "name": "stderr",
     "output_type": "stream",
     "text": [
      " 33%|███▎      | 502/1500 [23:08:18<112:27:33, 405.67s/it]"
     ]
    },
    {
     "name": "stdout",
     "output_type": "stream",
     "text": [
      "Episode 501: Reward: 11.0 | Score: 180.0 | Avg last 10: 11.4\n"
     ]
    },
    {
     "name": "stderr",
     "output_type": "stream",
     "text": [
      " 34%|███▎      | 503/1500 [23:08:28<79:25:46, 286.81s/it] "
     ]
    },
    {
     "name": "stdout",
     "output_type": "stream",
     "text": [
      "Episode 502: Reward: 7.0 | Score: 110.0 | Avg last 10: 9.9\n"
     ]
    },
    {
     "name": "stderr",
     "output_type": "stream",
     "text": [
      " 34%|███▎      | 504/1500 [23:23:42<131:25:29, 475.03s/it]"
     ]
    },
    {
     "name": "stdout",
     "output_type": "stream",
     "text": [
      "Episode 503: Reward: 14.0 | Score: 205.0 | Avg last 10: 10.4\n"
     ]
    },
    {
     "name": "stderr",
     "output_type": "stream",
     "text": [
      " 34%|███▎      | 505/1500 [23:23:51<92:38:32, 335.19s/it] "
     ]
    },
    {
     "name": "stdout",
     "output_type": "stream",
     "text": [
      "Episode 504: Reward: 7.0 | Score: 90.0 | Avg last 10: 9.9\n"
     ]
    },
    {
     "name": "stderr",
     "output_type": "stream",
     "text": [
      " 34%|███▎      | 506/1500 [23:23:59<65:29:43, 237.21s/it]"
     ]
    },
    {
     "name": "stdout",
     "output_type": "stream",
     "text": [
      "Episode 505: Reward: 10.0 | Score: 140.0 | Avg last 10: 9.6\n"
     ]
    },
    {
     "name": "stderr",
     "output_type": "stream",
     "text": [
      " 34%|███▍      | 507/1500 [23:25:16<52:06:38, 188.92s/it]"
     ]
    },
    {
     "name": "stdout",
     "output_type": "stream",
     "text": [
      "Episode 506: Reward: 25.0 | Score: 415.0 | Avg last 10: 11.5\n"
     ]
    },
    {
     "name": "stderr",
     "output_type": "stream",
     "text": [
      " 34%|███▍      | 508/1500 [23:25:32<37:48:18, 137.20s/it]"
     ]
    },
    {
     "name": "stdout",
     "output_type": "stream",
     "text": [
      "Episode 507: Reward: 29.0 | Score: 445.0 | Avg last 10: 13.1\n"
     ]
    },
    {
     "name": "stderr",
     "output_type": "stream",
     "text": [
      " 34%|███▍      | 509/1500 [23:25:40<27:07:58, 98.57s/it] "
     ]
    },
    {
     "name": "stdout",
     "output_type": "stream",
     "text": [
      "Episode 508: Reward: 12.0 | Score: 170.0 | Avg last 10: 13.5\n"
     ]
    },
    {
     "name": "stderr",
     "output_type": "stream",
     "text": [
      " 34%|███▍      | 510/1500 [23:25:48<19:36:55, 71.33s/it]"
     ]
    },
    {
     "name": "stdout",
     "output_type": "stream",
     "text": [
      "Episode 509: Reward: 9.0 | Score: 135.0 | Avg last 10: 13.6\n"
     ]
    },
    {
     "name": "stderr",
     "output_type": "stream",
     "text": [
      " 34%|███▍      | 511/1500 [23:25:57<14:25:04, 52.48s/it]"
     ]
    },
    {
     "name": "stdout",
     "output_type": "stream",
     "text": [
      "Episode 510: Reward: 10.0 | Score: 140.0 | Avg last 10: 13.4\n"
     ]
    },
    {
     "name": "stderr",
     "output_type": "stream",
     "text": [
      " 34%|███▍      | 512/1500 [23:26:05<10:48:03, 39.36s/it]"
     ]
    },
    {
     "name": "stdout",
     "output_type": "stream",
     "text": [
      "Episode 511: Reward: 7.0 | Score: 110.0 | Avg last 10: 13.0\n"
     ]
    },
    {
     "name": "stderr",
     "output_type": "stream",
     "text": [
      " 34%|███▍      | 513/1500 [23:26:19<8:40:52, 31.66s/it] "
     ]
    },
    {
     "name": "stdout",
     "output_type": "stream",
     "text": [
      "Episode 512: Reward: 21.0 | Score: 355.0 | Avg last 10: 14.4\n"
     ]
    },
    {
     "name": "stderr",
     "output_type": "stream",
     "text": [
      " 34%|███▍      | 514/1500 [23:26:32<7:08:59, 26.10s/it]"
     ]
    },
    {
     "name": "stdout",
     "output_type": "stream",
     "text": [
      "Episode 513: Reward: 18.0 | Score: 315.0 | Avg last 10: 14.8\n"
     ]
    },
    {
     "name": "stderr",
     "output_type": "stream",
     "text": [
      " 34%|███▍      | 515/1500 [23:26:41<5:43:51, 20.95s/it]"
     ]
    },
    {
     "name": "stdout",
     "output_type": "stream",
     "text": [
      "Episode 514: Reward: 9.0 | Score: 155.0 | Avg last 10: 15.0\n"
     ]
    },
    {
     "name": "stderr",
     "output_type": "stream",
     "text": [
      " 34%|███▍      | 516/1500 [23:26:56<5:10:56, 18.96s/it]"
     ]
    },
    {
     "name": "stdout",
     "output_type": "stream",
     "text": [
      "Episode 515: Reward: 18.0 | Score: 290.0 | Avg last 10: 15.8\n"
     ]
    },
    {
     "name": "stderr",
     "output_type": "stream",
     "text": [
      " 34%|███▍      | 517/1500 [23:27:04<4:18:34, 15.78s/it]"
     ]
    },
    {
     "name": "stdout",
     "output_type": "stream",
     "text": [
      "Episode 516: Reward: 12.0 | Score: 185.0 | Avg last 10: 14.5\n"
     ]
    },
    {
     "name": "stderr",
     "output_type": "stream",
     "text": [
      " 35%|███▍      | 518/1500 [23:27:10<3:29:55, 12.83s/it]"
     ]
    },
    {
     "name": "stdout",
     "output_type": "stream",
     "text": [
      "Episode 517: Reward: 9.0 | Score: 125.0 | Avg last 10: 12.5\n"
     ]
    },
    {
     "name": "stderr",
     "output_type": "stream",
     "text": [
      " 35%|███▍      | 519/1500 [23:27:26<3:43:53, 13.69s/it]"
     ]
    },
    {
     "name": "stdout",
     "output_type": "stream",
     "text": [
      "Episode 518: Reward: 16.0 | Score: 235.0 | Avg last 10: 12.9\n"
     ]
    },
    {
     "name": "stderr",
     "output_type": "stream",
     "text": [
      " 35%|███▍      | 520/1500 [23:27:31<3:02:43, 11.19s/it]"
     ]
    },
    {
     "name": "stdout",
     "output_type": "stream",
     "text": [
      "Episode 519: Reward: 7.0 | Score: 110.0 | Avg last 10: 12.7\n"
     ]
    },
    {
     "name": "stderr",
     "output_type": "stream",
     "text": [
      " 35%|███▍      | 521/1500 [23:38:09<54:08:55, 199.12s/it]"
     ]
    },
    {
     "name": "stdout",
     "output_type": "stream",
     "text": [
      "Episode 520: Reward: 13.0 | Score: 210.0 | Avg last 10: 13.0\n"
     ]
    },
    {
     "name": "stderr",
     "output_type": "stream",
     "text": [
      " 35%|███▍      | 522/1500 [23:38:19<38:43:30, 142.55s/it]"
     ]
    },
    {
     "name": "stdout",
     "output_type": "stream",
     "text": [
      "Episode 521: Reward: 10.0 | Score: 130.0 | Avg last 10: 13.3\n"
     ]
    },
    {
     "name": "stderr",
     "output_type": "stream",
     "text": [
      " 35%|███▍      | 523/1500 [23:38:28<27:47:17, 102.39s/it]"
     ]
    },
    {
     "name": "stdout",
     "output_type": "stream",
     "text": [
      "Episode 522: Reward: 13.0 | Score: 215.0 | Avg last 10: 12.5\n"
     ]
    },
    {
     "name": "stderr",
     "output_type": "stream",
     "text": [
      " 35%|███▍      | 524/1500 [23:38:37<20:08:35, 74.30s/it] "
     ]
    },
    {
     "name": "stdout",
     "output_type": "stream",
     "text": [
      "Episode 523: Reward: 11.0 | Score: 180.0 | Avg last 10: 11.8\n"
     ]
    },
    {
     "name": "stderr",
     "output_type": "stream",
     "text": [
      " 35%|███▌      | 525/1500 [23:38:45<14:45:35, 54.50s/it]"
     ]
    },
    {
     "name": "stdout",
     "output_type": "stream",
     "text": [
      "Episode 524: Reward: 12.0 | Score: 210.0 | Avg last 10: 12.1\n"
     ]
    },
    {
     "name": "stderr",
     "output_type": "stream",
     "text": [
      " 35%|███▌      | 526/1500 [23:38:59<11:28:30, 42.41s/it]"
     ]
    },
    {
     "name": "stdout",
     "output_type": "stream",
     "text": [
      "Episode 525: Reward: 17.0 | Score: 260.0 | Avg last 10: 12.0\n"
     ]
    },
    {
     "name": "stderr",
     "output_type": "stream",
     "text": [
      " 35%|███▌      | 527/1500 [23:39:12<9:05:05, 33.61s/it] "
     ]
    },
    {
     "name": "stdout",
     "output_type": "stream",
     "text": [
      "Episode 526: Reward: 15.0 | Score: 240.0 | Avg last 10: 12.3\n"
     ]
    },
    {
     "name": "stderr",
     "output_type": "stream",
     "text": [
      " 35%|███▌      | 528/1500 [23:39:24<7:18:29, 27.07s/it]"
     ]
    },
    {
     "name": "stdout",
     "output_type": "stream",
     "text": [
      "Episode 527: Reward: 17.0 | Score: 285.0 | Avg last 10: 13.1\n"
     ]
    },
    {
     "name": "stderr",
     "output_type": "stream",
     "text": [
      " 35%|███▌      | 529/1500 [23:39:32<5:47:14, 21.46s/it]"
     ]
    },
    {
     "name": "stdout",
     "output_type": "stream",
     "text": [
      "Episode 528: Reward: 10.0 | Score: 125.0 | Avg last 10: 12.5\n"
     ]
    },
    {
     "name": "stderr",
     "output_type": "stream",
     "text": [
      " 35%|███▌      | 530/1500 [23:39:41<4:43:46, 17.55s/it]"
     ]
    },
    {
     "name": "stdout",
     "output_type": "stream",
     "text": [
      "Episode 529: Reward: 10.0 | Score: 160.0 | Avg last 10: 12.8\n"
     ]
    },
    {
     "name": "stderr",
     "output_type": "stream",
     "text": [
      " 35%|███▌      | 531/1500 [23:39:55<4:26:53, 16.53s/it]"
     ]
    },
    {
     "name": "stdout",
     "output_type": "stream",
     "text": [
      "Episode 530: Reward: 21.0 | Score: 345.0 | Avg last 10: 13.6\n"
     ]
    },
    {
     "name": "stderr",
     "output_type": "stream",
     "text": [
      " 35%|███▌      | 532/1500 [23:40:07<4:06:10, 15.26s/it]"
     ]
    },
    {
     "name": "stdout",
     "output_type": "stream",
     "text": [
      "Episode 531: Reward: 21.0 | Score: 335.0 | Avg last 10: 14.7\n"
     ]
    },
    {
     "name": "stderr",
     "output_type": "stream",
     "text": [
      " 36%|███▌      | 533/1500 [23:40:13<3:21:26, 12.50s/it]"
     ]
    },
    {
     "name": "stdout",
     "output_type": "stream",
     "text": [
      "Episode 532: Reward: 8.0 | Score: 105.0 | Avg last 10: 14.2\n"
     ]
    },
    {
     "name": "stderr",
     "output_type": "stream",
     "text": [
      " 36%|███▌      | 534/1500 [23:40:28<3:31:10, 13.12s/it]"
     ]
    },
    {
     "name": "stdout",
     "output_type": "stream",
     "text": [
      "Episode 533: Reward: 18.0 | Score: 315.0 | Avg last 10: 14.9\n"
     ]
    },
    {
     "name": "stderr",
     "output_type": "stream",
     "text": [
      " 36%|███▌      | 535/1500 [23:55:47<76:20:30, 284.80s/it]"
     ]
    },
    {
     "name": "stdout",
     "output_type": "stream",
     "text": [
      "Episode 534: Reward: 17.0 | Score: 400.0 | Avg last 10: 15.4\n"
     ]
    },
    {
     "name": "stderr",
     "output_type": "stream",
     "text": [
      " 36%|███▌      | 536/1500 [24:10:58<126:36:53, 472.84s/it]"
     ]
    },
    {
     "name": "stdout",
     "output_type": "stream",
     "text": [
      "Episode 535: Reward: 12.0 | Score: 165.0 | Avg last 10: 14.9\n"
     ]
    },
    {
     "name": "stderr",
     "output_type": "stream",
     "text": [
      " 36%|███▌      | 537/1500 [24:11:10<89:28:53, 334.51s/it] "
     ]
    },
    {
     "name": "stdout",
     "output_type": "stream",
     "text": [
      "Episode 536: Reward: 18.0 | Score: 445.0 | Avg last 10: 15.2\n"
     ]
    },
    {
     "name": "stderr",
     "output_type": "stream",
     "text": [
      " 36%|███▌      | 538/1500 [24:26:29<136:15:38, 509.91s/it]"
     ]
    },
    {
     "name": "stdout",
     "output_type": "stream",
     "text": [
      "Episode 537: Reward: 20.0 | Score: 695.0 | Avg last 10: 15.5\n"
     ]
    },
    {
     "name": "stderr",
     "output_type": "stream",
     "text": [
      " 36%|███▌      | 539/1500 [24:26:35<95:46:00, 358.75s/it] "
     ]
    },
    {
     "name": "stdout",
     "output_type": "stream",
     "text": [
      "Episode 538: Reward: 9.0 | Score: 135.0 | Avg last 10: 15.4\n"
     ]
    },
    {
     "name": "stderr",
     "output_type": "stream",
     "text": [
      " 36%|███▌      | 540/1500 [24:26:45<67:43:40, 253.98s/it]"
     ]
    },
    {
     "name": "stdout",
     "output_type": "stream",
     "text": [
      "Episode 539: Reward: 13.0 | Score: 185.0 | Avg last 10: 15.7\n"
     ]
    },
    {
     "name": "stderr",
     "output_type": "stream",
     "text": [
      " 36%|███▌      | 541/1500 [24:41:55<120:04:39, 450.76s/it]"
     ]
    },
    {
     "name": "stdout",
     "output_type": "stream",
     "text": [
      "Episode 540: Reward: 8.0 | Score: 105.0 | Avg last 10: 14.4\n"
     ]
    },
    {
     "name": "stderr",
     "output_type": "stream",
     "text": [
      " 36%|███▌      | 542/1500 [24:42:08<85:02:24, 319.57s/it] "
     ]
    },
    {
     "name": "stdout",
     "output_type": "stream",
     "text": [
      "Episode 541: Reward: 26.0 | Score: 570.0 | Avg last 10: 14.9\n"
     ]
    },
    {
     "name": "stderr",
     "output_type": "stream",
     "text": [
      " 36%|███▌      | 543/1500 [24:43:57<68:10:57, 256.49s/it]"
     ]
    },
    {
     "name": "stdout",
     "output_type": "stream",
     "text": [
      "Episode 542: Reward: 15.0 | Score: 240.0 | Avg last 10: 15.6\n"
     ]
    },
    {
     "name": "stderr",
     "output_type": "stream",
     "text": [
      " 36%|███▋      | 544/1500 [24:44:18<49:18:15, 185.66s/it]"
     ]
    },
    {
     "name": "stdout",
     "output_type": "stream",
     "text": [
      "Episode 543: Reward: 25.0 | Score: 775.0 | Avg last 10: 16.3\n"
     ]
    },
    {
     "name": "stderr",
     "output_type": "stream",
     "text": [
      " 36%|███▋      | 545/1500 [24:44:27<35:12:44, 132.74s/it]"
     ]
    },
    {
     "name": "stdout",
     "output_type": "stream",
     "text": [
      "Episode 544: Reward: 14.0 | Score: 210.0 | Avg last 10: 16.0\n"
     ]
    },
    {
     "name": "stderr",
     "output_type": "stream",
     "text": [
      " 36%|███▋      | 546/1500 [24:44:37<25:27:39, 96.08s/it] "
     ]
    },
    {
     "name": "stdout",
     "output_type": "stream",
     "text": [
      "Episode 545: Reward: 16.0 | Score: 215.0 | Avg last 10: 16.4\n"
     ]
    },
    {
     "name": "stderr",
     "output_type": "stream",
     "text": [
      " 36%|███▋      | 547/1500 [24:44:44<18:19:49, 69.24s/it]"
     ]
    },
    {
     "name": "stdout",
     "output_type": "stream",
     "text": [
      "Episode 546: Reward: 8.0 | Score: 140.0 | Avg last 10: 15.4\n"
     ]
    },
    {
     "name": "stderr",
     "output_type": "stream",
     "text": [
      " 37%|███▋      | 548/1500 [24:44:52<13:26:52, 50.85s/it]"
     ]
    },
    {
     "name": "stdout",
     "output_type": "stream",
     "text": [
      "Episode 547: Reward: 10.0 | Score: 155.0 | Avg last 10: 14.4\n"
     ]
    },
    {
     "name": "stderr",
     "output_type": "stream",
     "text": [
      " 37%|███▋      | 549/1500 [24:45:04<10:19:42, 39.10s/it]"
     ]
    },
    {
     "name": "stdout",
     "output_type": "stream",
     "text": [
      "Episode 548: Reward: 14.0 | Score: 220.0 | Avg last 10: 14.9\n"
     ]
    },
    {
     "name": "stderr",
     "output_type": "stream",
     "text": [
      " 37%|███▋      | 550/1500 [24:45:14<8:03:40, 30.55s/it] "
     ]
    },
    {
     "name": "stdout",
     "output_type": "stream",
     "text": [
      "Episode 549: Reward: 13.0 | Score: 170.0 | Avg last 10: 14.9\n"
     ]
    },
    {
     "name": "stderr",
     "output_type": "stream",
     "text": [
      " 37%|███▋      | 551/1500 [24:45:30<6:55:00, 26.24s/it]"
     ]
    },
    {
     "name": "stdout",
     "output_type": "stream",
     "text": [
      "Episode 550: Reward: 23.0 | Score: 355.0 | Avg last 10: 16.4\n"
     ]
    },
    {
     "name": "stderr",
     "output_type": "stream",
     "text": [
      " 37%|███▋      | 552/1500 [24:45:42<5:42:50, 21.70s/it]"
     ]
    },
    {
     "name": "stdout",
     "output_type": "stream",
     "text": [
      "Episode 551: Reward: 16.0 | Score: 270.0 | Avg last 10: 15.4\n"
     ]
    },
    {
     "name": "stderr",
     "output_type": "stream",
     "text": [
      " 37%|███▋      | 553/1500 [24:45:52<4:50:44, 18.42s/it]"
     ]
    },
    {
     "name": "stdout",
     "output_type": "stream",
     "text": [
      "Episode 552: Reward: 12.0 | Score: 170.0 | Avg last 10: 15.1\n"
     ]
    },
    {
     "name": "stderr",
     "output_type": "stream",
     "text": [
      " 37%|███▋      | 554/1500 [24:46:06<4:26:21, 16.89s/it]"
     ]
    },
    {
     "name": "stdout",
     "output_type": "stream",
     "text": [
      "Episode 553: Reward: 13.0 | Score: 195.0 | Avg last 10: 13.9\n"
     ]
    },
    {
     "name": "stderr",
     "output_type": "stream",
     "text": [
      " 37%|███▋      | 555/1500 [24:46:17<3:58:37, 15.15s/it]"
     ]
    },
    {
     "name": "stdout",
     "output_type": "stream",
     "text": [
      "Episode 554: Reward: 15.0 | Score: 240.0 | Avg last 10: 14.0\n"
     ]
    },
    {
     "name": "stderr",
     "output_type": "stream",
     "text": [
      " 37%|███▋      | 556/1500 [24:51:45<28:33:48, 108.93s/it]"
     ]
    },
    {
     "name": "stdout",
     "output_type": "stream",
     "text": [
      "Episode 555: Reward: 26.0 | Score: 415.0 | Avg last 10: 15.0\n"
     ]
    },
    {
     "name": "stderr",
     "output_type": "stream",
     "text": [
      " 37%|███▋      | 557/1500 [24:51:56<20:54:04, 79.79s/it] "
     ]
    },
    {
     "name": "stdout",
     "output_type": "stream",
     "text": [
      "Episode 556: Reward: 20.0 | Score: 325.0 | Avg last 10: 16.2\n"
     ]
    },
    {
     "name": "stderr",
     "output_type": "stream",
     "text": [
      " 37%|███▋      | 558/1500 [25:00:13<53:37:08, 204.91s/it]"
     ]
    },
    {
     "name": "stdout",
     "output_type": "stream",
     "text": [
      "Episode 557: Reward: 30.0 | Score: 665.0 | Avg last 10: 18.2\n"
     ]
    },
    {
     "name": "stderr",
     "output_type": "stream",
     "text": [
      " 37%|███▋      | 559/1500 [25:00:25<38:27:01, 147.10s/it]"
     ]
    },
    {
     "name": "stdout",
     "output_type": "stream",
     "text": [
      "Episode 558: Reward: 16.0 | Score: 235.0 | Avg last 10: 18.4\n"
     ]
    },
    {
     "name": "stderr",
     "output_type": "stream",
     "text": [
      " 37%|███▋      | 560/1500 [25:00:39<27:56:16, 107.00s/it]"
     ]
    },
    {
     "name": "stdout",
     "output_type": "stream",
     "text": [
      "Episode 559: Reward: 14.0 | Score: 390.0 | Avg last 10: 18.5\n"
     ]
    },
    {
     "name": "stderr",
     "output_type": "stream",
     "text": [
      " 37%|███▋      | 561/1500 [25:00:51<20:27:29, 78.43s/it] "
     ]
    },
    {
     "name": "stdout",
     "output_type": "stream",
     "text": [
      "Episode 560: Reward: 17.0 | Score: 315.0 | Avg last 10: 17.9\n"
     ]
    },
    {
     "name": "stderr",
     "output_type": "stream",
     "text": [
      " 37%|███▋      | 562/1500 [25:01:08<15:40:23, 60.15s/it]"
     ]
    },
    {
     "name": "stdout",
     "output_type": "stream",
     "text": [
      "Episode 561: Reward: 15.0 | Score: 230.0 | Avg last 10: 17.8\n"
     ]
    },
    {
     "name": "stderr",
     "output_type": "stream",
     "text": [
      " 38%|███▊      | 563/1500 [25:01:18<11:43:10, 45.03s/it]"
     ]
    },
    {
     "name": "stdout",
     "output_type": "stream",
     "text": [
      "Episode 562: Reward: 11.0 | Score: 180.0 | Avg last 10: 17.7\n"
     ]
    },
    {
     "name": "stderr",
     "output_type": "stream",
     "text": [
      " 38%|███▊      | 564/1500 [25:01:33<9:20:25, 35.92s/it] "
     ]
    },
    {
     "name": "stdout",
     "output_type": "stream",
     "text": [
      "Episode 563: Reward: 20.0 | Score: 460.0 | Avg last 10: 18.4\n"
     ]
    },
    {
     "name": "stderr",
     "output_type": "stream",
     "text": [
      " 38%|███▊      | 565/1500 [25:01:44<7:23:18, 28.45s/it]"
     ]
    },
    {
     "name": "stdout",
     "output_type": "stream",
     "text": [
      "Episode 564: Reward: 10.0 | Score: 155.0 | Avg last 10: 17.9\n"
     ]
    },
    {
     "name": "stderr",
     "output_type": "stream",
     "text": [
      " 38%|███▊      | 566/1500 [25:01:50<5:38:43, 21.76s/it]"
     ]
    },
    {
     "name": "stdout",
     "output_type": "stream",
     "text": [
      "Episode 565: Reward: 9.0 | Score: 125.0 | Avg last 10: 16.2\n"
     ]
    },
    {
     "name": "stderr",
     "output_type": "stream",
     "text": [
      " 38%|███▊      | 567/1500 [25:02:07<5:18:56, 20.51s/it]"
     ]
    },
    {
     "name": "stdout",
     "output_type": "stream",
     "text": [
      "Episode 566: Reward: 17.0 | Score: 255.0 | Avg last 10: 15.9\n"
     ]
    },
    {
     "name": "stderr",
     "output_type": "stream",
     "text": [
      " 38%|███▊      | 568/1500 [25:02:19<4:38:06, 17.90s/it]"
     ]
    },
    {
     "name": "stdout",
     "output_type": "stream",
     "text": [
      "Episode 567: Reward: 14.0 | Score: 215.0 | Avg last 10: 14.3\n"
     ]
    },
    {
     "name": "stderr",
     "output_type": "stream",
     "text": [
      " 38%|███▊      | 569/1500 [25:02:30<4:06:08, 15.86s/it]"
     ]
    },
    {
     "name": "stdout",
     "output_type": "stream",
     "text": [
      "Episode 568: Reward: 16.0 | Score: 260.0 | Avg last 10: 14.3\n"
     ]
    },
    {
     "name": "stderr",
     "output_type": "stream",
     "text": [
      " 38%|███▊      | 570/1500 [25:02:46<4:05:52, 15.86s/it]"
     ]
    },
    {
     "name": "stdout",
     "output_type": "stream",
     "text": [
      "Episode 569: Reward: 20.0 | Score: 285.0 | Avg last 10: 14.9\n"
     ]
    },
    {
     "name": "stderr",
     "output_type": "stream",
     "text": [
      " 38%|███▊      | 571/1500 [25:02:59<3:51:24, 14.95s/it]"
     ]
    },
    {
     "name": "stdout",
     "output_type": "stream",
     "text": [
      "Episode 570: Reward: 21.0 | Score: 335.0 | Avg last 10: 15.3\n"
     ]
    },
    {
     "name": "stderr",
     "output_type": "stream",
     "text": [
      " 38%|███▊      | 572/1500 [25:03:08<3:26:28, 13.35s/it]"
     ]
    },
    {
     "name": "stdout",
     "output_type": "stream",
     "text": [
      "Episode 571: Reward: 15.0 | Score: 240.0 | Avg last 10: 15.3\n"
     ]
    },
    {
     "name": "stderr",
     "output_type": "stream",
     "text": [
      " 38%|███▊      | 573/1500 [25:06:32<18:07:37, 70.40s/it]"
     ]
    },
    {
     "name": "stdout",
     "output_type": "stream",
     "text": [
      "Episode 572: Reward: 18.0 | Score: 315.0 | Avg last 10: 16.0\n"
     ]
    },
    {
     "name": "stderr",
     "output_type": "stream",
     "text": [
      " 38%|███▊      | 574/1500 [25:06:45<13:42:46, 53.31s/it]"
     ]
    },
    {
     "name": "stdout",
     "output_type": "stream",
     "text": [
      "Episode 573: Reward: 13.0 | Score: 185.0 | Avg last 10: 15.3\n"
     ]
    },
    {
     "name": "stderr",
     "output_type": "stream",
     "text": [
      " 38%|███▊      | 575/1500 [25:07:01<10:48:44, 42.08s/it]"
     ]
    },
    {
     "name": "stdout",
     "output_type": "stream",
     "text": [
      "Episode 574: Reward: 15.0 | Score: 215.0 | Avg last 10: 15.8\n"
     ]
    },
    {
     "name": "stderr",
     "output_type": "stream",
     "text": [
      " 38%|███▊      | 576/1500 [25:07:14<8:30:42, 33.16s/it] "
     ]
    },
    {
     "name": "stdout",
     "output_type": "stream",
     "text": [
      "Episode 575: Reward: 15.0 | Score: 210.0 | Avg last 10: 16.4\n"
     ]
    },
    {
     "name": "stderr",
     "output_type": "stream",
     "text": [
      " 38%|███▊      | 577/1500 [25:07:23<6:40:35, 26.04s/it]"
     ]
    },
    {
     "name": "stdout",
     "output_type": "stream",
     "text": [
      "Episode 576: Reward: 10.0 | Score: 140.0 | Avg last 10: 15.7\n"
     ]
    },
    {
     "name": "stderr",
     "output_type": "stream",
     "text": [
      " 39%|███▊      | 578/1500 [25:07:35<5:33:40, 21.71s/it]"
     ]
    },
    {
     "name": "stdout",
     "output_type": "stream",
     "text": [
      "Episode 577: Reward: 12.0 | Score: 190.0 | Avg last 10: 15.5\n"
     ]
    },
    {
     "name": "stderr",
     "output_type": "stream",
     "text": [
      " 39%|███▊      | 579/1500 [25:07:43<4:32:21, 17.74s/it]"
     ]
    },
    {
     "name": "stdout",
     "output_type": "stream",
     "text": [
      "Episode 578: Reward: 9.0 | Score: 125.0 | Avg last 10: 14.8\n"
     ]
    },
    {
     "name": "stderr",
     "output_type": "stream",
     "text": [
      " 39%|███▊      | 580/1500 [25:07:58<4:17:42, 16.81s/it]"
     ]
    },
    {
     "name": "stdout",
     "output_type": "stream",
     "text": [
      "Episode 579: Reward: 23.0 | Score: 355.0 | Avg last 10: 15.1\n"
     ]
    },
    {
     "name": "stderr",
     "output_type": "stream",
     "text": [
      " 39%|███▊      | 581/1500 [25:08:10<3:57:13, 15.49s/it]"
     ]
    },
    {
     "name": "stdout",
     "output_type": "stream",
     "text": [
      "Episode 580: Reward: 18.0 | Score: 255.0 | Avg last 10: 14.8\n"
     ]
    },
    {
     "name": "stderr",
     "output_type": "stream",
     "text": [
      " 39%|███▉      | 582/1500 [25:08:23<3:44:26, 14.67s/it]"
     ]
    },
    {
     "name": "stdout",
     "output_type": "stream",
     "text": [
      "Episode 581: Reward: 24.0 | Score: 375.0 | Avg last 10: 15.7\n"
     ]
    },
    {
     "name": "stderr",
     "output_type": "stream",
     "text": [
      " 39%|███▉      | 583/1500 [25:08:29<3:02:41, 11.95s/it]"
     ]
    },
    {
     "name": "stdout",
     "output_type": "stream",
     "text": [
      "Episode 582: Reward: 5.0 | Score: 55.0 | Avg last 10: 14.4\n"
     ]
    },
    {
     "name": "stderr",
     "output_type": "stream",
     "text": [
      " 39%|███▉      | 584/1500 [25:08:42<3:07:24, 12.28s/it]"
     ]
    },
    {
     "name": "stdout",
     "output_type": "stream",
     "text": [
      "Episode 583: Reward: 21.0 | Score: 335.0 | Avg last 10: 15.2\n"
     ]
    },
    {
     "name": "stderr",
     "output_type": "stream",
     "text": [
      " 39%|███▉      | 585/1500 [25:08:52<2:57:33, 11.64s/it]"
     ]
    },
    {
     "name": "stdout",
     "output_type": "stream",
     "text": [
      "Episode 584: Reward: 10.0 | Score: 125.0 | Avg last 10: 14.7\n"
     ]
    },
    {
     "name": "stderr",
     "output_type": "stream",
     "text": [
      " 39%|███▉      | 586/1500 [25:09:06<3:08:00, 12.34s/it]"
     ]
    },
    {
     "name": "stdout",
     "output_type": "stream",
     "text": [
      "Episode 585: Reward: 19.0 | Score: 320.0 | Avg last 10: 15.1\n"
     ]
    },
    {
     "name": "stderr",
     "output_type": "stream",
     "text": [
      " 39%|███▉      | 587/1500 [25:09:19<3:12:04, 12.62s/it]"
     ]
    },
    {
     "name": "stdout",
     "output_type": "stream",
     "text": [
      "Episode 586: Reward: 18.0 | Score: 280.0 | Avg last 10: 15.9\n"
     ]
    },
    {
     "name": "stderr",
     "output_type": "stream",
     "text": [
      " 39%|███▉      | 588/1500 [25:09:30<3:02:32, 12.01s/it]"
     ]
    },
    {
     "name": "stdout",
     "output_type": "stream",
     "text": [
      "Episode 587: Reward: 15.0 | Score: 175.0 | Avg last 10: 16.2\n"
     ]
    },
    {
     "name": "stderr",
     "output_type": "stream",
     "text": [
      " 39%|███▉      | 589/1500 [25:09:44<3:11:23, 12.61s/it]"
     ]
    },
    {
     "name": "stdout",
     "output_type": "stream",
     "text": [
      "Episode 588: Reward: 19.0 | Score: 435.0 | Avg last 10: 17.2\n"
     ]
    },
    {
     "name": "stderr",
     "output_type": "stream",
     "text": [
      " 39%|███▉      | 590/1500 [25:09:52<2:51:07, 11.28s/it]"
     ]
    },
    {
     "name": "stdout",
     "output_type": "stream",
     "text": [
      "Episode 589: Reward: 12.0 | Score: 185.0 | Avg last 10: 16.1\n"
     ]
    },
    {
     "name": "stderr",
     "output_type": "stream",
     "text": [
      " 39%|███▉      | 591/1500 [25:10:02<2:44:15, 10.84s/it]"
     ]
    },
    {
     "name": "stdout",
     "output_type": "stream",
     "text": [
      "Episode 590: Reward: 15.0 | Score: 245.0 | Avg last 10: 15.8\n"
     ]
    },
    {
     "name": "stderr",
     "output_type": "stream",
     "text": [
      " 39%|███▉      | 592/1500 [25:10:14<2:49:27, 11.20s/it]"
     ]
    },
    {
     "name": "stdout",
     "output_type": "stream",
     "text": [
      "Episode 591: Reward: 16.0 | Score: 255.0 | Avg last 10: 15.0\n"
     ]
    },
    {
     "name": "stderr",
     "output_type": "stream",
     "text": [
      " 40%|███▉      | 593/1500 [25:10:23<2:40:42, 10.63s/it]"
     ]
    },
    {
     "name": "stdout",
     "output_type": "stream",
     "text": [
      "Episode 592: Reward: 9.0 | Score: 145.0 | Avg last 10: 15.4\n"
     ]
    },
    {
     "name": "stderr",
     "output_type": "stream",
     "text": [
      " 40%|███▉      | 594/1500 [25:10:34<2:43:43, 10.84s/it]"
     ]
    },
    {
     "name": "stdout",
     "output_type": "stream",
     "text": [
      "Episode 593: Reward: 16.0 | Score: 205.0 | Avg last 10: 14.9\n"
     ]
    },
    {
     "name": "stderr",
     "output_type": "stream",
     "text": [
      " 40%|███▉      | 595/1500 [25:10:40<2:18:30,  9.18s/it]"
     ]
    },
    {
     "name": "stdout",
     "output_type": "stream",
     "text": [
      "Episode 594: Reward: 8.0 | Score: 100.0 | Avg last 10: 14.7\n"
     ]
    },
    {
     "name": "stderr",
     "output_type": "stream",
     "text": [
      " 40%|███▉      | 596/1500 [25:10:51<2:27:02,  9.76s/it]"
     ]
    },
    {
     "name": "stdout",
     "output_type": "stream",
     "text": [
      "Episode 595: Reward: 13.0 | Score: 185.0 | Avg last 10: 14.1\n"
     ]
    },
    {
     "name": "stderr",
     "output_type": "stream",
     "text": [
      " 40%|███▉      | 597/1500 [25:11:05<2:45:55, 11.02s/it]"
     ]
    },
    {
     "name": "stdout",
     "output_type": "stream",
     "text": [
      "Episode 596: Reward: 16.0 | Score: 205.0 | Avg last 10: 13.9\n"
     ]
    },
    {
     "name": "stderr",
     "output_type": "stream",
     "text": [
      " 40%|███▉      | 598/1500 [25:11:18<2:57:53, 11.83s/it]"
     ]
    },
    {
     "name": "stdout",
     "output_type": "stream",
     "text": [
      "Episode 597: Reward: 29.0 | Score: 455.0 | Avg last 10: 15.3\n"
     ]
    },
    {
     "name": "stderr",
     "output_type": "stream",
     "text": [
      " 40%|███▉      | 599/1500 [25:11:27<2:42:43, 10.84s/it]"
     ]
    },
    {
     "name": "stdout",
     "output_type": "stream",
     "text": [
      "Episode 598: Reward: 9.0 | Score: 85.0 | Avg last 10: 14.3\n"
     ]
    },
    {
     "name": "stderr",
     "output_type": "stream",
     "text": [
      " 40%|████      | 600/1500 [25:11:39<2:49:57, 11.33s/it]"
     ]
    },
    {
     "name": "stdout",
     "output_type": "stream",
     "text": [
      "Episode 599: Reward: 23.0 | Score: 355.0 | Avg last 10: 15.4\n",
      "Episode 600: Reward: 33.0 | Score: 725.0 | Avg last 10: 17.2\n"
     ]
    },
    {
     "name": "stderr",
     "output_type": "stream",
     "text": [
      " 40%|████      | 601/1500 [25:12:00<3:32:41, 14.19s/it]"
     ]
    },
    {
     "name": "stdout",
     "output_type": "stream",
     "text": [
      "Recompensa media en test: 102.00\n",
      "Evaluación @ 600 ep -> reward media: 102.0\n"
     ]
    },
    {
     "name": "stderr",
     "output_type": "stream",
     "text": [
      " 40%|████      | 602/1500 [25:12:17<3:42:06, 14.84s/it]"
     ]
    },
    {
     "name": "stdout",
     "output_type": "stream",
     "text": [
      "Episode 601: Reward: 18.0 | Score: 315.0 | Avg last 10: 17.4\n"
     ]
    },
    {
     "name": "stderr",
     "output_type": "stream",
     "text": [
      " 40%|████      | 603/1500 [25:12:27<3:23:40, 13.62s/it]"
     ]
    },
    {
     "name": "stdout",
     "output_type": "stream",
     "text": [
      "Episode 602: Reward: 12.0 | Score: 210.0 | Avg last 10: 17.7\n"
     ]
    },
    {
     "name": "stderr",
     "output_type": "stream",
     "text": [
      " 40%|████      | 604/1500 [25:12:43<3:33:49, 14.32s/it]"
     ]
    },
    {
     "name": "stdout",
     "output_type": "stream",
     "text": [
      "Episode 603: Reward: 17.0 | Score: 285.0 | Avg last 10: 17.8\n"
     ]
    },
    {
     "name": "stderr",
     "output_type": "stream",
     "text": [
      " 40%|████      | 605/1500 [25:12:52<3:06:31, 12.50s/it]"
     ]
    },
    {
     "name": "stdout",
     "output_type": "stream",
     "text": [
      "Episode 604: Reward: 14.0 | Score: 205.0 | Avg last 10: 18.4\n"
     ]
    },
    {
     "name": "stderr",
     "output_type": "stream",
     "text": [
      " 40%|████      | 606/1500 [25:12:57<2:36:22, 10.49s/it]"
     ]
    },
    {
     "name": "stdout",
     "output_type": "stream",
     "text": [
      "Episode 605: Reward: 7.0 | Score: 100.0 | Avg last 10: 17.8\n"
     ]
    },
    {
     "name": "stderr",
     "output_type": "stream",
     "text": [
      " 40%|████      | 607/1500 [25:13:11<2:50:06, 11.43s/it]"
     ]
    },
    {
     "name": "stdout",
     "output_type": "stream",
     "text": [
      "Episode 606: Reward: 14.0 | Score: 195.0 | Avg last 10: 17.6\n"
     ]
    },
    {
     "name": "stderr",
     "output_type": "stream",
     "text": [
      " 41%|████      | 608/1500 [25:13:20<2:37:11, 10.57s/it]"
     ]
    },
    {
     "name": "stdout",
     "output_type": "stream",
     "text": [
      "Episode 607: Reward: 10.0 | Score: 155.0 | Avg last 10: 15.7\n"
     ]
    },
    {
     "name": "stderr",
     "output_type": "stream",
     "text": [
      " 41%|████      | 609/1500 [25:13:29<2:30:00, 10.10s/it]"
     ]
    },
    {
     "name": "stdout",
     "output_type": "stream",
     "text": [
      "Episode 608: Reward: 12.0 | Score: 210.0 | Avg last 10: 16.0\n"
     ]
    },
    {
     "name": "stderr",
     "output_type": "stream",
     "text": [
      " 41%|████      | 610/1500 [25:13:41<2:41:58, 10.92s/it]"
     ]
    },
    {
     "name": "stdout",
     "output_type": "stream",
     "text": [
      "Episode 609: Reward: 13.0 | Score: 215.0 | Avg last 10: 15.0\n"
     ]
    },
    {
     "name": "stderr",
     "output_type": "stream",
     "text": [
      " 41%|████      | 611/1500 [25:13:56<2:59:54, 12.14s/it]"
     ]
    },
    {
     "name": "stdout",
     "output_type": "stream",
     "text": [
      "Episode 610: Reward: 28.0 | Score: 435.0 | Avg last 10: 14.5\n"
     ]
    },
    {
     "name": "stderr",
     "output_type": "stream",
     "text": [
      " 41%|████      | 612/1500 [25:14:07<2:53:57, 11.75s/it]"
     ]
    },
    {
     "name": "stdout",
     "output_type": "stream",
     "text": [
      "Episode 611: Reward: 13.0 | Score: 195.0 | Avg last 10: 14.0\n"
     ]
    },
    {
     "name": "stderr",
     "output_type": "stream",
     "text": [
      " 41%|████      | 613/1500 [25:14:18<2:49:13, 11.45s/it]"
     ]
    },
    {
     "name": "stdout",
     "output_type": "stream",
     "text": [
      "Episode 612: Reward: 16.0 | Score: 245.0 | Avg last 10: 14.4\n"
     ]
    },
    {
     "name": "stderr",
     "output_type": "stream",
     "text": [
      " 41%|████      | 614/1500 [25:14:32<3:01:01, 12.26s/it]"
     ]
    },
    {
     "name": "stdout",
     "output_type": "stream",
     "text": [
      "Episode 613: Reward: 20.0 | Score: 290.0 | Avg last 10: 14.7\n"
     ]
    },
    {
     "name": "stderr",
     "output_type": "stream",
     "text": [
      " 41%|████      | 615/1500 [25:14:40<2:40:00, 10.85s/it]"
     ]
    },
    {
     "name": "stdout",
     "output_type": "stream",
     "text": [
      "Episode 614: Reward: 9.0 | Score: 125.0 | Avg last 10: 14.2\n"
     ]
    },
    {
     "name": "stderr",
     "output_type": "stream",
     "text": [
      " 41%|████      | 616/1500 [25:14:52<2:44:45, 11.18s/it]"
     ]
    },
    {
     "name": "stdout",
     "output_type": "stream",
     "text": [
      "Episode 615: Reward: 10.0 | Score: 130.0 | Avg last 10: 14.5\n"
     ]
    },
    {
     "name": "stderr",
     "output_type": "stream",
     "text": [
      " 41%|████      | 617/1500 [25:14:59<2:27:22, 10.01s/it]"
     ]
    },
    {
     "name": "stdout",
     "output_type": "stream",
     "text": [
      "Episode 616: Reward: 6.0 | Score: 80.0 | Avg last 10: 13.7\n"
     ]
    },
    {
     "name": "stderr",
     "output_type": "stream",
     "text": [
      " 41%|████      | 618/1500 [25:15:12<2:40:23, 10.91s/it]"
     ]
    },
    {
     "name": "stdout",
     "output_type": "stream",
     "text": [
      "Episode 617: Reward: 17.0 | Score: 265.0 | Avg last 10: 14.4\n"
     ]
    },
    {
     "name": "stderr",
     "output_type": "stream",
     "text": [
      " 41%|████▏     | 619/1500 [25:15:28<3:00:53, 12.32s/it]"
     ]
    },
    {
     "name": "stdout",
     "output_type": "stream",
     "text": [
      "Episode 618: Reward: 17.0 | Score: 285.0 | Avg last 10: 14.9\n"
     ]
    },
    {
     "name": "stderr",
     "output_type": "stream",
     "text": [
      " 41%|████▏     | 620/1500 [25:15:40<3:00:46, 12.33s/it]"
     ]
    },
    {
     "name": "stdout",
     "output_type": "stream",
     "text": [
      "Episode 619: Reward: 14.0 | Score: 200.0 | Avg last 10: 15.0\n"
     ]
    },
    {
     "name": "stderr",
     "output_type": "stream",
     "text": [
      " 41%|████▏     | 621/1500 [25:15:48<2:41:51, 11.05s/it]"
     ]
    },
    {
     "name": "stdout",
     "output_type": "stream",
     "text": [
      "Episode 620: Reward: 8.0 | Score: 120.0 | Avg last 10: 13.0\n"
     ]
    },
    {
     "name": "stderr",
     "output_type": "stream",
     "text": [
      " 41%|████▏     | 622/1500 [25:16:04<3:02:45, 12.49s/it]"
     ]
    },
    {
     "name": "stdout",
     "output_type": "stream",
     "text": [
      "Episode 621: Reward: 16.0 | Score: 205.0 | Avg last 10: 13.3\n"
     ]
    },
    {
     "name": "stderr",
     "output_type": "stream",
     "text": [
      " 42%|████▏     | 623/1500 [25:16:14<2:52:14, 11.78s/it]"
     ]
    },
    {
     "name": "stdout",
     "output_type": "stream",
     "text": [
      "Episode 622: Reward: 9.0 | Score: 140.0 | Avg last 10: 12.6\n"
     ]
    },
    {
     "name": "stderr",
     "output_type": "stream",
     "text": [
      " 42%|████▏     | 624/1500 [25:16:23<2:37:54, 10.82s/it]"
     ]
    },
    {
     "name": "stdout",
     "output_type": "stream",
     "text": [
      "Episode 623: Reward: 11.0 | Score: 180.0 | Avg last 10: 11.7\n"
     ]
    },
    {
     "name": "stderr",
     "output_type": "stream",
     "text": [
      " 42%|████▏     | 625/1500 [25:16:36<2:50:43, 11.71s/it]"
     ]
    },
    {
     "name": "stdout",
     "output_type": "stream",
     "text": [
      "Episode 624: Reward: 17.0 | Score: 245.0 | Avg last 10: 12.5\n"
     ]
    },
    {
     "name": "stderr",
     "output_type": "stream",
     "text": [
      " 42%|████▏     | 626/1500 [25:16:43<2:29:21, 10.25s/it]"
     ]
    },
    {
     "name": "stdout",
     "output_type": "stream",
     "text": [
      "Episode 625: Reward: 8.0 | Score: 85.0 | Avg last 10: 12.3\n"
     ]
    },
    {
     "name": "stderr",
     "output_type": "stream",
     "text": [
      " 42%|████▏     | 627/1500 [25:16:53<2:26:01, 10.04s/it]"
     ]
    },
    {
     "name": "stdout",
     "output_type": "stream",
     "text": [
      "Episode 626: Reward: 12.0 | Score: 210.0 | Avg last 10: 12.9\n"
     ]
    },
    {
     "name": "stderr",
     "output_type": "stream",
     "text": [
      " 42%|████▏     | 628/1500 [25:17:12<3:06:57, 12.86s/it]"
     ]
    },
    {
     "name": "stdout",
     "output_type": "stream",
     "text": [
      "Episode 627: Reward: 28.0 | Score: 430.0 | Avg last 10: 14.0\n"
     ]
    },
    {
     "name": "stderr",
     "output_type": "stream",
     "text": [
      " 42%|████▏     | 629/1500 [25:17:32<3:36:41, 14.93s/it]"
     ]
    },
    {
     "name": "stdout",
     "output_type": "stream",
     "text": [
      "Episode 628: Reward: 25.0 | Score: 410.0 | Avg last 10: 14.8\n"
     ]
    },
    {
     "name": "stderr",
     "output_type": "stream",
     "text": [
      " 42%|████▏     | 630/1500 [25:17:39<3:03:01, 12.62s/it]"
     ]
    },
    {
     "name": "stdout",
     "output_type": "stream",
     "text": [
      "Episode 629: Reward: 6.0 | Score: 65.0 | Avg last 10: 14.0\n"
     ]
    },
    {
     "name": "stderr",
     "output_type": "stream",
     "text": [
      " 42%|████▏     | 631/1500 [25:17:50<2:55:27, 12.11s/it]"
     ]
    },
    {
     "name": "stdout",
     "output_type": "stream",
     "text": [
      "Episode 630: Reward: 12.0 | Score: 210.0 | Avg last 10: 14.4\n"
     ]
    },
    {
     "name": "stderr",
     "output_type": "stream",
     "text": [
      " 42%|████▏     | 632/1500 [25:18:03<2:59:10, 12.39s/it]"
     ]
    },
    {
     "name": "stdout",
     "output_type": "stream",
     "text": [
      "Episode 631: Reward: 13.0 | Score: 215.0 | Avg last 10: 14.1\n"
     ]
    },
    {
     "name": "stderr",
     "output_type": "stream",
     "text": [
      " 42%|████▏     | 633/1500 [25:18:14<2:50:47, 11.82s/it]"
     ]
    },
    {
     "name": "stdout",
     "output_type": "stream",
     "text": [
      "Episode 632: Reward: 8.0 | Score: 120.0 | Avg last 10: 14.0\n"
     ]
    },
    {
     "name": "stderr",
     "output_type": "stream",
     "text": [
      " 42%|████▏     | 634/1500 [25:20:12<10:33:00, 43.86s/it]"
     ]
    },
    {
     "name": "stdout",
     "output_type": "stream",
     "text": [
      "Episode 633: Reward: 24.0 | Score: 425.0 | Avg last 10: 15.3\n"
     ]
    },
    {
     "name": "stderr",
     "output_type": "stream",
     "text": [
      " 42%|████▏     | 635/1500 [25:20:19<7:53:23, 32.84s/it] "
     ]
    },
    {
     "name": "stdout",
     "output_type": "stream",
     "text": [
      "Episode 634: Reward: 6.0 | Score: 80.0 | Avg last 10: 14.2\n"
     ]
    },
    {
     "name": "stderr",
     "output_type": "stream",
     "text": [
      " 42%|████▏     | 636/1500 [25:20:36<6:41:46, 27.90s/it]"
     ]
    },
    {
     "name": "stdout",
     "output_type": "stream",
     "text": [
      "Episode 635: Reward: 28.0 | Score: 425.0 | Avg last 10: 16.2\n"
     ]
    },
    {
     "name": "stderr",
     "output_type": "stream",
     "text": [
      " 42%|████▏     | 637/1500 [25:20:44<5:18:27, 22.14s/it]"
     ]
    },
    {
     "name": "stdout",
     "output_type": "stream",
     "text": [
      "Episode 636: Reward: 10.0 | Score: 155.0 | Avg last 10: 16.0\n"
     ]
    },
    {
     "name": "stderr",
     "output_type": "stream",
     "text": [
      " 43%|████▎     | 638/1500 [25:20:58<4:41:00, 19.56s/it]"
     ]
    },
    {
     "name": "stdout",
     "output_type": "stream",
     "text": [
      "Episode 637: Reward: 17.0 | Score: 285.0 | Avg last 10: 14.9\n"
     ]
    },
    {
     "name": "stderr",
     "output_type": "stream",
     "text": [
      " 43%|████▎     | 639/1500 [25:21:05<3:47:21, 15.84s/it]"
     ]
    },
    {
     "name": "stdout",
     "output_type": "stream",
     "text": [
      "Episode 638: Reward: 10.0 | Score: 155.0 | Avg last 10: 13.4\n"
     ]
    },
    {
     "name": "stderr",
     "output_type": "stream",
     "text": [
      " 43%|████▎     | 640/1500 [25:21:21<3:46:05, 15.77s/it]"
     ]
    },
    {
     "name": "stdout",
     "output_type": "stream",
     "text": [
      "Episode 639: Reward: 24.0 | Score: 385.0 | Avg last 10: 15.2\n"
     ]
    },
    {
     "name": "stderr",
     "output_type": "stream",
     "text": [
      " 43%|████▎     | 641/1500 [25:21:32<3:26:08, 14.40s/it]"
     ]
    },
    {
     "name": "stdout",
     "output_type": "stream",
     "text": [
      "Episode 640: Reward: 19.0 | Score: 285.0 | Avg last 10: 15.9\n"
     ]
    },
    {
     "name": "stderr",
     "output_type": "stream",
     "text": [
      " 43%|████▎     | 642/1500 [25:21:55<4:02:19, 16.95s/it]"
     ]
    },
    {
     "name": "stdout",
     "output_type": "stream",
     "text": [
      "Episode 641: Reward: 32.0 | Score: 550.0 | Avg last 10: 17.8\n"
     ]
    },
    {
     "name": "stderr",
     "output_type": "stream",
     "text": [
      " 43%|████▎     | 643/1500 [25:22:08<3:45:08, 15.76s/it]"
     ]
    },
    {
     "name": "stdout",
     "output_type": "stream",
     "text": [
      "Episode 642: Reward: 13.0 | Score: 185.0 | Avg last 10: 18.3\n"
     ]
    },
    {
     "name": "stderr",
     "output_type": "stream",
     "text": [
      " 43%|████▎     | 644/1500 [25:22:23<3:43:53, 15.69s/it]"
     ]
    },
    {
     "name": "stdout",
     "output_type": "stream",
     "text": [
      "Episode 643: Reward: 17.0 | Score: 270.0 | Avg last 10: 17.6\n"
     ]
    },
    {
     "name": "stderr",
     "output_type": "stream",
     "text": [
      " 43%|████▎     | 645/1500 [25:22:36<3:30:16, 14.76s/it]"
     ]
    },
    {
     "name": "stdout",
     "output_type": "stream",
     "text": [
      "Episode 644: Reward: 22.0 | Score: 345.0 | Avg last 10: 19.2\n"
     ]
    },
    {
     "name": "stderr",
     "output_type": "stream",
     "text": [
      " 43%|████▎     | 646/1500 [25:22:47<3:15:28, 13.73s/it]"
     ]
    },
    {
     "name": "stdout",
     "output_type": "stream",
     "text": [
      "Episode 645: Reward: 20.0 | Score: 270.0 | Avg last 10: 18.4\n"
     ]
    },
    {
     "name": "stderr",
     "output_type": "stream",
     "text": [
      " 43%|████▎     | 647/1500 [25:23:00<3:10:05, 13.37s/it]"
     ]
    },
    {
     "name": "stdout",
     "output_type": "stream",
     "text": [
      "Episode 646: Reward: 15.0 | Score: 400.0 | Avg last 10: 18.9\n"
     ]
    },
    {
     "name": "stderr",
     "output_type": "stream",
     "text": [
      " 43%|████▎     | 648/1500 [25:23:10<2:57:44, 12.52s/it]"
     ]
    },
    {
     "name": "stdout",
     "output_type": "stream",
     "text": [
      "Episode 647: Reward: 18.0 | Score: 260.0 | Avg last 10: 19.0\n"
     ]
    },
    {
     "name": "stderr",
     "output_type": "stream",
     "text": [
      " 43%|████▎     | 649/1500 [25:23:17<2:32:41, 10.77s/it]"
     ]
    },
    {
     "name": "stdout",
     "output_type": "stream",
     "text": [
      "Episode 648: Reward: 9.0 | Score: 125.0 | Avg last 10: 18.9\n"
     ]
    },
    {
     "name": "stderr",
     "output_type": "stream",
     "text": [
      " 43%|████▎     | 650/1500 [25:23:30<2:41:03, 11.37s/it]"
     ]
    },
    {
     "name": "stdout",
     "output_type": "stream",
     "text": [
      "Episode 649: Reward: 21.0 | Score: 315.0 | Avg last 10: 18.6\n"
     ]
    },
    {
     "name": "stderr",
     "output_type": "stream",
     "text": [
      " 43%|████▎     | 651/1500 [25:23:47<3:06:27, 13.18s/it]"
     ]
    },
    {
     "name": "stdout",
     "output_type": "stream",
     "text": [
      "Episode 650: Reward: 26.0 | Score: 375.0 | Avg last 10: 19.3\n"
     ]
    },
    {
     "name": "stderr",
     "output_type": "stream",
     "text": [
      " 43%|████▎     | 652/1500 [25:23:59<3:01:00, 12.81s/it]"
     ]
    },
    {
     "name": "stdout",
     "output_type": "stream",
     "text": [
      "Episode 651: Reward: 16.0 | Score: 250.0 | Avg last 10: 17.7\n"
     ]
    },
    {
     "name": "stderr",
     "output_type": "stream",
     "text": [
      " 44%|████▎     | 653/1500 [25:24:07<2:38:13, 11.21s/it]"
     ]
    },
    {
     "name": "stdout",
     "output_type": "stream",
     "text": [
      "Episode 652: Reward: 11.0 | Score: 140.0 | Avg last 10: 17.5\n"
     ]
    },
    {
     "name": "stderr",
     "output_type": "stream",
     "text": [
      " 44%|████▎     | 654/1500 [25:24:16<2:28:18, 10.52s/it]"
     ]
    },
    {
     "name": "stdout",
     "output_type": "stream",
     "text": [
      "Episode 653: Reward: 10.0 | Score: 175.0 | Avg last 10: 16.8\n"
     ]
    },
    {
     "name": "stderr",
     "output_type": "stream",
     "text": [
      " 44%|████▎     | 655/1500 [25:24:31<2:49:12, 12.01s/it]"
     ]
    },
    {
     "name": "stdout",
     "output_type": "stream",
     "text": [
      "Episode 654: Reward: 22.0 | Score: 320.0 | Avg last 10: 16.8\n"
     ]
    },
    {
     "name": "stderr",
     "output_type": "stream",
     "text": [
      " 44%|████▎     | 656/1500 [25:24:44<2:52:22, 12.25s/it]"
     ]
    },
    {
     "name": "stdout",
     "output_type": "stream",
     "text": [
      "Episode 655: Reward: 19.0 | Score: 300.0 | Avg last 10: 16.7\n"
     ]
    },
    {
     "name": "stderr",
     "output_type": "stream",
     "text": [
      " 44%|████▍     | 657/1500 [25:25:00<3:10:08, 13.53s/it]"
     ]
    },
    {
     "name": "stdout",
     "output_type": "stream",
     "text": [
      "Episode 656: Reward: 20.0 | Score: 500.0 | Avg last 10: 17.2\n"
     ]
    },
    {
     "name": "stderr",
     "output_type": "stream",
     "text": [
      " 44%|████▍     | 658/1500 [25:25:15<3:13:06, 13.76s/it]"
     ]
    },
    {
     "name": "stdout",
     "output_type": "stream",
     "text": [
      "Episode 657: Reward: 17.0 | Score: 285.0 | Avg last 10: 17.1\n"
     ]
    },
    {
     "name": "stderr",
     "output_type": "stream",
     "text": [
      " 44%|████▍     | 659/1500 [25:25:24<2:55:29, 12.52s/it]"
     ]
    },
    {
     "name": "stdout",
     "output_type": "stream",
     "text": [
      "Episode 658: Reward: 13.0 | Score: 195.0 | Avg last 10: 17.5\n"
     ]
    },
    {
     "name": "stderr",
     "output_type": "stream",
     "text": [
      " 44%|████▍     | 660/1500 [25:25:36<2:50:46, 12.20s/it]"
     ]
    },
    {
     "name": "stdout",
     "output_type": "stream",
     "text": [
      "Episode 659: Reward: 17.0 | Score: 230.0 | Avg last 10: 17.1\n"
     ]
    },
    {
     "name": "stderr",
     "output_type": "stream",
     "text": [
      " 44%|████▍     | 661/1500 [25:25:41<2:20:45, 10.07s/it]"
     ]
    },
    {
     "name": "stdout",
     "output_type": "stream",
     "text": [
      "Episode 660: Reward: 7.0 | Score: 80.0 | Avg last 10: 15.2\n"
     ]
    },
    {
     "name": "stderr",
     "output_type": "stream",
     "text": [
      " 44%|████▍     | 662/1500 [25:25:58<2:49:47, 12.16s/it]"
     ]
    },
    {
     "name": "stdout",
     "output_type": "stream",
     "text": [
      "Episode 661: Reward: 30.0 | Score: 460.0 | Avg last 10: 16.6\n"
     ]
    },
    {
     "name": "stderr",
     "output_type": "stream",
     "text": [
      " 44%|████▍     | 663/1500 [25:26:12<2:58:43, 12.81s/it]"
     ]
    },
    {
     "name": "stdout",
     "output_type": "stream",
     "text": [
      "Episode 662: Reward: 18.0 | Score: 290.0 | Avg last 10: 17.3\n"
     ]
    },
    {
     "name": "stderr",
     "output_type": "stream",
     "text": [
      " 44%|████▍     | 664/1500 [25:26:26<3:02:29, 13.10s/it]"
     ]
    },
    {
     "name": "stdout",
     "output_type": "stream",
     "text": [
      "Episode 663: Reward: 22.0 | Score: 330.0 | Avg last 10: 18.5\n"
     ]
    },
    {
     "name": "stderr",
     "output_type": "stream",
     "text": [
      " 44%|████▍     | 665/1500 [25:26:40<3:06:45, 13.42s/it]"
     ]
    },
    {
     "name": "stdout",
     "output_type": "stream",
     "text": [
      "Episode 664: Reward: 23.0 | Score: 345.0 | Avg last 10: 18.6\n"
     ]
    },
    {
     "name": "stderr",
     "output_type": "stream",
     "text": [
      " 44%|████▍     | 666/1500 [25:26:57<3:22:25, 14.56s/it]"
     ]
    },
    {
     "name": "stdout",
     "output_type": "stream",
     "text": [
      "Episode 665: Reward: 32.0 | Score: 525.0 | Avg last 10: 19.9\n"
     ]
    },
    {
     "name": "stderr",
     "output_type": "stream",
     "text": [
      " 44%|████▍     | 667/1500 [25:27:07<3:02:26, 13.14s/it]"
     ]
    },
    {
     "name": "stdout",
     "output_type": "stream",
     "text": [
      "Episode 666: Reward: 14.0 | Score: 195.0 | Avg last 10: 19.3\n"
     ]
    },
    {
     "name": "stderr",
     "output_type": "stream",
     "text": [
      " 45%|████▍     | 668/1500 [25:27:19<2:58:08, 12.85s/it]"
     ]
    },
    {
     "name": "stdout",
     "output_type": "stream",
     "text": [
      "Episode 667: Reward: 19.0 | Score: 290.0 | Avg last 10: 19.5\n"
     ]
    },
    {
     "name": "stderr",
     "output_type": "stream",
     "text": [
      " 45%|████▍     | 669/1500 [25:27:29<2:44:35, 11.88s/it]"
     ]
    },
    {
     "name": "stdout",
     "output_type": "stream",
     "text": [
      "Episode 668: Reward: 11.0 | Score: 335.0 | Avg last 10: 19.3\n"
     ]
    },
    {
     "name": "stderr",
     "output_type": "stream",
     "text": [
      " 45%|████▍     | 670/1500 [25:27:40<2:40:51, 11.63s/it]"
     ]
    },
    {
     "name": "stdout",
     "output_type": "stream",
     "text": [
      "Episode 669: Reward: 14.0 | Score: 220.0 | Avg last 10: 19.0\n"
     ]
    },
    {
     "name": "stderr",
     "output_type": "stream",
     "text": [
      " 45%|████▍     | 671/1500 [25:27:55<2:53:14, 12.54s/it]"
     ]
    },
    {
     "name": "stdout",
     "output_type": "stream",
     "text": [
      "Episode 670: Reward: 20.0 | Score: 500.0 | Avg last 10: 20.3\n",
      "Modelo guardado - Recompensa normalizada media últimos 10: 20.3\n"
     ]
    },
    {
     "name": "stderr",
     "output_type": "stream",
     "text": [
      " 45%|████▍     | 672/1500 [25:28:04<2:39:37, 11.57s/it]"
     ]
    },
    {
     "name": "stdout",
     "output_type": "stream",
     "text": [
      "Episode 671: Reward: 14.0 | Score: 225.0 | Avg last 10: 18.7\n"
     ]
    },
    {
     "name": "stderr",
     "output_type": "stream",
     "text": [
      " 45%|████▍     | 673/1500 [25:28:13<2:28:15, 10.76s/it]"
     ]
    },
    {
     "name": "stdout",
     "output_type": "stream",
     "text": [
      "Episode 672: Reward: 14.0 | Score: 205.0 | Avg last 10: 18.3\n"
     ]
    },
    {
     "name": "stderr",
     "output_type": "stream",
     "text": [
      " 45%|████▍     | 674/1500 [25:28:25<2:33:19, 11.14s/it]"
     ]
    },
    {
     "name": "stdout",
     "output_type": "stream",
     "text": [
      "Episode 673: Reward: 14.0 | Score: 205.0 | Avg last 10: 17.5\n"
     ]
    },
    {
     "name": "stderr",
     "output_type": "stream",
     "text": [
      " 45%|████▌     | 675/1500 [25:28:39<2:43:50, 11.92s/it]"
     ]
    },
    {
     "name": "stdout",
     "output_type": "stream",
     "text": [
      "Episode 674: Reward: 17.0 | Score: 415.0 | Avg last 10: 16.9\n"
     ]
    },
    {
     "name": "stderr",
     "output_type": "stream",
     "text": [
      " 45%|████▌     | 676/1500 [25:28:48<2:34:08, 11.22s/it]"
     ]
    },
    {
     "name": "stdout",
     "output_type": "stream",
     "text": [
      "Episode 675: Reward: 8.0 | Score: 105.0 | Avg last 10: 14.5\n"
     ]
    },
    {
     "name": "stderr",
     "output_type": "stream",
     "text": [
      " 45%|████▌     | 677/1500 [25:28:58<2:29:01, 10.86s/it]"
     ]
    },
    {
     "name": "stdout",
     "output_type": "stream",
     "text": [
      "Episode 676: Reward: 12.0 | Score: 170.0 | Avg last 10: 14.3\n"
     ]
    },
    {
     "name": "stderr",
     "output_type": "stream",
     "text": [
      " 45%|████▌     | 678/1500 [25:29:11<2:35:34, 11.36s/it]"
     ]
    },
    {
     "name": "stdout",
     "output_type": "stream",
     "text": [
      "Episode 677: Reward: 13.0 | Score: 190.0 | Avg last 10: 13.7\n"
     ]
    },
    {
     "name": "stderr",
     "output_type": "stream",
     "text": [
      " 45%|████▌     | 679/1500 [25:29:19<2:22:42, 10.43s/it]"
     ]
    },
    {
     "name": "stdout",
     "output_type": "stream",
     "text": [
      "Episode 678: Reward: 8.0 | Score: 100.0 | Avg last 10: 13.4\n"
     ]
    },
    {
     "name": "stderr",
     "output_type": "stream",
     "text": [
      " 45%|████▌     | 680/1500 [25:29:28<2:16:24,  9.98s/it]"
     ]
    },
    {
     "name": "stdout",
     "output_type": "stream",
     "text": [
      "Episode 679: Reward: 10.0 | Score: 155.0 | Avg last 10: 13.0\n"
     ]
    },
    {
     "name": "stderr",
     "output_type": "stream",
     "text": [
      " 45%|████▌     | 681/1500 [25:29:34<1:59:52,  8.78s/it]"
     ]
    },
    {
     "name": "stdout",
     "output_type": "stream",
     "text": [
      "Episode 680: Reward: 5.0 | Score: 35.0 | Avg last 10: 11.5\n"
     ]
    },
    {
     "name": "stderr",
     "output_type": "stream",
     "text": [
      " 45%|████▌     | 682/1500 [25:29:47<2:16:03,  9.98s/it]"
     ]
    },
    {
     "name": "stdout",
     "output_type": "stream",
     "text": [
      "Episode 681: Reward: 17.0 | Score: 215.0 | Avg last 10: 11.8\n"
     ]
    },
    {
     "name": "stderr",
     "output_type": "stream",
     "text": [
      " 46%|████▌     | 683/1500 [25:30:05<2:51:50, 12.62s/it]"
     ]
    },
    {
     "name": "stdout",
     "output_type": "stream",
     "text": [
      "Episode 682: Reward: 26.0 | Score: 405.0 | Avg last 10: 13.0\n"
     ]
    },
    {
     "name": "stderr",
     "output_type": "stream",
     "text": [
      " 46%|████▌     | 684/1500 [25:30:15<2:38:36, 11.66s/it]"
     ]
    },
    {
     "name": "stdout",
     "output_type": "stream",
     "text": [
      "Episode 683: Reward: 11.0 | Score: 160.0 | Avg last 10: 12.7\n"
     ]
    },
    {
     "name": "stderr",
     "output_type": "stream",
     "text": [
      " 46%|████▌     | 685/1500 [25:30:27<2:42:10, 11.94s/it]"
     ]
    },
    {
     "name": "stdout",
     "output_type": "stream",
     "text": [
      "Episode 684: Reward: 11.0 | Score: 95.0 | Avg last 10: 12.1\n"
     ]
    },
    {
     "name": "stderr",
     "output_type": "stream",
     "text": [
      " 46%|████▌     | 686/1500 [25:30:39<2:40:01, 11.79s/it]"
     ]
    },
    {
     "name": "stdout",
     "output_type": "stream",
     "text": [
      "Episode 685: Reward: 21.0 | Score: 325.0 | Avg last 10: 13.4\n"
     ]
    },
    {
     "name": "stderr",
     "output_type": "stream",
     "text": [
      " 46%|████▌     | 687/1500 [25:30:47<2:24:07, 10.64s/it]"
     ]
    },
    {
     "name": "stdout",
     "output_type": "stream",
     "text": [
      "Episode 686: Reward: 13.0 | Score: 150.0 | Avg last 10: 13.5\n"
     ]
    },
    {
     "name": "stderr",
     "output_type": "stream",
     "text": [
      " 46%|████▌     | 688/1500 [25:30:59<2:31:33, 11.20s/it]"
     ]
    },
    {
     "name": "stdout",
     "output_type": "stream",
     "text": [
      "Episode 687: Reward: 14.0 | Score: 180.0 | Avg last 10: 13.6\n"
     ]
    },
    {
     "name": "stderr",
     "output_type": "stream",
     "text": [
      " 46%|████▌     | 689/1500 [25:31:24<3:25:55, 15.24s/it]"
     ]
    },
    {
     "name": "stdout",
     "output_type": "stream",
     "text": [
      "Episode 688: Reward: 32.0 | Score: 690.0 | Avg last 10: 16.0\n"
     ]
    },
    {
     "name": "stderr",
     "output_type": "stream",
     "text": [
      " 46%|████▌     | 690/1500 [25:31:37<3:17:10, 14.61s/it]"
     ]
    },
    {
     "name": "stdout",
     "output_type": "stream",
     "text": [
      "Episode 689: Reward: 16.0 | Score: 240.0 | Avg last 10: 16.6\n"
     ]
    },
    {
     "name": "stderr",
     "output_type": "stream",
     "text": [
      " 46%|████▌     | 691/1500 [25:31:51<3:12:31, 14.28s/it]"
     ]
    },
    {
     "name": "stdout",
     "output_type": "stream",
     "text": [
      "Episode 690: Reward: 23.0 | Score: 285.0 | Avg last 10: 18.4\n"
     ]
    },
    {
     "name": "stderr",
     "output_type": "stream",
     "text": [
      " 46%|████▌     | 692/1500 [25:32:10<3:34:14, 15.91s/it]"
     ]
    },
    {
     "name": "stdout",
     "output_type": "stream",
     "text": [
      "Episode 691: Reward: 27.0 | Score: 390.0 | Avg last 10: 19.4\n"
     ]
    },
    {
     "name": "stderr",
     "output_type": "stream",
     "text": [
      " 46%|████▌     | 693/1500 [25:32:22<3:18:18, 14.74s/it]"
     ]
    },
    {
     "name": "stdout",
     "output_type": "stream",
     "text": [
      "Episode 692: Reward: 18.0 | Score: 290.0 | Avg last 10: 18.6\n"
     ]
    },
    {
     "name": "stderr",
     "output_type": "stream",
     "text": [
      " 46%|████▋     | 694/1500 [25:32:37<3:18:12, 14.76s/it]"
     ]
    },
    {
     "name": "stdout",
     "output_type": "stream",
     "text": [
      "Episode 693: Reward: 28.0 | Score: 410.0 | Avg last 10: 20.3\n",
      "Modelo guardado - Recompensa normalizada media últimos 10: 20.3\n"
     ]
    },
    {
     "name": "stderr",
     "output_type": "stream",
     "text": [
      " 46%|████▋     | 695/1500 [25:32:48<3:00:38, 13.46s/it]"
     ]
    },
    {
     "name": "stdout",
     "output_type": "stream",
     "text": [
      "Episode 694: Reward: 15.0 | Score: 200.0 | Avg last 10: 20.7\n",
      "Modelo guardado - Recompensa normalizada media últimos 10: 20.7\n"
     ]
    },
    {
     "name": "stderr",
     "output_type": "stream",
     "text": [
      " 46%|████▋     | 696/1500 [25:32:56<2:40:18, 11.96s/it]"
     ]
    },
    {
     "name": "stdout",
     "output_type": "stream",
     "text": [
      "Episode 695: Reward: 10.0 | Score: 130.0 | Avg last 10: 19.6\n"
     ]
    },
    {
     "name": "stderr",
     "output_type": "stream",
     "text": [
      " 46%|████▋     | 697/1500 [25:33:08<2:39:22, 11.91s/it]"
     ]
    },
    {
     "name": "stdout",
     "output_type": "stream",
     "text": [
      "Episode 696: Reward: 18.0 | Score: 425.0 | Avg last 10: 20.1\n",
      "Modelo guardado - Recompensa normalizada media últimos 10: 20.1\n"
     ]
    },
    {
     "name": "stderr",
     "output_type": "stream",
     "text": [
      " 47%|████▋     | 698/1500 [25:33:17<2:27:26, 11.03s/it]"
     ]
    },
    {
     "name": "stdout",
     "output_type": "stream",
     "text": [
      "Episode 697: Reward: 13.0 | Score: 180.0 | Avg last 10: 20.0\n",
      "Modelo guardado - Recompensa normalizada media últimos 10: 20.0\n"
     ]
    },
    {
     "name": "stderr",
     "output_type": "stream",
     "text": [
      " 47%|████▋     | 699/1500 [25:33:26<2:19:13, 10.43s/it]"
     ]
    },
    {
     "name": "stdout",
     "output_type": "stream",
     "text": [
      "Episode 698: Reward: 11.0 | Score: 155.0 | Avg last 10: 17.9\n"
     ]
    },
    {
     "name": "stderr",
     "output_type": "stream",
     "text": [
      " 47%|████▋     | 700/1500 [25:33:40<2:34:38, 11.60s/it]"
     ]
    },
    {
     "name": "stdout",
     "output_type": "stream",
     "text": [
      "Episode 699: Reward: 24.0 | Score: 370.0 | Avg last 10: 18.7\n",
      "Episode 700: Reward: 14.0 | Score: 210.0 | Avg last 10: 17.8\n"
     ]
    },
    {
     "name": "stderr",
     "output_type": "stream",
     "text": [
      " 47%|████▋     | 701/1500 [25:33:54<2:44:32, 12.36s/it]"
     ]
    },
    {
     "name": "stdout",
     "output_type": "stream",
     "text": [
      "Recompensa media en test: 108.00\n",
      "Evaluación @ 700 ep -> reward media: 108.0\n"
     ]
    },
    {
     "name": "stderr",
     "output_type": "stream",
     "text": [
      " 47%|████▋     | 702/1500 [25:34:07<2:46:22, 12.51s/it]"
     ]
    },
    {
     "name": "stdout",
     "output_type": "stream",
     "text": [
      "Episode 701: Reward: 22.0 | Score: 350.0 | Avg last 10: 17.3\n"
     ]
    },
    {
     "name": "stderr",
     "output_type": "stream",
     "text": [
      " 47%|████▋     | 703/1500 [25:34:17<2:35:05, 11.68s/it]"
     ]
    },
    {
     "name": "stdout",
     "output_type": "stream",
     "text": [
      "Episode 702: Reward: 17.0 | Score: 215.0 | Avg last 10: 17.2\n"
     ]
    },
    {
     "name": "stderr",
     "output_type": "stream",
     "text": [
      " 47%|████▋     | 704/1500 [25:34:27<2:30:24, 11.34s/it]"
     ]
    },
    {
     "name": "stdout",
     "output_type": "stream",
     "text": [
      "Episode 703: Reward: 17.0 | Score: 220.0 | Avg last 10: 16.1\n"
     ]
    },
    {
     "name": "stderr",
     "output_type": "stream",
     "text": [
      " 47%|████▋     | 705/1500 [25:34:37<2:22:17, 10.74s/it]"
     ]
    },
    {
     "name": "stdout",
     "output_type": "stream",
     "text": [
      "Episode 704: Reward: 10.0 | Score: 165.0 | Avg last 10: 15.6\n"
     ]
    },
    {
     "name": "stderr",
     "output_type": "stream",
     "text": [
      " 47%|████▋     | 706/1500 [25:34:46<2:14:14, 10.14s/it]"
     ]
    },
    {
     "name": "stdout",
     "output_type": "stream",
     "text": [
      "Episode 705: Reward: 11.0 | Score: 180.0 | Avg last 10: 15.7\n"
     ]
    },
    {
     "name": "stderr",
     "output_type": "stream",
     "text": [
      " 47%|████▋     | 707/1500 [25:35:00<2:30:30, 11.39s/it]"
     ]
    },
    {
     "name": "stdout",
     "output_type": "stream",
     "text": [
      "Episode 706: Reward: 22.0 | Score: 340.0 | Avg last 10: 16.1\n"
     ]
    },
    {
     "name": "stderr",
     "output_type": "stream",
     "text": [
      " 47%|████▋     | 708/1500 [25:35:09<2:19:26, 10.56s/it]"
     ]
    },
    {
     "name": "stdout",
     "output_type": "stream",
     "text": [
      "Episode 707: Reward: 15.0 | Score: 210.0 | Avg last 10: 16.3\n"
     ]
    },
    {
     "name": "stderr",
     "output_type": "stream",
     "text": [
      " 47%|████▋     | 709/1500 [25:35:26<2:44:49, 12.50s/it]"
     ]
    },
    {
     "name": "stdout",
     "output_type": "stream",
     "text": [
      "Episode 708: Reward: 23.0 | Score: 335.0 | Avg last 10: 17.5\n"
     ]
    },
    {
     "name": "stderr",
     "output_type": "stream",
     "text": [
      " 47%|████▋     | 710/1500 [25:35:36<2:37:17, 11.95s/it]"
     ]
    },
    {
     "name": "stdout",
     "output_type": "stream",
     "text": [
      "Episode 709: Reward: 14.0 | Score: 215.0 | Avg last 10: 16.5\n"
     ]
    },
    {
     "name": "stderr",
     "output_type": "stream",
     "text": [
      " 47%|████▋     | 711/1500 [25:35:45<2:24:48, 11.01s/it]"
     ]
    },
    {
     "name": "stdout",
     "output_type": "stream",
     "text": [
      "Episode 710: Reward: 12.0 | Score: 155.0 | Avg last 10: 16.3\n"
     ]
    },
    {
     "name": "stderr",
     "output_type": "stream",
     "text": [
      " 47%|████▋     | 712/1500 [25:35:53<2:13:25, 10.16s/it]"
     ]
    },
    {
     "name": "stdout",
     "output_type": "stream",
     "text": [
      "Episode 711: Reward: 12.0 | Score: 210.0 | Avg last 10: 15.3\n"
     ]
    },
    {
     "name": "stderr",
     "output_type": "stream",
     "text": [
      " 48%|████▊     | 713/1500 [25:36:03<2:10:05,  9.92s/it]"
     ]
    },
    {
     "name": "stdout",
     "output_type": "stream",
     "text": [
      "Episode 712: Reward: 8.0 | Score: 90.0 | Avg last 10: 14.4\n"
     ]
    },
    {
     "name": "stderr",
     "output_type": "stream",
     "text": [
      " 48%|████▊     | 714/1500 [25:36:10<2:01:22,  9.27s/it]"
     ]
    },
    {
     "name": "stdout",
     "output_type": "stream",
     "text": [
      "Episode 713: Reward: 10.0 | Score: 130.0 | Avg last 10: 13.7\n"
     ]
    },
    {
     "name": "stderr",
     "output_type": "stream",
     "text": [
      " 48%|████▊     | 715/1500 [25:36:23<2:15:03, 10.32s/it]"
     ]
    },
    {
     "name": "stdout",
     "output_type": "stream",
     "text": [
      "Episode 714: Reward: 21.0 | Score: 325.0 | Avg last 10: 14.8\n"
     ]
    },
    {
     "name": "stderr",
     "output_type": "stream",
     "text": [
      " 48%|████▊     | 716/1500 [25:36:38<2:32:33, 11.68s/it]"
     ]
    },
    {
     "name": "stdout",
     "output_type": "stream",
     "text": [
      "Episode 715: Reward: 15.0 | Score: 175.0 | Avg last 10: 15.2\n"
     ]
    },
    {
     "name": "stderr",
     "output_type": "stream",
     "text": [
      " 48%|████▊     | 717/1500 [25:36:53<2:46:33, 12.76s/it]"
     ]
    },
    {
     "name": "stdout",
     "output_type": "stream",
     "text": [
      "Episode 716: Reward: 27.0 | Score: 625.0 | Avg last 10: 15.7\n"
     ]
    },
    {
     "name": "stderr",
     "output_type": "stream",
     "text": [
      " 48%|████▊     | 718/1500 [25:37:05<2:43:45, 12.56s/it]"
     ]
    },
    {
     "name": "stdout",
     "output_type": "stream",
     "text": [
      "Episode 717: Reward: 14.0 | Score: 235.0 | Avg last 10: 15.6\n"
     ]
    },
    {
     "name": "stderr",
     "output_type": "stream",
     "text": [
      " 48%|████▊     | 719/1500 [25:37:19<2:47:06, 12.84s/it]"
     ]
    },
    {
     "name": "stdout",
     "output_type": "stream",
     "text": [
      "Episode 718: Reward: 21.0 | Score: 335.0 | Avg last 10: 15.4\n"
     ]
    },
    {
     "name": "stderr",
     "output_type": "stream",
     "text": [
      " 48%|████▊     | 720/1500 [25:37:27<2:28:03, 11.39s/it]"
     ]
    },
    {
     "name": "stdout",
     "output_type": "stream",
     "text": [
      "Episode 719: Reward: 7.0 | Score: 90.0 | Avg last 10: 14.7\n"
     ]
    },
    {
     "name": "stderr",
     "output_type": "stream",
     "text": [
      " 48%|████▊     | 721/1500 [25:37:45<2:55:30, 13.52s/it]"
     ]
    },
    {
     "name": "stdout",
     "output_type": "stream",
     "text": [
      "Episode 720: Reward: 34.0 | Score: 770.0 | Avg last 10: 16.9\n"
     ]
    },
    {
     "name": "stderr",
     "output_type": "stream",
     "text": [
      " 48%|████▊     | 722/1500 [25:37:59<2:54:32, 13.46s/it]"
     ]
    },
    {
     "name": "stdout",
     "output_type": "stream",
     "text": [
      "Episode 721: Reward: 23.0 | Score: 535.0 | Avg last 10: 18.0\n"
     ]
    },
    {
     "name": "stderr",
     "output_type": "stream",
     "text": [
      " 48%|████▊     | 723/1500 [25:38:09<2:40:26, 12.39s/it]"
     ]
    },
    {
     "name": "stdout",
     "output_type": "stream",
     "text": [
      "Episode 722: Reward: 16.0 | Score: 240.0 | Avg last 10: 18.8\n"
     ]
    },
    {
     "name": "stderr",
     "output_type": "stream",
     "text": [
      " 48%|████▊     | 724/1500 [25:38:22<2:43:57, 12.68s/it]"
     ]
    },
    {
     "name": "stdout",
     "output_type": "stream",
     "text": [
      "Episode 723: Reward: 16.0 | Score: 405.0 | Avg last 10: 19.4\n"
     ]
    },
    {
     "name": "stderr",
     "output_type": "stream",
     "text": [
      " 48%|████▊     | 725/1500 [25:38:29<2:21:59, 10.99s/it]"
     ]
    },
    {
     "name": "stdout",
     "output_type": "stream",
     "text": [
      "Episode 724: Reward: 10.0 | Score: 155.0 | Avg last 10: 18.3\n"
     ]
    },
    {
     "name": "stderr",
     "output_type": "stream",
     "text": [
      " 48%|████▊     | 726/1500 [25:38:43<2:32:25, 11.82s/it]"
     ]
    },
    {
     "name": "stdout",
     "output_type": "stream",
     "text": [
      "Episode 725: Reward: 20.0 | Score: 305.0 | Avg last 10: 18.8\n"
     ]
    },
    {
     "name": "stderr",
     "output_type": "stream",
     "text": [
      " 48%|████▊     | 727/1500 [25:38:59<2:49:14, 13.14s/it]"
     ]
    },
    {
     "name": "stdout",
     "output_type": "stream",
     "text": [
      "Episode 726: Reward: 28.0 | Score: 440.0 | Avg last 10: 18.9\n"
     ]
    },
    {
     "name": "stderr",
     "output_type": "stream",
     "text": [
      " 49%|████▊     | 728/1500 [25:39:06<2:27:35, 11.47s/it]"
     ]
    },
    {
     "name": "stdout",
     "output_type": "stream",
     "text": [
      "Episode 727: Reward: 11.0 | Score: 140.0 | Avg last 10: 18.6\n"
     ]
    },
    {
     "name": "stderr",
     "output_type": "stream",
     "text": [
      " 49%|████▊     | 729/1500 [25:39:19<2:30:51, 11.74s/it]"
     ]
    },
    {
     "name": "stdout",
     "output_type": "stream",
     "text": [
      "Episode 728: Reward: 17.0 | Score: 260.0 | Avg last 10: 18.2\n"
     ]
    },
    {
     "name": "stderr",
     "output_type": "stream",
     "text": [
      " 49%|████▊     | 730/1500 [25:39:32<2:37:46, 12.29s/it]"
     ]
    },
    {
     "name": "stdout",
     "output_type": "stream",
     "text": [
      "Episode 729: Reward: 19.0 | Score: 240.0 | Avg last 10: 19.4\n"
     ]
    },
    {
     "name": "stderr",
     "output_type": "stream",
     "text": [
      " 49%|████▊     | 731/1500 [25:39:43<2:31:49, 11.85s/it]"
     ]
    },
    {
     "name": "stdout",
     "output_type": "stream",
     "text": [
      "Episode 730: Reward: 15.0 | Score: 225.0 | Avg last 10: 17.5\n"
     ]
    },
    {
     "name": "stderr",
     "output_type": "stream",
     "text": [
      " 49%|████▉     | 732/1500 [25:39:55<2:32:00, 11.88s/it]"
     ]
    },
    {
     "name": "stdout",
     "output_type": "stream",
     "text": [
      "Episode 731: Reward: 12.0 | Score: 180.0 | Avg last 10: 16.4\n"
     ]
    },
    {
     "name": "stderr",
     "output_type": "stream",
     "text": [
      " 49%|████▉     | 733/1500 [25:40:04<2:21:50, 11.10s/it]"
     ]
    },
    {
     "name": "stdout",
     "output_type": "stream",
     "text": [
      "Episode 732: Reward: 13.0 | Score: 170.0 | Avg last 10: 16.1\n"
     ]
    },
    {
     "name": "stderr",
     "output_type": "stream",
     "text": [
      " 49%|████▉     | 734/1500 [25:40:18<2:32:46, 11.97s/it]"
     ]
    },
    {
     "name": "stdout",
     "output_type": "stream",
     "text": [
      "Episode 733: Reward: 16.0 | Score: 225.0 | Avg last 10: 16.1\n"
     ]
    },
    {
     "name": "stderr",
     "output_type": "stream",
     "text": [
      " 49%|████▉     | 735/1500 [25:40:31<2:33:45, 12.06s/it]"
     ]
    },
    {
     "name": "stdout",
     "output_type": "stream",
     "text": [
      "Episode 734: Reward: 12.0 | Score: 180.0 | Avg last 10: 16.3\n"
     ]
    },
    {
     "name": "stderr",
     "output_type": "stream",
     "text": [
      " 49%|████▉     | 736/1500 [25:40:48<2:54:31, 13.71s/it]"
     ]
    },
    {
     "name": "stdout",
     "output_type": "stream",
     "text": [
      "Episode 735: Reward: 18.0 | Score: 290.0 | Avg last 10: 16.1\n"
     ]
    },
    {
     "name": "stderr",
     "output_type": "stream",
     "text": [
      " 49%|████▉     | 737/1500 [25:40:59<2:44:15, 12.92s/it]"
     ]
    },
    {
     "name": "stdout",
     "output_type": "stream",
     "text": [
      "Episode 736: Reward: 17.0 | Score: 250.0 | Avg last 10: 15.0\n"
     ]
    },
    {
     "name": "stderr",
     "output_type": "stream",
     "text": [
      " 49%|████▉     | 738/1500 [25:41:12<2:43:00, 12.84s/it]"
     ]
    },
    {
     "name": "stdout",
     "output_type": "stream",
     "text": [
      "Episode 737: Reward: 16.0 | Score: 220.0 | Avg last 10: 15.5\n"
     ]
    },
    {
     "name": "stderr",
     "output_type": "stream",
     "text": [
      " 49%|████▉     | 739/1500 [25:41:28<2:54:37, 13.77s/it]"
     ]
    },
    {
     "name": "stdout",
     "output_type": "stream",
     "text": [
      "Episode 738: Reward: 27.0 | Score: 590.0 | Avg last 10: 16.5\n"
     ]
    },
    {
     "name": "stderr",
     "output_type": "stream",
     "text": [
      " 49%|████▉     | 740/1500 [25:41:46<3:10:07, 15.01s/it]"
     ]
    },
    {
     "name": "stdout",
     "output_type": "stream",
     "text": [
      "Episode 739: Reward: 22.0 | Score: 335.0 | Avg last 10: 16.8\n"
     ]
    },
    {
     "name": "stderr",
     "output_type": "stream",
     "text": [
      " 49%|████▉     | 741/1500 [25:41:54<2:45:17, 13.07s/it]"
     ]
    },
    {
     "name": "stdout",
     "output_type": "stream",
     "text": [
      "Episode 740: Reward: 11.0 | Score: 180.0 | Avg last 10: 16.4\n"
     ]
    },
    {
     "name": "stderr",
     "output_type": "stream",
     "text": [
      " 49%|████▉     | 742/1500 [25:42:08<2:47:55, 13.29s/it]"
     ]
    },
    {
     "name": "stdout",
     "output_type": "stream",
     "text": [
      "Episode 741: Reward: 20.0 | Score: 465.0 | Avg last 10: 17.2\n"
     ]
    },
    {
     "name": "stderr",
     "output_type": "stream",
     "text": [
      " 50%|████▉     | 743/1500 [25:42:21<2:46:30, 13.20s/it]"
     ]
    },
    {
     "name": "stdout",
     "output_type": "stream",
     "text": [
      "Episode 742: Reward: 15.0 | Score: 200.0 | Avg last 10: 17.4\n"
     ]
    },
    {
     "name": "stderr",
     "output_type": "stream",
     "text": [
      " 50%|████▉     | 744/1500 [25:42:37<2:58:06, 14.14s/it]"
     ]
    },
    {
     "name": "stdout",
     "output_type": "stream",
     "text": [
      "Episode 743: Reward: 18.0 | Score: 205.0 | Avg last 10: 17.6\n"
     ]
    },
    {
     "name": "stderr",
     "output_type": "stream",
     "text": [
      " 50%|████▉     | 745/1500 [25:42:47<2:40:46, 12.78s/it]"
     ]
    },
    {
     "name": "stdout",
     "output_type": "stream",
     "text": [
      "Episode 744: Reward: 12.0 | Score: 175.0 | Avg last 10: 17.6\n"
     ]
    },
    {
     "name": "stderr",
     "output_type": "stream",
     "text": [
      " 50%|████▉     | 746/1500 [25:43:02<2:49:15, 13.47s/it]"
     ]
    },
    {
     "name": "stdout",
     "output_type": "stream",
     "text": [
      "Episode 745: Reward: 21.0 | Score: 325.0 | Avg last 10: 17.9\n"
     ]
    },
    {
     "name": "stderr",
     "output_type": "stream",
     "text": [
      " 50%|████▉     | 747/1500 [25:43:12<2:36:41, 12.49s/it]"
     ]
    },
    {
     "name": "stdout",
     "output_type": "stream",
     "text": [
      "Episode 746: Reward: 10.0 | Score: 110.0 | Avg last 10: 17.2\n"
     ]
    },
    {
     "name": "stderr",
     "output_type": "stream",
     "text": [
      " 50%|████▉     | 748/1500 [25:43:26<2:42:10, 12.94s/it]"
     ]
    },
    {
     "name": "stdout",
     "output_type": "stream",
     "text": [
      "Episode 747: Reward: 8.0 | Score: 85.0 | Avg last 10: 16.4\n"
     ]
    },
    {
     "name": "stderr",
     "output_type": "stream",
     "text": [
      " 50%|████▉     | 749/1500 [25:43:45<3:03:21, 14.65s/it]"
     ]
    },
    {
     "name": "stdout",
     "output_type": "stream",
     "text": [
      "Episode 748: Reward: 20.0 | Score: 475.0 | Avg last 10: 15.7\n"
     ]
    },
    {
     "name": "stderr",
     "output_type": "stream",
     "text": [
      " 50%|█████     | 750/1500 [25:43:58<2:57:03, 14.16s/it]"
     ]
    },
    {
     "name": "stdout",
     "output_type": "stream",
     "text": [
      "Episode 749: Reward: 16.0 | Score: 195.0 | Avg last 10: 15.1\n"
     ]
    },
    {
     "name": "stderr",
     "output_type": "stream",
     "text": [
      " 50%|█████     | 751/1500 [25:44:12<2:56:57, 14.17s/it]"
     ]
    },
    {
     "name": "stdout",
     "output_type": "stream",
     "text": [
      "Episode 750: Reward: 19.0 | Score: 470.0 | Avg last 10: 15.9\n"
     ]
    },
    {
     "name": "stderr",
     "output_type": "stream",
     "text": [
      " 50%|█████     | 752/1500 [25:44:28<3:02:23, 14.63s/it]"
     ]
    },
    {
     "name": "stdout",
     "output_type": "stream",
     "text": [
      "Episode 751: Reward: 13.0 | Score: 215.0 | Avg last 10: 15.2\n"
     ]
    },
    {
     "name": "stderr",
     "output_type": "stream",
     "text": [
      " 50%|█████     | 753/1500 [25:44:46<3:16:10, 15.76s/it]"
     ]
    },
    {
     "name": "stdout",
     "output_type": "stream",
     "text": [
      "Episode 752: Reward: 30.0 | Score: 640.0 | Avg last 10: 16.7\n"
     ]
    },
    {
     "name": "stderr",
     "output_type": "stream",
     "text": [
      " 50%|█████     | 754/1500 [25:44:59<3:04:55, 14.87s/it]"
     ]
    },
    {
     "name": "stdout",
     "output_type": "stream",
     "text": [
      "Episode 753: Reward: 25.0 | Score: 395.0 | Avg last 10: 17.4\n"
     ]
    },
    {
     "name": "stderr",
     "output_type": "stream",
     "text": [
      " 50%|█████     | 755/1500 [25:45:11<2:53:27, 13.97s/it]"
     ]
    },
    {
     "name": "stdout",
     "output_type": "stream",
     "text": [
      "Episode 754: Reward: 17.0 | Score: 245.0 | Avg last 10: 17.9\n"
     ]
    },
    {
     "name": "stderr",
     "output_type": "stream",
     "text": [
      " 50%|█████     | 756/1500 [25:45:24<2:49:14, 13.65s/it]"
     ]
    },
    {
     "name": "stdout",
     "output_type": "stream",
     "text": [
      "Episode 755: Reward: 15.0 | Score: 230.0 | Avg last 10: 17.3\n"
     ]
    },
    {
     "name": "stderr",
     "output_type": "stream",
     "text": [
      " 50%|█████     | 757/1500 [25:45:37<2:47:50, 13.55s/it]"
     ]
    },
    {
     "name": "stdout",
     "output_type": "stream",
     "text": [
      "Episode 756: Reward: 20.0 | Score: 275.0 | Avg last 10: 18.3\n"
     ]
    },
    {
     "name": "stderr",
     "output_type": "stream",
     "text": [
      " 51%|█████     | 758/1500 [25:45:51<2:47:14, 13.52s/it]"
     ]
    },
    {
     "name": "stdout",
     "output_type": "stream",
     "text": [
      "Episode 757: Reward: 15.0 | Score: 215.0 | Avg last 10: 19.0\n"
     ]
    },
    {
     "name": "stderr",
     "output_type": "stream",
     "text": [
      " 51%|█████     | 759/1500 [25:46:06<2:55:05, 14.18s/it]"
     ]
    },
    {
     "name": "stdout",
     "output_type": "stream",
     "text": [
      "Episode 758: Reward: 19.0 | Score: 245.0 | Avg last 10: 18.9\n"
     ]
    },
    {
     "name": "stderr",
     "output_type": "stream",
     "text": [
      " 51%|█████     | 760/1500 [25:46:19<2:50:30, 13.82s/it]"
     ]
    },
    {
     "name": "stdout",
     "output_type": "stream",
     "text": [
      "Episode 759: Reward: 24.0 | Score: 365.0 | Avg last 10: 19.7\n"
     ]
    },
    {
     "name": "stderr",
     "output_type": "stream",
     "text": [
      " 51%|█████     | 761/1500 [25:46:29<2:33:53, 12.49s/it]"
     ]
    },
    {
     "name": "stdout",
     "output_type": "stream",
     "text": [
      "Episode 760: Reward: 11.0 | Score: 145.0 | Avg last 10: 18.9\n"
     ]
    },
    {
     "name": "stderr",
     "output_type": "stream",
     "text": [
      " 51%|█████     | 762/1500 [25:46:42<2:37:07, 12.77s/it]"
     ]
    },
    {
     "name": "stdout",
     "output_type": "stream",
     "text": [
      "Episode 761: Reward: 16.0 | Score: 235.0 | Avg last 10: 19.2\n"
     ]
    },
    {
     "name": "stderr",
     "output_type": "stream",
     "text": [
      " 51%|█████     | 763/1500 [25:46:55<2:35:45, 12.68s/it]"
     ]
    },
    {
     "name": "stdout",
     "output_type": "stream",
     "text": [
      "Episode 762: Reward: 15.0 | Score: 185.0 | Avg last 10: 17.7\n"
     ]
    },
    {
     "name": "stderr",
     "output_type": "stream",
     "text": [
      " 51%|█████     | 764/1500 [25:47:04<2:23:10, 11.67s/it]"
     ]
    },
    {
     "name": "stdout",
     "output_type": "stream",
     "text": [
      "Episode 763: Reward: 13.0 | Score: 175.0 | Avg last 10: 16.5\n"
     ]
    },
    {
     "name": "stderr",
     "output_type": "stream",
     "text": [
      " 51%|█████     | 765/1500 [25:47:26<3:00:38, 14.75s/it]"
     ]
    },
    {
     "name": "stdout",
     "output_type": "stream",
     "text": [
      "Episode 764: Reward: 21.0 | Score: 325.0 | Avg last 10: 16.9\n"
     ]
    },
    {
     "name": "stderr",
     "output_type": "stream",
     "text": [
      " 51%|█████     | 766/1500 [25:47:37<2:46:16, 13.59s/it]"
     ]
    },
    {
     "name": "stdout",
     "output_type": "stream",
     "text": [
      "Episode 765: Reward: 16.0 | Score: 220.0 | Avg last 10: 17.0\n"
     ]
    },
    {
     "name": "stderr",
     "output_type": "stream",
     "text": [
      " 51%|█████     | 767/1500 [25:47:56<3:06:40, 15.28s/it]"
     ]
    },
    {
     "name": "stdout",
     "output_type": "stream",
     "text": [
      "Episode 766: Reward: 31.0 | Score: 495.0 | Avg last 10: 18.1\n"
     ]
    },
    {
     "name": "stderr",
     "output_type": "stream",
     "text": [
      " 51%|█████     | 768/1500 [25:48:02<2:33:29, 12.58s/it]"
     ]
    },
    {
     "name": "stdout",
     "output_type": "stream",
     "text": [
      "Episode 767: Reward: 6.0 | Score: 75.0 | Avg last 10: 17.2\n"
     ]
    },
    {
     "name": "stderr",
     "output_type": "stream",
     "text": [
      " 51%|█████▏    | 769/1500 [25:48:16<2:38:31, 13.01s/it]"
     ]
    },
    {
     "name": "stdout",
     "output_type": "stream",
     "text": [
      "Episode 768: Reward: 15.0 | Score: 185.0 | Avg last 10: 16.8\n"
     ]
    },
    {
     "name": "stderr",
     "output_type": "stream",
     "text": [
      " 51%|█████▏    | 770/1500 [25:48:29<2:38:31, 13.03s/it]"
     ]
    },
    {
     "name": "stdout",
     "output_type": "stream",
     "text": [
      "Episode 769: Reward: 19.0 | Score: 315.0 | Avg last 10: 16.3\n"
     ]
    },
    {
     "name": "stderr",
     "output_type": "stream",
     "text": [
      " 51%|█████▏    | 771/1500 [25:48:44<2:42:52, 13.40s/it]"
     ]
    },
    {
     "name": "stdout",
     "output_type": "stream",
     "text": [
      "Episode 770: Reward: 18.0 | Score: 435.0 | Avg last 10: 17.0\n"
     ]
    },
    {
     "name": "stderr",
     "output_type": "stream",
     "text": [
      " 51%|█████▏    | 772/1500 [25:49:03<3:05:28, 15.29s/it]"
     ]
    },
    {
     "name": "stdout",
     "output_type": "stream",
     "text": [
      "Episode 771: Reward: 30.0 | Score: 485.0 | Avg last 10: 18.4\n"
     ]
    },
    {
     "name": "stderr",
     "output_type": "stream",
     "text": [
      " 52%|█████▏    | 773/1500 [25:49:17<2:58:34, 14.74s/it]"
     ]
    },
    {
     "name": "stdout",
     "output_type": "stream",
     "text": [
      "Episode 772: Reward: 19.0 | Score: 245.0 | Avg last 10: 18.8\n"
     ]
    },
    {
     "name": "stderr",
     "output_type": "stream",
     "text": [
      " 52%|█████▏    | 774/1500 [25:49:27<2:42:20, 13.42s/it]"
     ]
    },
    {
     "name": "stdout",
     "output_type": "stream",
     "text": [
      "Episode 773: Reward: 14.0 | Score: 225.0 | Avg last 10: 18.9\n"
     ]
    },
    {
     "name": "stderr",
     "output_type": "stream",
     "text": [
      " 52%|█████▏    | 775/1500 [25:49:39<2:37:52, 13.07s/it]"
     ]
    },
    {
     "name": "stdout",
     "output_type": "stream",
     "text": [
      "Episode 774: Reward: 19.0 | Score: 255.0 | Avg last 10: 18.7\n"
     ]
    },
    {
     "name": "stderr",
     "output_type": "stream",
     "text": [
      " 52%|█████▏    | 776/1500 [25:49:48<2:22:42, 11.83s/it]"
     ]
    },
    {
     "name": "stdout",
     "output_type": "stream",
     "text": [
      "Episode 775: Reward: 12.0 | Score: 210.0 | Avg last 10: 18.3\n"
     ]
    },
    {
     "name": "stderr",
     "output_type": "stream",
     "text": [
      " 52%|█████▏    | 777/1500 [25:50:01<2:27:10, 12.21s/it]"
     ]
    },
    {
     "name": "stdout",
     "output_type": "stream",
     "text": [
      "Episode 776: Reward: 20.0 | Score: 315.0 | Avg last 10: 17.2\n"
     ]
    },
    {
     "name": "stderr",
     "output_type": "stream",
     "text": [
      " 52%|█████▏    | 778/1500 [25:50:11<2:17:03, 11.39s/it]"
     ]
    },
    {
     "name": "stdout",
     "output_type": "stream",
     "text": [
      "Episode 777: Reward: 12.0 | Score: 150.0 | Avg last 10: 17.8\n"
     ]
    },
    {
     "name": "stderr",
     "output_type": "stream",
     "text": [
      " 52%|█████▏    | 779/1500 [25:50:29<2:40:01, 13.32s/it]"
     ]
    },
    {
     "name": "stdout",
     "output_type": "stream",
     "text": [
      "Episode 778: Reward: 26.0 | Score: 390.0 | Avg last 10: 18.9\n"
     ]
    },
    {
     "name": "stderr",
     "output_type": "stream",
     "text": [
      " 52%|█████▏    | 780/1500 [25:50:36<2:18:20, 11.53s/it]"
     ]
    },
    {
     "name": "stdout",
     "output_type": "stream",
     "text": [
      "Episode 779: Reward: 8.0 | Score: 85.0 | Avg last 10: 17.8\n"
     ]
    },
    {
     "name": "stderr",
     "output_type": "stream",
     "text": [
      " 52%|█████▏    | 781/1500 [25:50:46<2:11:23, 10.96s/it]"
     ]
    },
    {
     "name": "stdout",
     "output_type": "stream",
     "text": [
      "Episode 780: Reward: 11.0 | Score: 150.0 | Avg last 10: 17.1\n"
     ]
    },
    {
     "name": "stderr",
     "output_type": "stream",
     "text": [
      " 52%|█████▏    | 782/1500 [25:50:54<1:59:49, 10.01s/it]"
     ]
    },
    {
     "name": "stdout",
     "output_type": "stream",
     "text": [
      "Episode 781: Reward: 12.0 | Score: 115.0 | Avg last 10: 15.3\n"
     ]
    },
    {
     "name": "stderr",
     "output_type": "stream",
     "text": [
      " 52%|█████▏    | 783/1500 [25:51:04<2:00:27, 10.08s/it]"
     ]
    },
    {
     "name": "stdout",
     "output_type": "stream",
     "text": [
      "Episode 782: Reward: 14.0 | Score: 160.0 | Avg last 10: 14.8\n"
     ]
    },
    {
     "name": "stderr",
     "output_type": "stream",
     "text": [
      " 52%|█████▏    | 784/1500 [25:51:14<2:02:35, 10.27s/it]"
     ]
    },
    {
     "name": "stdout",
     "output_type": "stream",
     "text": [
      "Episode 783: Reward: 23.0 | Score: 355.0 | Avg last 10: 15.7\n"
     ]
    },
    {
     "name": "stderr",
     "output_type": "stream",
     "text": [
      " 52%|█████▏    | 785/1500 [25:51:25<2:03:58, 10.40s/it]"
     ]
    },
    {
     "name": "stdout",
     "output_type": "stream",
     "text": [
      "Episode 784: Reward: 15.0 | Score: 230.0 | Avg last 10: 15.3\n"
     ]
    },
    {
     "name": "stderr",
     "output_type": "stream",
     "text": [
      " 52%|█████▏    | 786/1500 [25:51:39<2:15:26, 11.38s/it]"
     ]
    },
    {
     "name": "stdout",
     "output_type": "stream",
     "text": [
      "Episode 785: Reward: 20.0 | Score: 245.0 | Avg last 10: 16.1\n"
     ]
    },
    {
     "name": "stderr",
     "output_type": "stream",
     "text": [
      " 52%|█████▏    | 787/1500 [25:51:45<1:56:31,  9.81s/it]"
     ]
    },
    {
     "name": "stdout",
     "output_type": "stream",
     "text": [
      "Episode 786: Reward: 9.0 | Score: 125.0 | Avg last 10: 15.0\n"
     ]
    },
    {
     "name": "stderr",
     "output_type": "stream",
     "text": [
      " 53%|█████▎    | 788/1500 [25:51:57<2:05:42, 10.59s/it]"
     ]
    },
    {
     "name": "stdout",
     "output_type": "stream",
     "text": [
      "Episode 787: Reward: 9.0 | Score: 120.0 | Avg last 10: 14.7\n"
     ]
    },
    {
     "name": "stderr",
     "output_type": "stream",
     "text": [
      " 53%|█████▎    | 789/1500 [25:52:15<2:29:42, 12.63s/it]"
     ]
    },
    {
     "name": "stdout",
     "output_type": "stream",
     "text": [
      "Episode 788: Reward: 20.0 | Score: 280.0 | Avg last 10: 14.1\n"
     ]
    },
    {
     "name": "stderr",
     "output_type": "stream",
     "text": [
      " 53%|█████▎    | 790/1500 [25:52:27<2:29:27, 12.63s/it]"
     ]
    },
    {
     "name": "stdout",
     "output_type": "stream",
     "text": [
      "Episode 789: Reward: 25.0 | Score: 375.0 | Avg last 10: 15.8\n"
     ]
    },
    {
     "name": "stderr",
     "output_type": "stream",
     "text": [
      " 53%|█████▎    | 791/1500 [25:52:46<2:49:24, 14.34s/it]"
     ]
    },
    {
     "name": "stdout",
     "output_type": "stream",
     "text": [
      "Episode 790: Reward: 26.0 | Score: 395.0 | Avg last 10: 17.3\n"
     ]
    },
    {
     "name": "stderr",
     "output_type": "stream",
     "text": [
      " 53%|█████▎    | 792/1500 [25:52:57<2:39:37, 13.53s/it]"
     ]
    },
    {
     "name": "stdout",
     "output_type": "stream",
     "text": [
      "Episode 791: Reward: 19.0 | Score: 280.0 | Avg last 10: 18.0\n"
     ]
    },
    {
     "name": "stderr",
     "output_type": "stream",
     "text": [
      " 53%|█████▎    | 793/1500 [25:53:11<2:39:21, 13.52s/it]"
     ]
    },
    {
     "name": "stdout",
     "output_type": "stream",
     "text": [
      "Episode 792: Reward: 18.0 | Score: 225.0 | Avg last 10: 18.4\n"
     ]
    },
    {
     "name": "stderr",
     "output_type": "stream",
     "text": [
      " 53%|█████▎    | 794/1500 [25:53:19<2:21:35, 12.03s/it]"
     ]
    },
    {
     "name": "stdout",
     "output_type": "stream",
     "text": [
      "Episode 793: Reward: 6.0 | Score: 80.0 | Avg last 10: 16.7\n"
     ]
    },
    {
     "name": "stderr",
     "output_type": "stream",
     "text": [
      " 53%|█████▎    | 795/1500 [25:53:28<2:09:00, 10.98s/it]"
     ]
    },
    {
     "name": "stdout",
     "output_type": "stream",
     "text": [
      "Episode 794: Reward: 9.0 | Score: 135.0 | Avg last 10: 16.1\n"
     ]
    },
    {
     "name": "stderr",
     "output_type": "stream",
     "text": [
      " 53%|█████▎    | 796/1500 [25:53:43<2:23:19, 12.21s/it]"
     ]
    },
    {
     "name": "stdout",
     "output_type": "stream",
     "text": [
      "Episode 795: Reward: 15.0 | Score: 215.0 | Avg last 10: 15.6\n"
     ]
    },
    {
     "name": "stderr",
     "output_type": "stream",
     "text": [
      " 53%|█████▎    | 797/1500 [25:54:03<2:52:00, 14.68s/it]"
     ]
    },
    {
     "name": "stdout",
     "output_type": "stream",
     "text": [
      "Episode 796: Reward: 32.0 | Score: 700.0 | Avg last 10: 17.9\n"
     ]
    },
    {
     "name": "stderr",
     "output_type": "stream",
     "text": [
      " 53%|█████▎    | 798/1500 [25:54:19<2:53:39, 14.84s/it]"
     ]
    },
    {
     "name": "stdout",
     "output_type": "stream",
     "text": [
      "Episode 797: Reward: 15.0 | Score: 160.0 | Avg last 10: 18.5\n"
     ]
    },
    {
     "name": "stderr",
     "output_type": "stream",
     "text": [
      " 53%|█████▎    | 799/1500 [25:54:35<2:58:32, 15.28s/it]"
     ]
    },
    {
     "name": "stdout",
     "output_type": "stream",
     "text": [
      "Episode 798: Reward: 24.0 | Score: 525.0 | Avg last 10: 18.9\n"
     ]
    },
    {
     "name": "stderr",
     "output_type": "stream",
     "text": [
      " 53%|█████▎    | 800/1500 [25:54:55<3:15:25, 16.75s/it]"
     ]
    },
    {
     "name": "stdout",
     "output_type": "stream",
     "text": [
      "Episode 799: Reward: 31.0 | Score: 490.0 | Avg last 10: 19.5\n",
      "Episode 800: Reward: 14.0 | Score: 160.0 | Avg last 10: 18.3\n"
     ]
    },
    {
     "name": "stderr",
     "output_type": "stream",
     "text": [
      " 53%|█████▎    | 801/1500 [25:55:08<3:02:32, 15.67s/it]"
     ]
    },
    {
     "name": "stdout",
     "output_type": "stream",
     "text": [
      "Recompensa media en test: 240.00\n",
      "Evaluación @ 800 ep -> reward media: 240.0\n"
     ]
    },
    {
     "name": "stderr",
     "output_type": "stream",
     "text": [
      " 53%|█████▎    | 802/1500 [25:55:21<2:52:20, 14.81s/it]"
     ]
    },
    {
     "name": "stdout",
     "output_type": "stream",
     "text": [
      "Episode 801: Reward: 18.0 | Score: 270.0 | Avg last 10: 18.2\n"
     ]
    },
    {
     "name": "stderr",
     "output_type": "stream",
     "text": [
      " 54%|█████▎    | 803/1500 [25:55:33<2:41:54, 13.94s/it]"
     ]
    },
    {
     "name": "stdout",
     "output_type": "stream",
     "text": [
      "Episode 802: Reward: 10.0 | Score: 165.0 | Avg last 10: 17.4\n"
     ]
    },
    {
     "name": "stderr",
     "output_type": "stream",
     "text": [
      " 54%|█████▎    | 804/1500 [25:55:47<2:40:18, 13.82s/it]"
     ]
    },
    {
     "name": "stdout",
     "output_type": "stream",
     "text": [
      "Episode 803: Reward: 22.0 | Score: 310.0 | Avg last 10: 19.0\n"
     ]
    },
    {
     "name": "stderr",
     "output_type": "stream",
     "text": [
      " 54%|█████▎    | 805/1500 [25:55:59<2:36:23, 13.50s/it]"
     ]
    },
    {
     "name": "stdout",
     "output_type": "stream",
     "text": [
      "Episode 804: Reward: 17.0 | Score: 235.0 | Avg last 10: 19.8\n"
     ]
    },
    {
     "name": "stderr",
     "output_type": "stream",
     "text": [
      " 54%|█████▎    | 806/1500 [25:56:16<2:48:42, 14.59s/it]"
     ]
    },
    {
     "name": "stdout",
     "output_type": "stream",
     "text": [
      "Episode 805: Reward: 24.0 | Score: 345.0 | Avg last 10: 20.7\n",
      "Modelo guardado - Recompensa normalizada media últimos 10: 20.7\n"
     ]
    },
    {
     "name": "stderr",
     "output_type": "stream",
     "text": [
      " 54%|█████▍    | 807/1500 [25:56:27<2:32:39, 13.22s/it]"
     ]
    },
    {
     "name": "stdout",
     "output_type": "stream",
     "text": [
      "Episode 806: Reward: 8.0 | Score: 105.0 | Avg last 10: 18.3\n"
     ]
    },
    {
     "name": "stderr",
     "output_type": "stream",
     "text": [
      " 54%|█████▍    | 808/1500 [25:56:47<2:56:22, 15.29s/it]"
     ]
    },
    {
     "name": "stdout",
     "output_type": "stream",
     "text": [
      "Episode 807: Reward: 29.0 | Score: 475.0 | Avg last 10: 19.7\n"
     ]
    },
    {
     "name": "stderr",
     "output_type": "stream",
     "text": [
      " 54%|█████▍    | 809/1500 [25:56:58<2:44:12, 14.26s/it]"
     ]
    },
    {
     "name": "stdout",
     "output_type": "stream",
     "text": [
      "Episode 808: Reward: 12.0 | Score: 185.0 | Avg last 10: 18.5\n"
     ]
    },
    {
     "name": "stderr",
     "output_type": "stream",
     "text": [
      " 54%|█████▍    | 810/1500 [25:57:19<3:06:45, 16.24s/it]"
     ]
    },
    {
     "name": "stdout",
     "output_type": "stream",
     "text": [
      "Episode 809: Reward: 30.0 | Score: 465.0 | Avg last 10: 18.4\n"
     ]
    },
    {
     "name": "stderr",
     "output_type": "stream",
     "text": [
      " 54%|█████▍    | 811/1500 [25:57:31<2:51:35, 14.94s/it]"
     ]
    },
    {
     "name": "stdout",
     "output_type": "stream",
     "text": [
      "Episode 810: Reward: 16.0 | Score: 265.0 | Avg last 10: 18.6\n"
     ]
    },
    {
     "name": "stderr",
     "output_type": "stream",
     "text": [
      " 54%|█████▍    | 812/1500 [25:57:49<3:00:36, 15.75s/it]"
     ]
    },
    {
     "name": "stdout",
     "output_type": "stream",
     "text": [
      "Episode 811: Reward: 23.0 | Score: 530.0 | Avg last 10: 19.1\n"
     ]
    },
    {
     "name": "stderr",
     "output_type": "stream",
     "text": [
      " 54%|█████▍    | 813/1500 [25:57:57<2:32:35, 13.33s/it]"
     ]
    },
    {
     "name": "stdout",
     "output_type": "stream",
     "text": [
      "Episode 812: Reward: 9.0 | Score: 105.0 | Avg last 10: 19.0\n"
     ]
    },
    {
     "name": "stderr",
     "output_type": "stream",
     "text": [
      " 54%|█████▍    | 814/1500 [25:58:23<3:16:51, 17.22s/it]"
     ]
    },
    {
     "name": "stdout",
     "output_type": "stream",
     "text": [
      "Episode 813: Reward: 33.0 | Score: 555.0 | Avg last 10: 20.1\n",
      "Modelo guardado - Recompensa normalizada media últimos 10: 20.1\n"
     ]
    },
    {
     "name": "stderr",
     "output_type": "stream",
     "text": [
      " 54%|█████▍    | 815/1500 [25:58:42<3:22:33, 17.74s/it]"
     ]
    },
    {
     "name": "stdout",
     "output_type": "stream",
     "text": [
      "Episode 814: Reward: 36.0 | Score: 800.0 | Avg last 10: 22.0\n",
      "Modelo guardado - Recompensa normalizada media últimos 10: 22.0\n"
     ]
    },
    {
     "name": "stderr",
     "output_type": "stream",
     "text": [
      " 54%|█████▍    | 816/1500 [25:58:54<3:03:52, 16.13s/it]"
     ]
    },
    {
     "name": "stdout",
     "output_type": "stream",
     "text": [
      "Episode 815: Reward: 21.0 | Score: 490.0 | Avg last 10: 21.7\n",
      "Modelo guardado - Recompensa normalizada media últimos 10: 21.7\n"
     ]
    },
    {
     "name": "stderr",
     "output_type": "stream",
     "text": [
      " 54%|█████▍    | 817/1500 [25:59:01<2:31:58, 13.35s/it]"
     ]
    },
    {
     "name": "stdout",
     "output_type": "stream",
     "text": [
      "Episode 816: Reward: 9.0 | Score: 105.0 | Avg last 10: 21.8\n",
      "Modelo guardado - Recompensa normalizada media últimos 10: 21.8\n"
     ]
    },
    {
     "name": "stderr",
     "output_type": "stream",
     "text": [
      " 55%|█████▍    | 818/1500 [25:59:14<2:31:34, 13.33s/it]"
     ]
    },
    {
     "name": "stdout",
     "output_type": "stream",
     "text": [
      "Episode 817: Reward: 21.0 | Score: 295.0 | Avg last 10: 21.0\n",
      "Modelo guardado - Recompensa normalizada media últimos 10: 21.0\n"
     ]
    },
    {
     "name": "stderr",
     "output_type": "stream",
     "text": [
      " 55%|█████▍    | 819/1500 [25:59:24<2:17:25, 12.11s/it]"
     ]
    },
    {
     "name": "stdout",
     "output_type": "stream",
     "text": [
      "Episode 818: Reward: 9.0 | Score: 115.0 | Avg last 10: 20.7\n",
      "Modelo guardado - Recompensa normalizada media últimos 10: 20.7\n"
     ]
    },
    {
     "name": "stderr",
     "output_type": "stream",
     "text": [
      " 55%|█████▍    | 820/1500 [25:59:32<2:04:52, 11.02s/it]"
     ]
    },
    {
     "name": "stdout",
     "output_type": "stream",
     "text": [
      "Episode 819: Reward: 8.0 | Score: 95.0 | Avg last 10: 18.5\n"
     ]
    },
    {
     "name": "stderr",
     "output_type": "stream",
     "text": [
      " 55%|█████▍    | 821/1500 [25:59:39<1:49:05,  9.64s/it]"
     ]
    },
    {
     "name": "stdout",
     "output_type": "stream",
     "text": [
      "Episode 820: Reward: 6.0 | Score: 50.0 | Avg last 10: 17.5\n"
     ]
    },
    {
     "name": "stderr",
     "output_type": "stream",
     "text": [
      " 55%|█████▍    | 822/1500 [25:59:53<2:04:38, 11.03s/it]"
     ]
    },
    {
     "name": "stdout",
     "output_type": "stream",
     "text": [
      "Episode 821: Reward: 18.0 | Score: 205.0 | Avg last 10: 17.0\n"
     ]
    },
    {
     "name": "stderr",
     "output_type": "stream",
     "text": [
      " 55%|█████▍    | 823/1500 [26:00:07<2:14:28, 11.92s/it]"
     ]
    },
    {
     "name": "stdout",
     "output_type": "stream",
     "text": [
      "Episode 822: Reward: 19.0 | Score: 300.0 | Avg last 10: 18.0\n"
     ]
    },
    {
     "name": "stderr",
     "output_type": "stream",
     "text": [
      " 55%|█████▍    | 824/1500 [26:00:19<2:14:35, 11.95s/it]"
     ]
    },
    {
     "name": "stdout",
     "output_type": "stream",
     "text": [
      "Episode 823: Reward: 17.0 | Score: 235.0 | Avg last 10: 16.4\n"
     ]
    },
    {
     "name": "stderr",
     "output_type": "stream",
     "text": [
      " 55%|█████▌    | 825/1500 [26:00:26<1:58:27, 10.53s/it]"
     ]
    },
    {
     "name": "stdout",
     "output_type": "stream",
     "text": [
      "Episode 824: Reward: 11.0 | Score: 165.0 | Avg last 10: 13.9\n"
     ]
    },
    {
     "name": "stderr",
     "output_type": "stream",
     "text": [
      " 55%|█████▌    | 826/1500 [26:00:34<1:50:45,  9.86s/it]"
     ]
    },
    {
     "name": "stdout",
     "output_type": "stream",
     "text": [
      "Episode 825: Reward: 10.0 | Score: 155.0 | Avg last 10: 12.8\n"
     ]
    },
    {
     "name": "stderr",
     "output_type": "stream",
     "text": [
      " 55%|█████▌    | 827/1500 [26:00:49<2:05:28, 11.19s/it]"
     ]
    },
    {
     "name": "stdout",
     "output_type": "stream",
     "text": [
      "Episode 826: Reward: 26.0 | Score: 370.0 | Avg last 10: 14.5\n"
     ]
    },
    {
     "name": "stderr",
     "output_type": "stream",
     "text": [
      " 55%|█████▌    | 828/1500 [26:01:04<2:19:06, 12.42s/it]"
     ]
    },
    {
     "name": "stdout",
     "output_type": "stream",
     "text": [
      "Episode 827: Reward: 17.0 | Score: 235.0 | Avg last 10: 14.1\n"
     ]
    },
    {
     "name": "stderr",
     "output_type": "stream",
     "text": [
      " 55%|█████▌    | 829/1500 [26:01:11<2:02:22, 10.94s/it]"
     ]
    },
    {
     "name": "stdout",
     "output_type": "stream",
     "text": [
      "Episode 828: Reward: 11.0 | Score: 150.0 | Avg last 10: 14.3\n"
     ]
    },
    {
     "name": "stderr",
     "output_type": "stream",
     "text": [
      " 55%|█████▌    | 830/1500 [26:01:19<1:51:09,  9.95s/it]"
     ]
    },
    {
     "name": "stdout",
     "output_type": "stream",
     "text": [
      "Episode 829: Reward: 11.0 | Score: 135.0 | Avg last 10: 14.6\n"
     ]
    },
    {
     "name": "stderr",
     "output_type": "stream",
     "text": [
      " 55%|█████▌    | 831/1500 [26:01:26<1:39:39,  8.94s/it]"
     ]
    },
    {
     "name": "stdout",
     "output_type": "stream",
     "text": [
      "Episode 830: Reward: 9.0 | Score: 110.0 | Avg last 10: 14.9\n"
     ]
    },
    {
     "name": "stderr",
     "output_type": "stream",
     "text": [
      " 55%|█████▌    | 832/1500 [26:01:33<1:32:47,  8.33s/it]"
     ]
    },
    {
     "name": "stdout",
     "output_type": "stream",
     "text": [
      "Episode 831: Reward: 12.0 | Score: 165.0 | Avg last 10: 14.3\n"
     ]
    },
    {
     "name": "stderr",
     "output_type": "stream",
     "text": [
      " 56%|█████▌    | 833/1500 [26:01:43<1:39:15,  8.93s/it]"
     ]
    },
    {
     "name": "stdout",
     "output_type": "stream",
     "text": [
      "Episode 832: Reward: 16.0 | Score: 190.0 | Avg last 10: 14.0\n"
     ]
    },
    {
     "name": "stderr",
     "output_type": "stream",
     "text": [
      " 56%|█████▌    | 834/1500 [26:01:51<1:35:06,  8.57s/it]"
     ]
    },
    {
     "name": "stdout",
     "output_type": "stream",
     "text": [
      "Episode 833: Reward: 7.0 | Score: 75.0 | Avg last 10: 13.0\n"
     ]
    },
    {
     "name": "stderr",
     "output_type": "stream",
     "text": [
      " 56%|█████▌    | 835/1500 [26:02:02<1:44:30,  9.43s/it]"
     ]
    },
    {
     "name": "stdout",
     "output_type": "stream",
     "text": [
      "Episode 834: Reward: 15.0 | Score: 400.0 | Avg last 10: 13.4\n"
     ]
    },
    {
     "name": "stderr",
     "output_type": "stream",
     "text": [
      " 56%|█████▌    | 836/1500 [26:02:07<1:30:28,  8.18s/it]"
     ]
    },
    {
     "name": "stdout",
     "output_type": "stream",
     "text": [
      "Episode 835: Reward: 6.0 | Score: 65.0 | Avg last 10: 13.0\n"
     ]
    },
    {
     "name": "stderr",
     "output_type": "stream",
     "text": [
      " 56%|█████▌    | 837/1500 [26:02:13<1:23:46,  7.58s/it]"
     ]
    },
    {
     "name": "stdout",
     "output_type": "stream",
     "text": [
      "Episode 836: Reward: 9.0 | Score: 95.0 | Avg last 10: 11.3\n"
     ]
    },
    {
     "name": "stderr",
     "output_type": "stream",
     "text": [
      " 56%|█████▌    | 838/1500 [26:02:26<1:39:16,  9.00s/it]"
     ]
    },
    {
     "name": "stdout",
     "output_type": "stream",
     "text": [
      "Episode 837: Reward: 15.0 | Score: 220.0 | Avg last 10: 11.1\n"
     ]
    },
    {
     "name": "stderr",
     "output_type": "stream",
     "text": [
      " 56%|█████▌    | 839/1500 [26:02:35<1:39:32,  9.04s/it]"
     ]
    },
    {
     "name": "stdout",
     "output_type": "stream",
     "text": [
      "Episode 838: Reward: 11.0 | Score: 140.0 | Avg last 10: 11.1\n"
     ]
    },
    {
     "name": "stderr",
     "output_type": "stream",
     "text": [
      " 56%|█████▌    | 840/1500 [26:02:54<2:11:47, 11.98s/it]"
     ]
    },
    {
     "name": "stdout",
     "output_type": "stream",
     "text": [
      "Episode 839: Reward: 30.0 | Score: 655.0 | Avg last 10: 13.0\n"
     ]
    },
    {
     "name": "stderr",
     "output_type": "stream",
     "text": [
      " 56%|█████▌    | 841/1500 [26:03:06<2:13:48, 12.18s/it]"
     ]
    },
    {
     "name": "stdout",
     "output_type": "stream",
     "text": [
      "Episode 840: Reward: 14.0 | Score: 170.0 | Avg last 10: 13.5\n"
     ]
    },
    {
     "name": "stderr",
     "output_type": "stream",
     "text": [
      " 56%|█████▌    | 842/1500 [26:03:19<2:13:48, 12.20s/it]"
     ]
    },
    {
     "name": "stdout",
     "output_type": "stream",
     "text": [
      "Episode 841: Reward: 21.0 | Score: 330.0 | Avg last 10: 14.4\n"
     ]
    },
    {
     "name": "stderr",
     "output_type": "stream",
     "text": [
      " 56%|█████▌    | 843/1500 [26:03:29<2:06:30, 11.55s/it]"
     ]
    },
    {
     "name": "stdout",
     "output_type": "stream",
     "text": [
      "Episode 842: Reward: 11.0 | Score: 140.0 | Avg last 10: 13.9\n"
     ]
    },
    {
     "name": "stderr",
     "output_type": "stream",
     "text": [
      " 56%|█████▋    | 844/1500 [26:03:38<2:00:21, 11.01s/it]"
     ]
    },
    {
     "name": "stdout",
     "output_type": "stream",
     "text": [
      "Episode 843: Reward: 11.0 | Score: 160.0 | Avg last 10: 14.3\n"
     ]
    },
    {
     "name": "stderr",
     "output_type": "stream",
     "text": [
      " 56%|█████▋    | 845/1500 [26:03:48<1:55:16, 10.56s/it]"
     ]
    },
    {
     "name": "stdout",
     "output_type": "stream",
     "text": [
      "Episode 844: Reward: 12.0 | Score: 185.0 | Avg last 10: 14.0\n"
     ]
    },
    {
     "name": "stderr",
     "output_type": "stream",
     "text": [
      " 56%|█████▋    | 846/1500 [26:03:55<1:44:45,  9.61s/it]"
     ]
    },
    {
     "name": "stdout",
     "output_type": "stream",
     "text": [
      "Episode 845: Reward: 9.0 | Score: 125.0 | Avg last 10: 14.3\n"
     ]
    },
    {
     "name": "stderr",
     "output_type": "stream",
     "text": [
      " 56%|█████▋    | 847/1500 [26:04:09<1:57:21, 10.78s/it]"
     ]
    },
    {
     "name": "stdout",
     "output_type": "stream",
     "text": [
      "Episode 846: Reward: 18.0 | Score: 265.0 | Avg last 10: 15.2\n"
     ]
    },
    {
     "name": "stderr",
     "output_type": "stream",
     "text": [
      " 57%|█████▋    | 848/1500 [26:04:23<2:08:10, 11.80s/it]"
     ]
    },
    {
     "name": "stdout",
     "output_type": "stream",
     "text": [
      "Episode 847: Reward: 26.0 | Score: 395.0 | Avg last 10: 16.3\n"
     ]
    },
    {
     "name": "stderr",
     "output_type": "stream",
     "text": [
      " 57%|█████▋    | 849/1500 [26:04:29<1:48:26, 10.00s/it]"
     ]
    },
    {
     "name": "stdout",
     "output_type": "stream",
     "text": [
      "Episode 848: Reward: 6.0 | Score: 80.0 | Avg last 10: 15.8\n"
     ]
    },
    {
     "name": "stderr",
     "output_type": "stream",
     "text": [
      " 57%|█████▋    | 850/1500 [26:04:38<1:45:28,  9.74s/it]"
     ]
    },
    {
     "name": "stdout",
     "output_type": "stream",
     "text": [
      "Episode 849: Reward: 12.0 | Score: 155.0 | Avg last 10: 14.0\n"
     ]
    },
    {
     "name": "stderr",
     "output_type": "stream",
     "text": [
      " 57%|█████▋    | 851/1500 [26:04:50<1:54:31, 10.59s/it]"
     ]
    },
    {
     "name": "stdout",
     "output_type": "stream",
     "text": [
      "Episode 850: Reward: 17.0 | Score: 415.0 | Avg last 10: 14.3\n"
     ]
    },
    {
     "name": "stderr",
     "output_type": "stream",
     "text": [
      " 57%|█████▋    | 852/1500 [26:05:01<1:54:51, 10.63s/it]"
     ]
    },
    {
     "name": "stdout",
     "output_type": "stream",
     "text": [
      "Episode 851: Reward: 9.0 | Score: 135.0 | Avg last 10: 13.1\n"
     ]
    },
    {
     "name": "stderr",
     "output_type": "stream",
     "text": [
      " 57%|█████▋    | 853/1500 [26:05:12<1:55:09, 10.68s/it]"
     ]
    },
    {
     "name": "stdout",
     "output_type": "stream",
     "text": [
      "Episode 852: Reward: 8.0 | Score: 60.0 | Avg last 10: 12.8\n"
     ]
    },
    {
     "name": "stderr",
     "output_type": "stream",
     "text": [
      " 57%|█████▋    | 854/1500 [26:05:32<2:24:18, 13.40s/it]"
     ]
    },
    {
     "name": "stdout",
     "output_type": "stream",
     "text": [
      "Episode 853: Reward: 27.0 | Score: 405.0 | Avg last 10: 14.4\n"
     ]
    },
    {
     "name": "stderr",
     "output_type": "stream",
     "text": [
      " 57%|█████▋    | 855/1500 [26:05:43<2:16:20, 12.68s/it]"
     ]
    },
    {
     "name": "stdout",
     "output_type": "stream",
     "text": [
      "Episode 854: Reward: 11.0 | Score: 160.0 | Avg last 10: 14.3\n"
     ]
    },
    {
     "name": "stderr",
     "output_type": "stream",
     "text": [
      " 57%|█████▋    | 856/1500 [26:05:53<2:07:16, 11.86s/it]"
     ]
    },
    {
     "name": "stdout",
     "output_type": "stream",
     "text": [
      "Episode 855: Reward: 10.0 | Score: 155.0 | Avg last 10: 14.4\n"
     ]
    },
    {
     "name": "stderr",
     "output_type": "stream",
     "text": [
      " 57%|█████▋    | 857/1500 [26:06:05<2:08:31, 11.99s/it]"
     ]
    },
    {
     "name": "stdout",
     "output_type": "stream",
     "text": [
      "Episode 856: Reward: 14.0 | Score: 390.0 | Avg last 10: 14.0\n"
     ]
    },
    {
     "name": "stderr",
     "output_type": "stream",
     "text": [
      " 57%|█████▋    | 858/1500 [26:06:24<2:29:12, 13.95s/it]"
     ]
    },
    {
     "name": "stdout",
     "output_type": "stream",
     "text": [
      "Episode 857: Reward: 28.0 | Score: 445.0 | Avg last 10: 14.2\n"
     ]
    },
    {
     "name": "stderr",
     "output_type": "stream",
     "text": [
      " 57%|█████▋    | 859/1500 [26:06:37<2:28:58, 13.94s/it]"
     ]
    },
    {
     "name": "stdout",
     "output_type": "stream",
     "text": [
      "Episode 858: Reward: 18.0 | Score: 275.0 | Avg last 10: 15.4\n"
     ]
    },
    {
     "name": "stderr",
     "output_type": "stream",
     "text": [
      " 57%|█████▋    | 860/1500 [26:06:46<2:12:20, 12.41s/it]"
     ]
    },
    {
     "name": "stdout",
     "output_type": "stream",
     "text": [
      "Episode 859: Reward: 12.0 | Score: 130.0 | Avg last 10: 15.4\n"
     ]
    },
    {
     "name": "stderr",
     "output_type": "stream",
     "text": [
      " 57%|█████▋    | 861/1500 [26:06:54<1:58:06, 11.09s/it]"
     ]
    },
    {
     "name": "stdout",
     "output_type": "stream",
     "text": [
      "Episode 860: Reward: 11.0 | Score: 105.0 | Avg last 10: 14.8\n"
     ]
    },
    {
     "name": "stderr",
     "output_type": "stream",
     "text": [
      " 57%|█████▋    | 862/1500 [26:07:02<1:45:55,  9.96s/it]"
     ]
    },
    {
     "name": "stdout",
     "output_type": "stream",
     "text": [
      "Episode 861: Reward: 11.0 | Score: 145.0 | Avg last 10: 15.0\n"
     ]
    },
    {
     "name": "stderr",
     "output_type": "stream",
     "text": [
      " 58%|█████▊    | 863/1500 [26:07:16<1:58:42, 11.18s/it]"
     ]
    },
    {
     "name": "stdout",
     "output_type": "stream",
     "text": [
      "Episode 862: Reward: 23.0 | Score: 325.0 | Avg last 10: 16.5\n"
     ]
    },
    {
     "name": "stderr",
     "output_type": "stream",
     "text": [
      " 58%|█████▊    | 864/1500 [26:07:32<2:16:28, 12.87s/it]"
     ]
    },
    {
     "name": "stdout",
     "output_type": "stream",
     "text": [
      "Episode 863: Reward: 26.0 | Score: 410.0 | Avg last 10: 16.4\n"
     ]
    },
    {
     "name": "stderr",
     "output_type": "stream",
     "text": [
      " 58%|█████▊    | 865/1500 [26:07:44<2:11:23, 12.41s/it]"
     ]
    },
    {
     "name": "stdout",
     "output_type": "stream",
     "text": [
      "Episode 864: Reward: 17.0 | Score: 245.0 | Avg last 10: 17.0\n"
     ]
    },
    {
     "name": "stderr",
     "output_type": "stream",
     "text": [
      " 58%|█████▊    | 866/1500 [26:07:53<2:00:29, 11.40s/it]"
     ]
    },
    {
     "name": "stdout",
     "output_type": "stream",
     "text": [
      "Episode 865: Reward: 14.0 | Score: 185.0 | Avg last 10: 17.4\n"
     ]
    },
    {
     "name": "stderr",
     "output_type": "stream",
     "text": [
      " 58%|█████▊    | 867/1500 [26:08:00<1:47:00, 10.14s/it]"
     ]
    },
    {
     "name": "stdout",
     "output_type": "stream",
     "text": [
      "Episode 866: Reward: 8.0 | Score: 80.0 | Avg last 10: 16.8\n"
     ]
    },
    {
     "name": "stderr",
     "output_type": "stream",
     "text": [
      " 58%|█████▊    | 868/1500 [26:08:09<1:42:11,  9.70s/it]"
     ]
    },
    {
     "name": "stdout",
     "output_type": "stream",
     "text": [
      "Episode 867: Reward: 8.0 | Score: 85.0 | Avg last 10: 14.8\n"
     ]
    },
    {
     "name": "stderr",
     "output_type": "stream",
     "text": [
      " 58%|█████▊    | 869/1500 [26:08:28<2:11:58, 12.55s/it]"
     ]
    },
    {
     "name": "stdout",
     "output_type": "stream",
     "text": [
      "Episode 868: Reward: 34.0 | Score: 765.0 | Avg last 10: 16.4\n"
     ]
    },
    {
     "name": "stderr",
     "output_type": "stream",
     "text": [
      " 58%|█████▊    | 870/1500 [26:08:41<2:13:02, 12.67s/it]"
     ]
    },
    {
     "name": "stdout",
     "output_type": "stream",
     "text": [
      "Episode 869: Reward: 17.0 | Score: 240.0 | Avg last 10: 16.9\n"
     ]
    },
    {
     "name": "stderr",
     "output_type": "stream",
     "text": [
      " 58%|█████▊    | 871/1500 [26:08:53<2:11:01, 12.50s/it]"
     ]
    },
    {
     "name": "stdout",
     "output_type": "stream",
     "text": [
      "Episode 870: Reward: 25.0 | Score: 430.0 | Avg last 10: 18.3\n"
     ]
    },
    {
     "name": "stderr",
     "output_type": "stream",
     "text": [
      " 58%|█████▊    | 872/1500 [26:09:03<2:02:05, 11.66s/it]"
     ]
    },
    {
     "name": "stdout",
     "output_type": "stream",
     "text": [
      "Episode 871: Reward: 16.0 | Score: 220.0 | Avg last 10: 18.8\n"
     ]
    },
    {
     "name": "stderr",
     "output_type": "stream",
     "text": [
      " 58%|█████▊    | 873/1500 [26:09:12<1:53:32, 10.86s/it]"
     ]
    },
    {
     "name": "stdout",
     "output_type": "stream",
     "text": [
      "Episode 872: Reward: 13.0 | Score: 180.0 | Avg last 10: 17.8\n"
     ]
    },
    {
     "name": "stderr",
     "output_type": "stream",
     "text": [
      " 58%|█████▊    | 874/1500 [26:09:24<1:57:15, 11.24s/it]"
     ]
    },
    {
     "name": "stdout",
     "output_type": "stream",
     "text": [
      "Episode 873: Reward: 21.0 | Score: 285.0 | Avg last 10: 17.3\n"
     ]
    },
    {
     "name": "stderr",
     "output_type": "stream",
     "text": [
      " 58%|█████▊    | 875/1500 [26:09:35<1:57:09, 11.25s/it]"
     ]
    },
    {
     "name": "stdout",
     "output_type": "stream",
     "text": [
      "Episode 874: Reward: 14.0 | Score: 205.0 | Avg last 10: 17.0\n"
     ]
    },
    {
     "name": "stderr",
     "output_type": "stream",
     "text": [
      " 58%|█████▊    | 876/1500 [26:09:46<1:54:50, 11.04s/it]"
     ]
    },
    {
     "name": "stdout",
     "output_type": "stream",
     "text": [
      "Episode 875: Reward: 17.0 | Score: 220.0 | Avg last 10: 17.3\n"
     ]
    },
    {
     "name": "stderr",
     "output_type": "stream",
     "text": [
      " 58%|█████▊    | 877/1500 [26:09:59<2:01:43, 11.72s/it]"
     ]
    },
    {
     "name": "stdout",
     "output_type": "stream",
     "text": [
      "Episode 876: Reward: 20.0 | Score: 300.0 | Avg last 10: 18.5\n"
     ]
    },
    {
     "name": "stderr",
     "output_type": "stream",
     "text": [
      " 59%|█████▊    | 878/1500 [26:10:07<1:50:27, 10.65s/it]"
     ]
    },
    {
     "name": "stdout",
     "output_type": "stream",
     "text": [
      "Episode 877: Reward: 8.0 | Score: 100.0 | Avg last 10: 18.5\n"
     ]
    },
    {
     "name": "stderr",
     "output_type": "stream",
     "text": [
      " 59%|█████▊    | 879/1500 [26:10:21<1:59:37, 11.56s/it]"
     ]
    },
    {
     "name": "stdout",
     "output_type": "stream",
     "text": [
      "Episode 878: Reward: 24.0 | Score: 395.0 | Avg last 10: 17.5\n"
     ]
    },
    {
     "name": "stderr",
     "output_type": "stream",
     "text": [
      " 59%|█████▊    | 880/1500 [26:10:27<1:44:09, 10.08s/it]"
     ]
    },
    {
     "name": "stdout",
     "output_type": "stream",
     "text": [
      "Episode 879: Reward: 8.0 | Score: 105.0 | Avg last 10: 16.6\n"
     ]
    },
    {
     "name": "stderr",
     "output_type": "stream",
     "text": [
      " 59%|█████▊    | 881/1500 [26:10:37<1:42:50,  9.97s/it]"
     ]
    },
    {
     "name": "stdout",
     "output_type": "stream",
     "text": [
      "Episode 880: Reward: 15.0 | Score: 180.0 | Avg last 10: 15.6\n"
     ]
    },
    {
     "name": "stderr",
     "output_type": "stream",
     "text": [
      " 59%|█████▉    | 882/1500 [26:10:47<1:43:51, 10.08s/it]"
     ]
    },
    {
     "name": "stdout",
     "output_type": "stream",
     "text": [
      "Episode 881: Reward: 13.0 | Score: 180.0 | Avg last 10: 15.3\n"
     ]
    },
    {
     "name": "stderr",
     "output_type": "stream",
     "text": [
      " 59%|█████▉    | 883/1500 [26:10:55<1:35:01,  9.24s/it]"
     ]
    },
    {
     "name": "stdout",
     "output_type": "stream",
     "text": [
      "Episode 882: Reward: 12.0 | Score: 165.0 | Avg last 10: 15.2\n"
     ]
    },
    {
     "name": "stderr",
     "output_type": "stream",
     "text": [
      " 59%|█████▉    | 884/1500 [26:11:08<1:46:20, 10.36s/it]"
     ]
    },
    {
     "name": "stdout",
     "output_type": "stream",
     "text": [
      "Episode 883: Reward: 16.0 | Score: 220.0 | Avg last 10: 14.7\n"
     ]
    },
    {
     "name": "stderr",
     "output_type": "stream",
     "text": [
      " 59%|█████▉    | 885/1500 [26:11:18<1:45:34, 10.30s/it]"
     ]
    },
    {
     "name": "stdout",
     "output_type": "stream",
     "text": [
      "Episode 884: Reward: 11.0 | Score: 180.0 | Avg last 10: 14.4\n"
     ]
    },
    {
     "name": "stderr",
     "output_type": "stream",
     "text": [
      " 59%|█████▉    | 886/1500 [26:11:37<2:12:14, 12.92s/it]"
     ]
    },
    {
     "name": "stdout",
     "output_type": "stream",
     "text": [
      "Episode 885: Reward: 31.0 | Score: 510.0 | Avg last 10: 15.8\n"
     ]
    },
    {
     "name": "stderr",
     "output_type": "stream",
     "text": [
      " 59%|█████▉    | 887/1500 [26:11:49<2:08:31, 12.58s/it]"
     ]
    },
    {
     "name": "stdout",
     "output_type": "stream",
     "text": [
      "Episode 886: Reward: 21.0 | Score: 290.0 | Avg last 10: 15.9\n"
     ]
    },
    {
     "name": "stderr",
     "output_type": "stream",
     "text": [
      " 59%|█████▉    | 888/1500 [26:12:04<2:16:05, 13.34s/it]"
     ]
    },
    {
     "name": "stdout",
     "output_type": "stream",
     "text": [
      "Episode 887: Reward: 15.0 | Score: 190.0 | Avg last 10: 16.6\n"
     ]
    },
    {
     "name": "stderr",
     "output_type": "stream",
     "text": [
      " 59%|█████▉    | 889/1500 [26:12:16<2:13:43, 13.13s/it]"
     ]
    },
    {
     "name": "stdout",
     "output_type": "stream",
     "text": [
      "Episode 888: Reward: 20.0 | Score: 485.0 | Avg last 10: 16.2\n"
     ]
    },
    {
     "name": "stderr",
     "output_type": "stream",
     "text": [
      " 59%|█████▉    | 890/1500 [26:12:32<2:19:54, 13.76s/it]"
     ]
    },
    {
     "name": "stdout",
     "output_type": "stream",
     "text": [
      "Episode 889: Reward: 20.0 | Score: 295.0 | Avg last 10: 17.4\n"
     ]
    },
    {
     "name": "stderr",
     "output_type": "stream",
     "text": [
      " 59%|█████▉    | 891/1500 [26:12:44<2:14:14, 13.23s/it]"
     ]
    },
    {
     "name": "stdout",
     "output_type": "stream",
     "text": [
      "Episode 890: Reward: 20.0 | Score: 270.0 | Avg last 10: 17.9\n"
     ]
    },
    {
     "name": "stderr",
     "output_type": "stream",
     "text": [
      " 59%|█████▉    | 892/1500 [26:12:54<2:06:03, 12.44s/it]"
     ]
    },
    {
     "name": "stdout",
     "output_type": "stream",
     "text": [
      "Episode 891: Reward: 14.0 | Score: 220.0 | Avg last 10: 18.0\n"
     ]
    },
    {
     "name": "stderr",
     "output_type": "stream",
     "text": [
      " 60%|█████▉    | 893/1500 [26:13:06<2:03:29, 12.21s/it]"
     ]
    },
    {
     "name": "stdout",
     "output_type": "stream",
     "text": [
      "Episode 892: Reward: 25.0 | Score: 390.0 | Avg last 10: 19.3\n"
     ]
    },
    {
     "name": "stderr",
     "output_type": "stream",
     "text": [
      " 60%|█████▉    | 894/1500 [26:13:19<2:06:44, 12.55s/it]"
     ]
    },
    {
     "name": "stdout",
     "output_type": "stream",
     "text": [
      "Episode 893: Reward: 19.0 | Score: 300.0 | Avg last 10: 19.6\n"
     ]
    },
    {
     "name": "stderr",
     "output_type": "stream",
     "text": [
      " 60%|█████▉    | 895/1500 [26:13:28<1:54:20, 11.34s/it]"
     ]
    },
    {
     "name": "stdout",
     "output_type": "stream",
     "text": [
      "Episode 894: Reward: 17.0 | Score: 235.0 | Avg last 10: 20.2\n",
      "Modelo guardado - Recompensa normalizada media últimos 10: 20.2\n"
     ]
    },
    {
     "name": "stderr",
     "output_type": "stream",
     "text": [
      " 60%|█████▉    | 896/1500 [26:13:40<1:55:31, 11.48s/it]"
     ]
    },
    {
     "name": "stdout",
     "output_type": "stream",
     "text": [
      "Episode 895: Reward: 14.0 | Score: 185.0 | Avg last 10: 18.5\n"
     ]
    },
    {
     "name": "stderr",
     "output_type": "stream",
     "text": [
      " 60%|█████▉    | 897/1500 [26:13:50<1:53:27, 11.29s/it]"
     ]
    },
    {
     "name": "stdout",
     "output_type": "stream",
     "text": [
      "Episode 896: Reward: 19.0 | Score: 295.0 | Avg last 10: 18.3\n"
     ]
    },
    {
     "name": "stderr",
     "output_type": "stream",
     "text": [
      " 60%|█████▉    | 898/1500 [26:13:58<1:41:58, 10.16s/it]"
     ]
    },
    {
     "name": "stdout",
     "output_type": "stream",
     "text": [
      "Episode 897: Reward: 9.0 | Score: 80.0 | Avg last 10: 17.7\n"
     ]
    },
    {
     "name": "stderr",
     "output_type": "stream",
     "text": [
      " 60%|█████▉    | 899/1500 [26:14:10<1:46:32, 10.64s/it]"
     ]
    },
    {
     "name": "stdout",
     "output_type": "stream",
     "text": [
      "Episode 898: Reward: 21.0 | Score: 280.0 | Avg last 10: 17.8\n"
     ]
    },
    {
     "name": "stderr",
     "output_type": "stream",
     "text": [
      " 60%|██████    | 900/1500 [26:14:17<1:35:38,  9.56s/it]"
     ]
    },
    {
     "name": "stdout",
     "output_type": "stream",
     "text": [
      "Episode 899: Reward: 6.0 | Score: 75.0 | Avg last 10: 16.4\n",
      "Episode 900: Reward: 23.0 | Score: 525.0 | Avg last 10: 16.7\n"
     ]
    },
    {
     "name": "stderr",
     "output_type": "stream",
     "text": [
      " 60%|██████    | 901/1500 [26:14:30<1:47:29, 10.77s/it]"
     ]
    },
    {
     "name": "stdout",
     "output_type": "stream",
     "text": [
      "Recompensa media en test: 175.00\n",
      "Evaluación @ 900 ep -> reward media: 175.0\n"
     ]
    },
    {
     "name": "stderr",
     "output_type": "stream",
     "text": [
      " 60%|██████    | 902/1500 [26:14:43<1:52:40, 11.30s/it]"
     ]
    },
    {
     "name": "stdout",
     "output_type": "stream",
     "text": [
      "Episode 901: Reward: 25.0 | Score: 355.0 | Avg last 10: 17.8\n"
     ]
    },
    {
     "name": "stderr",
     "output_type": "stream",
     "text": [
      " 60%|██████    | 903/1500 [26:14:56<1:58:22, 11.90s/it]"
     ]
    },
    {
     "name": "stdout",
     "output_type": "stream",
     "text": [
      "Episode 902: Reward: 22.0 | Score: 310.0 | Avg last 10: 17.5\n"
     ]
    },
    {
     "name": "stderr",
     "output_type": "stream",
     "text": [
      " 60%|██████    | 904/1500 [26:15:10<2:04:51, 12.57s/it]"
     ]
    },
    {
     "name": "stdout",
     "output_type": "stream",
     "text": [
      "Episode 903: Reward: 19.0 | Score: 320.0 | Avg last 10: 17.5\n"
     ]
    },
    {
     "name": "stderr",
     "output_type": "stream",
     "text": [
      " 60%|██████    | 905/1500 [26:15:24<2:07:06, 12.82s/it]"
     ]
    },
    {
     "name": "stdout",
     "output_type": "stream",
     "text": [
      "Episode 904: Reward: 23.0 | Score: 365.0 | Avg last 10: 18.1\n"
     ]
    },
    {
     "name": "stderr",
     "output_type": "stream",
     "text": [
      " 60%|██████    | 906/1500 [26:15:34<2:00:34, 12.18s/it]"
     ]
    },
    {
     "name": "stdout",
     "output_type": "stream",
     "text": [
      "Episode 905: Reward: 20.0 | Score: 280.0 | Avg last 10: 18.7\n"
     ]
    },
    {
     "name": "stderr",
     "output_type": "stream",
     "text": [
      " 60%|██████    | 907/1500 [26:15:47<2:02:24, 12.39s/it]"
     ]
    },
    {
     "name": "stdout",
     "output_type": "stream",
     "text": [
      "Episode 906: Reward: 22.0 | Score: 345.0 | Avg last 10: 19.0\n"
     ]
    },
    {
     "name": "stderr",
     "output_type": "stream",
     "text": [
      " 61%|██████    | 908/1500 [26:16:02<2:08:15, 13.00s/it]"
     ]
    },
    {
     "name": "stdout",
     "output_type": "stream",
     "text": [
      "Episode 907: Reward: 22.0 | Score: 325.0 | Avg last 10: 20.3\n",
      "Modelo guardado - Recompensa normalizada media últimos 10: 20.3\n"
     ]
    },
    {
     "name": "stderr",
     "output_type": "stream",
     "text": [
      " 61%|██████    | 909/1500 [26:16:18<2:16:37, 13.87s/it]"
     ]
    },
    {
     "name": "stdout",
     "output_type": "stream",
     "text": [
      "Episode 908: Reward: 19.0 | Score: 460.0 | Avg last 10: 20.1\n",
      "Modelo guardado - Recompensa normalizada media últimos 10: 20.1\n"
     ]
    },
    {
     "name": "stderr",
     "output_type": "stream",
     "text": [
      " 61%|██████    | 910/1500 [26:16:33<2:21:10, 14.36s/it]"
     ]
    },
    {
     "name": "stdout",
     "output_type": "stream",
     "text": [
      "Episode 909: Reward: 20.0 | Score: 285.0 | Avg last 10: 21.5\n",
      "Modelo guardado - Recompensa normalizada media últimos 10: 21.5\n"
     ]
    },
    {
     "name": "stderr",
     "output_type": "stream",
     "text": [
      " 61%|██████    | 911/1500 [26:16:42<2:04:05, 12.64s/it]"
     ]
    },
    {
     "name": "stdout",
     "output_type": "stream",
     "text": [
      "Episode 910: Reward: 14.0 | Score: 205.0 | Avg last 10: 20.6\n",
      "Modelo guardado - Recompensa normalizada media últimos 10: 20.6\n"
     ]
    },
    {
     "name": "stderr",
     "output_type": "stream",
     "text": [
      " 61%|██████    | 912/1500 [26:17:00<2:20:31, 14.34s/it]"
     ]
    },
    {
     "name": "stdout",
     "output_type": "stream",
     "text": [
      "Episode 911: Reward: 21.0 | Score: 530.0 | Avg last 10: 20.2\n",
      "Modelo guardado - Recompensa normalizada media últimos 10: 20.2\n"
     ]
    },
    {
     "name": "stderr",
     "output_type": "stream",
     "text": [
      " 61%|██████    | 913/1500 [26:17:12<2:12:33, 13.55s/it]"
     ]
    },
    {
     "name": "stdout",
     "output_type": "stream",
     "text": [
      "Episode 912: Reward: 15.0 | Score: 255.0 | Avg last 10: 19.5\n"
     ]
    },
    {
     "name": "stderr",
     "output_type": "stream",
     "text": [
      " 61%|██████    | 914/1500 [26:17:30<2:24:36, 14.81s/it]"
     ]
    },
    {
     "name": "stdout",
     "output_type": "stream",
     "text": [
      "Episode 913: Reward: 28.0 | Score: 420.0 | Avg last 10: 20.4\n",
      "Modelo guardado - Recompensa normalizada media últimos 10: 20.4\n"
     ]
    },
    {
     "name": "stderr",
     "output_type": "stream",
     "text": [
      " 61%|██████    | 915/1500 [26:17:39<2:08:49, 13.21s/it]"
     ]
    },
    {
     "name": "stdout",
     "output_type": "stream",
     "text": [
      "Episode 914: Reward: 14.0 | Score: 210.0 | Avg last 10: 19.5\n"
     ]
    },
    {
     "name": "stderr",
     "output_type": "stream",
     "text": [
      " 61%|██████    | 916/1500 [26:17:48<1:56:44, 11.99s/it]"
     ]
    },
    {
     "name": "stdout",
     "output_type": "stream",
     "text": [
      "Episode 915: Reward: 10.0 | Score: 95.0 | Avg last 10: 18.5\n"
     ]
    },
    {
     "name": "stderr",
     "output_type": "stream",
     "text": [
      " 61%|██████    | 917/1500 [26:18:03<2:04:41, 12.83s/it]"
     ]
    },
    {
     "name": "stdout",
     "output_type": "stream",
     "text": [
      "Episode 916: Reward: 21.0 | Score: 290.0 | Avg last 10: 18.4\n"
     ]
    },
    {
     "name": "stderr",
     "output_type": "stream",
     "text": [
      " 61%|██████    | 918/1500 [26:18:11<1:50:37, 11.41s/it]"
     ]
    },
    {
     "name": "stdout",
     "output_type": "stream",
     "text": [
      "Episode 917: Reward: 7.0 | Score: 110.0 | Avg last 10: 16.9\n"
     ]
    },
    {
     "name": "stderr",
     "output_type": "stream",
     "text": [
      " 61%|██████▏   | 919/1500 [26:18:22<1:48:12, 11.17s/it]"
     ]
    },
    {
     "name": "stdout",
     "output_type": "stream",
     "text": [
      "Episode 918: Reward: 13.0 | Score: 145.0 | Avg last 10: 16.3\n"
     ]
    },
    {
     "name": "stderr",
     "output_type": "stream",
     "text": [
      " 61%|██████▏   | 920/1500 [26:18:41<2:11:26, 13.60s/it]"
     ]
    },
    {
     "name": "stdout",
     "output_type": "stream",
     "text": [
      "Episode 919: Reward: 32.0 | Score: 525.0 | Avg last 10: 17.5\n"
     ]
    },
    {
     "name": "stderr",
     "output_type": "stream",
     "text": [
      " 61%|██████▏   | 921/1500 [26:18:56<2:14:15, 13.91s/it]"
     ]
    },
    {
     "name": "stdout",
     "output_type": "stream",
     "text": [
      "Episode 920: Reward: 24.0 | Score: 355.0 | Avg last 10: 18.5\n"
     ]
    },
    {
     "name": "stderr",
     "output_type": "stream",
     "text": [
      " 61%|██████▏   | 922/1500 [26:19:04<1:58:58, 12.35s/it]"
     ]
    },
    {
     "name": "stdout",
     "output_type": "stream",
     "text": [
      "Episode 921: Reward: 13.0 | Score: 185.0 | Avg last 10: 17.7\n"
     ]
    },
    {
     "name": "stderr",
     "output_type": "stream",
     "text": [
      " 62%|██████▏   | 923/1500 [26:19:14<1:50:22, 11.48s/it]"
     ]
    },
    {
     "name": "stdout",
     "output_type": "stream",
     "text": [
      "Episode 922: Reward: 15.0 | Score: 210.0 | Avg last 10: 17.7\n"
     ]
    },
    {
     "name": "stderr",
     "output_type": "stream",
     "text": [
      " 62%|██████▏   | 924/1500 [26:19:24<1:45:47, 11.02s/it]"
     ]
    },
    {
     "name": "stdout",
     "output_type": "stream",
     "text": [
      "Episode 923: Reward: 14.0 | Score: 205.0 | Avg last 10: 16.3\n"
     ]
    },
    {
     "name": "stderr",
     "output_type": "stream",
     "text": [
      " 62%|██████▏   | 925/1500 [26:19:31<1:35:19,  9.95s/it]"
     ]
    },
    {
     "name": "stdout",
     "output_type": "stream",
     "text": [
      "Episode 924: Reward: 11.0 | Score: 125.0 | Avg last 10: 16.0\n"
     ]
    },
    {
     "name": "stderr",
     "output_type": "stream",
     "text": [
      " 62%|██████▏   | 926/1500 [26:19:41<1:36:07, 10.05s/it]"
     ]
    },
    {
     "name": "stdout",
     "output_type": "stream",
     "text": [
      "Episode 925: Reward: 15.0 | Score: 195.0 | Avg last 10: 16.5\n"
     ]
    },
    {
     "name": "stderr",
     "output_type": "stream",
     "text": [
      " 62%|██████▏   | 927/1500 [26:19:52<1:36:58, 10.16s/it]"
     ]
    },
    {
     "name": "stdout",
     "output_type": "stream",
     "text": [
      "Episode 926: Reward: 19.0 | Score: 225.0 | Avg last 10: 16.3\n"
     ]
    },
    {
     "name": "stderr",
     "output_type": "stream",
     "text": [
      " 62%|██████▏   | 928/1500 [26:20:08<1:54:11, 11.98s/it]"
     ]
    },
    {
     "name": "stdout",
     "output_type": "stream",
     "text": [
      "Episode 927: Reward: 26.0 | Score: 395.0 | Avg last 10: 18.2\n"
     ]
    },
    {
     "name": "stderr",
     "output_type": "stream",
     "text": [
      " 62%|██████▏   | 929/1500 [26:20:21<1:55:56, 12.18s/it]"
     ]
    },
    {
     "name": "stdout",
     "output_type": "stream",
     "text": [
      "Episode 928: Reward: 14.0 | Score: 230.0 | Avg last 10: 18.3\n"
     ]
    },
    {
     "name": "stderr",
     "output_type": "stream",
     "text": [
      " 62%|██████▏   | 930/1500 [26:20:34<1:57:35, 12.38s/it]"
     ]
    },
    {
     "name": "stdout",
     "output_type": "stream",
     "text": [
      "Episode 929: Reward: 22.0 | Score: 315.0 | Avg last 10: 17.3\n"
     ]
    },
    {
     "name": "stderr",
     "output_type": "stream",
     "text": [
      " 62%|██████▏   | 931/1500 [26:20:46<1:57:45, 12.42s/it]"
     ]
    },
    {
     "name": "stdout",
     "output_type": "stream",
     "text": [
      "Episode 930: Reward: 19.0 | Score: 325.0 | Avg last 10: 16.8\n"
     ]
    },
    {
     "name": "stderr",
     "output_type": "stream",
     "text": [
      " 62%|██████▏   | 932/1500 [26:20:58<1:57:11, 12.38s/it]"
     ]
    },
    {
     "name": "stdout",
     "output_type": "stream",
     "text": [
      "Episode 931: Reward: 17.0 | Score: 230.0 | Avg last 10: 17.2\n"
     ]
    },
    {
     "name": "stderr",
     "output_type": "stream",
     "text": [
      " 62%|██████▏   | 933/1500 [26:21:17<2:15:23, 14.33s/it]"
     ]
    },
    {
     "name": "stdout",
     "output_type": "stream",
     "text": [
      "Episode 932: Reward: 28.0 | Score: 615.0 | Avg last 10: 18.5\n"
     ]
    },
    {
     "name": "stderr",
     "output_type": "stream",
     "text": [
      " 62%|██████▏   | 934/1500 [26:21:24<1:54:10, 12.10s/it]"
     ]
    },
    {
     "name": "stdout",
     "output_type": "stream",
     "text": [
      "Episode 933: Reward: 11.0 | Score: 160.0 | Avg last 10: 18.2\n"
     ]
    },
    {
     "name": "stderr",
     "output_type": "stream",
     "text": [
      " 62%|██████▏   | 935/1500 [26:21:41<2:08:39, 13.66s/it]"
     ]
    },
    {
     "name": "stdout",
     "output_type": "stream",
     "text": [
      "Episode 934: Reward: 31.0 | Score: 485.0 | Avg last 10: 20.2\n",
      "Modelo guardado - Recompensa normalizada media últimos 10: 20.2\n"
     ]
    },
    {
     "name": "stderr",
     "output_type": "stream",
     "text": [
      " 62%|██████▏   | 936/1500 [26:21:52<2:00:01, 12.77s/it]"
     ]
    },
    {
     "name": "stdout",
     "output_type": "stream",
     "text": [
      "Episode 935: Reward: 19.0 | Score: 275.0 | Avg last 10: 20.6\n",
      "Modelo guardado - Recompensa normalizada media últimos 10: 20.6\n"
     ]
    },
    {
     "name": "stderr",
     "output_type": "stream",
     "text": [
      " 62%|██████▏   | 937/1500 [26:22:03<1:54:31, 12.21s/it]"
     ]
    },
    {
     "name": "stdout",
     "output_type": "stream",
     "text": [
      "Episode 936: Reward: 21.0 | Score: 265.0 | Avg last 10: 20.8\n",
      "Modelo guardado - Recompensa normalizada media últimos 10: 20.8\n"
     ]
    },
    {
     "name": "stderr",
     "output_type": "stream",
     "text": [
      " 63%|██████▎   | 938/1500 [26:22:12<1:44:55, 11.20s/it]"
     ]
    },
    {
     "name": "stdout",
     "output_type": "stream",
     "text": [
      "Episode 937: Reward: 6.0 | Score: 105.0 | Avg last 10: 18.8\n"
     ]
    },
    {
     "name": "stderr",
     "output_type": "stream",
     "text": [
      " 63%|██████▎   | 939/1500 [26:22:23<1:43:27, 11.06s/it]"
     ]
    },
    {
     "name": "stdout",
     "output_type": "stream",
     "text": [
      "Episode 938: Reward: 15.0 | Score: 210.0 | Avg last 10: 18.9\n"
     ]
    },
    {
     "name": "stderr",
     "output_type": "stream",
     "text": [
      " 63%|██████▎   | 940/1500 [26:22:36<1:50:22, 11.83s/it]"
     ]
    },
    {
     "name": "stdout",
     "output_type": "stream",
     "text": [
      "Episode 939: Reward: 24.0 | Score: 370.0 | Avg last 10: 19.1\n"
     ]
    },
    {
     "name": "stderr",
     "output_type": "stream",
     "text": [
      " 63%|██████▎   | 941/1500 [26:22:48<1:51:09, 11.93s/it]"
     ]
    },
    {
     "name": "stdout",
     "output_type": "stream",
     "text": [
      "Episode 940: Reward: 20.0 | Score: 300.0 | Avg last 10: 19.2\n"
     ]
    },
    {
     "name": "stderr",
     "output_type": "stream",
     "text": [
      " 63%|██████▎   | 942/1500 [26:22:59<1:48:18, 11.65s/it]"
     ]
    },
    {
     "name": "stdout",
     "output_type": "stream",
     "text": [
      "Episode 941: Reward: 14.0 | Score: 165.0 | Avg last 10: 18.9\n"
     ]
    },
    {
     "name": "stderr",
     "output_type": "stream",
     "text": [
      " 63%|██████▎   | 943/1500 [26:23:14<1:55:40, 12.46s/it]"
     ]
    },
    {
     "name": "stdout",
     "output_type": "stream",
     "text": [
      "Episode 942: Reward: 21.0 | Score: 280.0 | Avg last 10: 18.2\n"
     ]
    },
    {
     "name": "stderr",
     "output_type": "stream",
     "text": [
      " 63%|██████▎   | 944/1500 [26:23:25<1:52:35, 12.15s/it]"
     ]
    },
    {
     "name": "stdout",
     "output_type": "stream",
     "text": [
      "Episode 943: Reward: 17.0 | Score: 230.0 | Avg last 10: 18.8\n"
     ]
    },
    {
     "name": "stderr",
     "output_type": "stream",
     "text": [
      " 63%|██████▎   | 945/1500 [26:23:44<2:09:55, 14.05s/it]"
     ]
    },
    {
     "name": "stdout",
     "output_type": "stream",
     "text": [
      "Episode 944: Reward: 32.0 | Score: 520.0 | Avg last 10: 18.9\n"
     ]
    },
    {
     "name": "stderr",
     "output_type": "stream",
     "text": [
      " 63%|██████▎   | 946/1500 [26:23:52<1:53:43, 12.32s/it]"
     ]
    },
    {
     "name": "stdout",
     "output_type": "stream",
     "text": [
      "Episode 945: Reward: 9.0 | Score: 150.0 | Avg last 10: 17.9\n"
     ]
    },
    {
     "name": "stderr",
     "output_type": "stream",
     "text": [
      " 63%|██████▎   | 947/1500 [26:24:09<2:06:52, 13.77s/it]"
     ]
    },
    {
     "name": "stdout",
     "output_type": "stream",
     "text": [
      "Episode 946: Reward: 24.0 | Score: 350.0 | Avg last 10: 18.2\n"
     ]
    },
    {
     "name": "stderr",
     "output_type": "stream",
     "text": [
      " 63%|██████▎   | 948/1500 [26:24:23<2:07:40, 13.88s/it]"
     ]
    },
    {
     "name": "stdout",
     "output_type": "stream",
     "text": [
      "Episode 947: Reward: 20.0 | Score: 305.0 | Avg last 10: 19.6\n"
     ]
    },
    {
     "name": "stderr",
     "output_type": "stream",
     "text": [
      " 63%|██████▎   | 949/1500 [26:24:31<1:50:57, 12.08s/it]"
     ]
    },
    {
     "name": "stdout",
     "output_type": "stream",
     "text": [
      "Episode 948: Reward: 7.0 | Score: 110.0 | Avg last 10: 18.8\n"
     ]
    },
    {
     "name": "stderr",
     "output_type": "stream",
     "text": [
      " 63%|██████▎   | 950/1500 [26:24:46<1:57:58, 12.87s/it]"
     ]
    },
    {
     "name": "stdout",
     "output_type": "stream",
     "text": [
      "Episode 949: Reward: 20.0 | Score: 460.0 | Avg last 10: 18.4\n"
     ]
    },
    {
     "name": "stderr",
     "output_type": "stream",
     "text": [
      " 63%|██████▎   | 951/1500 [26:25:01<2:04:58, 13.66s/it]"
     ]
    },
    {
     "name": "stdout",
     "output_type": "stream",
     "text": [
      "Episode 950: Reward: 19.0 | Score: 275.0 | Avg last 10: 18.3\n"
     ]
    },
    {
     "name": "stderr",
     "output_type": "stream",
     "text": [
      " 63%|██████▎   | 952/1500 [26:25:15<2:05:57, 13.79s/it]"
     ]
    },
    {
     "name": "stdout",
     "output_type": "stream",
     "text": [
      "Episode 951: Reward: 18.0 | Score: 485.0 | Avg last 10: 18.7\n"
     ]
    },
    {
     "name": "stderr",
     "output_type": "stream",
     "text": [
      " 64%|██████▎   | 953/1500 [26:25:22<1:46:33, 11.69s/it]"
     ]
    },
    {
     "name": "stdout",
     "output_type": "stream",
     "text": [
      "Episode 952: Reward: 11.0 | Score: 115.0 | Avg last 10: 17.7\n"
     ]
    },
    {
     "name": "stderr",
     "output_type": "stream",
     "text": [
      " 64%|██████▎   | 954/1500 [26:25:35<1:48:42, 11.95s/it]"
     ]
    },
    {
     "name": "stdout",
     "output_type": "stream",
     "text": [
      "Episode 953: Reward: 13.0 | Score: 165.0 | Avg last 10: 17.3\n"
     ]
    },
    {
     "name": "stderr",
     "output_type": "stream",
     "text": [
      " 64%|██████▎   | 955/1500 [26:25:45<1:43:10, 11.36s/it]"
     ]
    },
    {
     "name": "stdout",
     "output_type": "stream",
     "text": [
      "Episode 954: Reward: 15.0 | Score: 195.0 | Avg last 10: 15.6\n"
     ]
    },
    {
     "name": "stderr",
     "output_type": "stream",
     "text": [
      " 64%|██████▎   | 956/1500 [26:25:53<1:35:50, 10.57s/it]"
     ]
    },
    {
     "name": "stdout",
     "output_type": "stream",
     "text": [
      "Episode 955: Reward: 8.0 | Score: 120.0 | Avg last 10: 15.5\n"
     ]
    },
    {
     "name": "stderr",
     "output_type": "stream",
     "text": [
      " 64%|██████▍   | 957/1500 [26:26:02<1:30:05,  9.95s/it]"
     ]
    },
    {
     "name": "stdout",
     "output_type": "stream",
     "text": [
      "Episode 956: Reward: 12.0 | Score: 185.0 | Avg last 10: 14.3\n"
     ]
    },
    {
     "name": "stderr",
     "output_type": "stream",
     "text": [
      " 64%|██████▍   | 958/1500 [26:26:14<1:35:04, 10.52s/it]"
     ]
    },
    {
     "name": "stdout",
     "output_type": "stream",
     "text": [
      "Episode 957: Reward: 17.0 | Score: 250.0 | Avg last 10: 14.0\n"
     ]
    },
    {
     "name": "stderr",
     "output_type": "stream",
     "text": [
      " 64%|██████▍   | 959/1500 [26:26:25<1:35:54, 10.64s/it]"
     ]
    },
    {
     "name": "stdout",
     "output_type": "stream",
     "text": [
      "Episode 958: Reward: 18.0 | Score: 260.0 | Avg last 10: 15.1\n"
     ]
    },
    {
     "name": "stderr",
     "output_type": "stream",
     "text": [
      " 64%|██████▍   | 960/1500 [26:26:37<1:40:31, 11.17s/it]"
     ]
    },
    {
     "name": "stdout",
     "output_type": "stream",
     "text": [
      "Episode 959: Reward: 17.0 | Score: 265.0 | Avg last 10: 14.8\n"
     ]
    },
    {
     "name": "stderr",
     "output_type": "stream",
     "text": [
      " 64%|██████▍   | 961/1500 [26:26:49<1:41:16, 11.27s/it]"
     ]
    },
    {
     "name": "stdout",
     "output_type": "stream",
     "text": [
      "Episode 960: Reward: 26.0 | Score: 360.0 | Avg last 10: 15.5\n"
     ]
    },
    {
     "name": "stderr",
     "output_type": "stream",
     "text": [
      " 64%|██████▍   | 962/1500 [26:27:00<1:41:05, 11.27s/it]"
     ]
    },
    {
     "name": "stdout",
     "output_type": "stream",
     "text": [
      "Episode 961: Reward: 18.0 | Score: 260.0 | Avg last 10: 15.5\n"
     ]
    },
    {
     "name": "stderr",
     "output_type": "stream",
     "text": [
      " 64%|██████▍   | 963/1500 [26:27:10<1:38:52, 11.05s/it]"
     ]
    },
    {
     "name": "stdout",
     "output_type": "stream",
     "text": [
      "Episode 962: Reward: 11.0 | Score: 150.0 | Avg last 10: 15.5\n"
     ]
    },
    {
     "name": "stderr",
     "output_type": "stream",
     "text": [
      " 64%|██████▍   | 964/1500 [26:27:20<1:33:42, 10.49s/it]"
     ]
    },
    {
     "name": "stdout",
     "output_type": "stream",
     "text": [
      "Episode 963: Reward: 10.0 | Score: 115.0 | Avg last 10: 15.2\n"
     ]
    },
    {
     "name": "stderr",
     "output_type": "stream",
     "text": [
      " 64%|██████▍   | 965/1500 [26:27:32<1:37:44, 10.96s/it]"
     ]
    },
    {
     "name": "stdout",
     "output_type": "stream",
     "text": [
      "Episode 964: Reward: 20.0 | Score: 245.0 | Avg last 10: 15.7\n"
     ]
    },
    {
     "name": "stderr",
     "output_type": "stream",
     "text": [
      " 64%|██████▍   | 966/1500 [26:27:46<1:45:19, 11.83s/it]"
     ]
    },
    {
     "name": "stdout",
     "output_type": "stream",
     "text": [
      "Episode 965: Reward: 23.0 | Score: 350.0 | Avg last 10: 17.2\n"
     ]
    },
    {
     "name": "stderr",
     "output_type": "stream",
     "text": [
      " 64%|██████▍   | 967/1500 [26:27:59<1:48:34, 12.22s/it]"
     ]
    },
    {
     "name": "stdout",
     "output_type": "stream",
     "text": [
      "Episode 966: Reward: 25.0 | Score: 740.0 | Avg last 10: 18.5\n"
     ]
    },
    {
     "name": "stderr",
     "output_type": "stream",
     "text": [
      " 65%|██████▍   | 968/1500 [26:28:08<1:40:58, 11.39s/it]"
     ]
    },
    {
     "name": "stdout",
     "output_type": "stream",
     "text": [
      "Episode 967: Reward: 15.0 | Score: 230.0 | Avg last 10: 18.3\n"
     ]
    },
    {
     "name": "stderr",
     "output_type": "stream",
     "text": [
      " 65%|██████▍   | 969/1500 [26:28:22<1:46:46, 12.07s/it]"
     ]
    },
    {
     "name": "stdout",
     "output_type": "stream",
     "text": [
      "Episode 968: Reward: 20.0 | Score: 280.0 | Avg last 10: 18.5\n"
     ]
    },
    {
     "name": "stderr",
     "output_type": "stream",
     "text": [
      " 65%|██████▍   | 970/1500 [26:28:35<1:50:41, 12.53s/it]"
     ]
    },
    {
     "name": "stdout",
     "output_type": "stream",
     "text": [
      "Episode 969: Reward: 25.0 | Score: 360.0 | Avg last 10: 19.3\n"
     ]
    },
    {
     "name": "stderr",
     "output_type": "stream",
     "text": [
      " 65%|██████▍   | 971/1500 [26:28:48<1:49:57, 12.47s/it]"
     ]
    },
    {
     "name": "stdout",
     "output_type": "stream",
     "text": [
      "Episode 970: Reward: 18.0 | Score: 275.0 | Avg last 10: 18.5\n"
     ]
    },
    {
     "name": "stderr",
     "output_type": "stream",
     "text": [
      " 65%|██████▍   | 972/1500 [26:29:00<1:50:29, 12.56s/it]"
     ]
    },
    {
     "name": "stdout",
     "output_type": "stream",
     "text": [
      "Episode 971: Reward: 19.0 | Score: 275.0 | Avg last 10: 18.6\n"
     ]
    },
    {
     "name": "stderr",
     "output_type": "stream",
     "text": [
      " 65%|██████▍   | 973/1500 [26:29:13<1:50:36, 12.59s/it]"
     ]
    },
    {
     "name": "stdout",
     "output_type": "stream",
     "text": [
      "Episode 972: Reward: 16.0 | Score: 225.0 | Avg last 10: 19.1\n"
     ]
    },
    {
     "name": "stderr",
     "output_type": "stream",
     "text": [
      " 65%|██████▍   | 974/1500 [26:29:23<1:42:31, 11.70s/it]"
     ]
    },
    {
     "name": "stdout",
     "output_type": "stream",
     "text": [
      "Episode 973: Reward: 16.0 | Score: 220.0 | Avg last 10: 19.7\n"
     ]
    },
    {
     "name": "stderr",
     "output_type": "stream",
     "text": [
      " 65%|██████▌   | 975/1500 [26:29:44<2:08:15, 14.66s/it]"
     ]
    },
    {
     "name": "stdout",
     "output_type": "stream",
     "text": [
      "Episode 974: Reward: 28.0 | Score: 470.0 | Avg last 10: 20.5\n",
      "Modelo guardado - Recompensa normalizada media últimos 10: 20.5\n"
     ]
    },
    {
     "name": "stderr",
     "output_type": "stream",
     "text": [
      " 65%|██████▌   | 976/1500 [26:29:59<2:07:07, 14.56s/it]"
     ]
    },
    {
     "name": "stdout",
     "output_type": "stream",
     "text": [
      "Episode 975: Reward: 18.0 | Score: 275.0 | Avg last 10: 20.0\n",
      "Modelo guardado - Recompensa normalizada media últimos 10: 20.0\n"
     ]
    },
    {
     "name": "stderr",
     "output_type": "stream",
     "text": [
      " 65%|██████▌   | 977/1500 [26:30:16<2:13:30, 15.32s/it]"
     ]
    },
    {
     "name": "stdout",
     "output_type": "stream",
     "text": [
      "Episode 976: Reward: 22.0 | Score: 350.0 | Avg last 10: 19.7\n"
     ]
    },
    {
     "name": "stderr",
     "output_type": "stream",
     "text": [
      " 65%|██████▌   | 978/1500 [26:30:34<2:21:47, 16.30s/it]"
     ]
    },
    {
     "name": "stdout",
     "output_type": "stream",
     "text": [
      "Episode 977: Reward: 25.0 | Score: 540.0 | Avg last 10: 20.7\n",
      "Modelo guardado - Recompensa normalizada media últimos 10: 20.7\n"
     ]
    },
    {
     "name": "stderr",
     "output_type": "stream",
     "text": [
      " 65%|██████▌   | 979/1500 [26:30:42<2:00:03, 13.83s/it]"
     ]
    },
    {
     "name": "stdout",
     "output_type": "stream",
     "text": [
      "Episode 978: Reward: 11.0 | Score: 180.0 | Avg last 10: 19.8\n"
     ]
    },
    {
     "name": "stderr",
     "output_type": "stream",
     "text": [
      " 65%|██████▌   | 980/1500 [26:30:51<1:47:24, 12.39s/it]"
     ]
    },
    {
     "name": "stdout",
     "output_type": "stream",
     "text": [
      "Episode 979: Reward: 11.0 | Score: 140.0 | Avg last 10: 18.4\n"
     ]
    },
    {
     "name": "stderr",
     "output_type": "stream",
     "text": [
      " 65%|██████▌   | 981/1500 [26:31:02<1:41:47, 11.77s/it]"
     ]
    },
    {
     "name": "stdout",
     "output_type": "stream",
     "text": [
      "Episode 980: Reward: 15.0 | Score: 215.0 | Avg last 10: 18.1\n"
     ]
    },
    {
     "name": "stderr",
     "output_type": "stream",
     "text": [
      " 65%|██████▌   | 982/1500 [26:31:15<1:46:23, 12.32s/it]"
     ]
    },
    {
     "name": "stdout",
     "output_type": "stream",
     "text": [
      "Episode 981: Reward: 24.0 | Score: 385.0 | Avg last 10: 18.6\n"
     ]
    },
    {
     "name": "stderr",
     "output_type": "stream",
     "text": [
      " 66%|██████▌   | 983/1500 [26:31:27<1:45:14, 12.21s/it]"
     ]
    },
    {
     "name": "stdout",
     "output_type": "stream",
     "text": [
      "Episode 982: Reward: 19.0 | Score: 265.0 | Avg last 10: 18.9\n"
     ]
    },
    {
     "name": "stderr",
     "output_type": "stream",
     "text": [
      " 66%|██████▌   | 984/1500 [26:31:37<1:38:49, 11.49s/it]"
     ]
    },
    {
     "name": "stdout",
     "output_type": "stream",
     "text": [
      "Episode 983: Reward: 15.0 | Score: 180.0 | Avg last 10: 18.8\n"
     ]
    },
    {
     "name": "stderr",
     "output_type": "stream",
     "text": [
      " 66%|██████▌   | 985/1500 [26:31:49<1:39:47, 11.63s/it]"
     ]
    },
    {
     "name": "stdout",
     "output_type": "stream",
     "text": [
      "Episode 984: Reward: 16.0 | Score: 210.0 | Avg last 10: 17.6\n"
     ]
    },
    {
     "name": "stderr",
     "output_type": "stream",
     "text": [
      " 66%|██████▌   | 986/1500 [26:32:02<1:42:46, 12.00s/it]"
     ]
    },
    {
     "name": "stdout",
     "output_type": "stream",
     "text": [
      "Episode 985: Reward: 17.0 | Score: 240.0 | Avg last 10: 17.5\n"
     ]
    },
    {
     "name": "stderr",
     "output_type": "stream",
     "text": [
      " 66%|██████▌   | 987/1500 [26:32:14<1:42:07, 11.95s/it]"
     ]
    },
    {
     "name": "stdout",
     "output_type": "stream",
     "text": [
      "Episode 986: Reward: 17.0 | Score: 235.0 | Avg last 10: 17.0\n"
     ]
    },
    {
     "name": "stderr",
     "output_type": "stream",
     "text": [
      " 66%|██████▌   | 988/1500 [26:32:26<1:41:57, 11.95s/it]"
     ]
    },
    {
     "name": "stdout",
     "output_type": "stream",
     "text": [
      "Episode 987: Reward: 12.0 | Score: 185.0 | Avg last 10: 15.7\n"
     ]
    },
    {
     "name": "stderr",
     "output_type": "stream",
     "text": [
      " 66%|██████▌   | 989/1500 [26:32:43<1:55:29, 13.56s/it]"
     ]
    },
    {
     "name": "stdout",
     "output_type": "stream",
     "text": [
      "Episode 988: Reward: 28.0 | Score: 465.0 | Avg last 10: 17.4\n"
     ]
    },
    {
     "name": "stderr",
     "output_type": "stream",
     "text": [
      " 66%|██████▌   | 990/1500 [26:32:57<1:55:16, 13.56s/it]"
     ]
    },
    {
     "name": "stdout",
     "output_type": "stream",
     "text": [
      "Episode 989: Reward: 28.0 | Score: 465.0 | Avg last 10: 19.1\n"
     ]
    },
    {
     "name": "stderr",
     "output_type": "stream",
     "text": [
      " 66%|██████▌   | 991/1500 [26:33:09<1:51:18, 13.12s/it]"
     ]
    },
    {
     "name": "stdout",
     "output_type": "stream",
     "text": [
      "Episode 990: Reward: 21.0 | Score: 285.0 | Avg last 10: 19.7\n"
     ]
    },
    {
     "name": "stderr",
     "output_type": "stream",
     "text": [
      " 66%|██████▌   | 992/1500 [26:33:26<2:02:44, 14.50s/it]"
     ]
    },
    {
     "name": "stdout",
     "output_type": "stream",
     "text": [
      "Episode 991: Reward: 26.0 | Score: 390.0 | Avg last 10: 19.9\n"
     ]
    },
    {
     "name": "stderr",
     "output_type": "stream",
     "text": [
      " 66%|██████▌   | 993/1500 [26:33:40<2:01:26, 14.37s/it]"
     ]
    },
    {
     "name": "stdout",
     "output_type": "stream",
     "text": [
      "Episode 992: Reward: 19.0 | Score: 280.0 | Avg last 10: 19.9\n"
     ]
    },
    {
     "name": "stderr",
     "output_type": "stream",
     "text": [
      " 66%|██████▋   | 994/1500 [26:33:53<1:56:33, 13.82s/it]"
     ]
    },
    {
     "name": "stdout",
     "output_type": "stream",
     "text": [
      "Episode 993: Reward: 15.0 | Score: 370.0 | Avg last 10: 19.9\n"
     ]
    },
    {
     "name": "stderr",
     "output_type": "stream",
     "text": [
      " 66%|██████▋   | 995/1500 [26:34:06<1:54:50, 13.64s/it]"
     ]
    },
    {
     "name": "stdout",
     "output_type": "stream",
     "text": [
      "Episode 994: Reward: 21.0 | Score: 280.0 | Avg last 10: 20.4\n",
      "Modelo guardado - Recompensa normalizada media últimos 10: 20.4\n"
     ]
    },
    {
     "name": "stderr",
     "output_type": "stream",
     "text": [
      " 66%|██████▋   | 996/1500 [26:34:24<2:05:38, 14.96s/it]"
     ]
    },
    {
     "name": "stdout",
     "output_type": "stream",
     "text": [
      "Episode 995: Reward: 24.0 | Score: 325.0 | Avg last 10: 21.1\n",
      "Modelo guardado - Recompensa normalizada media últimos 10: 21.1\n"
     ]
    },
    {
     "name": "stderr",
     "output_type": "stream",
     "text": [
      " 66%|██████▋   | 997/1500 [26:34:36<1:57:22, 14.00s/it]"
     ]
    },
    {
     "name": "stdout",
     "output_type": "stream",
     "text": [
      "Episode 996: Reward: 22.0 | Score: 315.0 | Avg last 10: 21.6\n",
      "Modelo guardado - Recompensa normalizada media últimos 10: 21.6\n"
     ]
    },
    {
     "name": "stderr",
     "output_type": "stream",
     "text": [
      " 67%|██████▋   | 998/1500 [26:34:52<2:02:54, 14.69s/it]"
     ]
    },
    {
     "name": "stdout",
     "output_type": "stream",
     "text": [
      "Episode 997: Reward: 27.0 | Score: 450.0 | Avg last 10: 23.1\n",
      "Modelo guardado - Recompensa normalizada media últimos 10: 23.1\n"
     ]
    },
    {
     "name": "stderr",
     "output_type": "stream",
     "text": [
      " 67%|██████▋   | 999/1500 [26:35:00<1:45:39, 12.65s/it]"
     ]
    },
    {
     "name": "stdout",
     "output_type": "stream",
     "text": [
      "Episode 998: Reward: 8.0 | Score: 100.0 | Avg last 10: 21.1\n",
      "Modelo guardado - Recompensa normalizada media últimos 10: 21.1\n"
     ]
    },
    {
     "name": "stderr",
     "output_type": "stream",
     "text": [
      " 67%|██████▋   | 1000/1500 [26:35:18<1:57:13, 14.07s/it]"
     ]
    },
    {
     "name": "stdout",
     "output_type": "stream",
     "text": [
      "Episode 999: Reward: 26.0 | Score: 390.0 | Avg last 10: 20.9\n",
      "Modelo guardado - Recompensa normalizada media últimos 10: 20.9\n",
      "Episode 1000: Reward: 10.0 | Score: 155.0 | Avg last 10: 19.8\n"
     ]
    },
    {
     "name": "stderr",
     "output_type": "stream",
     "text": [
      " 67%|██████▋   | 1001/1500 [26:35:26<1:43:45, 12.48s/it]"
     ]
    },
    {
     "name": "stdout",
     "output_type": "stream",
     "text": [
      "Recompensa media en test: 309.00\n",
      "Evaluación @ 1000 ep -> reward media: 309.0\n"
     ]
    },
    {
     "name": "stderr",
     "output_type": "stream",
     "text": [
      " 67%|██████▋   | 1002/1500 [26:35:37<1:40:13, 12.08s/it]"
     ]
    },
    {
     "name": "stdout",
     "output_type": "stream",
     "text": [
      "Episode 1001: Reward: 14.0 | Score: 195.0 | Avg last 10: 18.6\n"
     ]
    },
    {
     "name": "stderr",
     "output_type": "stream",
     "text": [
      " 67%|██████▋   | 1003/1500 [26:35:52<1:45:17, 12.71s/it]"
     ]
    },
    {
     "name": "stdout",
     "output_type": "stream",
     "text": [
      "Episode 1002: Reward: 18.0 | Score: 300.0 | Avg last 10: 18.5\n"
     ]
    },
    {
     "name": "stderr",
     "output_type": "stream",
     "text": [
      " 67%|██████▋   | 1004/1500 [26:36:09<1:56:19, 14.07s/it]"
     ]
    },
    {
     "name": "stdout",
     "output_type": "stream",
     "text": [
      "Episode 1003: Reward: 22.0 | Score: 315.0 | Avg last 10: 19.2\n"
     ]
    },
    {
     "name": "stderr",
     "output_type": "stream",
     "text": [
      " 67%|██████▋   | 1005/1500 [26:36:31<2:16:45, 16.58s/it]"
     ]
    },
    {
     "name": "stdout",
     "output_type": "stream",
     "text": [
      "Episode 1004: Reward: 35.0 | Score: 770.0 | Avg last 10: 20.6\n",
      "Modelo guardado - Recompensa normalizada media últimos 10: 20.6\n"
     ]
    },
    {
     "name": "stderr",
     "output_type": "stream",
     "text": [
      " 67%|██████▋   | 1006/1500 [26:36:44<2:08:01, 15.55s/it]"
     ]
    },
    {
     "name": "stdout",
     "output_type": "stream",
     "text": [
      "Episode 1005: Reward: 17.0 | Score: 230.0 | Avg last 10: 19.9\n"
     ]
    },
    {
     "name": "stderr",
     "output_type": "stream",
     "text": [
      " 67%|██████▋   | 1007/1500 [26:36:58<2:01:35, 14.80s/it]"
     ]
    },
    {
     "name": "stdout",
     "output_type": "stream",
     "text": [
      "Episode 1006: Reward: 25.0 | Score: 395.0 | Avg last 10: 20.2\n",
      "Modelo guardado - Recompensa normalizada media últimos 10: 20.2\n"
     ]
    },
    {
     "name": "stderr",
     "output_type": "stream",
     "text": [
      " 67%|██████▋   | 1008/1500 [26:37:07<1:49:18, 13.33s/it]"
     ]
    },
    {
     "name": "stdout",
     "output_type": "stream",
     "text": [
      "Episode 1007: Reward: 13.0 | Score: 180.0 | Avg last 10: 18.8\n"
     ]
    },
    {
     "name": "stderr",
     "output_type": "stream",
     "text": [
      " 67%|██████▋   | 1009/1500 [26:37:14<1:31:17, 11.16s/it]"
     ]
    },
    {
     "name": "stdout",
     "output_type": "stream",
     "text": [
      "Episode 1008: Reward: 8.0 | Score: 130.0 | Avg last 10: 18.8\n"
     ]
    },
    {
     "name": "stderr",
     "output_type": "stream",
     "text": [
      " 67%|██████▋   | 1010/1500 [26:37:34<1:53:39, 13.92s/it]"
     ]
    },
    {
     "name": "stdout",
     "output_type": "stream",
     "text": [
      "Episode 1009: Reward: 19.0 | Score: 305.0 | Avg last 10: 18.1\n"
     ]
    },
    {
     "name": "stderr",
     "output_type": "stream",
     "text": [
      " 67%|██████▋   | 1011/1500 [26:37:47<1:52:32, 13.81s/it]"
     ]
    },
    {
     "name": "stdout",
     "output_type": "stream",
     "text": [
      "Episode 1010: Reward: 23.0 | Score: 345.0 | Avg last 10: 19.4\n"
     ]
    },
    {
     "name": "stderr",
     "output_type": "stream",
     "text": [
      " 67%|██████▋   | 1012/1500 [26:37:57<1:41:31, 12.48s/it]"
     ]
    },
    {
     "name": "stdout",
     "output_type": "stream",
     "text": [
      "Episode 1011: Reward: 12.0 | Score: 155.0 | Avg last 10: 19.2\n"
     ]
    },
    {
     "name": "stderr",
     "output_type": "stream",
     "text": [
      " 68%|██████▊   | 1013/1500 [26:38:14<1:53:38, 14.00s/it]"
     ]
    },
    {
     "name": "stdout",
     "output_type": "stream",
     "text": [
      "Episode 1012: Reward: 28.0 | Score: 405.0 | Avg last 10: 20.2\n",
      "Modelo guardado - Recompensa normalizada media últimos 10: 20.2\n"
     ]
    },
    {
     "name": "stderr",
     "output_type": "stream",
     "text": [
      " 68%|██████▊   | 1014/1500 [26:38:28<1:51:57, 13.82s/it]"
     ]
    },
    {
     "name": "stdout",
     "output_type": "stream",
     "text": [
      "Episode 1013: Reward: 27.0 | Score: 440.0 | Avg last 10: 20.7\n",
      "Modelo guardado - Recompensa normalizada media últimos 10: 20.7\n"
     ]
    },
    {
     "name": "stderr",
     "output_type": "stream",
     "text": [
      " 68%|██████▊   | 1015/1500 [26:38:40<1:48:31, 13.43s/it]"
     ]
    },
    {
     "name": "stdout",
     "output_type": "stream",
     "text": [
      "Episode 1014: Reward: 21.0 | Score: 305.0 | Avg last 10: 19.3\n"
     ]
    },
    {
     "name": "stderr",
     "output_type": "stream",
     "text": [
      " 68%|██████▊   | 1016/1500 [26:38:55<1:50:52, 13.74s/it]"
     ]
    },
    {
     "name": "stdout",
     "output_type": "stream",
     "text": [
      "Episode 1015: Reward: 14.0 | Score: 215.0 | Avg last 10: 19.0\n"
     ]
    },
    {
     "name": "stderr",
     "output_type": "stream",
     "text": [
      " 68%|██████▊   | 1017/1500 [26:39:05<1:41:08, 12.56s/it]"
     ]
    },
    {
     "name": "stdout",
     "output_type": "stream",
     "text": [
      "Episode 1016: Reward: 10.0 | Score: 165.0 | Avg last 10: 17.5\n"
     ]
    },
    {
     "name": "stderr",
     "output_type": "stream",
     "text": [
      " 68%|██████▊   | 1018/1500 [26:39:16<1:37:48, 12.17s/it]"
     ]
    },
    {
     "name": "stdout",
     "output_type": "stream",
     "text": [
      "Episode 1017: Reward: 19.0 | Score: 290.0 | Avg last 10: 18.1\n"
     ]
    },
    {
     "name": "stderr",
     "output_type": "stream",
     "text": [
      " 68%|██████▊   | 1019/1500 [26:39:39<2:03:48, 15.44s/it]"
     ]
    },
    {
     "name": "stdout",
     "output_type": "stream",
     "text": [
      "Episode 1018: Reward: 33.0 | Score: 545.0 | Avg last 10: 20.6\n",
      "Modelo guardado - Recompensa normalizada media últimos 10: 20.6\n"
     ]
    },
    {
     "name": "stderr",
     "output_type": "stream",
     "text": [
      " 68%|██████▊   | 1020/1500 [26:39:52<1:57:39, 14.71s/it]"
     ]
    },
    {
     "name": "stdout",
     "output_type": "stream",
     "text": [
      "Episode 1019: Reward: 16.0 | Score: 260.0 | Avg last 10: 20.3\n",
      "Modelo guardado - Recompensa normalizada media últimos 10: 20.3\n"
     ]
    },
    {
     "name": "stderr",
     "output_type": "stream",
     "text": [
      " 68%|██████▊   | 1021/1500 [26:40:03<1:47:37, 13.48s/it]"
     ]
    },
    {
     "name": "stdout",
     "output_type": "stream",
     "text": [
      "Episode 1020: Reward: 15.0 | Score: 210.0 | Avg last 10: 19.5\n"
     ]
    },
    {
     "name": "stderr",
     "output_type": "stream",
     "text": [
      " 68%|██████▊   | 1022/1500 [26:40:14<1:43:10, 12.95s/it]"
     ]
    },
    {
     "name": "stdout",
     "output_type": "stream",
     "text": [
      "Episode 1021: Reward: 18.0 | Score: 260.0 | Avg last 10: 20.1\n",
      "Modelo guardado - Recompensa normalizada media últimos 10: 20.1\n"
     ]
    },
    {
     "name": "stderr",
     "output_type": "stream",
     "text": [
      " 68%|██████▊   | 1023/1500 [26:40:28<1:45:25, 13.26s/it]"
     ]
    },
    {
     "name": "stdout",
     "output_type": "stream",
     "text": [
      "Episode 1022: Reward: 22.0 | Score: 330.0 | Avg last 10: 19.5\n"
     ]
    },
    {
     "name": "stderr",
     "output_type": "stream",
     "text": [
      " 68%|██████▊   | 1024/1500 [26:40:41<1:44:50, 13.22s/it]"
     ]
    },
    {
     "name": "stdout",
     "output_type": "stream",
     "text": [
      "Episode 1023: Reward: 25.0 | Score: 385.0 | Avg last 10: 19.3\n"
     ]
    },
    {
     "name": "stderr",
     "output_type": "stream",
     "text": [
      " 68%|██████▊   | 1025/1500 [26:40:56<1:48:27, 13.70s/it]"
     ]
    },
    {
     "name": "stdout",
     "output_type": "stream",
     "text": [
      "Episode 1024: Reward: 26.0 | Score: 385.0 | Avg last 10: 19.8\n"
     ]
    },
    {
     "name": "stderr",
     "output_type": "stream",
     "text": [
      " 68%|██████▊   | 1026/1500 [26:41:08<1:44:15, 13.20s/it]"
     ]
    },
    {
     "name": "stdout",
     "output_type": "stream",
     "text": [
      "Episode 1025: Reward: 22.0 | Score: 365.0 | Avg last 10: 20.6\n",
      "Modelo guardado - Recompensa normalizada media últimos 10: 20.6\n"
     ]
    },
    {
     "name": "stderr",
     "output_type": "stream",
     "text": [
      " 68%|██████▊   | 1027/1500 [26:41:16<1:30:11, 11.44s/it]"
     ]
    },
    {
     "name": "stdout",
     "output_type": "stream",
     "text": [
      "Episode 1026: Reward: 10.0 | Score: 140.0 | Avg last 10: 20.6\n",
      "Modelo guardado - Recompensa normalizada media últimos 10: 20.6\n"
     ]
    },
    {
     "name": "stderr",
     "output_type": "stream",
     "text": [
      " 69%|██████▊   | 1028/1500 [26:41:24<1:23:22, 10.60s/it]"
     ]
    },
    {
     "name": "stdout",
     "output_type": "stream",
     "text": [
      "Episode 1027: Reward: 13.0 | Score: 155.0 | Avg last 10: 20.0\n",
      "Modelo guardado - Recompensa normalizada media últimos 10: 20.0\n"
     ]
    },
    {
     "name": "stderr",
     "output_type": "stream",
     "text": [
      " 69%|██████▊   | 1029/1500 [26:41:43<1:41:40, 12.95s/it]"
     ]
    },
    {
     "name": "stdout",
     "output_type": "stream",
     "text": [
      "Episode 1028: Reward: 23.0 | Score: 375.0 | Avg last 10: 19.0\n"
     ]
    },
    {
     "name": "stderr",
     "output_type": "stream",
     "text": [
      " 69%|██████▊   | 1030/1500 [26:41:57<1:45:00, 13.40s/it]"
     ]
    },
    {
     "name": "stdout",
     "output_type": "stream",
     "text": [
      "Episode 1029: Reward: 26.0 | Score: 420.0 | Avg last 10: 20.0\n",
      "Modelo guardado - Recompensa normalizada media últimos 10: 20.0\n"
     ]
    },
    {
     "name": "stderr",
     "output_type": "stream",
     "text": [
      " 69%|██████▊   | 1031/1500 [26:42:09<1:40:27, 12.85s/it]"
     ]
    },
    {
     "name": "stdout",
     "output_type": "stream",
     "text": [
      "Episode 1030: Reward: 15.0 | Score: 240.0 | Avg last 10: 20.0\n",
      "Modelo guardado - Recompensa normalizada media últimos 10: 20.0\n"
     ]
    },
    {
     "name": "stderr",
     "output_type": "stream",
     "text": [
      " 69%|██████▉   | 1032/1500 [26:42:16<1:26:43, 11.12s/it]"
     ]
    },
    {
     "name": "stdout",
     "output_type": "stream",
     "text": [
      "Episode 1031: Reward: 7.0 | Score: 80.0 | Avg last 10: 18.9\n"
     ]
    },
    {
     "name": "stderr",
     "output_type": "stream",
     "text": [
      " 69%|██████▉   | 1033/1500 [26:42:28<1:28:14, 11.34s/it]"
     ]
    },
    {
     "name": "stdout",
     "output_type": "stream",
     "text": [
      "Episode 1032: Reward: 21.0 | Score: 360.0 | Avg last 10: 18.8\n"
     ]
    },
    {
     "name": "stderr",
     "output_type": "stream",
     "text": [
      " 69%|██████▉   | 1034/1500 [26:42:41<1:32:26, 11.90s/it]"
     ]
    },
    {
     "name": "stdout",
     "output_type": "stream",
     "text": [
      "Episode 1033: Reward: 25.0 | Score: 575.0 | Avg last 10: 18.8\n"
     ]
    },
    {
     "name": "stderr",
     "output_type": "stream",
     "text": [
      " 69%|██████▉   | 1035/1500 [26:42:52<1:31:46, 11.84s/it]"
     ]
    },
    {
     "name": "stdout",
     "output_type": "stream",
     "text": [
      "Episode 1034: Reward: 8.0 | Score: 120.0 | Avg last 10: 17.0\n"
     ]
    },
    {
     "name": "stderr",
     "output_type": "stream",
     "text": [
      " 69%|██████▉   | 1036/1500 [26:43:04<1:30:22, 11.69s/it]"
     ]
    },
    {
     "name": "stdout",
     "output_type": "stream",
     "text": [
      "Episode 1035: Reward: 17.0 | Score: 240.0 | Avg last 10: 16.5\n"
     ]
    },
    {
     "name": "stderr",
     "output_type": "stream",
     "text": [
      " 69%|██████▉   | 1037/1500 [26:43:19<1:37:58, 12.70s/it]"
     ]
    },
    {
     "name": "stdout",
     "output_type": "stream",
     "text": [
      "Episode 1036: Reward: 21.0 | Score: 335.0 | Avg last 10: 17.6\n"
     ]
    },
    {
     "name": "stderr",
     "output_type": "stream",
     "text": [
      " 69%|██████▉   | 1038/1500 [26:43:27<1:27:41, 11.39s/it]"
     ]
    },
    {
     "name": "stdout",
     "output_type": "stream",
     "text": [
      "Episode 1037: Reward: 14.0 | Score: 210.0 | Avg last 10: 17.7\n"
     ]
    },
    {
     "name": "stderr",
     "output_type": "stream",
     "text": [
      " 69%|██████▉   | 1039/1500 [26:43:40<1:29:40, 11.67s/it]"
     ]
    },
    {
     "name": "stdout",
     "output_type": "stream",
     "text": [
      "Episode 1038: Reward: 16.0 | Score: 220.0 | Avg last 10: 17.0\n"
     ]
    },
    {
     "name": "stderr",
     "output_type": "stream",
     "text": [
      " 69%|██████▉   | 1040/1500 [26:43:50<1:27:42, 11.44s/it]"
     ]
    },
    {
     "name": "stdout",
     "output_type": "stream",
     "text": [
      "Episode 1039: Reward: 16.0 | Score: 245.0 | Avg last 10: 16.0\n"
     ]
    },
    {
     "name": "stderr",
     "output_type": "stream",
     "text": [
      " 69%|██████▉   | 1041/1500 [26:44:04<1:33:29, 12.22s/it]"
     ]
    },
    {
     "name": "stdout",
     "output_type": "stream",
     "text": [
      "Episode 1040: Reward: 17.0 | Score: 245.0 | Avg last 10: 16.2\n"
     ]
    },
    {
     "name": "stderr",
     "output_type": "stream",
     "text": [
      " 69%|██████▉   | 1042/1500 [26:44:21<1:42:48, 13.47s/it]"
     ]
    },
    {
     "name": "stdout",
     "output_type": "stream",
     "text": [
      "Episode 1041: Reward: 20.0 | Score: 290.0 | Avg last 10: 17.5\n"
     ]
    },
    {
     "name": "stderr",
     "output_type": "stream",
     "text": [
      " 70%|██████▉   | 1043/1500 [26:44:34<1:42:49, 13.50s/it]"
     ]
    },
    {
     "name": "stdout",
     "output_type": "stream",
     "text": [
      "Episode 1042: Reward: 16.0 | Score: 260.0 | Avg last 10: 17.0\n"
     ]
    },
    {
     "name": "stderr",
     "output_type": "stream",
     "text": [
      " 70%|██████▉   | 1044/1500 [26:44:46<1:38:02, 12.90s/it]"
     ]
    },
    {
     "name": "stdout",
     "output_type": "stream",
     "text": [
      "Episode 1043: Reward: 22.0 | Score: 360.0 | Avg last 10: 16.7\n"
     ]
    },
    {
     "name": "stderr",
     "output_type": "stream",
     "text": [
      " 70%|██████▉   | 1045/1500 [26:44:59<1:38:47, 13.03s/it]"
     ]
    },
    {
     "name": "stdout",
     "output_type": "stream",
     "text": [
      "Episode 1044: Reward: 23.0 | Score: 325.0 | Avg last 10: 18.2\n"
     ]
    },
    {
     "name": "stderr",
     "output_type": "stream",
     "text": [
      " 70%|██████▉   | 1046/1500 [26:45:14<1:41:45, 13.45s/it]"
     ]
    },
    {
     "name": "stdout",
     "output_type": "stream",
     "text": [
      "Episode 1045: Reward: 19.0 | Score: 295.0 | Avg last 10: 18.4\n"
     ]
    },
    {
     "name": "stderr",
     "output_type": "stream",
     "text": [
      " 70%|██████▉   | 1047/1500 [26:45:27<1:42:17, 13.55s/it]"
     ]
    },
    {
     "name": "stdout",
     "output_type": "stream",
     "text": [
      "Episode 1046: Reward: 23.0 | Score: 350.0 | Avg last 10: 18.6\n"
     ]
    },
    {
     "name": "stderr",
     "output_type": "stream",
     "text": [
      " 70%|██████▉   | 1048/1500 [26:45:39<1:37:10, 12.90s/it]"
     ]
    },
    {
     "name": "stdout",
     "output_type": "stream",
     "text": [
      "Episode 1047: Reward: 17.0 | Score: 215.0 | Avg last 10: 18.9\n"
     ]
    },
    {
     "name": "stderr",
     "output_type": "stream",
     "text": [
      " 70%|██████▉   | 1049/1500 [26:45:47<1:27:03, 11.58s/it]"
     ]
    },
    {
     "name": "stdout",
     "output_type": "stream",
     "text": [
      "Episode 1048: Reward: 11.0 | Score: 180.0 | Avg last 10: 18.4\n"
     ]
    },
    {
     "name": "stderr",
     "output_type": "stream",
     "text": [
      " 70%|███████   | 1050/1500 [26:45:57<1:21:34, 10.88s/it]"
     ]
    },
    {
     "name": "stdout",
     "output_type": "stream",
     "text": [
      "Episode 1049: Reward: 14.0 | Score: 220.0 | Avg last 10: 18.2\n"
     ]
    },
    {
     "name": "stderr",
     "output_type": "stream",
     "text": [
      " 70%|███████   | 1051/1500 [26:46:14<1:35:21, 12.74s/it]"
     ]
    },
    {
     "name": "stdout",
     "output_type": "stream",
     "text": [
      "Episode 1050: Reward: 25.0 | Score: 380.0 | Avg last 10: 19.0\n"
     ]
    },
    {
     "name": "stderr",
     "output_type": "stream",
     "text": [
      " 70%|███████   | 1052/1500 [26:46:25<1:31:46, 12.29s/it]"
     ]
    },
    {
     "name": "stdout",
     "output_type": "stream",
     "text": [
      "Episode 1051: Reward: 14.0 | Score: 205.0 | Avg last 10: 18.4\n"
     ]
    },
    {
     "name": "stderr",
     "output_type": "stream",
     "text": [
      " 70%|███████   | 1053/1500 [26:46:37<1:30:57, 12.21s/it]"
     ]
    },
    {
     "name": "stdout",
     "output_type": "stream",
     "text": [
      "Episode 1052: Reward: 20.0 | Score: 330.0 | Avg last 10: 18.8\n"
     ]
    },
    {
     "name": "stderr",
     "output_type": "stream",
     "text": [
      " 70%|███████   | 1054/1500 [26:46:46<1:24:14, 11.33s/it]"
     ]
    },
    {
     "name": "stdout",
     "output_type": "stream",
     "text": [
      "Episode 1053: Reward: 16.0 | Score: 225.0 | Avg last 10: 18.2\n"
     ]
    },
    {
     "name": "stderr",
     "output_type": "stream",
     "text": [
      " 70%|███████   | 1055/1500 [26:46:59<1:26:46, 11.70s/it]"
     ]
    },
    {
     "name": "stdout",
     "output_type": "stream",
     "text": [
      "Episode 1054: Reward: 18.0 | Score: 255.0 | Avg last 10: 17.7\n"
     ]
    },
    {
     "name": "stderr",
     "output_type": "stream",
     "text": [
      " 70%|███████   | 1056/1500 [26:47:13<1:31:26, 12.36s/it]"
     ]
    },
    {
     "name": "stdout",
     "output_type": "stream",
     "text": [
      "Episode 1055: Reward: 25.0 | Score: 395.0 | Avg last 10: 18.3\n"
     ]
    },
    {
     "name": "stderr",
     "output_type": "stream",
     "text": [
      " 70%|███████   | 1057/1500 [26:47:25<1:31:31, 12.40s/it]"
     ]
    },
    {
     "name": "stdout",
     "output_type": "stream",
     "text": [
      "Episode 1056: Reward: 21.0 | Score: 250.0 | Avg last 10: 18.1\n"
     ]
    },
    {
     "name": "stderr",
     "output_type": "stream",
     "text": [
      " 71%|███████   | 1058/1500 [26:47:31<1:16:29, 10.38s/it]"
     ]
    },
    {
     "name": "stdout",
     "output_type": "stream",
     "text": [
      "Episode 1057: Reward: 7.0 | Score: 110.0 | Avg last 10: 17.1\n"
     ]
    },
    {
     "name": "stderr",
     "output_type": "stream",
     "text": [
      " 71%|███████   | 1059/1500 [26:47:44<1:23:00, 11.29s/it]"
     ]
    },
    {
     "name": "stdout",
     "output_type": "stream",
     "text": [
      "Episode 1058: Reward: 26.0 | Score: 415.0 | Avg last 10: 18.6\n"
     ]
    },
    {
     "name": "stderr",
     "output_type": "stream",
     "text": [
      " 71%|███████   | 1060/1500 [26:47:57<1:26:20, 11.77s/it]"
     ]
    },
    {
     "name": "stdout",
     "output_type": "stream",
     "text": [
      "Episode 1059: Reward: 27.0 | Score: 430.0 | Avg last 10: 19.9\n"
     ]
    },
    {
     "name": "stderr",
     "output_type": "stream",
     "text": [
      " 71%|███████   | 1061/1500 [26:48:04<1:16:17, 10.43s/it]"
     ]
    },
    {
     "name": "stdout",
     "output_type": "stream",
     "text": [
      "Episode 1060: Reward: 12.0 | Score: 180.0 | Avg last 10: 18.6\n"
     ]
    },
    {
     "name": "stderr",
     "output_type": "stream",
     "text": [
      " 71%|███████   | 1062/1500 [26:48:11<1:07:57,  9.31s/it]"
     ]
    },
    {
     "name": "stdout",
     "output_type": "stream",
     "text": [
      "Episode 1061: Reward: 6.0 | Score: 80.0 | Avg last 10: 17.8\n"
     ]
    },
    {
     "name": "stderr",
     "output_type": "stream",
     "text": [
      " 71%|███████   | 1063/1500 [26:48:21<1:08:24,  9.39s/it]"
     ]
    },
    {
     "name": "stdout",
     "output_type": "stream",
     "text": [
      "Episode 1062: Reward: 15.0 | Score: 200.0 | Avg last 10: 17.3\n"
     ]
    },
    {
     "name": "stderr",
     "output_type": "stream",
     "text": [
      " 71%|███████   | 1064/1500 [26:48:37<1:22:19, 11.33s/it]"
     ]
    },
    {
     "name": "stdout",
     "output_type": "stream",
     "text": [
      "Episode 1063: Reward: 31.0 | Score: 510.0 | Avg last 10: 18.8\n"
     ]
    },
    {
     "name": "stderr",
     "output_type": "stream",
     "text": [
      " 71%|███████   | 1065/1500 [26:48:47<1:19:49, 11.01s/it]"
     ]
    },
    {
     "name": "stdout",
     "output_type": "stream",
     "text": [
      "Episode 1064: Reward: 15.0 | Score: 215.0 | Avg last 10: 18.5\n"
     ]
    },
    {
     "name": "stderr",
     "output_type": "stream",
     "text": [
      " 71%|███████   | 1066/1500 [26:48:57<1:17:14, 10.68s/it]"
     ]
    },
    {
     "name": "stdout",
     "output_type": "stream",
     "text": [
      "Episode 1065: Reward: 17.0 | Score: 285.0 | Avg last 10: 17.7\n"
     ]
    },
    {
     "name": "stderr",
     "output_type": "stream",
     "text": [
      " 71%|███████   | 1067/1500 [26:49:04<1:09:38,  9.65s/it]"
     ]
    },
    {
     "name": "stdout",
     "output_type": "stream",
     "text": [
      "Episode 1066: Reward: 7.0 | Score: 100.0 | Avg last 10: 16.3\n"
     ]
    },
    {
     "name": "stderr",
     "output_type": "stream",
     "text": [
      " 71%|███████   | 1068/1500 [26:49:19<1:20:46, 11.22s/it]"
     ]
    },
    {
     "name": "stdout",
     "output_type": "stream",
     "text": [
      "Episode 1067: Reward: 27.0 | Score: 415.0 | Avg last 10: 18.3\n"
     ]
    },
    {
     "name": "stderr",
     "output_type": "stream",
     "text": [
      " 71%|███████▏  | 1069/1500 [26:49:28<1:15:17, 10.48s/it]"
     ]
    },
    {
     "name": "stdout",
     "output_type": "stream",
     "text": [
      "Episode 1068: Reward: 19.0 | Score: 245.0 | Avg last 10: 17.6\n"
     ]
    },
    {
     "name": "stderr",
     "output_type": "stream",
     "text": [
      " 71%|███████▏  | 1070/1500 [26:49:42<1:23:26, 11.64s/it]"
     ]
    },
    {
     "name": "stdout",
     "output_type": "stream",
     "text": [
      "Episode 1069: Reward: 18.0 | Score: 225.0 | Avg last 10: 16.7\n"
     ]
    },
    {
     "name": "stderr",
     "output_type": "stream",
     "text": [
      " 71%|███████▏  | 1071/1500 [26:49:51<1:17:06, 10.78s/it]"
     ]
    },
    {
     "name": "stdout",
     "output_type": "stream",
     "text": [
      "Episode 1070: Reward: 8.0 | Score: 120.0 | Avg last 10: 16.3\n"
     ]
    },
    {
     "name": "stderr",
     "output_type": "stream",
     "text": [
      " 71%|███████▏  | 1072/1500 [26:50:01<1:15:10, 10.54s/it]"
     ]
    },
    {
     "name": "stdout",
     "output_type": "stream",
     "text": [
      "Episode 1071: Reward: 12.0 | Score: 170.0 | Avg last 10: 16.9\n"
     ]
    },
    {
     "name": "stderr",
     "output_type": "stream",
     "text": [
      " 72%|███████▏  | 1073/1500 [26:50:10<1:12:10, 10.14s/it]"
     ]
    },
    {
     "name": "stdout",
     "output_type": "stream",
     "text": [
      "Episode 1072: Reward: 14.0 | Score: 185.0 | Avg last 10: 16.8\n"
     ]
    },
    {
     "name": "stderr",
     "output_type": "stream",
     "text": [
      " 72%|███████▏  | 1074/1500 [26:50:20<1:11:39, 10.09s/it]"
     ]
    },
    {
     "name": "stdout",
     "output_type": "stream",
     "text": [
      "Episode 1073: Reward: 13.0 | Score: 175.0 | Avg last 10: 15.0\n"
     ]
    },
    {
     "name": "stderr",
     "output_type": "stream",
     "text": [
      " 72%|███████▏  | 1075/1500 [26:50:29<1:09:42,  9.84s/it]"
     ]
    },
    {
     "name": "stdout",
     "output_type": "stream",
     "text": [
      "Episode 1074: Reward: 15.0 | Score: 215.0 | Avg last 10: 15.0\n"
     ]
    },
    {
     "name": "stderr",
     "output_type": "stream",
     "text": [
      " 72%|███████▏  | 1076/1500 [26:50:42<1:15:12, 10.64s/it]"
     ]
    },
    {
     "name": "stdout",
     "output_type": "stream",
     "text": [
      "Episode 1075: Reward: 26.0 | Score: 585.0 | Avg last 10: 15.9\n"
     ]
    },
    {
     "name": "stderr",
     "output_type": "stream",
     "text": [
      " 72%|███████▏  | 1077/1500 [26:50:58<1:27:23, 12.40s/it]"
     ]
    },
    {
     "name": "stdout",
     "output_type": "stream",
     "text": [
      "Episode 1076: Reward: 29.0 | Score: 470.0 | Avg last 10: 18.1\n"
     ]
    },
    {
     "name": "stderr",
     "output_type": "stream",
     "text": [
      " 72%|███████▏  | 1078/1500 [26:51:03<1:12:14, 10.27s/it]"
     ]
    },
    {
     "name": "stdout",
     "output_type": "stream",
     "text": [
      "Episode 1077: Reward: 8.0 | Score: 100.0 | Avg last 10: 16.2\n"
     ]
    },
    {
     "name": "stderr",
     "output_type": "stream",
     "text": [
      " 72%|███████▏  | 1079/1500 [26:51:24<1:33:17, 13.30s/it]"
     ]
    },
    {
     "name": "stdout",
     "output_type": "stream",
     "text": [
      "Episode 1078: Reward: 33.0 | Score: 740.0 | Avg last 10: 17.6\n"
     ]
    },
    {
     "name": "stderr",
     "output_type": "stream",
     "text": [
      " 72%|███████▏  | 1080/1500 [26:51:33<1:25:01, 12.15s/it]"
     ]
    },
    {
     "name": "stdout",
     "output_type": "stream",
     "text": [
      "Episode 1079: Reward: 12.0 | Score: 165.0 | Avg last 10: 17.0\n"
     ]
    },
    {
     "name": "stderr",
     "output_type": "stream",
     "text": [
      " 72%|███████▏  | 1081/1500 [26:51:40<1:12:35, 10.39s/it]"
     ]
    },
    {
     "name": "stdout",
     "output_type": "stream",
     "text": [
      "Episode 1080: Reward: 7.0 | Score: 80.0 | Avg last 10: 16.9\n"
     ]
    },
    {
     "name": "stderr",
     "output_type": "stream",
     "text": [
      " 72%|███████▏  | 1082/1500 [26:51:50<1:11:49, 10.31s/it]"
     ]
    },
    {
     "name": "stdout",
     "output_type": "stream",
     "text": [
      "Episode 1081: Reward: 17.0 | Score: 245.0 | Avg last 10: 17.4\n"
     ]
    },
    {
     "name": "stderr",
     "output_type": "stream",
     "text": [
      " 72%|███████▏  | 1083/1500 [26:52:07<1:26:26, 12.44s/it]"
     ]
    },
    {
     "name": "stdout",
     "output_type": "stream",
     "text": [
      "Episode 1082: Reward: 23.0 | Score: 350.0 | Avg last 10: 18.3\n"
     ]
    },
    {
     "name": "stderr",
     "output_type": "stream",
     "text": [
      " 72%|███████▏  | 1084/1500 [26:52:26<1:40:21, 14.48s/it]"
     ]
    },
    {
     "name": "stdout",
     "output_type": "stream",
     "text": [
      "Episode 1083: Reward: 34.0 | Score: 570.0 | Avg last 10: 20.4\n",
      "Modelo guardado - Recompensa normalizada media últimos 10: 20.4\n"
     ]
    },
    {
     "name": "stderr",
     "output_type": "stream",
     "text": [
      " 72%|███████▏  | 1085/1500 [26:52:38<1:33:37, 13.54s/it]"
     ]
    },
    {
     "name": "stdout",
     "output_type": "stream",
     "text": [
      "Episode 1084: Reward: 22.0 | Score: 460.0 | Avg last 10: 21.1\n",
      "Modelo guardado - Recompensa normalizada media últimos 10: 21.1\n"
     ]
    },
    {
     "name": "stderr",
     "output_type": "stream",
     "text": [
      " 72%|███████▏  | 1086/1500 [26:52:48<1:26:10, 12.49s/it]"
     ]
    },
    {
     "name": "stdout",
     "output_type": "stream",
     "text": [
      "Episode 1085: Reward: 14.0 | Score: 210.0 | Avg last 10: 19.9\n"
     ]
    },
    {
     "name": "stderr",
     "output_type": "stream",
     "text": [
      " 72%|███████▏  | 1087/1500 [26:52:57<1:19:19, 11.52s/it]"
     ]
    },
    {
     "name": "stdout",
     "output_type": "stream",
     "text": [
      "Episode 1086: Reward: 12.0 | Score: 210.0 | Avg last 10: 18.2\n"
     ]
    },
    {
     "name": "stderr",
     "output_type": "stream",
     "text": [
      " 73%|███████▎  | 1088/1500 [26:53:11<1:24:05, 12.25s/it]"
     ]
    },
    {
     "name": "stdout",
     "output_type": "stream",
     "text": [
      "Episode 1087: Reward: 25.0 | Score: 365.0 | Avg last 10: 19.9\n"
     ]
    },
    {
     "name": "stderr",
     "output_type": "stream",
     "text": [
      " 73%|███████▎  | 1089/1500 [26:53:19<1:15:11, 10.98s/it]"
     ]
    },
    {
     "name": "stdout",
     "output_type": "stream",
     "text": [
      "Episode 1088: Reward: 12.0 | Score: 185.0 | Avg last 10: 17.8\n"
     ]
    },
    {
     "name": "stderr",
     "output_type": "stream",
     "text": [
      " 73%|███████▎  | 1090/1500 [26:53:30<1:15:42, 11.08s/it]"
     ]
    },
    {
     "name": "stdout",
     "output_type": "stream",
     "text": [
      "Episode 1089: Reward: 19.0 | Score: 285.0 | Avg last 10: 18.5\n"
     ]
    },
    {
     "name": "stderr",
     "output_type": "stream",
     "text": [
      " 73%|███████▎  | 1091/1500 [26:53:48<1:29:09, 13.08s/it]"
     ]
    },
    {
     "name": "stdout",
     "output_type": "stream",
     "text": [
      "Episode 1090: Reward: 33.0 | Score: 550.0 | Avg last 10: 21.1\n",
      "Modelo guardado - Recompensa normalizada media últimos 10: 21.1\n"
     ]
    },
    {
     "name": "stderr",
     "output_type": "stream",
     "text": [
      " 73%|███████▎  | 1092/1500 [26:53:55<1:15:43, 11.14s/it]"
     ]
    },
    {
     "name": "stdout",
     "output_type": "stream",
     "text": [
      "Episode 1091: Reward: 7.0 | Score: 110.0 | Avg last 10: 20.1\n",
      "Modelo guardado - Recompensa normalizada media últimos 10: 20.1\n"
     ]
    },
    {
     "name": "stderr",
     "output_type": "stream",
     "text": [
      " 73%|███████▎  | 1093/1500 [26:54:09<1:22:02, 12.09s/it]"
     ]
    },
    {
     "name": "stdout",
     "output_type": "stream",
     "text": [
      "Episode 1092: Reward: 23.0 | Score: 545.0 | Avg last 10: 20.1\n",
      "Modelo guardado - Recompensa normalizada media últimos 10: 20.1\n"
     ]
    },
    {
     "name": "stderr",
     "output_type": "stream",
     "text": [
      " 73%|███████▎  | 1094/1500 [26:54:21<1:21:57, 12.11s/it]"
     ]
    },
    {
     "name": "stdout",
     "output_type": "stream",
     "text": [
      "Episode 1093: Reward: 16.0 | Score: 225.0 | Avg last 10: 18.3\n"
     ]
    },
    {
     "name": "stderr",
     "output_type": "stream",
     "text": [
      " 73%|███████▎  | 1095/1500 [26:54:34<1:24:08, 12.47s/it]"
     ]
    },
    {
     "name": "stdout",
     "output_type": "stream",
     "text": [
      "Episode 1094: Reward: 19.0 | Score: 245.0 | Avg last 10: 18.0\n"
     ]
    },
    {
     "name": "stderr",
     "output_type": "stream",
     "text": [
      " 73%|███████▎  | 1096/1500 [26:54:47<1:24:02, 12.48s/it]"
     ]
    },
    {
     "name": "stdout",
     "output_type": "stream",
     "text": [
      "Episode 1095: Reward: 22.0 | Score: 315.0 | Avg last 10: 18.8\n"
     ]
    },
    {
     "name": "stderr",
     "output_type": "stream",
     "text": [
      " 73%|███████▎  | 1097/1500 [26:54:56<1:17:54, 11.60s/it]"
     ]
    },
    {
     "name": "stdout",
     "output_type": "stream",
     "text": [
      "Episode 1096: Reward: 6.0 | Score: 105.0 | Avg last 10: 18.2\n"
     ]
    },
    {
     "name": "stderr",
     "output_type": "stream",
     "text": [
      " 73%|███████▎  | 1098/1500 [26:55:09<1:20:05, 11.95s/it]"
     ]
    },
    {
     "name": "stdout",
     "output_type": "stream",
     "text": [
      "Episode 1097: Reward: 14.0 | Score: 210.0 | Avg last 10: 17.1\n"
     ]
    },
    {
     "name": "stderr",
     "output_type": "stream",
     "text": [
      " 73%|███████▎  | 1099/1500 [26:55:16<1:08:34, 10.26s/it]"
     ]
    },
    {
     "name": "stdout",
     "output_type": "stream",
     "text": [
      "Episode 1098: Reward: 6.0 | Score: 80.0 | Avg last 10: 16.5\n"
     ]
    },
    {
     "name": "stderr",
     "output_type": "stream",
     "text": [
      " 73%|███████▎  | 1100/1500 [26:55:23<1:03:04,  9.46s/it]"
     ]
    },
    {
     "name": "stdout",
     "output_type": "stream",
     "text": [
      "Episode 1099: Reward: 9.0 | Score: 125.0 | Avg last 10: 15.5\n",
      "Episode 1100: Reward: 10.0 | Score: 155.0 | Avg last 10: 13.2\n"
     ]
    },
    {
     "name": "stderr",
     "output_type": "stream",
     "text": [
      " 73%|███████▎  | 1101/1500 [26:55:34<1:05:47,  9.89s/it]"
     ]
    },
    {
     "name": "stdout",
     "output_type": "stream",
     "text": [
      "Recompensa media en test: 330.00\n",
      "Evaluación @ 1100 ep -> reward media: 330.0\n"
     ]
    },
    {
     "name": "stderr",
     "output_type": "stream",
     "text": [
      " 73%|███████▎  | 1102/1500 [26:55:52<1:22:15, 12.40s/it]"
     ]
    },
    {
     "name": "stdout",
     "output_type": "stream",
     "text": [
      "Episode 1101: Reward: 16.0 | Score: 240.0 | Avg last 10: 14.1\n"
     ]
    },
    {
     "name": "stderr",
     "output_type": "stream",
     "text": [
      " 74%|███████▎  | 1103/1500 [26:56:13<1:37:50, 14.79s/it]"
     ]
    },
    {
     "name": "stdout",
     "output_type": "stream",
     "text": [
      "Episode 1102: Reward: 30.0 | Score: 470.0 | Avg last 10: 14.8\n"
     ]
    },
    {
     "name": "stderr",
     "output_type": "stream",
     "text": [
      " 74%|███████▎  | 1104/1500 [26:56:30<1:43:04, 15.62s/it]"
     ]
    },
    {
     "name": "stdout",
     "output_type": "stream",
     "text": [
      "Episode 1103: Reward: 18.0 | Score: 245.0 | Avg last 10: 15.0\n"
     ]
    },
    {
     "name": "stderr",
     "output_type": "stream",
     "text": [
      " 74%|███████▎  | 1105/1500 [26:56:38<1:28:14, 13.40s/it]"
     ]
    },
    {
     "name": "stdout",
     "output_type": "stream",
     "text": [
      "Episode 1104: Reward: 9.0 | Score: 125.0 | Avg last 10: 14.0\n"
     ]
    },
    {
     "name": "stderr",
     "output_type": "stream",
     "text": [
      " 74%|███████▎  | 1106/1500 [26:56:50<1:25:05, 12.96s/it]"
     ]
    },
    {
     "name": "stdout",
     "output_type": "stream",
     "text": [
      "Episode 1105: Reward: 18.0 | Score: 285.0 | Avg last 10: 13.6\n"
     ]
    },
    {
     "name": "stderr",
     "output_type": "stream",
     "text": [
      " 74%|███████▍  | 1107/1500 [26:56:59<1:15:40, 11.55s/it]"
     ]
    },
    {
     "name": "stdout",
     "output_type": "stream",
     "text": [
      "Episode 1106: Reward: 7.0 | Score: 120.0 | Avg last 10: 13.7\n"
     ]
    },
    {
     "name": "stderr",
     "output_type": "stream",
     "text": [
      " 74%|███████▍  | 1108/1500 [26:57:09<1:12:08, 11.04s/it]"
     ]
    },
    {
     "name": "stdout",
     "output_type": "stream",
     "text": [
      "Episode 1107: Reward: 7.0 | Score: 85.0 | Avg last 10: 13.0\n"
     ]
    },
    {
     "name": "stderr",
     "output_type": "stream",
     "text": [
      " 74%|███████▍  | 1109/1500 [26:57:24<1:20:37, 12.37s/it]"
     ]
    },
    {
     "name": "stdout",
     "output_type": "stream",
     "text": [
      "Episode 1108: Reward: 23.0 | Score: 360.0 | Avg last 10: 14.7\n"
     ]
    },
    {
     "name": "stderr",
     "output_type": "stream",
     "text": [
      " 74%|███████▍  | 1110/1500 [26:57:33<1:13:56, 11.38s/it]"
     ]
    },
    {
     "name": "stdout",
     "output_type": "stream",
     "text": [
      "Episode 1109: Reward: 8.0 | Score: 120.0 | Avg last 10: 14.6\n"
     ]
    },
    {
     "name": "stderr",
     "output_type": "stream",
     "text": [
      " 74%|███████▍  | 1111/1500 [26:57:43<1:10:09, 10.82s/it]"
     ]
    },
    {
     "name": "stdout",
     "output_type": "stream",
     "text": [
      "Episode 1110: Reward: 15.0 | Score: 175.0 | Avg last 10: 15.1\n"
     ]
    },
    {
     "name": "stderr",
     "output_type": "stream",
     "text": [
      " 74%|███████▍  | 1112/1500 [26:57:51<1:05:29, 10.13s/it]"
     ]
    },
    {
     "name": "stdout",
     "output_type": "stream",
     "text": [
      "Episode 1111: Reward: 7.0 | Score: 110.0 | Avg last 10: 14.2\n"
     ]
    },
    {
     "name": "stderr",
     "output_type": "stream",
     "text": [
      " 74%|███████▍  | 1113/1500 [26:57:57<57:13,  8.87s/it]  "
     ]
    },
    {
     "name": "stdout",
     "output_type": "stream",
     "text": [
      "Episode 1112: Reward: 7.0 | Score: 110.0 | Avg last 10: 11.9\n"
     ]
    },
    {
     "name": "stderr",
     "output_type": "stream",
     "text": [
      " 74%|███████▍  | 1114/1500 [26:58:07<59:03,  9.18s/it]"
     ]
    },
    {
     "name": "stdout",
     "output_type": "stream",
     "text": [
      "Episode 1113: Reward: 8.0 | Score: 120.0 | Avg last 10: 10.9\n"
     ]
    },
    {
     "name": "stderr",
     "output_type": "stream",
     "text": [
      " 74%|███████▍  | 1115/1500 [26:58:17<59:59,  9.35s/it]"
     ]
    },
    {
     "name": "stdout",
     "output_type": "stream",
     "text": [
      "Episode 1114: Reward: 11.0 | Score: 150.0 | Avg last 10: 11.1\n"
     ]
    },
    {
     "name": "stderr",
     "output_type": "stream",
     "text": [
      " 74%|███████▍  | 1116/1500 [26:58:30<1:07:51, 10.60s/it]"
     ]
    },
    {
     "name": "stdout",
     "output_type": "stream",
     "text": [
      "Episode 1115: Reward: 15.0 | Score: 185.0 | Avg last 10: 10.8\n"
     ]
    },
    {
     "name": "stderr",
     "output_type": "stream",
     "text": [
      " 74%|███████▍  | 1117/1500 [26:58:39<1:03:47,  9.99s/it]"
     ]
    },
    {
     "name": "stdout",
     "output_type": "stream",
     "text": [
      "Episode 1116: Reward: 13.0 | Score: 185.0 | Avg last 10: 11.4\n"
     ]
    },
    {
     "name": "stderr",
     "output_type": "stream",
     "text": [
      " 75%|███████▍  | 1118/1500 [26:58:52<1:09:14, 10.88s/it]"
     ]
    },
    {
     "name": "stdout",
     "output_type": "stream",
     "text": [
      "Episode 1117: Reward: 17.0 | Score: 425.0 | Avg last 10: 12.4\n"
     ]
    },
    {
     "name": "stderr",
     "output_type": "stream",
     "text": [
      " 75%|███████▍  | 1119/1500 [26:58:57<58:48,  9.26s/it]  "
     ]
    },
    {
     "name": "stdout",
     "output_type": "stream",
     "text": [
      "Episode 1118: Reward: 6.0 | Score: 90.0 | Avg last 10: 10.7\n"
     ]
    },
    {
     "name": "stderr",
     "output_type": "stream",
     "text": [
      " 75%|███████▍  | 1120/1500 [26:59:05<55:50,  8.82s/it]"
     ]
    },
    {
     "name": "stdout",
     "output_type": "stream",
     "text": [
      "Episode 1119: Reward: 7.0 | Score: 110.0 | Avg last 10: 10.6\n"
     ]
    },
    {
     "name": "stderr",
     "output_type": "stream",
     "text": [
      " 75%|███████▍  | 1121/1500 [26:59:14<56:34,  8.96s/it]"
     ]
    },
    {
     "name": "stdout",
     "output_type": "stream",
     "text": [
      "Episode 1120: Reward: 9.0 | Score: 140.0 | Avg last 10: 10.0\n"
     ]
    },
    {
     "name": "stderr",
     "output_type": "stream",
     "text": [
      " 75%|███████▍  | 1122/1500 [26:59:22<53:20,  8.47s/it]"
     ]
    },
    {
     "name": "stdout",
     "output_type": "stream",
     "text": [
      "Episode 1121: Reward: 6.0 | Score: 105.0 | Avg last 10: 9.9\n"
     ]
    },
    {
     "name": "stderr",
     "output_type": "stream",
     "text": [
      " 75%|███████▍  | 1123/1500 [26:59:33<59:14,  9.43s/it]"
     ]
    },
    {
     "name": "stdout",
     "output_type": "stream",
     "text": [
      "Episode 1122: Reward: 14.0 | Score: 180.0 | Avg last 10: 10.6\n"
     ]
    },
    {
     "name": "stderr",
     "output_type": "stream",
     "text": [
      " 75%|███████▍  | 1124/1500 [26:59:48<1:08:11, 10.88s/it]"
     ]
    },
    {
     "name": "stdout",
     "output_type": "stream",
     "text": [
      "Episode 1123: Reward: 24.0 | Score: 320.0 | Avg last 10: 12.2\n"
     ]
    },
    {
     "name": "stderr",
     "output_type": "stream",
     "text": [
      " 75%|███████▌  | 1125/1500 [26:59:58<1:07:47, 10.85s/it]"
     ]
    },
    {
     "name": "stdout",
     "output_type": "stream",
     "text": [
      "Episode 1124: Reward: 16.0 | Score: 235.0 | Avg last 10: 12.7\n"
     ]
    },
    {
     "name": "stderr",
     "output_type": "stream",
     "text": [
      " 75%|███████▌  | 1126/1500 [27:00:10<1:10:03, 11.24s/it]"
     ]
    },
    {
     "name": "stdout",
     "output_type": "stream",
     "text": [
      "Episode 1125: Reward: 23.0 | Score: 340.0 | Avg last 10: 13.5\n"
     ]
    },
    {
     "name": "stderr",
     "output_type": "stream",
     "text": [
      " 75%|███████▌  | 1127/1500 [27:00:18<1:02:38, 10.08s/it]"
     ]
    },
    {
     "name": "stdout",
     "output_type": "stream",
     "text": [
      "Episode 1126: Reward: 6.0 | Score: 105.0 | Avg last 10: 12.8\n"
     ]
    },
    {
     "name": "stderr",
     "output_type": "stream",
     "text": [
      " 75%|███████▌  | 1128/1500 [27:00:24<54:56,  8.86s/it]  "
     ]
    },
    {
     "name": "stdout",
     "output_type": "stream",
     "text": [
      "Episode 1127: Reward: 7.0 | Score: 110.0 | Avg last 10: 11.8\n"
     ]
    },
    {
     "name": "stderr",
     "output_type": "stream",
     "text": [
      " 75%|███████▌  | 1129/1500 [27:00:34<56:24,  9.12s/it]"
     ]
    },
    {
     "name": "stdout",
     "output_type": "stream",
     "text": [
      "Episode 1128: Reward: 9.0 | Score: 135.0 | Avg last 10: 12.1\n"
     ]
    },
    {
     "name": "stderr",
     "output_type": "stream",
     "text": [
      " 75%|███████▌  | 1130/1500 [27:00:44<58:28,  9.48s/it]"
     ]
    },
    {
     "name": "stdout",
     "output_type": "stream",
     "text": [
      "Episode 1129: Reward: 12.0 | Score: 190.0 | Avg last 10: 12.6\n"
     ]
    },
    {
     "name": "stderr",
     "output_type": "stream",
     "text": [
      " 75%|███████▌  | 1131/1500 [27:01:00<1:10:31, 11.47s/it]"
     ]
    },
    {
     "name": "stdout",
     "output_type": "stream",
     "text": [
      "Episode 1130: Reward: 26.0 | Score: 570.0 | Avg last 10: 14.3\n"
     ]
    },
    {
     "name": "stderr",
     "output_type": "stream",
     "text": [
      " 75%|███████▌  | 1132/1500 [27:01:12<1:11:12, 11.61s/it]"
     ]
    },
    {
     "name": "stdout",
     "output_type": "stream",
     "text": [
      "Episode 1131: Reward: 19.0 | Score: 445.0 | Avg last 10: 15.6\n"
     ]
    },
    {
     "name": "stderr",
     "output_type": "stream",
     "text": [
      " 76%|███████▌  | 1133/1500 [27:01:26<1:15:55, 12.41s/it]"
     ]
    },
    {
     "name": "stdout",
     "output_type": "stream",
     "text": [
      "Episode 1132: Reward: 20.0 | Score: 320.0 | Avg last 10: 16.2\n"
     ]
    },
    {
     "name": "stderr",
     "output_type": "stream",
     "text": [
      " 76%|███████▌  | 1134/1500 [27:01:33<1:05:59, 10.82s/it]"
     ]
    },
    {
     "name": "stdout",
     "output_type": "stream",
     "text": [
      "Episode 1133: Reward: 11.0 | Score: 160.0 | Avg last 10: 14.9\n"
     ]
    },
    {
     "name": "stderr",
     "output_type": "stream",
     "text": [
      " 76%|███████▌  | 1135/1500 [27:01:46<1:09:23, 11.41s/it]"
     ]
    },
    {
     "name": "stdout",
     "output_type": "stream",
     "text": [
      "Episode 1134: Reward: 17.0 | Score: 260.0 | Avg last 10: 15.0\n"
     ]
    },
    {
     "name": "stderr",
     "output_type": "stream",
     "text": [
      " 76%|███████▌  | 1136/1500 [27:01:59<1:11:34, 11.80s/it]"
     ]
    },
    {
     "name": "stdout",
     "output_type": "stream",
     "text": [
      "Episode 1135: Reward: 24.0 | Score: 540.0 | Avg last 10: 15.1\n"
     ]
    },
    {
     "name": "stderr",
     "output_type": "stream",
     "text": [
      " 76%|███████▌  | 1137/1500 [27:02:09<1:08:03, 11.25s/it]"
     ]
    },
    {
     "name": "stdout",
     "output_type": "stream",
     "text": [
      "Episode 1136: Reward: 16.0 | Score: 225.0 | Avg last 10: 16.1\n"
     ]
    },
    {
     "name": "stderr",
     "output_type": "stream",
     "text": [
      " 76%|███████▌  | 1138/1500 [27:02:26<1:18:05, 12.94s/it]"
     ]
    },
    {
     "name": "stdout",
     "output_type": "stream",
     "text": [
      "Episode 1137: Reward: 28.0 | Score: 595.0 | Avg last 10: 18.2\n"
     ]
    },
    {
     "name": "stderr",
     "output_type": "stream",
     "text": [
      " 76%|███████▌  | 1139/1500 [27:02:41<1:22:12, 13.66s/it]"
     ]
    },
    {
     "name": "stdout",
     "output_type": "stream",
     "text": [
      "Episode 1138: Reward: 18.0 | Score: 265.0 | Avg last 10: 19.1\n"
     ]
    },
    {
     "name": "stderr",
     "output_type": "stream",
     "text": [
      " 76%|███████▌  | 1140/1500 [27:03:08<1:46:47, 17.80s/it]"
     ]
    },
    {
     "name": "stdout",
     "output_type": "stream",
     "text": [
      "Episode 1139: Reward: 37.0 | Score: 1175.0 | Avg last 10: 21.6\n",
      "Modelo guardado - Recompensa normalizada media últimos 10: 21.6\n"
     ]
    },
    {
     "name": "stderr",
     "output_type": "stream",
     "text": [
      " 76%|███████▌  | 1141/1500 [27:03:20<1:35:35, 15.98s/it]"
     ]
    },
    {
     "name": "stdout",
     "output_type": "stream",
     "text": [
      "Episode 1140: Reward: 20.0 | Score: 285.0 | Avg last 10: 21.0\n",
      "Modelo guardado - Recompensa normalizada media últimos 10: 21.0\n"
     ]
    },
    {
     "name": "stderr",
     "output_type": "stream",
     "text": [
      " 76%|███████▌  | 1142/1500 [27:03:38<1:37:53, 16.41s/it]"
     ]
    },
    {
     "name": "stdout",
     "output_type": "stream",
     "text": [
      "Episode 1141: Reward: 27.0 | Score: 400.0 | Avg last 10: 21.8\n",
      "Modelo guardado - Recompensa normalizada media últimos 10: 21.8\n"
     ]
    },
    {
     "name": "stderr",
     "output_type": "stream",
     "text": [
      " 76%|███████▌  | 1143/1500 [27:03:53<1:35:34, 16.06s/it]"
     ]
    },
    {
     "name": "stdout",
     "output_type": "stream",
     "text": [
      "Episode 1142: Reward: 25.0 | Score: 390.0 | Avg last 10: 22.3\n",
      "Modelo guardado - Recompensa normalizada media últimos 10: 22.3\n"
     ]
    },
    {
     "name": "stderr",
     "output_type": "stream",
     "text": [
      " 76%|███████▋  | 1144/1500 [27:04:11<1:39:17, 16.74s/it]"
     ]
    },
    {
     "name": "stdout",
     "output_type": "stream",
     "text": [
      "Episode 1143: Reward: 27.0 | Score: 395.0 | Avg last 10: 23.9\n",
      "Modelo guardado - Recompensa normalizada media últimos 10: 23.9\n"
     ]
    },
    {
     "name": "stderr",
     "output_type": "stream",
     "text": [
      " 76%|███████▋  | 1145/1500 [27:04:24<1:32:39, 15.66s/it]"
     ]
    },
    {
     "name": "stdout",
     "output_type": "stream",
     "text": [
      "Episode 1144: Reward: 21.0 | Score: 320.0 | Avg last 10: 24.3\n",
      "Modelo guardado - Recompensa normalizada media últimos 10: 24.3\n"
     ]
    },
    {
     "name": "stderr",
     "output_type": "stream",
     "text": [
      " 76%|███████▋  | 1146/1500 [27:04:36<1:25:12, 14.44s/it]"
     ]
    },
    {
     "name": "stdout",
     "output_type": "stream",
     "text": [
      "Episode 1145: Reward: 23.0 | Score: 350.0 | Avg last 10: 24.2\n",
      "Modelo guardado - Recompensa normalizada media últimos 10: 24.2\n"
     ]
    },
    {
     "name": "stderr",
     "output_type": "stream",
     "text": [
      " 76%|███████▋  | 1147/1500 [27:04:52<1:27:21, 14.85s/it]"
     ]
    },
    {
     "name": "stdout",
     "output_type": "stream",
     "text": [
      "Episode 1146: Reward: 26.0 | Score: 600.0 | Avg last 10: 25.2\n",
      "Modelo guardado - Recompensa normalizada media últimos 10: 25.2\n"
     ]
    },
    {
     "name": "stderr",
     "output_type": "stream",
     "text": [
      " 77%|███████▋  | 1148/1500 [27:04:59<1:14:37, 12.72s/it]"
     ]
    },
    {
     "name": "stdout",
     "output_type": "stream",
     "text": [
      "Episode 1147: Reward: 7.0 | Score: 75.0 | Avg last 10: 23.1\n",
      "Modelo guardado - Recompensa normalizada media últimos 10: 23.1\n"
     ]
    },
    {
     "name": "stderr",
     "output_type": "stream",
     "text": [
      " 77%|███████▋  | 1149/1500 [27:05:15<1:18:40, 13.45s/it]"
     ]
    },
    {
     "name": "stdout",
     "output_type": "stream",
     "text": [
      "Episode 1148: Reward: 22.0 | Score: 535.0 | Avg last 10: 23.5\n",
      "Modelo guardado - Recompensa normalizada media últimos 10: 23.5\n"
     ]
    },
    {
     "name": "stderr",
     "output_type": "stream",
     "text": [
      " 77%|███████▋  | 1150/1500 [27:05:24<1:10:35, 12.10s/it]"
     ]
    },
    {
     "name": "stdout",
     "output_type": "stream",
     "text": [
      "Episode 1149: Reward: 12.0 | Score: 155.0 | Avg last 10: 21.0\n",
      "Modelo guardado - Recompensa normalizada media últimos 10: 21.0\n"
     ]
    },
    {
     "name": "stderr",
     "output_type": "stream",
     "text": [
      " 77%|███████▋  | 1151/1500 [27:05:35<1:09:57, 12.03s/it]"
     ]
    },
    {
     "name": "stdout",
     "output_type": "stream",
     "text": [
      "Episode 1150: Reward: 16.0 | Score: 225.0 | Avg last 10: 20.6\n",
      "Modelo guardado - Recompensa normalizada media últimos 10: 20.6\n"
     ]
    },
    {
     "name": "stderr",
     "output_type": "stream",
     "text": [
      " 77%|███████▋  | 1152/1500 [27:05:45<1:05:51, 11.36s/it]"
     ]
    },
    {
     "name": "stdout",
     "output_type": "stream",
     "text": [
      "Episode 1151: Reward: 12.0 | Score: 160.0 | Avg last 10: 19.1\n"
     ]
    },
    {
     "name": "stderr",
     "output_type": "stream",
     "text": [
      " 77%|███████▋  | 1153/1500 [27:05:58<1:08:03, 11.77s/it]"
     ]
    },
    {
     "name": "stdout",
     "output_type": "stream",
     "text": [
      "Episode 1152: Reward: 20.0 | Score: 275.0 | Avg last 10: 18.6\n"
     ]
    },
    {
     "name": "stderr",
     "output_type": "stream",
     "text": [
      " 77%|███████▋  | 1154/1500 [27:06:09<1:06:34, 11.55s/it]"
     ]
    },
    {
     "name": "stdout",
     "output_type": "stream",
     "text": [
      "Episode 1153: Reward: 17.0 | Score: 255.0 | Avg last 10: 17.6\n"
     ]
    },
    {
     "name": "stderr",
     "output_type": "stream",
     "text": [
      " 77%|███████▋  | 1155/1500 [27:06:19<1:03:27, 11.04s/it]"
     ]
    },
    {
     "name": "stdout",
     "output_type": "stream",
     "text": [
      "Episode 1154: Reward: 14.0 | Score: 205.0 | Avg last 10: 16.9\n"
     ]
    },
    {
     "name": "stderr",
     "output_type": "stream",
     "text": [
      " 77%|███████▋  | 1156/1500 [27:06:28<59:29, 10.38s/it]  "
     ]
    },
    {
     "name": "stdout",
     "output_type": "stream",
     "text": [
      "Episode 1155: Reward: 15.0 | Score: 230.0 | Avg last 10: 16.1\n"
     ]
    },
    {
     "name": "stderr",
     "output_type": "stream",
     "text": [
      " 77%|███████▋  | 1157/1500 [27:06:45<1:12:01, 12.60s/it]"
     ]
    },
    {
     "name": "stdout",
     "output_type": "stream",
     "text": [
      "Episode 1156: Reward: 31.0 | Score: 670.0 | Avg last 10: 16.6\n"
     ]
    },
    {
     "name": "stderr",
     "output_type": "stream",
     "text": [
      " 77%|███████▋  | 1158/1500 [27:07:07<1:27:49, 15.41s/it]"
     ]
    },
    {
     "name": "stdout",
     "output_type": "stream",
     "text": [
      "Episode 1157: Reward: 35.0 | Score: 605.0 | Avg last 10: 19.4\n"
     ]
    },
    {
     "name": "stderr",
     "output_type": "stream",
     "text": [
      " 77%|███████▋  | 1159/1500 [27:07:18<1:19:23, 13.97s/it]"
     ]
    },
    {
     "name": "stdout",
     "output_type": "stream",
     "text": [
      "Episode 1158: Reward: 17.0 | Score: 250.0 | Avg last 10: 18.9\n"
     ]
    },
    {
     "name": "stderr",
     "output_type": "stream",
     "text": [
      " 77%|███████▋  | 1160/1500 [27:07:30<1:16:11, 13.44s/it]"
     ]
    },
    {
     "name": "stdout",
     "output_type": "stream",
     "text": [
      "Episode 1159: Reward: 17.0 | Score: 285.0 | Avg last 10: 19.4\n"
     ]
    },
    {
     "name": "stderr",
     "output_type": "stream",
     "text": [
      " 77%|███████▋  | 1161/1500 [27:07:42<1:13:19, 12.98s/it]"
     ]
    },
    {
     "name": "stdout",
     "output_type": "stream",
     "text": [
      "Episode 1160: Reward: 20.0 | Score: 330.0 | Avg last 10: 19.8\n"
     ]
    },
    {
     "name": "stderr",
     "output_type": "stream",
     "text": [
      " 77%|███████▋  | 1162/1500 [27:07:55<1:12:51, 12.93s/it]"
     ]
    },
    {
     "name": "stdout",
     "output_type": "stream",
     "text": [
      "Episode 1161: Reward: 22.0 | Score: 330.0 | Avg last 10: 20.8\n",
      "Modelo guardado - Recompensa normalizada media últimos 10: 20.8\n"
     ]
    },
    {
     "name": "stderr",
     "output_type": "stream",
     "text": [
      " 78%|███████▊  | 1163/1500 [27:08:03<1:03:53, 11.37s/it]"
     ]
    },
    {
     "name": "stdout",
     "output_type": "stream",
     "text": [
      "Episode 1162: Reward: 8.0 | Score: 105.0 | Avg last 10: 19.6\n"
     ]
    },
    {
     "name": "stderr",
     "output_type": "stream",
     "text": [
      " 78%|███████▊  | 1164/1500 [27:08:10<57:29, 10.27s/it]  "
     ]
    },
    {
     "name": "stdout",
     "output_type": "stream",
     "text": [
      "Episode 1163: Reward: 9.0 | Score: 135.0 | Avg last 10: 18.8\n"
     ]
    },
    {
     "name": "stderr",
     "output_type": "stream",
     "text": [
      " 78%|███████▊  | 1165/1500 [27:08:25<1:05:04, 11.66s/it]"
     ]
    },
    {
     "name": "stdout",
     "output_type": "stream",
     "text": [
      "Episode 1164: Reward: 21.0 | Score: 300.0 | Avg last 10: 19.5\n"
     ]
    },
    {
     "name": "stderr",
     "output_type": "stream",
     "text": [
      " 78%|███████▊  | 1166/1500 [27:08:36<1:02:51, 11.29s/it]"
     ]
    },
    {
     "name": "stdout",
     "output_type": "stream",
     "text": [
      "Episode 1165: Reward: 15.0 | Score: 210.0 | Avg last 10: 19.5\n"
     ]
    },
    {
     "name": "stderr",
     "output_type": "stream",
     "text": [
      " 78%|███████▊  | 1167/1500 [27:08:44<58:30, 10.54s/it]  "
     ]
    },
    {
     "name": "stdout",
     "output_type": "stream",
     "text": [
      "Episode 1166: Reward: 11.0 | Score: 180.0 | Avg last 10: 17.5\n"
     ]
    },
    {
     "name": "stderr",
     "output_type": "stream",
     "text": [
      " 78%|███████▊  | 1168/1500 [27:08:53<55:28, 10.03s/it]"
     ]
    },
    {
     "name": "stdout",
     "output_type": "stream",
     "text": [
      "Episode 1167: Reward: 14.0 | Score: 205.0 | Avg last 10: 15.4\n"
     ]
    },
    {
     "name": "stderr",
     "output_type": "stream",
     "text": [
      " 78%|███████▊  | 1169/1500 [27:09:04<56:16, 10.20s/it]"
     ]
    },
    {
     "name": "stdout",
     "output_type": "stream",
     "text": [
      "Episode 1168: Reward: 16.0 | Score: 235.0 | Avg last 10: 15.3\n"
     ]
    },
    {
     "name": "stderr",
     "output_type": "stream",
     "text": [
      " 78%|███████▊  | 1170/1500 [27:09:19<1:04:16, 11.69s/it]"
     ]
    },
    {
     "name": "stdout",
     "output_type": "stream",
     "text": [
      "Episode 1169: Reward: 22.0 | Score: 360.0 | Avg last 10: 15.8\n"
     ]
    },
    {
     "name": "stderr",
     "output_type": "stream",
     "text": [
      " 78%|███████▊  | 1171/1500 [27:09:33<1:07:23, 12.29s/it]"
     ]
    },
    {
     "name": "stdout",
     "output_type": "stream",
     "text": [
      "Episode 1170: Reward: 21.0 | Score: 510.0 | Avg last 10: 15.9\n"
     ]
    },
    {
     "name": "stderr",
     "output_type": "stream",
     "text": [
      " 78%|███████▊  | 1172/1500 [27:09:46<1:09:21, 12.69s/it]"
     ]
    },
    {
     "name": "stdout",
     "output_type": "stream",
     "text": [
      "Episode 1171: Reward: 17.0 | Score: 255.0 | Avg last 10: 15.4\n"
     ]
    },
    {
     "name": "stderr",
     "output_type": "stream",
     "text": [
      " 78%|███████▊  | 1173/1500 [27:09:58<1:06:42, 12.24s/it]"
     ]
    },
    {
     "name": "stdout",
     "output_type": "stream",
     "text": [
      "Episode 1172: Reward: 19.0 | Score: 450.0 | Avg last 10: 16.5\n"
     ]
    },
    {
     "name": "stderr",
     "output_type": "stream",
     "text": [
      " 78%|███████▊  | 1174/1500 [27:10:07<1:02:08, 11.44s/it]"
     ]
    },
    {
     "name": "stdout",
     "output_type": "stream",
     "text": [
      "Episode 1173: Reward: 16.0 | Score: 215.0 | Avg last 10: 17.2\n"
     ]
    },
    {
     "name": "stderr",
     "output_type": "stream",
     "text": [
      " 78%|███████▊  | 1175/1500 [27:10:27<1:16:02, 14.04s/it]"
     ]
    },
    {
     "name": "stdout",
     "output_type": "stream",
     "text": [
      "Episode 1174: Reward: 30.0 | Score: 635.0 | Avg last 10: 18.1\n"
     ]
    },
    {
     "name": "stderr",
     "output_type": "stream",
     "text": [
      " 78%|███████▊  | 1176/1500 [27:10:44<1:20:33, 14.92s/it]"
     ]
    },
    {
     "name": "stdout",
     "output_type": "stream",
     "text": [
      "Episode 1175: Reward: 26.0 | Score: 395.0 | Avg last 10: 19.2\n"
     ]
    },
    {
     "name": "stderr",
     "output_type": "stream",
     "text": [
      " 78%|███████▊  | 1177/1500 [27:10:53<1:10:45, 13.14s/it]"
     ]
    },
    {
     "name": "stdout",
     "output_type": "stream",
     "text": [
      "Episode 1176: Reward: 16.0 | Score: 260.0 | Avg last 10: 19.7\n"
     ]
    },
    {
     "name": "stderr",
     "output_type": "stream",
     "text": [
      " 79%|███████▊  | 1178/1500 [27:11:04<1:06:43, 12.43s/it]"
     ]
    },
    {
     "name": "stdout",
     "output_type": "stream",
     "text": [
      "Episode 1177: Reward: 15.0 | Score: 240.0 | Avg last 10: 19.8\n"
     ]
    },
    {
     "name": "stderr",
     "output_type": "stream",
     "text": [
      " 79%|███████▊  | 1179/1500 [27:11:16<1:05:04, 12.17s/it]"
     ]
    },
    {
     "name": "stdout",
     "output_type": "stream",
     "text": [
      "Episode 1178: Reward: 27.0 | Score: 440.0 | Avg last 10: 20.9\n",
      "Modelo guardado - Recompensa normalizada media últimos 10: 20.9\n"
     ]
    },
    {
     "name": "stderr",
     "output_type": "stream",
     "text": [
      " 79%|███████▊  | 1180/1500 [27:11:28<1:04:54, 12.17s/it]"
     ]
    },
    {
     "name": "stdout",
     "output_type": "stream",
     "text": [
      "Episode 1179: Reward: 16.0 | Score: 220.0 | Avg last 10: 20.3\n",
      "Modelo guardado - Recompensa normalizada media últimos 10: 20.3\n"
     ]
    },
    {
     "name": "stderr",
     "output_type": "stream",
     "text": [
      " 79%|███████▊  | 1181/1500 [27:11:38<1:02:10, 11.69s/it]"
     ]
    },
    {
     "name": "stdout",
     "output_type": "stream",
     "text": [
      "Episode 1180: Reward: 18.0 | Score: 245.0 | Avg last 10: 20.0\n",
      "Modelo guardado - Recompensa normalizada media últimos 10: 20.0\n"
     ]
    },
    {
     "name": "stderr",
     "output_type": "stream",
     "text": [
      " 79%|███████▉  | 1182/1500 [27:11:52<1:04:53, 12.25s/it]"
     ]
    },
    {
     "name": "stdout",
     "output_type": "stream",
     "text": [
      "Episode 1181: Reward: 16.0 | Score: 270.0 | Avg last 10: 19.9\n"
     ]
    },
    {
     "name": "stderr",
     "output_type": "stream",
     "text": [
      " 79%|███████▉  | 1183/1500 [27:12:02<1:01:19, 11.61s/it]"
     ]
    },
    {
     "name": "stdout",
     "output_type": "stream",
     "text": [
      "Episode 1182: Reward: 15.0 | Score: 425.0 | Avg last 10: 19.5\n"
     ]
    },
    {
     "name": "stderr",
     "output_type": "stream",
     "text": [
      " 79%|███████▉  | 1184/1500 [27:12:16<1:05:38, 12.46s/it]"
     ]
    },
    {
     "name": "stdout",
     "output_type": "stream",
     "text": [
      "Episode 1183: Reward: 22.0 | Score: 325.0 | Avg last 10: 20.1\n",
      "Modelo guardado - Recompensa normalizada media últimos 10: 20.1\n"
     ]
    },
    {
     "name": "stderr",
     "output_type": "stream",
     "text": [
      " 79%|███████▉  | 1185/1500 [27:12:28<1:03:37, 12.12s/it]"
     ]
    },
    {
     "name": "stdout",
     "output_type": "stream",
     "text": [
      "Episode 1184: Reward: 7.0 | Score: 110.0 | Avg last 10: 17.8\n"
     ]
    },
    {
     "name": "stderr",
     "output_type": "stream",
     "text": [
      " 79%|███████▉  | 1186/1500 [27:12:46<1:12:40, 13.89s/it]"
     ]
    },
    {
     "name": "stdout",
     "output_type": "stream",
     "text": [
      "Episode 1185: Reward: 24.0 | Score: 350.0 | Avg last 10: 17.6\n"
     ]
    },
    {
     "name": "stderr",
     "output_type": "stream",
     "text": [
      " 79%|███████▉  | 1187/1500 [27:12:57<1:07:37, 12.96s/it]"
     ]
    },
    {
     "name": "stdout",
     "output_type": "stream",
     "text": [
      "Episode 1186: Reward: 15.0 | Score: 230.0 | Avg last 10: 17.5\n"
     ]
    },
    {
     "name": "stderr",
     "output_type": "stream",
     "text": [
      " 79%|███████▉  | 1188/1500 [27:13:12<1:10:47, 13.62s/it]"
     ]
    },
    {
     "name": "stdout",
     "output_type": "stream",
     "text": [
      "Episode 1187: Reward: 12.0 | Score: 380.0 | Avg last 10: 17.2\n"
     ]
    },
    {
     "name": "stderr",
     "output_type": "stream",
     "text": [
      " 79%|███████▉  | 1189/1500 [27:13:23<1:07:28, 13.02s/it]"
     ]
    },
    {
     "name": "stdout",
     "output_type": "stream",
     "text": [
      "Episode 1188: Reward: 13.0 | Score: 410.0 | Avg last 10: 15.8\n"
     ]
    },
    {
     "name": "stderr",
     "output_type": "stream",
     "text": [
      " 79%|███████▉  | 1190/1500 [27:13:35<1:05:41, 12.71s/it]"
     ]
    },
    {
     "name": "stdout",
     "output_type": "stream",
     "text": [
      "Episode 1189: Reward: 17.0 | Score: 245.0 | Avg last 10: 15.9\n"
     ]
    },
    {
     "name": "stderr",
     "output_type": "stream",
     "text": [
      " 79%|███████▉  | 1191/1500 [27:13:50<1:09:15, 13.45s/it]"
     ]
    },
    {
     "name": "stdout",
     "output_type": "stream",
     "text": [
      "Episode 1190: Reward: 18.0 | Score: 240.0 | Avg last 10: 15.9\n"
     ]
    },
    {
     "name": "stderr",
     "output_type": "stream",
     "text": [
      " 79%|███████▉  | 1192/1500 [27:14:00<1:02:27, 12.17s/it]"
     ]
    },
    {
     "name": "stdout",
     "output_type": "stream",
     "text": [
      "Episode 1191: Reward: 13.0 | Score: 215.0 | Avg last 10: 15.6\n"
     ]
    },
    {
     "name": "stderr",
     "output_type": "stream",
     "text": [
      " 80%|███████▉  | 1193/1500 [27:14:10<59:19, 11.60s/it]  "
     ]
    },
    {
     "name": "stdout",
     "output_type": "stream",
     "text": [
      "Episode 1192: Reward: 15.0 | Score: 230.0 | Avg last 10: 15.6\n"
     ]
    },
    {
     "name": "stderr",
     "output_type": "stream",
     "text": [
      " 80%|███████▉  | 1194/1500 [27:14:18<53:34, 10.50s/it]"
     ]
    },
    {
     "name": "stdout",
     "output_type": "stream",
     "text": [
      "Episode 1193: Reward: 9.0 | Score: 135.0 | Avg last 10: 14.3\n"
     ]
    },
    {
     "name": "stderr",
     "output_type": "stream",
     "text": [
      " 80%|███████▉  | 1195/1500 [27:14:33<1:00:41, 11.94s/it]"
     ]
    },
    {
     "name": "stdout",
     "output_type": "stream",
     "text": [
      "Episode 1194: Reward: 21.0 | Score: 305.0 | Avg last 10: 15.7\n"
     ]
    },
    {
     "name": "stderr",
     "output_type": "stream",
     "text": [
      " 80%|███████▉  | 1196/1500 [27:14:43<57:01, 11.25s/it]  "
     ]
    },
    {
     "name": "stdout",
     "output_type": "stream",
     "text": [
      "Episode 1195: Reward: 14.0 | Score: 225.0 | Avg last 10: 14.7\n"
     ]
    },
    {
     "name": "stderr",
     "output_type": "stream",
     "text": [
      " 80%|███████▉  | 1197/1500 [27:14:54<56:31, 11.19s/it]"
     ]
    },
    {
     "name": "stdout",
     "output_type": "stream",
     "text": [
      "Episode 1196: Reward: 13.0 | Score: 190.0 | Avg last 10: 14.5\n"
     ]
    },
    {
     "name": "stderr",
     "output_type": "stream",
     "text": [
      " 80%|███████▉  | 1198/1500 [27:15:03<53:53, 10.71s/it]"
     ]
    },
    {
     "name": "stdout",
     "output_type": "stream",
     "text": [
      "Episode 1197: Reward: 14.0 | Score: 205.0 | Avg last 10: 14.7\n"
     ]
    },
    {
     "name": "stderr",
     "output_type": "stream",
     "text": [
      " 80%|███████▉  | 1199/1500 [27:15:21<1:03:28, 12.65s/it]"
     ]
    },
    {
     "name": "stdout",
     "output_type": "stream",
     "text": [
      "Episode 1198: Reward: 26.0 | Score: 385.0 | Avg last 10: 16.0\n"
     ]
    },
    {
     "name": "stderr",
     "output_type": "stream",
     "text": [
      " 80%|████████  | 1200/1500 [27:15:44<1:19:32, 15.91s/it]"
     ]
    },
    {
     "name": "stdout",
     "output_type": "stream",
     "text": [
      "Episode 1199: Reward: 34.0 | Score: 930.0 | Avg last 10: 17.7\n",
      "Episode 1200: Reward: 35.0 | Score: 600.0 | Avg last 10: 19.4\n"
     ]
    },
    {
     "name": "stderr",
     "output_type": "stream",
     "text": [
      " 80%|████████  | 1201/1500 [27:16:05<1:27:01, 17.46s/it]"
     ]
    },
    {
     "name": "stdout",
     "output_type": "stream",
     "text": [
      "Recompensa media en test: 280.00\n",
      "Evaluación @ 1200 ep -> reward media: 280.0\n"
     ]
    },
    {
     "name": "stderr",
     "output_type": "stream",
     "text": [
      " 80%|████████  | 1202/1500 [27:16:15<1:15:04, 15.12s/it]"
     ]
    },
    {
     "name": "stdout",
     "output_type": "stream",
     "text": [
      "Episode 1201: Reward: 13.0 | Score: 180.0 | Avg last 10: 19.4\n"
     ]
    },
    {
     "name": "stderr",
     "output_type": "stream",
     "text": [
      " 80%|████████  | 1203/1500 [27:16:34<1:20:02, 16.17s/it]"
     ]
    },
    {
     "name": "stdout",
     "output_type": "stream",
     "text": [
      "Episode 1202: Reward: 27.0 | Score: 565.0 | Avg last 10: 20.6\n",
      "Modelo guardado - Recompensa normalizada media últimos 10: 20.6\n"
     ]
    },
    {
     "name": "stderr",
     "output_type": "stream",
     "text": [
      " 80%|████████  | 1204/1500 [27:16:41<1:07:31, 13.69s/it]"
     ]
    },
    {
     "name": "stdout",
     "output_type": "stream",
     "text": [
      "Episode 1203: Reward: 12.0 | Score: 210.0 | Avg last 10: 20.9\n",
      "Modelo guardado - Recompensa normalizada media últimos 10: 20.9\n"
     ]
    },
    {
     "name": "stderr",
     "output_type": "stream",
     "text": [
      " 80%|████████  | 1205/1500 [27:16:52<1:02:06, 12.63s/it]"
     ]
    },
    {
     "name": "stdout",
     "output_type": "stream",
     "text": [
      "Episode 1204: Reward: 15.0 | Score: 230.0 | Avg last 10: 20.3\n",
      "Modelo guardado - Recompensa normalizada media últimos 10: 20.3\n"
     ]
    },
    {
     "name": "stderr",
     "output_type": "stream",
     "text": [
      " 80%|████████  | 1206/1500 [27:17:05<1:02:57, 12.85s/it]"
     ]
    },
    {
     "name": "stdout",
     "output_type": "stream",
     "text": [
      "Episode 1205: Reward: 20.0 | Score: 470.0 | Avg last 10: 20.9\n",
      "Modelo guardado - Recompensa normalizada media últimos 10: 20.9\n"
     ]
    },
    {
     "name": "stderr",
     "output_type": "stream",
     "text": [
      " 80%|████████  | 1207/1500 [27:17:25<1:14:02, 15.16s/it]"
     ]
    },
    {
     "name": "stdout",
     "output_type": "stream",
     "text": [
      "Episode 1206: Reward: 32.0 | Score: 705.0 | Avg last 10: 22.8\n",
      "Modelo guardado - Recompensa normalizada media últimos 10: 22.8\n"
     ]
    },
    {
     "name": "stderr",
     "output_type": "stream",
     "text": [
      " 81%|████████  | 1208/1500 [27:17:35<1:05:36, 13.48s/it]"
     ]
    },
    {
     "name": "stdout",
     "output_type": "stream",
     "text": [
      "Episode 1207: Reward: 13.0 | Score: 215.0 | Avg last 10: 22.7\n",
      "Modelo guardado - Recompensa normalizada media últimos 10: 22.7\n"
     ]
    },
    {
     "name": "stderr",
     "output_type": "stream",
     "text": [
      " 81%|████████  | 1209/1500 [27:17:51<1:09:23, 14.31s/it]"
     ]
    },
    {
     "name": "stdout",
     "output_type": "stream",
     "text": [
      "Episode 1208: Reward: 32.0 | Score: 525.0 | Avg last 10: 23.3\n",
      "Modelo guardado - Recompensa normalizada media últimos 10: 23.3\n"
     ]
    },
    {
     "name": "stderr",
     "output_type": "stream",
     "text": [
      " 81%|████████  | 1210/1500 [27:17:58<58:24, 12.08s/it]  "
     ]
    },
    {
     "name": "stdout",
     "output_type": "stream",
     "text": [
      "Episode 1209: Reward: 11.0 | Score: 140.0 | Avg last 10: 21.0\n",
      "Modelo guardado - Recompensa normalizada media últimos 10: 21.0\n"
     ]
    },
    {
     "name": "stderr",
     "output_type": "stream",
     "text": [
      " 81%|████████  | 1211/1500 [27:18:10<57:31, 11.94s/it]"
     ]
    },
    {
     "name": "stdout",
     "output_type": "stream",
     "text": [
      "Episode 1210: Reward: 15.0 | Score: 240.0 | Avg last 10: 19.0\n"
     ]
    },
    {
     "name": "stderr",
     "output_type": "stream",
     "text": [
      " 81%|████████  | 1212/1500 [27:18:19<52:57, 11.03s/it]"
     ]
    },
    {
     "name": "stdout",
     "output_type": "stream",
     "text": [
      "Episode 1211: Reward: 11.0 | Score: 185.0 | Avg last 10: 18.8\n"
     ]
    },
    {
     "name": "stderr",
     "output_type": "stream",
     "text": [
      " 81%|████████  | 1213/1500 [27:18:31<54:10, 11.33s/it]"
     ]
    },
    {
     "name": "stdout",
     "output_type": "stream",
     "text": [
      "Episode 1212: Reward: 16.0 | Score: 260.0 | Avg last 10: 17.7\n"
     ]
    },
    {
     "name": "stderr",
     "output_type": "stream",
     "text": [
      " 81%|████████  | 1214/1500 [27:18:46<1:00:09, 12.62s/it]"
     ]
    },
    {
     "name": "stdout",
     "output_type": "stream",
     "text": [
      "Episode 1213: Reward: 28.0 | Score: 425.0 | Avg last 10: 19.3\n"
     ]
    },
    {
     "name": "stderr",
     "output_type": "stream",
     "text": [
      " 81%|████████  | 1215/1500 [27:19:01<1:02:59, 13.26s/it]"
     ]
    },
    {
     "name": "stdout",
     "output_type": "stream",
     "text": [
      "Episode 1214: Reward: 17.0 | Score: 460.0 | Avg last 10: 19.5\n"
     ]
    },
    {
     "name": "stderr",
     "output_type": "stream",
     "text": [
      " 81%|████████  | 1216/1500 [27:19:18<1:07:28, 14.26s/it]"
     ]
    },
    {
     "name": "stdout",
     "output_type": "stream",
     "text": [
      "Episode 1215: Reward: 22.0 | Score: 525.0 | Avg last 10: 19.7\n"
     ]
    },
    {
     "name": "stderr",
     "output_type": "stream",
     "text": [
      " 81%|████████  | 1217/1500 [27:19:36<1:12:26, 15.36s/it]"
     ]
    },
    {
     "name": "stdout",
     "output_type": "stream",
     "text": [
      "Episode 1216: Reward: 22.0 | Score: 330.0 | Avg last 10: 18.7\n"
     ]
    },
    {
     "name": "stderr",
     "output_type": "stream",
     "text": [
      " 81%|████████  | 1218/1500 [27:19:52<1:13:27, 15.63s/it]"
     ]
    },
    {
     "name": "stdout",
     "output_type": "stream",
     "text": [
      "Episode 1217: Reward: 22.0 | Score: 370.0 | Avg last 10: 19.6\n"
     ]
    },
    {
     "name": "stderr",
     "output_type": "stream",
     "text": [
      " 81%|████████▏ | 1219/1500 [27:20:06<1:10:53, 15.14s/it]"
     ]
    },
    {
     "name": "stdout",
     "output_type": "stream",
     "text": [
      "Episode 1218: Reward: 24.0 | Score: 370.0 | Avg last 10: 18.8\n"
     ]
    },
    {
     "name": "stderr",
     "output_type": "stream",
     "text": [
      " 81%|████████▏ | 1220/1500 [27:20:12<57:29, 12.32s/it]  "
     ]
    },
    {
     "name": "stdout",
     "output_type": "stream",
     "text": [
      "Episode 1219: Reward: 9.0 | Score: 125.0 | Avg last 10: 18.6\n"
     ]
    },
    {
     "name": "stderr",
     "output_type": "stream",
     "text": [
      " 81%|████████▏ | 1221/1500 [27:20:29<1:03:43, 13.70s/it]"
     ]
    },
    {
     "name": "stdout",
     "output_type": "stream",
     "text": [
      "Episode 1220: Reward: 13.0 | Score: 195.0 | Avg last 10: 18.4\n"
     ]
    },
    {
     "name": "stderr",
     "output_type": "stream",
     "text": [
      " 81%|████████▏ | 1222/1500 [27:20:39<59:10, 12.77s/it]  "
     ]
    },
    {
     "name": "stdout",
     "output_type": "stream",
     "text": [
      "Episode 1221: Reward: 13.0 | Score: 175.0 | Avg last 10: 18.6\n"
     ]
    },
    {
     "name": "stderr",
     "output_type": "stream",
     "text": [
      " 82%|████████▏ | 1223/1500 [27:20:50<55:46, 12.08s/it]"
     ]
    },
    {
     "name": "stdout",
     "output_type": "stream",
     "text": [
      "Episode 1222: Reward: 12.0 | Score: 210.0 | Avg last 10: 18.2\n"
     ]
    },
    {
     "name": "stderr",
     "output_type": "stream",
     "text": [
      " 82%|████████▏ | 1224/1500 [27:21:09<1:05:08, 14.16s/it]"
     ]
    },
    {
     "name": "stdout",
     "output_type": "stream",
     "text": [
      "Episode 1223: Reward: 29.0 | Score: 635.0 | Avg last 10: 18.3\n"
     ]
    },
    {
     "name": "stderr",
     "output_type": "stream",
     "text": [
      " 82%|████████▏ | 1225/1500 [27:21:22<1:03:42, 13.90s/it]"
     ]
    },
    {
     "name": "stdout",
     "output_type": "stream",
     "text": [
      "Episode 1224: Reward: 15.0 | Score: 235.0 | Avg last 10: 18.1\n"
     ]
    },
    {
     "name": "stderr",
     "output_type": "stream",
     "text": [
      " 82%|████████▏ | 1226/1500 [27:21:38<1:06:05, 14.47s/it]"
     ]
    },
    {
     "name": "stdout",
     "output_type": "stream",
     "text": [
      "Episode 1225: Reward: 23.0 | Score: 335.0 | Avg last 10: 18.2\n"
     ]
    },
    {
     "name": "stderr",
     "output_type": "stream",
     "text": [
      " 82%|████████▏ | 1227/1500 [27:21:52<1:06:01, 14.51s/it]"
     ]
    },
    {
     "name": "stdout",
     "output_type": "stream",
     "text": [
      "Episode 1226: Reward: 20.0 | Score: 265.0 | Avg last 10: 18.0\n"
     ]
    },
    {
     "name": "stderr",
     "output_type": "stream",
     "text": [
      " 82%|████████▏ | 1228/1500 [27:22:02<58:33, 12.92s/it]  "
     ]
    },
    {
     "name": "stdout",
     "output_type": "stream",
     "text": [
      "Episode 1227: Reward: 11.0 | Score: 180.0 | Avg last 10: 16.9\n"
     ]
    },
    {
     "name": "stderr",
     "output_type": "stream",
     "text": [
      " 82%|████████▏ | 1229/1500 [27:22:14<58:10, 12.88s/it]"
     ]
    },
    {
     "name": "stdout",
     "output_type": "stream",
     "text": [
      "Episode 1228: Reward: 17.0 | Score: 250.0 | Avg last 10: 16.2\n"
     ]
    },
    {
     "name": "stderr",
     "output_type": "stream",
     "text": [
      " 82%|████████▏ | 1230/1500 [27:22:27<57:05, 12.69s/it]"
     ]
    },
    {
     "name": "stdout",
     "output_type": "stream",
     "text": [
      "Episode 1229: Reward: 12.0 | Score: 155.0 | Avg last 10: 16.5\n"
     ]
    },
    {
     "name": "stderr",
     "output_type": "stream",
     "text": [
      " 82%|████████▏ | 1231/1500 [27:22:46<1:06:16, 14.78s/it]"
     ]
    },
    {
     "name": "stdout",
     "output_type": "stream",
     "text": [
      "Episode 1230: Reward: 27.0 | Score: 580.0 | Avg last 10: 17.9\n"
     ]
    },
    {
     "name": "stderr",
     "output_type": "stream",
     "text": [
      " 82%|████████▏ | 1232/1500 [27:23:01<1:05:58, 14.77s/it]"
     ]
    },
    {
     "name": "stdout",
     "output_type": "stream",
     "text": [
      "Episode 1231: Reward: 20.0 | Score: 480.0 | Avg last 10: 18.6\n"
     ]
    },
    {
     "name": "stderr",
     "output_type": "stream",
     "text": [
      " 82%|████████▏ | 1233/1500 [27:23:12<1:01:21, 13.79s/it]"
     ]
    },
    {
     "name": "stdout",
     "output_type": "stream",
     "text": [
      "Episode 1232: Reward: 12.0 | Score: 210.0 | Avg last 10: 18.6\n"
     ]
    },
    {
     "name": "stderr",
     "output_type": "stream",
     "text": [
      " 82%|████████▏ | 1234/1500 [27:23:23<57:14, 12.91s/it]  "
     ]
    },
    {
     "name": "stdout",
     "output_type": "stream",
     "text": [
      "Episode 1233: Reward: 11.0 | Score: 180.0 | Avg last 10: 16.8\n"
     ]
    },
    {
     "name": "stderr",
     "output_type": "stream",
     "text": [
      " 82%|████████▏ | 1235/1500 [27:23:37<57:33, 13.03s/it]"
     ]
    },
    {
     "name": "stdout",
     "output_type": "stream",
     "text": [
      "Episode 1234: Reward: 28.0 | Score: 430.0 | Avg last 10: 18.1\n"
     ]
    },
    {
     "name": "stderr",
     "output_type": "stream",
     "text": [
      " 82%|████████▏ | 1236/1500 [27:23:49<55:54, 12.71s/it]"
     ]
    },
    {
     "name": "stdout",
     "output_type": "stream",
     "text": [
      "Episode 1235: Reward: 18.0 | Score: 285.0 | Avg last 10: 17.6\n"
     ]
    },
    {
     "name": "stderr",
     "output_type": "stream",
     "text": [
      " 82%|████████▏ | 1237/1500 [27:24:09<1:05:43, 14.99s/it]"
     ]
    },
    {
     "name": "stdout",
     "output_type": "stream",
     "text": [
      "Episode 1236: Reward: 34.0 | Score: 925.0 | Avg last 10: 19.0\n"
     ]
    },
    {
     "name": "stderr",
     "output_type": "stream",
     "text": [
      " 83%|████████▎ | 1238/1500 [27:24:21<1:01:16, 14.03s/it]"
     ]
    },
    {
     "name": "stdout",
     "output_type": "stream",
     "text": [
      "Episode 1237: Reward: 17.0 | Score: 230.0 | Avg last 10: 19.6\n"
     ]
    },
    {
     "name": "stderr",
     "output_type": "stream",
     "text": [
      " 83%|████████▎ | 1239/1500 [27:24:35<1:01:59, 14.25s/it]"
     ]
    },
    {
     "name": "stdout",
     "output_type": "stream",
     "text": [
      "Episode 1238: Reward: 12.0 | Score: 210.0 | Avg last 10: 19.1\n"
     ]
    },
    {
     "name": "stderr",
     "output_type": "stream",
     "text": [
      " 83%|████████▎ | 1240/1500 [27:24:49<1:01:21, 14.16s/it]"
     ]
    },
    {
     "name": "stdout",
     "output_type": "stream",
     "text": [
      "Episode 1239: Reward: 14.0 | Score: 200.0 | Avg last 10: 19.3\n"
     ]
    },
    {
     "name": "stderr",
     "output_type": "stream",
     "text": [
      " 83%|████████▎ | 1241/1500 [27:25:03<1:00:31, 14.02s/it]"
     ]
    },
    {
     "name": "stdout",
     "output_type": "stream",
     "text": [
      "Episode 1240: Reward: 25.0 | Score: 370.0 | Avg last 10: 19.1\n"
     ]
    },
    {
     "name": "stderr",
     "output_type": "stream",
     "text": [
      " 83%|████████▎ | 1242/1500 [27:25:18<1:00:46, 14.13s/it]"
     ]
    },
    {
     "name": "stdout",
     "output_type": "stream",
     "text": [
      "Episode 1241: Reward: 19.0 | Score: 430.0 | Avg last 10: 19.0\n"
     ]
    },
    {
     "name": "stderr",
     "output_type": "stream",
     "text": [
      " 83%|████████▎ | 1243/1500 [27:25:26<52:51, 12.34s/it]  "
     ]
    },
    {
     "name": "stdout",
     "output_type": "stream",
     "text": [
      "Episode 1242: Reward: 12.0 | Score: 150.0 | Avg last 10: 19.0\n"
     ]
    },
    {
     "name": "stderr",
     "output_type": "stream",
     "text": [
      " 83%|████████▎ | 1244/1500 [27:25:36<50:22, 11.81s/it]"
     ]
    },
    {
     "name": "stdout",
     "output_type": "stream",
     "text": [
      "Episode 1243: Reward: 12.0 | Score: 140.0 | Avg last 10: 19.1\n"
     ]
    },
    {
     "name": "stderr",
     "output_type": "stream",
     "text": [
      " 83%|████████▎ | 1245/1500 [27:25:52<55:08, 12.98s/it]"
     ]
    },
    {
     "name": "stdout",
     "output_type": "stream",
     "text": [
      "Episode 1244: Reward: 21.0 | Score: 355.0 | Avg last 10: 18.4\n"
     ]
    },
    {
     "name": "stderr",
     "output_type": "stream",
     "text": [
      " 83%|████████▎ | 1246/1500 [27:26:04<53:25, 12.62s/it]"
     ]
    },
    {
     "name": "stdout",
     "output_type": "stream",
     "text": [
      "Episode 1245: Reward: 22.0 | Score: 280.0 | Avg last 10: 18.8\n"
     ]
    },
    {
     "name": "stderr",
     "output_type": "stream",
     "text": [
      " 83%|████████▎ | 1247/1500 [27:26:13<49:12, 11.67s/it]"
     ]
    },
    {
     "name": "stdout",
     "output_type": "stream",
     "text": [
      "Episode 1246: Reward: 14.0 | Score: 200.0 | Avg last 10: 16.8\n"
     ]
    },
    {
     "name": "stderr",
     "output_type": "stream",
     "text": [
      " 83%|████████▎ | 1248/1500 [27:26:19<42:03, 10.01s/it]"
     ]
    },
    {
     "name": "stdout",
     "output_type": "stream",
     "text": [
      "Episode 1247: Reward: 6.0 | Score: 80.0 | Avg last 10: 15.7\n"
     ]
    },
    {
     "name": "stderr",
     "output_type": "stream",
     "text": [
      " 83%|████████▎ | 1249/1500 [27:26:30<42:18, 10.11s/it]"
     ]
    },
    {
     "name": "stdout",
     "output_type": "stream",
     "text": [
      "Episode 1248: Reward: 13.0 | Score: 170.0 | Avg last 10: 15.8\n"
     ]
    },
    {
     "name": "stderr",
     "output_type": "stream",
     "text": [
      " 83%|████████▎ | 1250/1500 [27:26:47<51:03, 12.25s/it]"
     ]
    },
    {
     "name": "stdout",
     "output_type": "stream",
     "text": [
      "Episode 1249: Reward: 26.0 | Score: 370.0 | Avg last 10: 17.0\n"
     ]
    },
    {
     "name": "stderr",
     "output_type": "stream",
     "text": [
      " 83%|████████▎ | 1251/1500 [27:26:56<46:36, 11.23s/it]"
     ]
    },
    {
     "name": "stdout",
     "output_type": "stream",
     "text": [
      "Episode 1250: Reward: 11.0 | Score: 180.0 | Avg last 10: 15.6\n"
     ]
    },
    {
     "name": "stderr",
     "output_type": "stream",
     "text": [
      " 83%|████████▎ | 1252/1500 [27:27:11<51:30, 12.46s/it]"
     ]
    },
    {
     "name": "stdout",
     "output_type": "stream",
     "text": [
      "Episode 1251: Reward: 20.0 | Score: 240.0 | Avg last 10: 15.7\n"
     ]
    },
    {
     "name": "stderr",
     "output_type": "stream",
     "text": [
      " 84%|████████▎ | 1253/1500 [27:27:19<45:56, 11.16s/it]"
     ]
    },
    {
     "name": "stdout",
     "output_type": "stream",
     "text": [
      "Episode 1252: Reward: 14.0 | Score: 200.0 | Avg last 10: 15.9\n"
     ]
    },
    {
     "name": "stderr",
     "output_type": "stream",
     "text": [
      " 84%|████████▎ | 1254/1500 [27:27:32<48:17, 11.78s/it]"
     ]
    },
    {
     "name": "stdout",
     "output_type": "stream",
     "text": [
      "Episode 1253: Reward: 20.0 | Score: 255.0 | Avg last 10: 16.7\n"
     ]
    },
    {
     "name": "stderr",
     "output_type": "stream",
     "text": [
      " 84%|████████▎ | 1255/1500 [27:27:44<48:24, 11.85s/it]"
     ]
    },
    {
     "name": "stdout",
     "output_type": "stream",
     "text": [
      "Episode 1254: Reward: 23.0 | Score: 300.0 | Avg last 10: 16.9\n"
     ]
    },
    {
     "name": "stderr",
     "output_type": "stream",
     "text": [
      " 84%|████████▎ | 1256/1500 [27:27:55<46:13, 11.37s/it]"
     ]
    },
    {
     "name": "stdout",
     "output_type": "stream",
     "text": [
      "Episode 1255: Reward: 18.0 | Score: 260.0 | Avg last 10: 16.5\n"
     ]
    },
    {
     "name": "stderr",
     "output_type": "stream",
     "text": [
      " 84%|████████▍ | 1257/1500 [27:28:10<50:12, 12.40s/it]"
     ]
    },
    {
     "name": "stdout",
     "output_type": "stream",
     "text": [
      "Episode 1256: Reward: 22.0 | Score: 315.0 | Avg last 10: 17.3\n"
     ]
    },
    {
     "name": "stderr",
     "output_type": "stream",
     "text": [
      " 84%|████████▍ | 1258/1500 [27:28:23<51:11, 12.69s/it]"
     ]
    },
    {
     "name": "stdout",
     "output_type": "stream",
     "text": [
      "Episode 1257: Reward: 15.0 | Score: 170.0 | Avg last 10: 18.2\n"
     ]
    },
    {
     "name": "stderr",
     "output_type": "stream",
     "text": [
      " 84%|████████▍ | 1259/1500 [27:28:35<50:46, 12.64s/it]"
     ]
    },
    {
     "name": "stdout",
     "output_type": "stream",
     "text": [
      "Episode 1258: Reward: 24.0 | Score: 365.0 | Avg last 10: 19.3\n"
     ]
    },
    {
     "name": "stderr",
     "output_type": "stream",
     "text": [
      " 84%|████████▍ | 1260/1500 [27:28:52<54:58, 13.74s/it]"
     ]
    },
    {
     "name": "stdout",
     "output_type": "stream",
     "text": [
      "Episode 1259: Reward: 29.0 | Score: 500.0 | Avg last 10: 19.6\n"
     ]
    },
    {
     "name": "stderr",
     "output_type": "stream",
     "text": [
      " 84%|████████▍ | 1261/1500 [27:29:08<57:40, 14.48s/it]"
     ]
    },
    {
     "name": "stdout",
     "output_type": "stream",
     "text": [
      "Episode 1260: Reward: 25.0 | Score: 385.0 | Avg last 10: 21.0\n",
      "Modelo guardado - Recompensa normalizada media últimos 10: 21.0\n"
     ]
    },
    {
     "name": "stderr",
     "output_type": "stream",
     "text": [
      " 84%|████████▍ | 1262/1500 [27:29:20<54:41, 13.79s/it]"
     ]
    },
    {
     "name": "stdout",
     "output_type": "stream",
     "text": [
      "Episode 1261: Reward: 10.0 | Score: 125.0 | Avg last 10: 20.0\n",
      "Modelo guardado - Recompensa normalizada media últimos 10: 20.0\n"
     ]
    },
    {
     "name": "stderr",
     "output_type": "stream",
     "text": [
      " 84%|████████▍ | 1263/1500 [27:29:31<50:47, 12.86s/it]"
     ]
    },
    {
     "name": "stdout",
     "output_type": "stream",
     "text": [
      "Episode 1262: Reward: 16.0 | Score: 205.0 | Avg last 10: 20.2\n",
      "Modelo guardado - Recompensa normalizada media últimos 10: 20.2\n"
     ]
    },
    {
     "name": "stderr",
     "output_type": "stream",
     "text": [
      " 84%|████████▍ | 1264/1500 [27:29:43<50:05, 12.74s/it]"
     ]
    },
    {
     "name": "stdout",
     "output_type": "stream",
     "text": [
      "Episode 1263: Reward: 22.0 | Score: 320.0 | Avg last 10: 20.4\n",
      "Modelo guardado - Recompensa normalizada media últimos 10: 20.4\n"
     ]
    },
    {
     "name": "stderr",
     "output_type": "stream",
     "text": [
      " 84%|████████▍ | 1265/1500 [27:29:58<51:45, 13.22s/it]"
     ]
    },
    {
     "name": "stdout",
     "output_type": "stream",
     "text": [
      "Episode 1264: Reward: 20.0 | Score: 490.0 | Avg last 10: 20.1\n",
      "Modelo guardado - Recompensa normalizada media últimos 10: 20.1\n"
     ]
    },
    {
     "name": "stderr",
     "output_type": "stream",
     "text": [
      " 84%|████████▍ | 1266/1500 [27:30:11<51:17, 13.15s/it]"
     ]
    },
    {
     "name": "stdout",
     "output_type": "stream",
     "text": [
      "Episode 1265: Reward: 15.0 | Score: 160.0 | Avg last 10: 19.8\n"
     ]
    },
    {
     "name": "stderr",
     "output_type": "stream",
     "text": [
      " 84%|████████▍ | 1267/1500 [27:30:19<46:00, 11.85s/it]"
     ]
    },
    {
     "name": "stdout",
     "output_type": "stream",
     "text": [
      "Episode 1266: Reward: 13.0 | Score: 170.0 | Avg last 10: 18.9\n"
     ]
    },
    {
     "name": "stderr",
     "output_type": "stream",
     "text": [
      " 85%|████████▍ | 1268/1500 [27:30:39<55:02, 14.23s/it]"
     ]
    },
    {
     "name": "stdout",
     "output_type": "stream",
     "text": [
      "Episode 1267: Reward: 33.0 | Score: 565.0 | Avg last 10: 20.7\n",
      "Modelo guardado - Recompensa normalizada media últimos 10: 20.7\n"
     ]
    },
    {
     "name": "stderr",
     "output_type": "stream",
     "text": [
      " 85%|████████▍ | 1269/1500 [27:30:53<54:41, 14.20s/it]"
     ]
    },
    {
     "name": "stdout",
     "output_type": "stream",
     "text": [
      "Episode 1268: Reward: 18.0 | Score: 250.0 | Avg last 10: 20.1\n",
      "Modelo guardado - Recompensa normalizada media últimos 10: 20.1\n"
     ]
    },
    {
     "name": "stderr",
     "output_type": "stream",
     "text": [
      " 85%|████████▍ | 1270/1500 [27:31:04<50:27, 13.16s/it]"
     ]
    },
    {
     "name": "stdout",
     "output_type": "stream",
     "text": [
      "Episode 1269: Reward: 15.0 | Score: 200.0 | Avg last 10: 18.7\n"
     ]
    },
    {
     "name": "stderr",
     "output_type": "stream",
     "text": [
      " 85%|████████▍ | 1271/1500 [27:31:13<45:22, 11.89s/it]"
     ]
    },
    {
     "name": "stdout",
     "output_type": "stream",
     "text": [
      "Episode 1270: Reward: 16.0 | Score: 215.0 | Avg last 10: 17.8\n"
     ]
    },
    {
     "name": "stderr",
     "output_type": "stream",
     "text": [
      " 85%|████████▍ | 1272/1500 [27:31:25<44:49, 11.79s/it]"
     ]
    },
    {
     "name": "stdout",
     "output_type": "stream",
     "text": [
      "Episode 1271: Reward: 16.0 | Score: 240.0 | Avg last 10: 18.4\n"
     ]
    },
    {
     "name": "stderr",
     "output_type": "stream",
     "text": [
      " 85%|████████▍ | 1273/1500 [27:31:40<48:59, 12.95s/it]"
     ]
    },
    {
     "name": "stdout",
     "output_type": "stream",
     "text": [
      "Episode 1272: Reward: 27.0 | Score: 420.0 | Avg last 10: 19.5\n"
     ]
    },
    {
     "name": "stderr",
     "output_type": "stream",
     "text": [
      " 85%|████████▍ | 1274/1500 [27:31:54<49:16, 13.08s/it]"
     ]
    },
    {
     "name": "stdout",
     "output_type": "stream",
     "text": [
      "Episode 1273: Reward: 18.0 | Score: 275.0 | Avg last 10: 19.1\n"
     ]
    },
    {
     "name": "stderr",
     "output_type": "stream",
     "text": [
      " 85%|████████▌ | 1275/1500 [27:32:16<59:50, 15.96s/it]"
     ]
    },
    {
     "name": "stdout",
     "output_type": "stream",
     "text": [
      "Episode 1274: Reward: 38.0 | Score: 835.0 | Avg last 10: 20.9\n",
      "Modelo guardado - Recompensa normalizada media últimos 10: 20.9\n"
     ]
    },
    {
     "name": "stderr",
     "output_type": "stream",
     "text": [
      " 85%|████████▌ | 1276/1500 [27:32:24<50:11, 13.44s/it]"
     ]
    },
    {
     "name": "stdout",
     "output_type": "stream",
     "text": [
      "Episode 1275: Reward: 8.0 | Score: 120.0 | Avg last 10: 20.2\n",
      "Modelo guardado - Recompensa normalizada media últimos 10: 20.2\n"
     ]
    },
    {
     "name": "stderr",
     "output_type": "stream",
     "text": [
      " 85%|████████▌ | 1277/1500 [27:32:33<45:03, 12.12s/it]"
     ]
    },
    {
     "name": "stdout",
     "output_type": "stream",
     "text": [
      "Episode 1276: Reward: 12.0 | Score: 165.0 | Avg last 10: 20.1\n",
      "Modelo guardado - Recompensa normalizada media últimos 10: 20.1\n"
     ]
    },
    {
     "name": "stderr",
     "output_type": "stream",
     "text": [
      " 85%|████████▌ | 1278/1500 [27:32:47<46:44, 12.63s/it]"
     ]
    },
    {
     "name": "stdout",
     "output_type": "stream",
     "text": [
      "Episode 1277: Reward: 27.0 | Score: 440.0 | Avg last 10: 19.5\n"
     ]
    },
    {
     "name": "stderr",
     "output_type": "stream",
     "text": [
      " 85%|████████▌ | 1279/1500 [27:33:00<47:08, 12.80s/it]"
     ]
    },
    {
     "name": "stdout",
     "output_type": "stream",
     "text": [
      "Episode 1278: Reward: 24.0 | Score: 330.0 | Avg last 10: 20.1\n",
      "Modelo guardado - Recompensa normalizada media últimos 10: 20.1\n"
     ]
    },
    {
     "name": "stderr",
     "output_type": "stream",
     "text": [
      " 85%|████████▌ | 1280/1500 [27:33:11<45:12, 12.33s/it]"
     ]
    },
    {
     "name": "stdout",
     "output_type": "stream",
     "text": [
      "Episode 1279: Reward: 16.0 | Score: 220.0 | Avg last 10: 20.2\n",
      "Modelo guardado - Recompensa normalizada media últimos 10: 20.2\n"
     ]
    },
    {
     "name": "stderr",
     "output_type": "stream",
     "text": [
      " 85%|████████▌ | 1281/1500 [27:33:22<42:56, 11.77s/it]"
     ]
    },
    {
     "name": "stdout",
     "output_type": "stream",
     "text": [
      "Episode 1280: Reward: 17.0 | Score: 225.0 | Avg last 10: 20.3\n",
      "Modelo guardado - Recompensa normalizada media últimos 10: 20.3\n"
     ]
    },
    {
     "name": "stderr",
     "output_type": "stream",
     "text": [
      " 85%|████████▌ | 1282/1500 [27:33:33<41:57, 11.55s/it]"
     ]
    },
    {
     "name": "stdout",
     "output_type": "stream",
     "text": [
      "Episode 1281: Reward: 20.0 | Score: 290.0 | Avg last 10: 20.7\n",
      "Modelo guardado - Recompensa normalizada media últimos 10: 20.7\n"
     ]
    },
    {
     "name": "stderr",
     "output_type": "stream",
     "text": [
      " 86%|████████▌ | 1283/1500 [27:33:46<44:09, 12.21s/it]"
     ]
    },
    {
     "name": "stdout",
     "output_type": "stream",
     "text": [
      "Episode 1282: Reward: 22.0 | Score: 545.0 | Avg last 10: 20.2\n",
      "Modelo guardado - Recompensa normalizada media últimos 10: 20.2\n"
     ]
    },
    {
     "name": "stderr",
     "output_type": "stream",
     "text": [
      " 86%|████████▌ | 1284/1500 [27:34:01<46:11, 12.83s/it]"
     ]
    },
    {
     "name": "stdout",
     "output_type": "stream",
     "text": [
      "Episode 1283: Reward: 25.0 | Score: 375.0 | Avg last 10: 20.9\n",
      "Modelo guardado - Recompensa normalizada media últimos 10: 20.9\n"
     ]
    },
    {
     "name": "stderr",
     "output_type": "stream",
     "text": [
      " 86%|████████▌ | 1285/1500 [27:34:11<43:08, 12.04s/it]"
     ]
    },
    {
     "name": "stdout",
     "output_type": "stream",
     "text": [
      "Episode 1284: Reward: 17.0 | Score: 255.0 | Avg last 10: 18.8\n"
     ]
    },
    {
     "name": "stderr",
     "output_type": "stream",
     "text": [
      " 86%|████████▌ | 1286/1500 [27:34:25<45:44, 12.82s/it]"
     ]
    },
    {
     "name": "stdout",
     "output_type": "stream",
     "text": [
      "Episode 1285: Reward: 31.0 | Score: 685.0 | Avg last 10: 21.1\n",
      "Modelo guardado - Recompensa normalizada media últimos 10: 21.1\n"
     ]
    },
    {
     "name": "stderr",
     "output_type": "stream",
     "text": [
      " 86%|████████▌ | 1287/1500 [27:34:39<45:56, 12.94s/it]"
     ]
    },
    {
     "name": "stdout",
     "output_type": "stream",
     "text": [
      "Episode 1286: Reward: 23.0 | Score: 350.0 | Avg last 10: 22.2\n",
      "Modelo guardado - Recompensa normalizada media últimos 10: 22.2\n"
     ]
    },
    {
     "name": "stderr",
     "output_type": "stream",
     "text": [
      " 86%|████████▌ | 1288/1500 [27:34:59<53:28, 15.13s/it]"
     ]
    },
    {
     "name": "stdout",
     "output_type": "stream",
     "text": [
      "Episode 1287: Reward: 30.0 | Score: 470.0 | Avg last 10: 22.5\n",
      "Modelo guardado - Recompensa normalizada media últimos 10: 22.5\n"
     ]
    },
    {
     "name": "stderr",
     "output_type": "stream",
     "text": [
      " 86%|████████▌ | 1289/1500 [27:35:11<50:00, 14.22s/it]"
     ]
    },
    {
     "name": "stdout",
     "output_type": "stream",
     "text": [
      "Episode 1288: Reward: 19.0 | Score: 315.0 | Avg last 10: 22.0\n",
      "Modelo guardado - Recompensa normalizada media últimos 10: 22.0\n"
     ]
    },
    {
     "name": "stderr",
     "output_type": "stream",
     "text": [
      " 86%|████████▌ | 1290/1500 [27:35:22<46:51, 13.39s/it]"
     ]
    },
    {
     "name": "stdout",
     "output_type": "stream",
     "text": [
      "Episode 1289: Reward: 14.0 | Score: 185.0 | Avg last 10: 21.8\n",
      "Modelo guardado - Recompensa normalizada media últimos 10: 21.8\n"
     ]
    },
    {
     "name": "stderr",
     "output_type": "stream",
     "text": [
      " 86%|████████▌ | 1291/1500 [27:35:44<55:00, 15.79s/it]"
     ]
    },
    {
     "name": "stdout",
     "output_type": "stream",
     "text": [
      "Episode 1290: Reward: 34.0 | Score: 570.0 | Avg last 10: 23.5\n",
      "Modelo guardado - Recompensa normalizada media últimos 10: 23.5\n"
     ]
    },
    {
     "name": "stderr",
     "output_type": "stream",
     "text": [
      " 86%|████████▌ | 1292/1500 [27:36:03<57:56, 16.71s/it]"
     ]
    },
    {
     "name": "stdout",
     "output_type": "stream",
     "text": [
      "Episode 1291: Reward: 34.0 | Score: 755.0 | Avg last 10: 24.9\n",
      "Modelo guardado - Recompensa normalizada media últimos 10: 24.9\n"
     ]
    },
    {
     "name": "stderr",
     "output_type": "stream",
     "text": [
      " 86%|████████▌ | 1293/1500 [27:36:12<49:34, 14.37s/it]"
     ]
    },
    {
     "name": "stdout",
     "output_type": "stream",
     "text": [
      "Episode 1292: Reward: 12.0 | Score: 195.0 | Avg last 10: 23.9\n",
      "Modelo guardado - Recompensa normalizada media últimos 10: 23.9\n"
     ]
    },
    {
     "name": "stderr",
     "output_type": "stream",
     "text": [
      " 86%|████████▋ | 1294/1500 [27:36:23<46:19, 13.49s/it]"
     ]
    },
    {
     "name": "stdout",
     "output_type": "stream",
     "text": [
      "Episode 1293: Reward: 20.0 | Score: 315.0 | Avg last 10: 23.4\n",
      "Modelo guardado - Recompensa normalizada media últimos 10: 23.4\n"
     ]
    },
    {
     "name": "stderr",
     "output_type": "stream",
     "text": [
      " 86%|████████▋ | 1295/1500 [27:36:34<43:57, 12.87s/it]"
     ]
    },
    {
     "name": "stdout",
     "output_type": "stream",
     "text": [
      "Episode 1294: Reward: 15.0 | Score: 230.0 | Avg last 10: 23.2\n",
      "Modelo guardado - Recompensa normalizada media últimos 10: 23.2\n"
     ]
    },
    {
     "name": "stderr",
     "output_type": "stream",
     "text": [
      " 86%|████████▋ | 1296/1500 [27:36:42<38:14, 11.25s/it]"
     ]
    },
    {
     "name": "stdout",
     "output_type": "stream",
     "text": [
      "Episode 1295: Reward: 11.0 | Score: 180.0 | Avg last 10: 21.2\n",
      "Modelo guardado - Recompensa normalizada media últimos 10: 21.2\n"
     ]
    },
    {
     "name": "stderr",
     "output_type": "stream",
     "text": [
      " 86%|████████▋ | 1297/1500 [27:36:54<39:11, 11.59s/it]"
     ]
    },
    {
     "name": "stdout",
     "output_type": "stream",
     "text": [
      "Episode 1296: Reward: 16.0 | Score: 245.0 | Avg last 10: 20.5\n",
      "Modelo guardado - Recompensa normalizada media últimos 10: 20.5\n"
     ]
    },
    {
     "name": "stderr",
     "output_type": "stream",
     "text": [
      " 87%|████████▋ | 1298/1500 [27:37:12<45:02, 13.38s/it]"
     ]
    },
    {
     "name": "stdout",
     "output_type": "stream",
     "text": [
      "Episode 1297: Reward: 28.0 | Score: 435.0 | Avg last 10: 20.3\n",
      "Modelo guardado - Recompensa normalizada media últimos 10: 20.3\n"
     ]
    },
    {
     "name": "stderr",
     "output_type": "stream",
     "text": [
      " 87%|████████▋ | 1299/1500 [27:37:33<52:30, 15.68s/it]"
     ]
    },
    {
     "name": "stdout",
     "output_type": "stream",
     "text": [
      "Episode 1298: Reward: 29.0 | Score: 495.0 | Avg last 10: 21.3\n",
      "Modelo guardado - Recompensa normalizada media últimos 10: 21.3\n"
     ]
    },
    {
     "name": "stderr",
     "output_type": "stream",
     "text": [
      " 87%|████████▋ | 1300/1500 [27:37:46<50:04, 15.02s/it]"
     ]
    },
    {
     "name": "stdout",
     "output_type": "stream",
     "text": [
      "Episode 1299: Reward: 20.0 | Score: 295.0 | Avg last 10: 21.9\n",
      "Modelo guardado - Recompensa normalizada media últimos 10: 21.9\n",
      "Episode 1300: Reward: 19.0 | Score: 280.0 | Avg last 10: 20.4\n"
     ]
    },
    {
     "name": "stderr",
     "output_type": "stream",
     "text": [
      " 87%|████████▋ | 1301/1500 [27:38:06<53:51, 16.24s/it]"
     ]
    },
    {
     "name": "stdout",
     "output_type": "stream",
     "text": [
      "Recompensa media en test: 208.00\n",
      "Evaluación @ 1300 ep -> reward media: 208.0\n",
      "Modelo guardado - Recompensa normalizada media últimos 10: 20.4\n"
     ]
    },
    {
     "name": "stderr",
     "output_type": "stream",
     "text": [
      " 87%|████████▋ | 1302/1500 [27:38:13<44:26, 13.47s/it]"
     ]
    },
    {
     "name": "stdout",
     "output_type": "stream",
     "text": [
      "Episode 1301: Reward: 11.0 | Score: 180.0 | Avg last 10: 18.1\n"
     ]
    },
    {
     "name": "stderr",
     "output_type": "stream",
     "text": [
      " 87%|████████▋ | 1303/1500 [27:38:25<43:35, 13.28s/it]"
     ]
    },
    {
     "name": "stdout",
     "output_type": "stream",
     "text": [
      "Episode 1302: Reward: 20.0 | Score: 320.0 | Avg last 10: 18.9\n"
     ]
    },
    {
     "name": "stderr",
     "output_type": "stream",
     "text": [
      " 87%|████████▋ | 1304/1500 [27:38:35<39:24, 12.07s/it]"
     ]
    },
    {
     "name": "stdout",
     "output_type": "stream",
     "text": [
      "Episode 1303: Reward: 12.0 | Score: 160.0 | Avg last 10: 18.1\n"
     ]
    },
    {
     "name": "stderr",
     "output_type": "stream",
     "text": [
      " 87%|████████▋ | 1305/1500 [27:38:44<36:25, 11.21s/it]"
     ]
    },
    {
     "name": "stdout",
     "output_type": "stream",
     "text": [
      "Episode 1304: Reward: 13.0 | Score: 200.0 | Avg last 10: 17.9\n"
     ]
    },
    {
     "name": "stderr",
     "output_type": "stream",
     "text": [
      " 87%|████████▋ | 1306/1500 [27:38:53<34:14, 10.59s/it]"
     ]
    },
    {
     "name": "stdout",
     "output_type": "stream",
     "text": [
      "Episode 1305: Reward: 15.0 | Score: 235.0 | Avg last 10: 18.3\n"
     ]
    },
    {
     "name": "stderr",
     "output_type": "stream",
     "text": [
      " 87%|████████▋ | 1307/1500 [27:39:11<41:11, 12.80s/it]"
     ]
    },
    {
     "name": "stdout",
     "output_type": "stream",
     "text": [
      "Episode 1306: Reward: 23.0 | Score: 505.0 | Avg last 10: 19.0\n"
     ]
    },
    {
     "name": "stderr",
     "output_type": "stream",
     "text": [
      " 87%|████████▋ | 1308/1500 [27:39:25<42:01, 13.13s/it]"
     ]
    },
    {
     "name": "stdout",
     "output_type": "stream",
     "text": [
      "Episode 1307: Reward: 25.0 | Score: 355.0 | Avg last 10: 18.7\n"
     ]
    },
    {
     "name": "stderr",
     "output_type": "stream",
     "text": [
      " 87%|████████▋ | 1309/1500 [27:39:40<43:51, 13.78s/it]"
     ]
    },
    {
     "name": "stdout",
     "output_type": "stream",
     "text": [
      "Episode 1308: Reward: 15.0 | Score: 200.0 | Avg last 10: 17.3\n"
     ]
    },
    {
     "name": "stderr",
     "output_type": "stream",
     "text": [
      " 87%|████████▋ | 1310/1500 [27:39:52<41:36, 13.14s/it]"
     ]
    },
    {
     "name": "stdout",
     "output_type": "stream",
     "text": [
      "Episode 1309: Reward: 11.0 | Score: 150.0 | Avg last 10: 16.4\n"
     ]
    },
    {
     "name": "stderr",
     "output_type": "stream",
     "text": [
      " 87%|████████▋ | 1311/1500 [27:40:02<38:51, 12.34s/it]"
     ]
    },
    {
     "name": "stdout",
     "output_type": "stream",
     "text": [
      "Episode 1310: Reward: 17.0 | Score: 240.0 | Avg last 10: 16.2\n"
     ]
    },
    {
     "name": "stderr",
     "output_type": "stream",
     "text": [
      " 87%|████████▋ | 1312/1500 [27:40:11<35:25, 11.30s/it]"
     ]
    },
    {
     "name": "stdout",
     "output_type": "stream",
     "text": [
      "Episode 1311: Reward: 14.0 | Score: 185.0 | Avg last 10: 16.5\n"
     ]
    },
    {
     "name": "stderr",
     "output_type": "stream",
     "text": [
      " 88%|████████▊ | 1313/1500 [27:40:31<42:47, 13.73s/it]"
     ]
    },
    {
     "name": "stdout",
     "output_type": "stream",
     "text": [
      "Episode 1312: Reward: 33.0 | Score: 715.0 | Avg last 10: 17.8\n"
     ]
    },
    {
     "name": "stderr",
     "output_type": "stream",
     "text": [
      " 88%|████████▊ | 1314/1500 [27:40:52<50:09, 16.18s/it]"
     ]
    },
    {
     "name": "stdout",
     "output_type": "stream",
     "text": [
      "Episode 1313: Reward: 31.0 | Score: 675.0 | Avg last 10: 19.7\n"
     ]
    },
    {
     "name": "stderr",
     "output_type": "stream",
     "text": [
      " 88%|████████▊ | 1315/1500 [27:41:08<49:33, 16.07s/it]"
     ]
    },
    {
     "name": "stdout",
     "output_type": "stream",
     "text": [
      "Episode 1314: Reward: 25.0 | Score: 345.0 | Avg last 10: 20.9\n",
      "Modelo guardado - Recompensa normalizada media últimos 10: 20.9\n"
     ]
    },
    {
     "name": "stderr",
     "output_type": "stream",
     "text": [
      " 88%|████████▊ | 1316/1500 [27:41:20<45:20, 14.79s/it]"
     ]
    },
    {
     "name": "stdout",
     "output_type": "stream",
     "text": [
      "Episode 1315: Reward: 13.0 | Score: 215.0 | Avg last 10: 20.7\n",
      "Modelo guardado - Recompensa normalizada media últimos 10: 20.7\n"
     ]
    },
    {
     "name": "stderr",
     "output_type": "stream",
     "text": [
      " 88%|████████▊ | 1317/1500 [27:56:40<14:33:49, 286.50s/it]"
     ]
    },
    {
     "name": "stdout",
     "output_type": "stream",
     "text": [
      "Episode 1316: Reward: 29.0 | Score: 625.0 | Avg last 10: 21.3\n",
      "Modelo guardado - Recompensa normalizada media últimos 10: 21.3\n"
     ]
    },
    {
     "name": "stderr",
     "output_type": "stream",
     "text": [
      " 88%|████████▊ | 1318/1500 [27:56:51<10:18:17, 203.83s/it]"
     ]
    },
    {
     "name": "stdout",
     "output_type": "stream",
     "text": [
      "Episode 1317: Reward: 18.0 | Score: 210.0 | Avg last 10: 20.6\n",
      "Modelo guardado - Recompensa normalizada media últimos 10: 20.6\n"
     ]
    },
    {
     "name": "stderr",
     "output_type": "stream",
     "text": [
      " 88%|████████▊ | 1319/1500 [28:06:24<15:48:29, 314.42s/it]"
     ]
    },
    {
     "name": "stdout",
     "output_type": "stream",
     "text": [
      "Episode 1318: Reward: 18.0 | Score: 240.0 | Avg last 10: 20.9\n",
      "Modelo guardado - Recompensa normalizada media últimos 10: 20.9\n"
     ]
    },
    {
     "name": "stderr",
     "output_type": "stream",
     "text": [
      " 88%|████████▊ | 1320/1500 [28:06:42<11:16:35, 225.53s/it]"
     ]
    },
    {
     "name": "stdout",
     "output_type": "stream",
     "text": [
      "Episode 1319: Reward: 27.0 | Score: 575.0 | Avg last 10: 22.5\n",
      "Modelo guardado - Recompensa normalizada media últimos 10: 22.5\n"
     ]
    },
    {
     "name": "stderr",
     "output_type": "stream",
     "text": [
      " 88%|████████▊ | 1321/1500 [28:06:51<7:59:17, 160.65s/it] "
     ]
    },
    {
     "name": "stdout",
     "output_type": "stream",
     "text": [
      "Episode 1320: Reward: 16.0 | Score: 240.0 | Avg last 10: 22.4\n",
      "Modelo guardado - Recompensa normalizada media últimos 10: 22.4\n"
     ]
    },
    {
     "name": "stderr",
     "output_type": "stream",
     "text": [
      " 88%|████████▊ | 1322/1500 [28:07:03<5:44:11, 116.02s/it]"
     ]
    },
    {
     "name": "stdout",
     "output_type": "stream",
     "text": [
      "Episode 1321: Reward: 21.0 | Score: 480.0 | Avg last 10: 23.1\n",
      "Modelo guardado - Recompensa normalizada media últimos 10: 23.1\n"
     ]
    },
    {
     "name": "stderr",
     "output_type": "stream",
     "text": [
      " 88%|████████▊ | 1323/1500 [28:07:19<4:13:12, 85.83s/it] "
     ]
    },
    {
     "name": "stdout",
     "output_type": "stream",
     "text": [
      "Episode 1322: Reward: 24.0 | Score: 390.0 | Avg last 10: 22.2\n",
      "Modelo guardado - Recompensa normalizada media últimos 10: 22.2\n"
     ]
    },
    {
     "name": "stderr",
     "output_type": "stream",
     "text": [
      " 88%|████████▊ | 1324/1500 [28:07:37<3:12:13, 65.53s/it]"
     ]
    },
    {
     "name": "stdout",
     "output_type": "stream",
     "text": [
      "Episode 1323: Reward: 28.0 | Score: 610.0 | Avg last 10: 21.9\n",
      "Modelo guardado - Recompensa normalizada media últimos 10: 21.9\n"
     ]
    },
    {
     "name": "stderr",
     "output_type": "stream",
     "text": [
      " 88%|████████▊ | 1325/1500 [28:07:42<2:18:30, 47.49s/it]"
     ]
    },
    {
     "name": "stdout",
     "output_type": "stream",
     "text": [
      "Episode 1324: Reward: 6.0 | Score: 45.0 | Avg last 10: 20.0\n",
      "Modelo guardado - Recompensa normalizada media últimos 10: 20.0\n"
     ]
    },
    {
     "name": "stderr",
     "output_type": "stream",
     "text": [
      " 88%|████████▊ | 1326/1500 [28:07:54<1:47:01, 36.91s/it]"
     ]
    },
    {
     "name": "stdout",
     "output_type": "stream",
     "text": [
      "Episode 1325: Reward: 12.0 | Score: 145.0 | Avg last 10: 19.9\n"
     ]
    },
    {
     "name": "stderr",
     "output_type": "stream",
     "text": [
      " 88%|████████▊ | 1327/1500 [28:08:08<1:26:39, 30.05s/it]"
     ]
    },
    {
     "name": "stdout",
     "output_type": "stream",
     "text": [
      "Episode 1326: Reward: 22.0 | Score: 320.0 | Avg last 10: 19.2\n"
     ]
    },
    {
     "name": "stderr",
     "output_type": "stream",
     "text": [
      " 89%|████████▊ | 1328/1500 [28:08:23<1:12:27, 25.28s/it]"
     ]
    },
    {
     "name": "stdout",
     "output_type": "stream",
     "text": [
      "Episode 1327: Reward: 30.0 | Score: 660.0 | Avg last 10: 20.4\n",
      "Modelo guardado - Recompensa normalizada media últimos 10: 20.4\n"
     ]
    },
    {
     "name": "stderr",
     "output_type": "stream",
     "text": [
      " 89%|████████▊ | 1329/1500 [28:08:35<1:01:28, 21.57s/it]"
     ]
    },
    {
     "name": "stdout",
     "output_type": "stream",
     "text": [
      "Episode 1328: Reward: 18.0 | Score: 265.0 | Avg last 10: 20.4\n",
      "Modelo guardado - Recompensa normalizada media últimos 10: 20.4\n"
     ]
    },
    {
     "name": "stderr",
     "output_type": "stream",
     "text": [
      " 89%|████████▊ | 1330/1500 [28:08:48<53:49, 18.99s/it]  "
     ]
    },
    {
     "name": "stdout",
     "output_type": "stream",
     "text": [
      "Episode 1329: Reward: 22.0 | Score: 335.0 | Avg last 10: 19.9\n"
     ]
    },
    {
     "name": "stderr",
     "output_type": "stream",
     "text": [
      " 89%|████████▊ | 1331/1500 [28:09:01<48:04, 17.07s/it]"
     ]
    },
    {
     "name": "stdout",
     "output_type": "stream",
     "text": [
      "Episode 1330: Reward: 16.0 | Score: 225.0 | Avg last 10: 19.9\n"
     ]
    },
    {
     "name": "stderr",
     "output_type": "stream",
     "text": [
      " 89%|████████▉ | 1332/1500 [28:09:12<42:18, 15.11s/it]"
     ]
    },
    {
     "name": "stdout",
     "output_type": "stream",
     "text": [
      "Episode 1331: Reward: 19.0 | Score: 300.0 | Avg last 10: 19.7\n"
     ]
    },
    {
     "name": "stderr",
     "output_type": "stream",
     "text": [
      " 89%|████████▉ | 1333/1500 [28:09:24<40:13, 14.45s/it]"
     ]
    },
    {
     "name": "stdout",
     "output_type": "stream",
     "text": [
      "Episode 1332: Reward: 17.0 | Score: 240.0 | Avg last 10: 19.0\n"
     ]
    },
    {
     "name": "stderr",
     "output_type": "stream",
     "text": [
      " 89%|████████▉ | 1334/1500 [28:09:34<35:57, 13.00s/it]"
     ]
    },
    {
     "name": "stdout",
     "output_type": "stream",
     "text": [
      "Episode 1333: Reward: 14.0 | Score: 190.0 | Avg last 10: 17.6\n"
     ]
    },
    {
     "name": "stderr",
     "output_type": "stream",
     "text": [
      " 89%|████████▉ | 1335/1500 [28:09:47<35:37, 12.96s/it]"
     ]
    },
    {
     "name": "stdout",
     "output_type": "stream",
     "text": [
      "Episode 1334: Reward: 20.0 | Score: 310.0 | Avg last 10: 19.0\n"
     ]
    },
    {
     "name": "stderr",
     "output_type": "stream",
     "text": [
      " 89%|████████▉ | 1336/1500 [28:09:57<32:52, 12.03s/it]"
     ]
    },
    {
     "name": "stdout",
     "output_type": "stream",
     "text": [
      "Episode 1335: Reward: 18.0 | Score: 260.0 | Avg last 10: 19.6\n"
     ]
    },
    {
     "name": "stderr",
     "output_type": "stream",
     "text": [
      " 89%|████████▉ | 1337/1500 [28:10:18<40:21, 14.85s/it]"
     ]
    },
    {
     "name": "stdout",
     "output_type": "stream",
     "text": [
      "Episode 1336: Reward: 31.0 | Score: 500.0 | Avg last 10: 20.5\n",
      "Modelo guardado - Recompensa normalizada media últimos 10: 20.5\n"
     ]
    },
    {
     "name": "stderr",
     "output_type": "stream",
     "text": [
      " 89%|████████▉ | 1338/1500 [28:10:33<39:44, 14.72s/it]"
     ]
    },
    {
     "name": "stdout",
     "output_type": "stream",
     "text": [
      "Episode 1337: Reward: 20.0 | Score: 330.0 | Avg last 10: 19.5\n"
     ]
    },
    {
     "name": "stderr",
     "output_type": "stream",
     "text": [
      " 89%|████████▉ | 1339/1500 [28:10:38<32:07, 11.97s/it]"
     ]
    },
    {
     "name": "stdout",
     "output_type": "stream",
     "text": [
      "Episode 1338: Reward: 6.0 | Score: 50.0 | Avg last 10: 18.3\n"
     ]
    },
    {
     "name": "stderr",
     "output_type": "stream",
     "text": [
      " 89%|████████▉ | 1340/1500 [28:10:47<29:46, 11.16s/it]"
     ]
    },
    {
     "name": "stdout",
     "output_type": "stream",
     "text": [
      "Episode 1339: Reward: 14.0 | Score: 225.0 | Avg last 10: 17.5\n"
     ]
    },
    {
     "name": "stderr",
     "output_type": "stream",
     "text": [
      " 89%|████████▉ | 1341/1500 [28:10:53<25:18,  9.55s/it]"
     ]
    },
    {
     "name": "stdout",
     "output_type": "stream",
     "text": [
      "Episode 1340: Reward: 9.0 | Score: 125.0 | Avg last 10: 16.8\n"
     ]
    },
    {
     "name": "stderr",
     "output_type": "stream",
     "text": [
      " 89%|████████▉ | 1342/1500 [28:11:01<23:32,  8.94s/it]"
     ]
    },
    {
     "name": "stdout",
     "output_type": "stream",
     "text": [
      "Episode 1341: Reward: 8.0 | Score: 105.0 | Avg last 10: 15.7\n"
     ]
    },
    {
     "name": "stderr",
     "output_type": "stream",
     "text": [
      " 90%|████████▉ | 1343/1500 [28:11:12<25:02,  9.57s/it]"
     ]
    },
    {
     "name": "stdout",
     "output_type": "stream",
     "text": [
      "Episode 1342: Reward: 14.0 | Score: 225.0 | Avg last 10: 15.4\n"
     ]
    },
    {
     "name": "stderr",
     "output_type": "stream",
     "text": [
      " 90%|████████▉ | 1344/1500 [28:11:28<30:03, 11.56s/it]"
     ]
    },
    {
     "name": "stdout",
     "output_type": "stream",
     "text": [
      "Episode 1343: Reward: 22.0 | Score: 330.0 | Avg last 10: 16.2\n"
     ]
    },
    {
     "name": "stderr",
     "output_type": "stream",
     "text": [
      " 90%|████████▉ | 1345/1500 [28:11:45<33:49, 13.09s/it]"
     ]
    },
    {
     "name": "stdout",
     "output_type": "stream",
     "text": [
      "Episode 1344: Reward: 22.0 | Score: 555.0 | Avg last 10: 16.4\n"
     ]
    },
    {
     "name": "stderr",
     "output_type": "stream",
     "text": [
      " 90%|████████▉ | 1346/1500 [28:12:03<37:56, 14.78s/it]"
     ]
    },
    {
     "name": "stdout",
     "output_type": "stream",
     "text": [
      "Episode 1345: Reward: 19.0 | Score: 245.0 | Avg last 10: 16.5\n"
     ]
    },
    {
     "name": "stderr",
     "output_type": "stream",
     "text": [
      " 90%|████████▉ | 1347/1500 [28:12:17<36:59, 14.51s/it]"
     ]
    },
    {
     "name": "stdout",
     "output_type": "stream",
     "text": [
      "Episode 1346: Reward: 23.0 | Score: 360.0 | Avg last 10: 15.7\n"
     ]
    },
    {
     "name": "stderr",
     "output_type": "stream",
     "text": [
      " 90%|████████▉ | 1348/1500 [28:12:31<35:52, 14.16s/it]"
     ]
    },
    {
     "name": "stdout",
     "output_type": "stream",
     "text": [
      "Episode 1347: Reward: 17.0 | Score: 275.0 | Avg last 10: 15.4\n"
     ]
    },
    {
     "name": "stderr",
     "output_type": "stream",
     "text": [
      " 90%|████████▉ | 1349/1500 [28:12:55<43:37, 17.33s/it]"
     ]
    },
    {
     "name": "stdout",
     "output_type": "stream",
     "text": [
      "Episode 1348: Reward: 32.0 | Score: 700.0 | Avg last 10: 18.0\n"
     ]
    },
    {
     "name": "stderr",
     "output_type": "stream",
     "text": [
      " 90%|█████████ | 1350/1500 [28:13:08<39:27, 15.78s/it]"
     ]
    },
    {
     "name": "stdout",
     "output_type": "stream",
     "text": [
      "Episode 1349: Reward: 15.0 | Score: 365.0 | Avg last 10: 18.1\n"
     ]
    },
    {
     "name": "stderr",
     "output_type": "stream",
     "text": [
      " 90%|█████████ | 1351/1500 [28:13:21<37:40, 15.17s/it]"
     ]
    },
    {
     "name": "stdout",
     "output_type": "stream",
     "text": [
      "Episode 1350: Reward: 22.0 | Score: 335.0 | Avg last 10: 19.4\n"
     ]
    },
    {
     "name": "stderr",
     "output_type": "stream",
     "text": [
      " 90%|█████████ | 1352/1500 [28:13:32<34:29, 13.98s/it]"
     ]
    },
    {
     "name": "stdout",
     "output_type": "stream",
     "text": [
      "Episode 1351: Reward: 13.0 | Score: 160.0 | Avg last 10: 19.9\n"
     ]
    },
    {
     "name": "stderr",
     "output_type": "stream",
     "text": [
      " 90%|█████████ | 1353/1500 [28:13:47<34:51, 14.23s/it]"
     ]
    },
    {
     "name": "stdout",
     "output_type": "stream",
     "text": [
      "Episode 1352: Reward: 29.0 | Score: 460.0 | Avg last 10: 21.4\n",
      "Modelo guardado - Recompensa normalizada media últimos 10: 21.4\n"
     ]
    },
    {
     "name": "stderr",
     "output_type": "stream",
     "text": [
      " 90%|█████████ | 1354/1500 [28:14:04<36:08, 14.85s/it]"
     ]
    },
    {
     "name": "stdout",
     "output_type": "stream",
     "text": [
      "Episode 1353: Reward: 29.0 | Score: 465.0 | Avg last 10: 22.1\n",
      "Modelo guardado - Recompensa normalizada media últimos 10: 22.1\n"
     ]
    },
    {
     "name": "stderr",
     "output_type": "stream",
     "text": [
      " 90%|█████████ | 1355/1500 [28:14:16<34:08, 14.13s/it]"
     ]
    },
    {
     "name": "stdout",
     "output_type": "stream",
     "text": [
      "Episode 1354: Reward: 16.0 | Score: 190.0 | Avg last 10: 21.5\n",
      "Modelo guardado - Recompensa normalizada media últimos 10: 21.5\n"
     ]
    },
    {
     "name": "stderr",
     "output_type": "stream",
     "text": [
      " 90%|█████████ | 1356/1500 [28:14:31<34:18, 14.29s/it]"
     ]
    },
    {
     "name": "stdout",
     "output_type": "stream",
     "text": [
      "Episode 1355: Reward: 25.0 | Score: 360.0 | Avg last 10: 22.1\n",
      "Modelo guardado - Recompensa normalizada media últimos 10: 22.1\n"
     ]
    },
    {
     "name": "stderr",
     "output_type": "stream",
     "text": [
      " 90%|█████████ | 1357/1500 [28:14:41<31:12, 13.09s/it]"
     ]
    },
    {
     "name": "stdout",
     "output_type": "stream",
     "text": [
      "Episode 1356: Reward: 16.0 | Score: 220.0 | Avg last 10: 21.4\n",
      "Modelo guardado - Recompensa normalizada media últimos 10: 21.4\n"
     ]
    },
    {
     "name": "stderr",
     "output_type": "stream",
     "text": [
      " 91%|█████████ | 1358/1500 [28:14:57<33:12, 14.03s/it]"
     ]
    },
    {
     "name": "stdout",
     "output_type": "stream",
     "text": [
      "Episode 1357: Reward: 25.0 | Score: 400.0 | Avg last 10: 22.2\n",
      "Modelo guardado - Recompensa normalizada media últimos 10: 22.2\n"
     ]
    },
    {
     "name": "stderr",
     "output_type": "stream",
     "text": [
      " 91%|█████████ | 1359/1500 [28:15:09<31:01, 13.21s/it]"
     ]
    },
    {
     "name": "stdout",
     "output_type": "stream",
     "text": [
      "Episode 1358: Reward: 23.0 | Score: 360.0 | Avg last 10: 21.3\n",
      "Modelo guardado - Recompensa normalizada media últimos 10: 21.3\n"
     ]
    },
    {
     "name": "stderr",
     "output_type": "stream",
     "text": [
      " 91%|█████████ | 1360/1500 [28:15:20<29:26, 12.62s/it]"
     ]
    },
    {
     "name": "stdout",
     "output_type": "stream",
     "text": [
      "Episode 1359: Reward: 19.0 | Score: 285.0 | Avg last 10: 21.7\n",
      "Modelo guardado - Recompensa normalizada media últimos 10: 21.7\n"
     ]
    },
    {
     "name": "stderr",
     "output_type": "stream",
     "text": [
      " 91%|█████████ | 1361/1500 [28:15:31<28:33, 12.33s/it]"
     ]
    },
    {
     "name": "stdout",
     "output_type": "stream",
     "text": [
      "Episode 1360: Reward: 22.0 | Score: 320.0 | Avg last 10: 21.7\n",
      "Modelo guardado - Recompensa normalizada media últimos 10: 21.7\n"
     ]
    },
    {
     "name": "stderr",
     "output_type": "stream",
     "text": [
      " 91%|█████████ | 1362/1500 [28:15:41<26:14, 11.41s/it]"
     ]
    },
    {
     "name": "stdout",
     "output_type": "stream",
     "text": [
      "Episode 1361: Reward: 10.0 | Score: 135.0 | Avg last 10: 21.4\n",
      "Modelo guardado - Recompensa normalizada media últimos 10: 21.4\n"
     ]
    },
    {
     "name": "stderr",
     "output_type": "stream",
     "text": [
      " 91%|█████████ | 1363/1500 [28:15:53<26:41, 11.69s/it]"
     ]
    },
    {
     "name": "stdout",
     "output_type": "stream",
     "text": [
      "Episode 1362: Reward: 19.0 | Score: 240.0 | Avg last 10: 20.4\n",
      "Modelo guardado - Recompensa normalizada media últimos 10: 20.4\n"
     ]
    },
    {
     "name": "stderr",
     "output_type": "stream",
     "text": [
      " 91%|█████████ | 1364/1500 [28:16:01<23:53, 10.54s/it]"
     ]
    },
    {
     "name": "stdout",
     "output_type": "stream",
     "text": [
      "Episode 1363: Reward: 10.0 | Score: 110.0 | Avg last 10: 18.5\n"
     ]
    },
    {
     "name": "stderr",
     "output_type": "stream",
     "text": [
      " 91%|█████████ | 1365/1500 [28:16:13<25:06, 11.16s/it]"
     ]
    },
    {
     "name": "stdout",
     "output_type": "stream",
     "text": [
      "Episode 1364: Reward: 18.0 | Score: 240.0 | Avg last 10: 18.7\n"
     ]
    },
    {
     "name": "stderr",
     "output_type": "stream",
     "text": [
      " 91%|█████████ | 1366/1500 [28:16:31<28:55, 12.95s/it]"
     ]
    },
    {
     "name": "stdout",
     "output_type": "stream",
     "text": [
      "Episode 1365: Reward: 26.0 | Score: 360.0 | Avg last 10: 18.8\n"
     ]
    },
    {
     "name": "stderr",
     "output_type": "stream",
     "text": [
      " 91%|█████████ | 1367/1500 [28:16:41<26:45, 12.07s/it]"
     ]
    },
    {
     "name": "stdout",
     "output_type": "stream",
     "text": [
      "Episode 1366: Reward: 16.0 | Score: 185.0 | Avg last 10: 18.8\n"
     ]
    },
    {
     "name": "stderr",
     "output_type": "stream",
     "text": [
      " 91%|█████████ | 1368/1500 [28:16:56<28:37, 13.01s/it]"
     ]
    },
    {
     "name": "stdout",
     "output_type": "stream",
     "text": [
      "Episode 1367: Reward: 23.0 | Score: 495.0 | Avg last 10: 18.6\n"
     ]
    },
    {
     "name": "stderr",
     "output_type": "stream",
     "text": [
      " 91%|█████████▏| 1369/1500 [28:17:11<29:31, 13.52s/it]"
     ]
    },
    {
     "name": "stdout",
     "output_type": "stream",
     "text": [
      "Episode 1368: Reward: 28.0 | Score: 600.0 | Avg last 10: 19.1\n"
     ]
    },
    {
     "name": "stderr",
     "output_type": "stream",
     "text": [
      " 91%|█████████▏| 1370/1500 [28:17:34<36:03, 16.64s/it]"
     ]
    },
    {
     "name": "stdout",
     "output_type": "stream",
     "text": [
      "Episode 1369: Reward: 35.0 | Score: 605.0 | Avg last 10: 20.7\n",
      "Modelo guardado - Recompensa normalizada media últimos 10: 20.7\n"
     ]
    },
    {
     "name": "stderr",
     "output_type": "stream",
     "text": [
      " 91%|█████████▏| 1371/1500 [28:17:49<34:30, 16.05s/it]"
     ]
    },
    {
     "name": "stdout",
     "output_type": "stream",
     "text": [
      "Episode 1370: Reward: 22.0 | Score: 315.0 | Avg last 10: 20.7\n",
      "Modelo guardado - Recompensa normalizada media últimos 10: 20.7\n"
     ]
    },
    {
     "name": "stderr",
     "output_type": "stream",
     "text": [
      " 91%|█████████▏| 1372/1500 [28:18:04<33:29, 15.70s/it]"
     ]
    },
    {
     "name": "stdout",
     "output_type": "stream",
     "text": [
      "Episode 1371: Reward: 29.0 | Score: 485.0 | Avg last 10: 22.6\n",
      "Modelo guardado - Recompensa normalizada media últimos 10: 22.6\n"
     ]
    },
    {
     "name": "stderr",
     "output_type": "stream",
     "text": [
      " 92%|█████████▏| 1373/1500 [28:18:16<31:01, 14.66s/it]"
     ]
    },
    {
     "name": "stdout",
     "output_type": "stream",
     "text": [
      "Episode 1372: Reward: 23.0 | Score: 520.0 | Avg last 10: 23.0\n",
      "Modelo guardado - Recompensa normalizada media últimos 10: 23.0\n"
     ]
    },
    {
     "name": "stderr",
     "output_type": "stream",
     "text": [
      " 92%|█████████▏| 1374/1500 [28:18:27<28:09, 13.41s/it]"
     ]
    },
    {
     "name": "stdout",
     "output_type": "stream",
     "text": [
      "Episode 1373: Reward: 14.0 | Score: 190.0 | Avg last 10: 23.4\n",
      "Modelo guardado - Recompensa normalizada media últimos 10: 23.4\n"
     ]
    },
    {
     "name": "stderr",
     "output_type": "stream",
     "text": [
      " 92%|█████████▏| 1375/1500 [28:18:43<29:39, 14.24s/it]"
     ]
    },
    {
     "name": "stdout",
     "output_type": "stream",
     "text": [
      "Episode 1374: Reward: 27.0 | Score: 410.0 | Avg last 10: 24.3\n",
      "Modelo guardado - Recompensa normalizada media últimos 10: 24.3\n"
     ]
    },
    {
     "name": "stderr",
     "output_type": "stream",
     "text": [
      " 92%|█████████▏| 1376/1500 [28:19:01<31:59, 15.48s/it]"
     ]
    },
    {
     "name": "stdout",
     "output_type": "stream",
     "text": [
      "Episode 1375: Reward: 28.0 | Score: 430.0 | Avg last 10: 24.5\n",
      "Modelo guardado - Recompensa normalizada media últimos 10: 24.5\n"
     ]
    },
    {
     "name": "stderr",
     "output_type": "stream",
     "text": [
      " 92%|█████████▏| 1377/1500 [28:19:17<31:39, 15.44s/it]"
     ]
    },
    {
     "name": "stdout",
     "output_type": "stream",
     "text": [
      "Episode 1376: Reward: 21.0 | Score: 315.0 | Avg last 10: 25.0\n",
      "Modelo guardado - Recompensa normalizada media últimos 10: 25.0\n"
     ]
    },
    {
     "name": "stderr",
     "output_type": "stream",
     "text": [
      " 92%|█████████▏| 1378/1500 [28:19:38<34:58, 17.20s/it]"
     ]
    },
    {
     "name": "stdout",
     "output_type": "stream",
     "text": [
      "Episode 1377: Reward: 27.0 | Score: 400.0 | Avg last 10: 25.4\n",
      "Modelo guardado - Recompensa normalizada media últimos 10: 25.4\n"
     ]
    },
    {
     "name": "stderr",
     "output_type": "stream",
     "text": [
      " 92%|█████████▏| 1379/1500 [28:19:48<30:20, 15.05s/it]"
     ]
    },
    {
     "name": "stdout",
     "output_type": "stream",
     "text": [
      "Episode 1378: Reward: 16.0 | Score: 260.0 | Avg last 10: 24.2\n",
      "Modelo guardado - Recompensa normalizada media últimos 10: 24.2\n"
     ]
    },
    {
     "name": "stderr",
     "output_type": "stream",
     "text": [
      " 92%|█████████▏| 1380/1500 [28:20:05<31:23, 15.69s/it]"
     ]
    },
    {
     "name": "stdout",
     "output_type": "stream",
     "text": [
      "Episode 1379: Reward: 31.0 | Score: 490.0 | Avg last 10: 23.8\n",
      "Modelo guardado - Recompensa normalizada media últimos 10: 23.8\n"
     ]
    },
    {
     "name": "stderr",
     "output_type": "stream",
     "text": [
      " 92%|█████████▏| 1381/1500 [28:20:16<28:23, 14.31s/it]"
     ]
    },
    {
     "name": "stdout",
     "output_type": "stream",
     "text": [
      "Episode 1380: Reward: 21.0 | Score: 335.0 | Avg last 10: 23.7\n",
      "Modelo guardado - Recompensa normalizada media últimos 10: 23.7\n"
     ]
    },
    {
     "name": "stderr",
     "output_type": "stream",
     "text": [
      " 92%|█████████▏| 1382/1500 [28:20:32<28:42, 14.60s/it]"
     ]
    },
    {
     "name": "stdout",
     "output_type": "stream",
     "text": [
      "Episode 1381: Reward: 24.0 | Score: 380.0 | Avg last 10: 23.2\n",
      "Modelo guardado - Recompensa normalizada media últimos 10: 23.2\n"
     ]
    },
    {
     "name": "stderr",
     "output_type": "stream",
     "text": [
      " 92%|█████████▏| 1383/1500 [28:20:44<26:57, 13.83s/it]"
     ]
    },
    {
     "name": "stdout",
     "output_type": "stream",
     "text": [
      "Episode 1382: Reward: 21.0 | Score: 335.0 | Avg last 10: 23.0\n",
      "Modelo guardado - Recompensa normalizada media últimos 10: 23.0\n"
     ]
    },
    {
     "name": "stderr",
     "output_type": "stream",
     "text": [
      " 92%|█████████▏| 1384/1500 [28:20:56<26:09, 13.53s/it]"
     ]
    },
    {
     "name": "stdout",
     "output_type": "stream",
     "text": [
      "Episode 1383: Reward: 26.0 | Score: 385.0 | Avg last 10: 24.2\n",
      "Modelo guardado - Recompensa normalizada media últimos 10: 24.2\n"
     ]
    },
    {
     "name": "stderr",
     "output_type": "stream",
     "text": [
      " 92%|█████████▏| 1385/1500 [28:21:08<24:43, 12.90s/it]"
     ]
    },
    {
     "name": "stdout",
     "output_type": "stream",
     "text": [
      "Episode 1384: Reward: 15.0 | Score: 250.0 | Avg last 10: 23.0\n",
      "Modelo guardado - Recompensa normalizada media últimos 10: 23.0\n"
     ]
    },
    {
     "name": "stderr",
     "output_type": "stream",
     "text": [
      " 92%|█████████▏| 1386/1500 [28:21:23<25:35, 13.47s/it]"
     ]
    },
    {
     "name": "stdout",
     "output_type": "stream",
     "text": [
      "Episode 1385: Reward: 25.0 | Score: 385.0 | Avg last 10: 22.7\n",
      "Modelo guardado - Recompensa normalizada media últimos 10: 22.7\n"
     ]
    },
    {
     "name": "stderr",
     "output_type": "stream",
     "text": [
      " 92%|█████████▏| 1387/1500 [28:21:36<25:31, 13.55s/it]"
     ]
    },
    {
     "name": "stdout",
     "output_type": "stream",
     "text": [
      "Episode 1386: Reward: 28.0 | Score: 635.0 | Avg last 10: 23.4\n",
      "Modelo guardado - Recompensa normalizada media últimos 10: 23.4\n"
     ]
    },
    {
     "name": "stderr",
     "output_type": "stream",
     "text": [
      " 93%|█████████▎| 1388/1500 [28:21:52<26:36, 14.26s/it]"
     ]
    },
    {
     "name": "stdout",
     "output_type": "stream",
     "text": [
      "Episode 1387: Reward: 25.0 | Score: 435.0 | Avg last 10: 23.2\n",
      "Modelo guardado - Recompensa normalizada media últimos 10: 23.2\n"
     ]
    },
    {
     "name": "stderr",
     "output_type": "stream",
     "text": [
      " 93%|█████████▎| 1389/1500 [28:22:05<25:42, 13.89s/it]"
     ]
    },
    {
     "name": "stdout",
     "output_type": "stream",
     "text": [
      "Episode 1388: Reward: 19.0 | Score: 285.0 | Avg last 10: 23.5\n",
      "Modelo guardado - Recompensa normalizada media últimos 10: 23.5\n"
     ]
    },
    {
     "name": "stderr",
     "output_type": "stream",
     "text": [
      " 93%|█████████▎| 1390/1500 [28:22:19<25:13, 13.76s/it]"
     ]
    },
    {
     "name": "stdout",
     "output_type": "stream",
     "text": [
      "Episode 1389: Reward: 23.0 | Score: 350.0 | Avg last 10: 22.7\n",
      "Modelo guardado - Recompensa normalizada media últimos 10: 22.7\n"
     ]
    },
    {
     "name": "stderr",
     "output_type": "stream",
     "text": [
      " 93%|█████████▎| 1391/1500 [28:22:36<26:43, 14.71s/it]"
     ]
    },
    {
     "name": "stdout",
     "output_type": "stream",
     "text": [
      "Episode 1390: Reward: 28.0 | Score: 430.0 | Avg last 10: 23.4\n",
      "Modelo guardado - Recompensa normalizada media últimos 10: 23.4\n"
     ]
    },
    {
     "name": "stderr",
     "output_type": "stream",
     "text": [
      " 93%|█████████▎| 1392/1500 [28:22:46<23:50, 13.25s/it]"
     ]
    },
    {
     "name": "stdout",
     "output_type": "stream",
     "text": [
      "Episode 1391: Reward: 17.0 | Score: 240.0 | Avg last 10: 22.7\n",
      "Modelo guardado - Recompensa normalizada media últimos 10: 22.7\n"
     ]
    },
    {
     "name": "stderr",
     "output_type": "stream",
     "text": [
      " 93%|█████████▎| 1393/1500 [28:22:56<21:54, 12.29s/it]"
     ]
    },
    {
     "name": "stdout",
     "output_type": "stream",
     "text": [
      "Episode 1392: Reward: 14.0 | Score: 175.0 | Avg last 10: 22.0\n",
      "Modelo guardado - Recompensa normalizada media últimos 10: 22.0\n"
     ]
    },
    {
     "name": "stderr",
     "output_type": "stream",
     "text": [
      " 93%|█████████▎| 1394/1500 [28:23:13<24:16, 13.74s/it]"
     ]
    },
    {
     "name": "stdout",
     "output_type": "stream",
     "text": [
      "Episode 1393: Reward: 23.0 | Score: 375.0 | Avg last 10: 21.7\n",
      "Modelo guardado - Recompensa normalizada media últimos 10: 21.7\n"
     ]
    },
    {
     "name": "stderr",
     "output_type": "stream",
     "text": [
      " 93%|█████████▎| 1395/1500 [28:23:27<24:18, 13.89s/it]"
     ]
    },
    {
     "name": "stdout",
     "output_type": "stream",
     "text": [
      "Episode 1394: Reward: 18.0 | Score: 250.0 | Avg last 10: 22.0\n",
      "Modelo guardado - Recompensa normalizada media últimos 10: 22.0\n"
     ]
    },
    {
     "name": "stderr",
     "output_type": "stream",
     "text": [
      " 93%|█████████▎| 1396/1500 [28:23:37<22:06, 12.75s/it]"
     ]
    },
    {
     "name": "stdout",
     "output_type": "stream",
     "text": [
      "Episode 1395: Reward: 15.0 | Score: 230.0 | Avg last 10: 21.0\n",
      "Modelo guardado - Recompensa normalizada media últimos 10: 21.0\n"
     ]
    },
    {
     "name": "stderr",
     "output_type": "stream",
     "text": [
      " 93%|█████████▎| 1397/1500 [28:23:50<22:13, 12.95s/it]"
     ]
    },
    {
     "name": "stdout",
     "output_type": "stream",
     "text": [
      "Episode 1396: Reward: 24.0 | Score: 365.0 | Avg last 10: 20.6\n",
      "Modelo guardado - Recompensa normalizada media últimos 10: 20.6\n"
     ]
    },
    {
     "name": "stderr",
     "output_type": "stream",
     "text": [
      " 93%|█████████▎| 1398/1500 [28:24:08<24:23, 14.35s/it]"
     ]
    },
    {
     "name": "stdout",
     "output_type": "stream",
     "text": [
      "Episode 1397: Reward: 28.0 | Score: 435.0 | Avg last 10: 20.9\n",
      "Modelo guardado - Recompensa normalizada media últimos 10: 20.9\n"
     ]
    },
    {
     "name": "stderr",
     "output_type": "stream",
     "text": [
      " 93%|█████████▎| 1399/1500 [28:24:24<24:56, 14.82s/it]"
     ]
    },
    {
     "name": "stdout",
     "output_type": "stream",
     "text": [
      "Episode 1398: Reward: 26.0 | Score: 405.0 | Avg last 10: 21.6\n",
      "Modelo guardado - Recompensa normalizada media últimos 10: 21.6\n"
     ]
    },
    {
     "name": "stderr",
     "output_type": "stream",
     "text": [
      " 93%|█████████▎| 1400/1500 [28:24:37<23:51, 14.32s/it]"
     ]
    },
    {
     "name": "stdout",
     "output_type": "stream",
     "text": [
      "Episode 1399: Reward: 15.0 | Score: 240.0 | Avg last 10: 20.8\n",
      "Modelo guardado - Recompensa normalizada media últimos 10: 20.8\n",
      "Episode 1400: Reward: 17.0 | Score: 260.0 | Avg last 10: 19.7\n"
     ]
    },
    {
     "name": "stderr",
     "output_type": "stream",
     "text": [
      " 93%|█████████▎| 1401/1500 [28:24:53<24:22, 14.78s/it]"
     ]
    },
    {
     "name": "stdout",
     "output_type": "stream",
     "text": [
      "Recompensa media en test: 402.00\n",
      "Evaluación @ 1400 ep -> reward media: 402.0\n"
     ]
    },
    {
     "name": "stderr",
     "output_type": "stream",
     "text": [
      " 93%|█████████▎| 1402/1500 [28:25:03<21:35, 13.22s/it]"
     ]
    },
    {
     "name": "stdout",
     "output_type": "stream",
     "text": [
      "Episode 1401: Reward: 13.0 | Score: 145.0 | Avg last 10: 19.3\n"
     ]
    },
    {
     "name": "stderr",
     "output_type": "stream",
     "text": [
      " 94%|█████████▎| 1403/1500 [28:25:17<21:46, 13.47s/it]"
     ]
    },
    {
     "name": "stdout",
     "output_type": "stream",
     "text": [
      "Episode 1402: Reward: 30.0 | Score: 460.0 | Avg last 10: 20.9\n",
      "Modelo guardado - Recompensa normalizada media últimos 10: 20.9\n"
     ]
    },
    {
     "name": "stderr",
     "output_type": "stream",
     "text": [
      " 94%|█████████▎| 1404/1500 [28:25:33<23:05, 14.44s/it]"
     ]
    },
    {
     "name": "stdout",
     "output_type": "stream",
     "text": [
      "Episode 1403: Reward: 21.0 | Score: 320.0 | Avg last 10: 20.7\n",
      "Modelo guardado - Recompensa normalizada media últimos 10: 20.7\n"
     ]
    },
    {
     "name": "stderr",
     "output_type": "stream",
     "text": [
      " 94%|█████████▎| 1405/1500 [28:25:41<19:42, 12.44s/it]"
     ]
    },
    {
     "name": "stdout",
     "output_type": "stream",
     "text": [
      "Episode 1404: Reward: 12.0 | Score: 170.0 | Avg last 10: 20.1\n",
      "Modelo guardado - Recompensa normalizada media últimos 10: 20.1\n"
     ]
    },
    {
     "name": "stderr",
     "output_type": "stream",
     "text": [
      " 94%|█████████▎| 1406/1500 [28:25:51<18:23, 11.74s/it]"
     ]
    },
    {
     "name": "stdout",
     "output_type": "stream",
     "text": [
      "Episode 1405: Reward: 18.0 | Score: 275.0 | Avg last 10: 20.4\n",
      "Modelo guardado - Recompensa normalizada media últimos 10: 20.4\n"
     ]
    },
    {
     "name": "stderr",
     "output_type": "stream",
     "text": [
      " 94%|█████████▍| 1407/1500 [28:26:03<18:12, 11.75s/it]"
     ]
    },
    {
     "name": "stdout",
     "output_type": "stream",
     "text": [
      "Episode 1406: Reward: 17.0 | Score: 225.0 | Avg last 10: 19.7\n"
     ]
    },
    {
     "name": "stderr",
     "output_type": "stream",
     "text": [
      " 94%|█████████▍| 1408/1500 [28:26:13<17:21, 11.32s/it]"
     ]
    },
    {
     "name": "stdout",
     "output_type": "stream",
     "text": [
      "Episode 1407: Reward: 17.0 | Score: 260.0 | Avg last 10: 18.6\n"
     ]
    },
    {
     "name": "stderr",
     "output_type": "stream",
     "text": [
      " 94%|█████████▍| 1409/1500 [28:26:30<19:30, 12.86s/it]"
     ]
    },
    {
     "name": "stdout",
     "output_type": "stream",
     "text": [
      "Episode 1408: Reward: 28.0 | Score: 420.0 | Avg last 10: 18.8\n"
     ]
    },
    {
     "name": "stderr",
     "output_type": "stream",
     "text": [
      " 94%|█████████▍| 1410/1500 [28:26:40<18:20, 12.23s/it]"
     ]
    },
    {
     "name": "stdout",
     "output_type": "stream",
     "text": [
      "Episode 1409: Reward: 15.0 | Score: 230.0 | Avg last 10: 18.8\n"
     ]
    },
    {
     "name": "stderr",
     "output_type": "stream",
     "text": [
      " 94%|█████████▍| 1411/1500 [28:26:50<17:03, 11.50s/it]"
     ]
    },
    {
     "name": "stdout",
     "output_type": "stream",
     "text": [
      "Episode 1410: Reward: 18.0 | Score: 295.0 | Avg last 10: 18.9\n"
     ]
    },
    {
     "name": "stderr",
     "output_type": "stream",
     "text": [
      " 94%|█████████▍| 1412/1500 [28:26:58<15:22, 10.49s/it]"
     ]
    },
    {
     "name": "stdout",
     "output_type": "stream",
     "text": [
      "Episode 1411: Reward: 14.0 | Score: 210.0 | Avg last 10: 19.0\n"
     ]
    },
    {
     "name": "stderr",
     "output_type": "stream",
     "text": [
      " 94%|█████████▍| 1413/1500 [28:27:13<16:58, 11.71s/it]"
     ]
    },
    {
     "name": "stdout",
     "output_type": "stream",
     "text": [
      "Episode 1412: Reward: 27.0 | Score: 435.0 | Avg last 10: 18.7\n"
     ]
    },
    {
     "name": "stderr",
     "output_type": "stream",
     "text": [
      " 94%|█████████▍| 1414/1500 [28:27:31<19:21, 13.51s/it]"
     ]
    },
    {
     "name": "stdout",
     "output_type": "stream",
     "text": [
      "Episode 1413: Reward: 31.0 | Score: 495.0 | Avg last 10: 19.7\n"
     ]
    },
    {
     "name": "stderr",
     "output_type": "stream",
     "text": [
      " 94%|█████████▍| 1415/1500 [28:27:49<21:01, 14.84s/it]"
     ]
    },
    {
     "name": "stdout",
     "output_type": "stream",
     "text": [
      "Episode 1414: Reward: 31.0 | Score: 490.0 | Avg last 10: 21.6\n",
      "Modelo guardado - Recompensa normalizada media últimos 10: 21.6\n"
     ]
    },
    {
     "name": "stderr",
     "output_type": "stream",
     "text": [
      " 94%|█████████▍| 1416/1500 [28:28:03<20:24, 14.58s/it]"
     ]
    },
    {
     "name": "stdout",
     "output_type": "stream",
     "text": [
      "Episode 1415: Reward: 23.0 | Score: 355.0 | Avg last 10: 22.1\n",
      "Modelo guardado - Recompensa normalizada media últimos 10: 22.1\n"
     ]
    },
    {
     "name": "stderr",
     "output_type": "stream",
     "text": [
      " 94%|█████████▍| 1417/1500 [28:28:21<21:34, 15.60s/it]"
     ]
    },
    {
     "name": "stdout",
     "output_type": "stream",
     "text": [
      "Episode 1416: Reward: 29.0 | Score: 440.0 | Avg last 10: 23.3\n",
      "Modelo guardado - Recompensa normalizada media últimos 10: 23.3\n"
     ]
    },
    {
     "name": "stderr",
     "output_type": "stream",
     "text": [
      " 95%|█████████▍| 1418/1500 [28:28:34<20:29, 14.99s/it]"
     ]
    },
    {
     "name": "stdout",
     "output_type": "stream",
     "text": [
      "Episode 1417: Reward: 24.0 | Score: 365.0 | Avg last 10: 24.0\n",
      "Modelo guardado - Recompensa normalizada media últimos 10: 24.0\n"
     ]
    },
    {
     "name": "stderr",
     "output_type": "stream",
     "text": [
      " 95%|█████████▍| 1419/1500 [28:28:49<20:05, 14.88s/it]"
     ]
    },
    {
     "name": "stdout",
     "output_type": "stream",
     "text": [
      "Episode 1418: Reward: 24.0 | Score: 365.0 | Avg last 10: 23.6\n",
      "Modelo guardado - Recompensa normalizada media últimos 10: 23.6\n"
     ]
    },
    {
     "name": "stderr",
     "output_type": "stream",
     "text": [
      " 95%|█████████▍| 1420/1500 [28:29:02<19:08, 14.36s/it]"
     ]
    },
    {
     "name": "stdout",
     "output_type": "stream",
     "text": [
      "Episode 1419: Reward: 19.0 | Score: 320.0 | Avg last 10: 24.0\n",
      "Modelo guardado - Recompensa normalizada media últimos 10: 24.0\n"
     ]
    },
    {
     "name": "stderr",
     "output_type": "stream",
     "text": [
      " 95%|█████████▍| 1421/1500 [28:29:19<20:07, 15.29s/it]"
     ]
    },
    {
     "name": "stdout",
     "output_type": "stream",
     "text": [
      "Episode 1420: Reward: 33.0 | Score: 545.0 | Avg last 10: 25.5\n",
      "Modelo guardado - Recompensa normalizada media últimos 10: 25.5\n"
     ]
    },
    {
     "name": "stderr",
     "output_type": "stream",
     "text": [
      " 95%|█████████▍| 1422/1500 [28:29:37<20:35, 15.85s/it]"
     ]
    },
    {
     "name": "stdout",
     "output_type": "stream",
     "text": [
      "Episode 1421: Reward: 26.0 | Score: 390.0 | Avg last 10: 26.7\n",
      "Modelo guardado - Recompensa normalizada media últimos 10: 26.7\n"
     ]
    },
    {
     "name": "stderr",
     "output_type": "stream",
     "text": [
      " 95%|█████████▍| 1423/1500 [28:29:47<18:27, 14.38s/it]"
     ]
    },
    {
     "name": "stdout",
     "output_type": "stream",
     "text": [
      "Episode 1422: Reward: 19.0 | Score: 255.0 | Avg last 10: 25.9\n",
      "Modelo guardado - Recompensa normalizada media últimos 10: 25.9\n"
     ]
    },
    {
     "name": "stderr",
     "output_type": "stream",
     "text": [
      " 95%|█████████▍| 1424/1500 [28:29:56<15:49, 12.49s/it]"
     ]
    },
    {
     "name": "stdout",
     "output_type": "stream",
     "text": [
      "Episode 1423: Reward: 13.0 | Score: 175.0 | Avg last 10: 24.1\n",
      "Modelo guardado - Recompensa normalizada media últimos 10: 24.1\n"
     ]
    },
    {
     "name": "stderr",
     "output_type": "stream",
     "text": [
      " 95%|█████████▌| 1425/1500 [28:30:08<15:45, 12.61s/it]"
     ]
    },
    {
     "name": "stdout",
     "output_type": "stream",
     "text": [
      "Episode 1424: Reward: 25.0 | Score: 340.0 | Avg last 10: 23.5\n",
      "Modelo guardado - Recompensa normalizada media últimos 10: 23.5\n"
     ]
    },
    {
     "name": "stderr",
     "output_type": "stream",
     "text": [
      " 95%|█████████▌| 1426/1500 [28:30:25<16:51, 13.67s/it]"
     ]
    },
    {
     "name": "stdout",
     "output_type": "stream",
     "text": [
      "Episode 1425: Reward: 29.0 | Score: 620.0 | Avg last 10: 24.1\n",
      "Modelo guardado - Recompensa normalizada media últimos 10: 24.1\n"
     ]
    },
    {
     "name": "stderr",
     "output_type": "stream",
     "text": [
      " 95%|█████████▌| 1427/1500 [28:30:38<16:37, 13.67s/it]"
     ]
    },
    {
     "name": "stdout",
     "output_type": "stream",
     "text": [
      "Episode 1426: Reward: 22.0 | Score: 320.0 | Avg last 10: 23.4\n",
      "Modelo guardado - Recompensa normalizada media últimos 10: 23.4\n"
     ]
    },
    {
     "name": "stderr",
     "output_type": "stream",
     "text": [
      " 95%|█████████▌| 1428/1500 [28:30:50<15:41, 13.08s/it]"
     ]
    },
    {
     "name": "stdout",
     "output_type": "stream",
     "text": [
      "Episode 1427: Reward: 24.0 | Score: 355.0 | Avg last 10: 23.4\n",
      "Modelo guardado - Recompensa normalizada media últimos 10: 23.4\n"
     ]
    },
    {
     "name": "stderr",
     "output_type": "stream",
     "text": [
      " 95%|█████████▌| 1429/1500 [28:31:03<15:34, 13.16s/it]"
     ]
    },
    {
     "name": "stdout",
     "output_type": "stream",
     "text": [
      "Episode 1428: Reward: 17.0 | Score: 250.0 | Avg last 10: 22.7\n",
      "Modelo guardado - Recompensa normalizada media últimos 10: 22.7\n"
     ]
    },
    {
     "name": "stderr",
     "output_type": "stream",
     "text": [
      " 95%|█████████▌| 1430/1500 [28:31:14<14:21, 12.30s/it]"
     ]
    },
    {
     "name": "stdout",
     "output_type": "stream",
     "text": [
      "Episode 1429: Reward: 15.0 | Score: 215.0 | Avg last 10: 22.3\n",
      "Modelo guardado - Recompensa normalizada media últimos 10: 22.3\n"
     ]
    },
    {
     "name": "stderr",
     "output_type": "stream",
     "text": [
      " 95%|█████████▌| 1431/1500 [28:31:29<15:05, 13.12s/it]"
     ]
    },
    {
     "name": "stdout",
     "output_type": "stream",
     "text": [
      "Episode 1430: Reward: 17.0 | Score: 265.0 | Avg last 10: 20.7\n",
      "Modelo guardado - Recompensa normalizada media últimos 10: 20.7\n"
     ]
    },
    {
     "name": "stderr",
     "output_type": "stream",
     "text": [
      " 95%|█████████▌| 1432/1500 [28:31:45<16:04, 14.18s/it]"
     ]
    },
    {
     "name": "stdout",
     "output_type": "stream",
     "text": [
      "Episode 1431: Reward: 24.0 | Score: 350.0 | Avg last 10: 20.5\n",
      "Modelo guardado - Recompensa normalizada media últimos 10: 20.5\n"
     ]
    },
    {
     "name": "stderr",
     "output_type": "stream",
     "text": [
      " 96%|█████████▌| 1433/1500 [28:31:56<14:41, 13.16s/it]"
     ]
    },
    {
     "name": "stdout",
     "output_type": "stream",
     "text": [
      "Episode 1432: Reward: 14.0 | Score: 180.0 | Avg last 10: 20.0\n",
      "Modelo guardado - Recompensa normalizada media últimos 10: 20.0\n"
     ]
    },
    {
     "name": "stderr",
     "output_type": "stream",
     "text": [
      " 96%|█████████▌| 1434/1500 [28:32:10<14:38, 13.31s/it]"
     ]
    },
    {
     "name": "stdout",
     "output_type": "stream",
     "text": [
      "Episode 1433: Reward: 21.0 | Score: 330.0 | Avg last 10: 20.8\n",
      "Modelo guardado - Recompensa normalizada media últimos 10: 20.8\n"
     ]
    },
    {
     "name": "stderr",
     "output_type": "stream",
     "text": [
      " 96%|█████████▌| 1435/1500 [28:32:29<16:24, 15.14s/it]"
     ]
    },
    {
     "name": "stdout",
     "output_type": "stream",
     "text": [
      "Episode 1434: Reward: 25.0 | Score: 345.0 | Avg last 10: 20.8\n",
      "Modelo guardado - Recompensa normalizada media últimos 10: 20.8\n"
     ]
    },
    {
     "name": "stderr",
     "output_type": "stream",
     "text": [
      " 96%|█████████▌| 1436/1500 [28:32:43<15:47, 14.81s/it]"
     ]
    },
    {
     "name": "stdout",
     "output_type": "stream",
     "text": [
      "Episode 1435: Reward: 17.0 | Score: 285.0 | Avg last 10: 19.6\n"
     ]
    },
    {
     "name": "stderr",
     "output_type": "stream",
     "text": [
      " 96%|█████████▌| 1437/1500 [28:33:08<18:45, 17.86s/it]"
     ]
    },
    {
     "name": "stdout",
     "output_type": "stream",
     "text": [
      "Episode 1436: Reward: 31.0 | Score: 845.0 | Avg last 10: 20.5\n",
      "Modelo guardado - Recompensa normalizada media últimos 10: 20.5\n"
     ]
    },
    {
     "name": "stderr",
     "output_type": "stream",
     "text": [
      " 96%|█████████▌| 1438/1500 [28:33:21<16:54, 16.37s/it]"
     ]
    },
    {
     "name": "stdout",
     "output_type": "stream",
     "text": [
      "Episode 1437: Reward: 17.0 | Score: 230.0 | Avg last 10: 19.8\n"
     ]
    },
    {
     "name": "stderr",
     "output_type": "stream",
     "text": [
      " 96%|█████████▌| 1439/1500 [28:33:35<15:51, 15.59s/it]"
     ]
    },
    {
     "name": "stdout",
     "output_type": "stream",
     "text": [
      "Episode 1438: Reward: 19.0 | Score: 290.0 | Avg last 10: 20.0\n",
      "Modelo guardado - Recompensa normalizada media últimos 10: 20.0\n"
     ]
    },
    {
     "name": "stderr",
     "output_type": "stream",
     "text": [
      " 96%|█████████▌| 1440/1500 [28:33:50<15:27, 15.45s/it]"
     ]
    },
    {
     "name": "stdout",
     "output_type": "stream",
     "text": [
      "Episode 1439: Reward: 21.0 | Score: 295.0 | Avg last 10: 20.6\n",
      "Modelo guardado - Recompensa normalizada media últimos 10: 20.6\n"
     ]
    },
    {
     "name": "stderr",
     "output_type": "stream",
     "text": [
      " 96%|█████████▌| 1441/1500 [28:34:09<16:20, 16.63s/it]"
     ]
    },
    {
     "name": "stdout",
     "output_type": "stream",
     "text": [
      "Episode 1440: Reward: 29.0 | Score: 455.0 | Avg last 10: 21.8\n",
      "Modelo guardado - Recompensa normalizada media últimos 10: 21.8\n"
     ]
    },
    {
     "name": "stderr",
     "output_type": "stream",
     "text": [
      " 96%|█████████▌| 1442/1500 [28:34:26<16:10, 16.73s/it]"
     ]
    },
    {
     "name": "stdout",
     "output_type": "stream",
     "text": [
      "Episode 1441: Reward: 21.0 | Score: 475.0 | Avg last 10: 21.5\n",
      "Modelo guardado - Recompensa normalizada media últimos 10: 21.5\n"
     ]
    },
    {
     "name": "stderr",
     "output_type": "stream",
     "text": [
      " 96%|█████████▌| 1443/1500 [28:34:41<15:22, 16.19s/it]"
     ]
    },
    {
     "name": "stdout",
     "output_type": "stream",
     "text": [
      "Episode 1442: Reward: 19.0 | Score: 270.0 | Avg last 10: 22.0\n",
      "Modelo guardado - Recompensa normalizada media últimos 10: 22.0\n"
     ]
    },
    {
     "name": "stderr",
     "output_type": "stream",
     "text": [
      " 96%|█████████▋| 1444/1500 [28:34:52<13:37, 14.59s/it]"
     ]
    },
    {
     "name": "stdout",
     "output_type": "stream",
     "text": [
      "Episode 1443: Reward: 14.0 | Score: 225.0 | Avg last 10: 21.3\n",
      "Modelo guardado - Recompensa normalizada media últimos 10: 21.3\n"
     ]
    },
    {
     "name": "stderr",
     "output_type": "stream",
     "text": [
      " 96%|█████████▋| 1445/1500 [28:35:04<12:34, 13.71s/it]"
     ]
    },
    {
     "name": "stdout",
     "output_type": "stream",
     "text": [
      "Episode 1444: Reward: 17.0 | Score: 255.0 | Avg last 10: 20.5\n",
      "Modelo guardado - Recompensa normalizada media últimos 10: 20.5\n"
     ]
    },
    {
     "name": "stderr",
     "output_type": "stream",
     "text": [
      " 96%|█████████▋| 1446/1500 [28:35:18<12:34, 13.97s/it]"
     ]
    },
    {
     "name": "stdout",
     "output_type": "stream",
     "text": [
      "Episode 1445: Reward: 22.0 | Score: 295.0 | Avg last 10: 21.0\n",
      "Modelo guardado - Recompensa normalizada media últimos 10: 21.0\n"
     ]
    },
    {
     "name": "stderr",
     "output_type": "stream",
     "text": [
      " 96%|█████████▋| 1447/1500 [28:35:36<13:23, 15.15s/it]"
     ]
    },
    {
     "name": "stdout",
     "output_type": "stream",
     "text": [
      "Episode 1446: Reward: 28.0 | Score: 435.0 | Avg last 10: 20.7\n",
      "Modelo guardado - Recompensa normalizada media últimos 10: 20.7\n"
     ]
    },
    {
     "name": "stderr",
     "output_type": "stream",
     "text": [
      " 97%|█████████▋| 1448/1500 [28:35:50<12:51, 14.84s/it]"
     ]
    },
    {
     "name": "stdout",
     "output_type": "stream",
     "text": [
      "Episode 1447: Reward: 24.0 | Score: 340.0 | Avg last 10: 21.4\n",
      "Modelo guardado - Recompensa normalizada media últimos 10: 21.4\n"
     ]
    },
    {
     "name": "stderr",
     "output_type": "stream",
     "text": [
      " 97%|█████████▋| 1449/1500 [28:36:06<12:53, 15.16s/it]"
     ]
    },
    {
     "name": "stdout",
     "output_type": "stream",
     "text": [
      "Episode 1448: Reward: 24.0 | Score: 505.0 | Avg last 10: 21.9\n",
      "Modelo guardado - Recompensa normalizada media últimos 10: 21.9\n"
     ]
    },
    {
     "name": "stderr",
     "output_type": "stream",
     "text": [
      " 97%|█████████▋| 1450/1500 [28:36:21<12:30, 15.01s/it]"
     ]
    },
    {
     "name": "stdout",
     "output_type": "stream",
     "text": [
      "Episode 1449: Reward: 31.0 | Score: 515.0 | Avg last 10: 22.9\n",
      "Modelo guardado - Recompensa normalizada media últimos 10: 22.9\n"
     ]
    },
    {
     "name": "stderr",
     "output_type": "stream",
     "text": [
      " 97%|█████████▋| 1451/1500 [28:36:34<11:45, 14.39s/it]"
     ]
    },
    {
     "name": "stdout",
     "output_type": "stream",
     "text": [
      "Episode 1450: Reward: 25.0 | Score: 350.0 | Avg last 10: 22.5\n",
      "Modelo guardado - Recompensa normalizada media últimos 10: 22.5\n"
     ]
    },
    {
     "name": "stderr",
     "output_type": "stream",
     "text": [
      " 97%|█████████▋| 1452/1500 [28:36:45<10:43, 13.41s/it]"
     ]
    },
    {
     "name": "stdout",
     "output_type": "stream",
     "text": [
      "Episode 1451: Reward: 16.0 | Score: 200.0 | Avg last 10: 22.0\n",
      "Modelo guardado - Recompensa normalizada media últimos 10: 22.0\n"
     ]
    },
    {
     "name": "stderr",
     "output_type": "stream",
     "text": [
      " 97%|█████████▋| 1453/1500 [28:36:58<10:26, 13.33s/it]"
     ]
    },
    {
     "name": "stdout",
     "output_type": "stream",
     "text": [
      "Episode 1452: Reward: 17.0 | Score: 200.0 | Avg last 10: 21.8\n",
      "Modelo guardado - Recompensa normalizada media últimos 10: 21.8\n"
     ]
    },
    {
     "name": "stderr",
     "output_type": "stream",
     "text": [
      " 97%|█████████▋| 1454/1500 [28:37:10<09:58, 13.01s/it]"
     ]
    },
    {
     "name": "stdout",
     "output_type": "stream",
     "text": [
      "Episode 1453: Reward: 17.0 | Score: 235.0 | Avg last 10: 22.1\n",
      "Modelo guardado - Recompensa normalizada media últimos 10: 22.1\n"
     ]
    },
    {
     "name": "stderr",
     "output_type": "stream",
     "text": [
      " 97%|█████████▋| 1455/1500 [28:37:27<10:33, 14.09s/it]"
     ]
    },
    {
     "name": "stdout",
     "output_type": "stream",
     "text": [
      "Episode 1454: Reward: 24.0 | Score: 345.0 | Avg last 10: 22.8\n",
      "Modelo guardado - Recompensa normalizada media últimos 10: 22.8\n"
     ]
    },
    {
     "name": "stderr",
     "output_type": "stream",
     "text": [
      " 97%|█████████▋| 1456/1500 [28:37:43<10:42, 14.61s/it]"
     ]
    },
    {
     "name": "stdout",
     "output_type": "stream",
     "text": [
      "Episode 1455: Reward: 23.0 | Score: 315.0 | Avg last 10: 22.9\n",
      "Modelo guardado - Recompensa normalizada media últimos 10: 22.9\n"
     ]
    },
    {
     "name": "stderr",
     "output_type": "stream",
     "text": [
      " 97%|█████████▋| 1457/1500 [28:38:09<13:03, 18.22s/it]"
     ]
    },
    {
     "name": "stdout",
     "output_type": "stream",
     "text": [
      "Episode 1456: Reward: 33.0 | Score: 560.0 | Avg last 10: 23.4\n",
      "Modelo guardado - Recompensa normalizada media últimos 10: 23.4\n"
     ]
    },
    {
     "name": "stderr",
     "output_type": "stream",
     "text": [
      " 97%|█████████▋| 1458/1500 [28:38:27<12:39, 18.08s/it]"
     ]
    },
    {
     "name": "stdout",
     "output_type": "stream",
     "text": [
      "Episode 1457: Reward: 30.0 | Score: 480.0 | Avg last 10: 24.0\n",
      "Modelo guardado - Recompensa normalizada media últimos 10: 24.0\n"
     ]
    },
    {
     "name": "stderr",
     "output_type": "stream",
     "text": [
      " 97%|█████████▋| 1459/1500 [28:38:40<11:13, 16.43s/it]"
     ]
    },
    {
     "name": "stdout",
     "output_type": "stream",
     "text": [
      "Episode 1458: Reward: 26.0 | Score: 370.0 | Avg last 10: 24.2\n",
      "Modelo guardado - Recompensa normalizada media últimos 10: 24.2\n"
     ]
    },
    {
     "name": "stderr",
     "output_type": "stream",
     "text": [
      " 97%|█████████▋| 1460/1500 [28:39:00<11:45, 17.63s/it]"
     ]
    },
    {
     "name": "stdout",
     "output_type": "stream",
     "text": [
      "Episode 1459: Reward: 29.0 | Score: 630.0 | Avg last 10: 24.0\n",
      "Modelo guardado - Recompensa normalizada media últimos 10: 24.0\n"
     ]
    },
    {
     "name": "stderr",
     "output_type": "stream",
     "text": [
      " 97%|█████████▋| 1461/1500 [28:39:15<10:49, 16.66s/it]"
     ]
    },
    {
     "name": "stdout",
     "output_type": "stream",
     "text": [
      "Episode 1460: Reward: 30.0 | Score: 470.0 | Avg last 10: 24.5\n",
      "Modelo guardado - Recompensa normalizada media últimos 10: 24.5\n"
     ]
    },
    {
     "name": "stderr",
     "output_type": "stream",
     "text": [
      " 97%|█████████▋| 1462/1500 [28:39:28<09:57, 15.74s/it]"
     ]
    },
    {
     "name": "stdout",
     "output_type": "stream",
     "text": [
      "Episode 1461: Reward: 25.0 | Score: 390.0 | Avg last 10: 25.4\n",
      "Modelo guardado - Recompensa normalizada media últimos 10: 25.4\n"
     ]
    },
    {
     "name": "stderr",
     "output_type": "stream",
     "text": [
      " 98%|█████████▊| 1463/1500 [28:39:37<08:20, 13.53s/it]"
     ]
    },
    {
     "name": "stdout",
     "output_type": "stream",
     "text": [
      "Episode 1462: Reward: 12.0 | Score: 185.0 | Avg last 10: 24.9\n",
      "Modelo guardado - Recompensa normalizada media últimos 10: 24.9\n"
     ]
    },
    {
     "name": "stderr",
     "output_type": "stream",
     "text": [
      " 98%|█████████▊| 1464/1500 [28:39:48<07:43, 12.89s/it]"
     ]
    },
    {
     "name": "stdout",
     "output_type": "stream",
     "text": [
      "Episode 1463: Reward: 21.0 | Score: 360.0 | Avg last 10: 25.3\n",
      "Modelo guardado - Recompensa normalizada media últimos 10: 25.3\n"
     ]
    },
    {
     "name": "stderr",
     "output_type": "stream",
     "text": [
      " 98%|█████████▊| 1465/1500 [28:39:59<07:08, 12.25s/it]"
     ]
    },
    {
     "name": "stdout",
     "output_type": "stream",
     "text": [
      "Episode 1464: Reward: 15.0 | Score: 205.0 | Avg last 10: 24.4\n",
      "Modelo guardado - Recompensa normalizada media últimos 10: 24.4\n"
     ]
    },
    {
     "name": "stderr",
     "output_type": "stream",
     "text": [
      " 98%|█████████▊| 1466/1500 [28:40:10<06:46, 11.95s/it]"
     ]
    },
    {
     "name": "stdout",
     "output_type": "stream",
     "text": [
      "Episode 1465: Reward: 16.0 | Score: 235.0 | Avg last 10: 23.7\n",
      "Modelo guardado - Recompensa normalizada media últimos 10: 23.7\n"
     ]
    },
    {
     "name": "stderr",
     "output_type": "stream",
     "text": [
      " 98%|█████████▊| 1467/1500 [28:40:26<07:13, 13.13s/it]"
     ]
    },
    {
     "name": "stdout",
     "output_type": "stream",
     "text": [
      "Episode 1466: Reward: 27.0 | Score: 420.0 | Avg last 10: 23.1\n",
      "Modelo guardado - Recompensa normalizada media últimos 10: 23.1\n"
     ]
    },
    {
     "name": "stderr",
     "output_type": "stream",
     "text": [
      " 98%|█████████▊| 1468/1500 [28:40:43<07:38, 14.32s/it]"
     ]
    },
    {
     "name": "stdout",
     "output_type": "stream",
     "text": [
      "Episode 1467: Reward: 29.0 | Score: 435.0 | Avg last 10: 23.0\n",
      "Modelo guardado - Recompensa normalizada media últimos 10: 23.0\n"
     ]
    },
    {
     "name": "stderr",
     "output_type": "stream",
     "text": [
      " 98%|█████████▊| 1469/1500 [28:40:59<07:35, 14.71s/it]"
     ]
    },
    {
     "name": "stdout",
     "output_type": "stream",
     "text": [
      "Episode 1468: Reward: 30.0 | Score: 470.0 | Avg last 10: 23.4\n",
      "Modelo guardado - Recompensa normalizada media últimos 10: 23.4\n"
     ]
    },
    {
     "name": "stderr",
     "output_type": "stream",
     "text": [
      " 98%|█████████▊| 1470/1500 [28:41:13<07:14, 14.49s/it]"
     ]
    },
    {
     "name": "stdout",
     "output_type": "stream",
     "text": [
      "Episode 1469: Reward: 24.0 | Score: 590.0 | Avg last 10: 22.9\n",
      "Modelo guardado - Recompensa normalizada media últimos 10: 22.9\n"
     ]
    },
    {
     "name": "stderr",
     "output_type": "stream",
     "text": [
      " 98%|█████████▊| 1471/1500 [28:42:13<13:36, 28.17s/it]"
     ]
    },
    {
     "name": "stdout",
     "output_type": "stream",
     "text": [
      "Episode 1470: Reward: 18.0 | Score: 275.0 | Avg last 10: 21.7\n",
      "Modelo guardado - Recompensa normalizada media últimos 10: 21.7\n"
     ]
    },
    {
     "name": "stderr",
     "output_type": "stream",
     "text": [
      " 98%|█████████▊| 1472/1500 [28:42:31<11:45, 25.21s/it]"
     ]
    },
    {
     "name": "stdout",
     "output_type": "stream",
     "text": [
      "Episode 1471: Reward: 29.0 | Score: 470.0 | Avg last 10: 22.1\n",
      "Modelo guardado - Recompensa normalizada media últimos 10: 22.1\n"
     ]
    },
    {
     "name": "stderr",
     "output_type": "stream",
     "text": [
      " 98%|█████████▊| 1473/1500 [28:42:41<09:15, 20.59s/it]"
     ]
    },
    {
     "name": "stdout",
     "output_type": "stream",
     "text": [
      "Episode 1472: Reward: 15.0 | Score: 175.0 | Avg last 10: 22.4\n",
      "Modelo guardado - Recompensa normalizada media últimos 10: 22.4\n"
     ]
    },
    {
     "name": "stderr",
     "output_type": "stream",
     "text": [
      " 98%|█████████▊| 1474/1500 [28:42:57<08:21, 19.29s/it]"
     ]
    },
    {
     "name": "stdout",
     "output_type": "stream",
     "text": [
      "Episode 1473: Reward: 28.0 | Score: 595.0 | Avg last 10: 23.1\n",
      "Modelo guardado - Recompensa normalizada media últimos 10: 23.1\n"
     ]
    },
    {
     "name": "stderr",
     "output_type": "stream",
     "text": [
      " 98%|█████████▊| 1475/1500 [28:43:09<07:10, 17.21s/it]"
     ]
    },
    {
     "name": "stdout",
     "output_type": "stream",
     "text": [
      "Episode 1474: Reward: 21.0 | Score: 305.0 | Avg last 10: 23.7\n",
      "Modelo guardado - Recompensa normalizada media últimos 10: 23.7\n"
     ]
    },
    {
     "name": "stderr",
     "output_type": "stream",
     "text": [
      " 98%|█████████▊| 1476/1500 [28:43:27<06:59, 17.48s/it]"
     ]
    },
    {
     "name": "stdout",
     "output_type": "stream",
     "text": [
      "Episode 1475: Reward: 21.0 | Score: 350.0 | Avg last 10: 24.2\n",
      "Modelo guardado - Recompensa normalizada media últimos 10: 24.2\n"
     ]
    },
    {
     "name": "stderr",
     "output_type": "stream",
     "text": [
      " 98%|█████████▊| 1477/1500 [28:43:45<06:42, 17.52s/it]"
     ]
    },
    {
     "name": "stdout",
     "output_type": "stream",
     "text": [
      "Episode 1476: Reward: 22.0 | Score: 545.0 | Avg last 10: 23.7\n",
      "Modelo guardado - Recompensa normalizada media últimos 10: 23.7\n"
     ]
    },
    {
     "name": "stderr",
     "output_type": "stream",
     "text": [
      " 99%|█████████▊| 1478/1500 [28:43:53<05:22, 14.64s/it]"
     ]
    },
    {
     "name": "stdout",
     "output_type": "stream",
     "text": [
      "Episode 1477: Reward: 13.0 | Score: 175.0 | Avg last 10: 22.1\n",
      "Modelo guardado - Recompensa normalizada media últimos 10: 22.1\n"
     ]
    },
    {
     "name": "stderr",
     "output_type": "stream",
     "text": [
      " 99%|█████████▊| 1479/1500 [28:44:08<05:10, 14.80s/it]"
     ]
    },
    {
     "name": "stdout",
     "output_type": "stream",
     "text": [
      "Episode 1478: Reward: 30.0 | Score: 640.0 | Avg last 10: 22.1\n",
      "Modelo guardado - Recompensa normalizada media últimos 10: 22.1\n"
     ]
    },
    {
     "name": "stderr",
     "output_type": "stream",
     "text": [
      " 99%|█████████▊| 1480/1500 [28:44:21<04:41, 14.07s/it]"
     ]
    },
    {
     "name": "stdout",
     "output_type": "stream",
     "text": [
      "Episode 1479: Reward: 22.0 | Score: 295.0 | Avg last 10: 21.9\n",
      "Modelo guardado - Recompensa normalizada media últimos 10: 21.9\n"
     ]
    },
    {
     "name": "stderr",
     "output_type": "stream",
     "text": [
      " 99%|█████████▊| 1481/1500 [28:44:37<04:41, 14.80s/it]"
     ]
    },
    {
     "name": "stdout",
     "output_type": "stream",
     "text": [
      "Episode 1480: Reward: 28.0 | Score: 450.0 | Avg last 10: 22.9\n",
      "Modelo guardado - Recompensa normalizada media últimos 10: 22.9\n"
     ]
    },
    {
     "name": "stderr",
     "output_type": "stream",
     "text": [
      " 99%|█████████▉| 1482/1500 [28:44:49<04:10, 13.93s/it]"
     ]
    },
    {
     "name": "stdout",
     "output_type": "stream",
     "text": [
      "Episode 1481: Reward: 22.0 | Score: 310.0 | Avg last 10: 22.2\n",
      "Modelo guardado - Recompensa normalizada media últimos 10: 22.2\n"
     ]
    },
    {
     "name": "stderr",
     "output_type": "stream",
     "text": [
      " 99%|█████████▉| 1483/1500 [28:45:01<03:45, 13.26s/it]"
     ]
    },
    {
     "name": "stdout",
     "output_type": "stream",
     "text": [
      "Episode 1482: Reward: 15.0 | Score: 170.0 | Avg last 10: 22.2\n",
      "Modelo guardado - Recompensa normalizada media últimos 10: 22.2\n"
     ]
    },
    {
     "name": "stderr",
     "output_type": "stream",
     "text": [
      " 99%|█████████▉| 1484/1500 [28:45:11<03:19, 12.47s/it]"
     ]
    },
    {
     "name": "stdout",
     "output_type": "stream",
     "text": [
      "Episode 1483: Reward: 22.0 | Score: 350.0 | Avg last 10: 21.6\n",
      "Modelo guardado - Recompensa normalizada media últimos 10: 21.6\n"
     ]
    },
    {
     "name": "stderr",
     "output_type": "stream",
     "text": [
      " 99%|█████████▉| 1485/1500 [28:45:23<03:04, 12.31s/it]"
     ]
    },
    {
     "name": "stdout",
     "output_type": "stream",
     "text": [
      "Episode 1484: Reward: 27.0 | Score: 415.0 | Avg last 10: 22.2\n",
      "Modelo guardado - Recompensa normalizada media últimos 10: 22.2\n"
     ]
    },
    {
     "name": "stderr",
     "output_type": "stream",
     "text": [
      " 99%|█████████▉| 1486/1500 [28:45:32<02:37, 11.27s/it]"
     ]
    },
    {
     "name": "stdout",
     "output_type": "stream",
     "text": [
      "Episode 1485: Reward: 19.0 | Score: 280.0 | Avg last 10: 22.0\n",
      "Modelo guardado - Recompensa normalizada media últimos 10: 22.0\n"
     ]
    },
    {
     "name": "stderr",
     "output_type": "stream",
     "text": [
      " 99%|█████████▉| 1487/1500 [28:45:44<02:28, 11.40s/it]"
     ]
    },
    {
     "name": "stdout",
     "output_type": "stream",
     "text": [
      "Episode 1486: Reward: 22.0 | Score: 335.0 | Avg last 10: 22.0\n",
      "Modelo guardado - Recompensa normalizada media últimos 10: 22.0\n"
     ]
    },
    {
     "name": "stderr",
     "output_type": "stream",
     "text": [
      " 99%|█████████▉| 1488/1500 [28:46:01<02:39, 13.27s/it]"
     ]
    },
    {
     "name": "stdout",
     "output_type": "stream",
     "text": [
      "Episode 1487: Reward: 27.0 | Score: 420.0 | Avg last 10: 23.4\n",
      "Modelo guardado - Recompensa normalizada media últimos 10: 23.4\n"
     ]
    },
    {
     "name": "stderr",
     "output_type": "stream",
     "text": [
      " 99%|█████████▉| 1489/1500 [28:46:15<02:27, 13.37s/it]"
     ]
    },
    {
     "name": "stdout",
     "output_type": "stream",
     "text": [
      "Episode 1488: Reward: 24.0 | Score: 505.0 | Avg last 10: 22.8\n",
      "Modelo guardado - Recompensa normalizada media últimos 10: 22.8\n"
     ]
    },
    {
     "name": "stderr",
     "output_type": "stream",
     "text": [
      " 99%|█████████▉| 1490/1500 [28:46:26<02:07, 12.73s/it]"
     ]
    },
    {
     "name": "stdout",
     "output_type": "stream",
     "text": [
      "Episode 1489: Reward: 19.0 | Score: 230.0 | Avg last 10: 22.5\n",
      "Modelo guardado - Recompensa normalizada media últimos 10: 22.5\n"
     ]
    },
    {
     "name": "stderr",
     "output_type": "stream",
     "text": [
      " 99%|█████████▉| 1491/1500 [28:46:42<02:02, 13.61s/it]"
     ]
    },
    {
     "name": "stdout",
     "output_type": "stream",
     "text": [
      "Episode 1490: Reward: 30.0 | Score: 655.0 | Avg last 10: 22.7\n",
      "Modelo guardado - Recompensa normalizada media últimos 10: 22.7\n"
     ]
    },
    {
     "name": "stderr",
     "output_type": "stream",
     "text": [
      " 99%|█████████▉| 1492/1500 [28:46:55<01:47, 13.43s/it]"
     ]
    },
    {
     "name": "stdout",
     "output_type": "stream",
     "text": [
      "Episode 1491: Reward: 11.0 | Score: 170.0 | Avg last 10: 21.6\n",
      "Modelo guardado - Recompensa normalizada media últimos 10: 21.6\n"
     ]
    },
    {
     "name": "stderr",
     "output_type": "stream",
     "text": [
      "100%|█████████▉| 1493/1500 [28:47:15<01:48, 15.54s/it]"
     ]
    },
    {
     "name": "stdout",
     "output_type": "stream",
     "text": [
      "Episode 1492: Reward: 35.0 | Score: 780.0 | Avg last 10: 23.6\n",
      "Modelo guardado - Recompensa normalizada media últimos 10: 23.6\n"
     ]
    },
    {
     "name": "stderr",
     "output_type": "stream",
     "text": [
      "100%|█████████▉| 1494/1500 [28:47:26<01:25, 14.19s/it]"
     ]
    },
    {
     "name": "stdout",
     "output_type": "stream",
     "text": [
      "Episode 1493: Reward: 15.0 | Score: 230.0 | Avg last 10: 22.9\n",
      "Modelo guardado - Recompensa normalizada media últimos 10: 22.9\n"
     ]
    },
    {
     "name": "stderr",
     "output_type": "stream",
     "text": [
      "100%|█████████▉| 1495/1500 [28:47:37<01:05, 13.20s/it]"
     ]
    },
    {
     "name": "stdout",
     "output_type": "stream",
     "text": [
      "Episode 1494: Reward: 18.0 | Score: 290.0 | Avg last 10: 22.0\n",
      "Modelo guardado - Recompensa normalizada media últimos 10: 22.0\n"
     ]
    },
    {
     "name": "stderr",
     "output_type": "stream",
     "text": [
      "100%|█████████▉| 1496/1500 [28:47:51<00:53, 13.45s/it]"
     ]
    },
    {
     "name": "stdout",
     "output_type": "stream",
     "text": [
      "Episode 1495: Reward: 23.0 | Score: 375.0 | Avg last 10: 22.4\n",
      "Modelo guardado - Recompensa normalizada media últimos 10: 22.4\n"
     ]
    },
    {
     "name": "stderr",
     "output_type": "stream",
     "text": [
      "100%|█████████▉| 1497/1500 [28:48:07<00:42, 14.08s/it]"
     ]
    },
    {
     "name": "stdout",
     "output_type": "stream",
     "text": [
      "Episode 1496: Reward: 28.0 | Score: 420.0 | Avg last 10: 23.0\n",
      "Modelo guardado - Recompensa normalizada media últimos 10: 23.0\n"
     ]
    },
    {
     "name": "stderr",
     "output_type": "stream",
     "text": [
      "100%|█████████▉| 1498/1500 [28:48:30<00:33, 16.88s/it]"
     ]
    },
    {
     "name": "stdout",
     "output_type": "stream",
     "text": [
      "Episode 1497: Reward: 35.0 | Score: 605.0 | Avg last 10: 23.8\n",
      "Modelo guardado - Recompensa normalizada media últimos 10: 23.8\n"
     ]
    },
    {
     "name": "stderr",
     "output_type": "stream",
     "text": [
      "100%|█████████▉| 1499/1500 [28:48:39<00:14, 14.53s/it]"
     ]
    },
    {
     "name": "stdout",
     "output_type": "stream",
     "text": [
      "Episode 1498: Reward: 15.0 | Score: 230.0 | Avg last 10: 22.9\n",
      "Modelo guardado - Recompensa normalizada media últimos 10: 22.9\n"
     ]
    },
    {
     "name": "stderr",
     "output_type": "stream",
     "text": [
      "100%|██████████| 1500/1500 [28:48:57<00:00, 69.16s/it]"
     ]
    },
    {
     "name": "stdout",
     "output_type": "stream",
     "text": [
      "Episode 1499: Reward: 31.0 | Score: 495.0 | Avg last 10: 24.1\n",
      "Modelo guardado - Recompensa normalizada media últimos 10: 24.1\n"
     ]
    },
    {
     "name": "stderr",
     "output_type": "stream",
     "text": [
      "\n"
     ]
    }
   ],
   "source": [
    "# Entrenamiento del agente DQN\n",
    "num_episodes = 1500\n",
    "batch_size = 64\n",
    "gamma = 0.99\n",
    "epsilon_start = 1.0\n",
    "epsilon_final = 0.1\n",
    "epsilon_decay = 500_000\n",
    "target_update_freq = 1000\n",
    "train_freq = 4\n",
    "checkpoint_path = 'modelo_final.pth'\n",
    "steps_done = 0\n",
    "epsilon = epsilon_start\n",
    "rewards = []\n",
    "from tqdm import trange\n",
    "\n",
    "for episode in trange(num_episodes):\n",
    "    obs, _ = env.reset()\n",
    "    state = stacker.reset(obs)\n",
    "    done = False\n",
    "    total_reward = 0\n",
    "    total_normalized_reward = 0\n",
    "\n",
    "    while not done:\n",
    "        epsilon = epsilon_final + (epsilon_start - epsilon_final) * np.exp(-1.0 * steps_done / epsilon_decay)\n",
    "        action = select_action(policy, state, epsilon, num_actions, device)\n",
    "        next_obs, reward, terminated, truncated, _ = env.step(action)\n",
    "        next_state = stacker.step(next_obs)\n",
    "        done = terminated or truncated\n",
    "        normalized_reward = np.clip(reward, -1.0, 1.0)\n",
    "        buffer.push(state, action, normalized_reward, next_state, done)\n",
    "        state = next_state\n",
    "        total_reward += reward\n",
    "        total_normalized_reward += normalized_reward\n",
    "        steps_done += 1\n",
    "\n",
    "        if steps_done % train_freq == 0:\n",
    "            train(policy, target, buffer, opt, batch_size, gamma, device)\n",
    "\n",
    "        if steps_done % target_update_freq == 0:\n",
    "            target.load_state_dict(policy.state_dict())\n",
    "            \n",
    "    rewards.append(total_normalized_reward)\n",
    "    \n",
    "    avg_last_10 = np.mean(rewards[-10:]) if len(rewards) >= 10 else 0\n",
    "    \n",
    "    print(f\"Episode {episode}: Reward: {total_normalized_reward} | Score: {total_reward} | Avg last 10: {avg_last_10:.1f}\")\n",
    "\n",
    "    if episode % 100 == 0:\n",
    "        avg_test = test_agent(env, policy, num_episodes=5)\n",
    "        print(f\"Evaluación @ {episode} ep -> reward media: {avg_test}\")\n",
    "    \n",
    "    if episode % 500 == 0:\n",
    "        torch.save(policy.state_dict(), f'model_checkpoint_{episode}.pth')\n",
    "    \n",
    "    if len(rewards) > 10 and avg_last_10 >= 20:\n",
    "        torch.save(policy.state_dict(), checkpoint_path)\n",
    "        print(f'Modelo guardado - Recompensa normalizada media últimos 10: {avg_last_10:.1f}')"
   ]
  },
  {
   "cell_type": "code",
   "execution_count": 42,
   "id": "1a94328e-45bd-4447-8588-5026faf8e182",
   "metadata": {},
   "outputs": [
    {
     "name": "stdout",
     "output_type": "stream",
     "text": [
      "Recompensa media en test: 24.30\n"
     ]
    },
    {
     "data": {
      "text/plain": [
       "24.3"
      ]
     },
     "execution_count": 42,
     "metadata": {},
     "output_type": "execute_result"
    }
   ],
   "source": [
    "# Cargar modelo y evaluar\n",
    "policy.load_state_dict(torch.load('modelo_final.pth'))\n",
    "test_agent(env, policy)"
   ]
  },
  {
   "cell_type": "markdown",
   "id": "f39ad7a6-c811-464d-a15b-1854060a94a8",
   "metadata": {},
   "source": [
    "### 3. Justificación de los parámetros seleccionados y de los resultados obtenidos\n",
    "\n",
    "\n",
    "#### Arquitectura robusta para entornos visuales\n",
    "El modelo Deep Q-Network (DQN) desarrollado utiliza una arquitectura de red neuronal convolucional que permite procesar de forma eficiente los estados visuales del entorno de juego Space Invaders. Las tres capas convolucionales extraen características espaciales de los frames, y las capas totalmente conectadas traducen dicha representación en valores Q por acción. \n",
    "Esta estructura ha demostrado ser efectiva para tareas de toma de decisiones en ambientes dinámicos y visualmente complejos.\n",
    "\n",
    "#### Entrenamiento exitoso con mejora progresiva\n",
    "Durante el entrenamiento, el agente logró mejorar su rendimiento de manera sostenida, alcanzando una recompensa media de 24.3 puntos en varias iteraciones. Este crecimiento progresivo evidencia que el modelo aprendió una política efectiva mediante la retroalimentación obtenida del entorno, maximizando recompensas acumuladas a través de la exploración y explotación balanceadas.\n",
    "\n",
    "#### Discusión de resultados\n",
    "En este proyecto se implementó desde cero el algoritmo Deep Q-Network (DQN) para el entorno SpaceInvaders-v5 (equivalente moderno de SpaceInvaders-v0), utilizando una red neuronal convolucional como aproximador de la función Q.\n",
    "\n",
    "Durante la fase de entrenamiento, se utilizaron técnicas clave como:\n",
    "- Replay Buffer para romper la correlación entre muestras.\n",
    "- Frame Stacking de 4 frames para incorporar memoria temporal.\n",
    "- Target Network con actualizaciones periódicas para estabilizar el aprendizaje.\n",
    "- Política ε-greedy con decaimiento exponencial para equilibrar exploración y explotación.\n",
    "\n",
    "Tras 1500 episodios de entrenamiento, se alcanzó una recompensa media de 24.3 puntos en modo test, calculada sobre 10 episodios sin exploración (ε = 0). Este resultado supera ampliamente el umbral mínimo de **20 puntos** requeridos para este proyecto.\n",
    "\n",
    "Este buen desempeño se debe a:\n",
    "- Una arquitectura CNN bien adaptada a entornos visuales.\n",
    "- Uso efectivo de técnicas estabilizadoras del DQN original de DeepMind.\n",
    "- Entrenamiento sostenido y uso de checkpoints para retomar progresos.\n",
    "\n",
    "#### Conclusión\n",
    "Este resultado indica que el agente no solo fue capaz de aprender una estrategia eficiente durante el entrenamiento, sino que también puede generalizar su comportamiento a nuevas partidas no vistas previamente, lo cual valida la robustez y aplicabilidad del enfoque DQN en escenarios reales de toma de decisiones."
   ]
  },
  {
   "cell_type": "code",
   "execution_count": 38,
   "id": "769c4b23-c994-41a4-a124-c9b8b6c59381",
   "metadata": {},
   "outputs": [],
   "source": [
    "# Visualización en vivo del agente entrenado\n",
    "\n",
    "# Cargar pesos entrenados\n",
    "policy.load_state_dict(torch.load('./modelo_final.pth'))\n",
    "policy.eval()\n",
    "\n",
    "# Inicializar entorno con visualización\n",
    "env = gym.make(env_name, render_mode=\"human\")\n",
    "obs, _ = env.reset()\n",
    "state = stacker.reset(obs)\n",
    "done = False\n",
    "\n",
    "while not done:\n",
    "    action = select_action(policy, state, epsilon=0.0, num_actions=num_actions, device=device)\n",
    "    next_obs, reward, terminated, truncated, _ = env.step(action)\n",
    "    state = stacker.step(next_obs)\n",
    "    done = terminated or truncated\n",
    "    time.sleep(0.03)\n",
    "\n",
    "env.close()"
   ]
  },
  {
   "cell_type": "code",
   "execution_count": 24,
   "id": "3ea8de85-b7c0-44e4-9ed3-77307f5bdead",
   "metadata": {},
   "outputs": [
    {
     "name": "stdout",
     "output_type": "stream",
     "text": [
      "Requirement already satisfied: imageio in /opt/anaconda3/lib/python3.12/site-packages (2.33.1)\n",
      "Requirement already satisfied: numpy in /opt/anaconda3/lib/python3.12/site-packages (from imageio) (1.26.4)\n",
      "Requirement already satisfied: pillow>=8.3.2 in /opt/anaconda3/lib/python3.12/site-packages (from imageio) (9.5.0)\n"
     ]
    },
    {
     "name": "stderr",
     "output_type": "stream",
     "text": [
      "IMAGEIO FFMPEG_WRITER WARNING: input image is not divisible by macro_block_size=16, resizing from (160, 210) to (160, 224) to ensure video compatibility with most codecs and players. To prevent resizing, make your input image divisible by the macro_block_size or set the macro_block_size to 1 (risking incompatibility).\n"
     ]
    },
    {
     "name": "stdout",
     "output_type": "stream",
     "text": [
      "🎬 Video guardado como space_invader_dqn.mp4\n"
     ]
    }
   ],
   "source": [
    "# Exportar video para visualizar evidencias del agente entrenado\n",
    "\n",
    "env = gym.make(env_name, render_mode=\"rgb_array\")\n",
    "obs, _ = env.reset()\n",
    "state = stacker.reset(obs)\n",
    "\n",
    "frames = []\n",
    "done = False\n",
    "\n",
    "while not done:\n",
    "    # Renderizar frame actual\n",
    "    frame = env.render()\n",
    "    frames.append(frame)\n",
    "\n",
    "    # Seleccionar acción según política entrenada\n",
    "    action = select_action(policy, state, epsilon=0.0, num_actions=num_actions, device=device)\n",
    "    next_obs, reward, terminated, truncated, _ = env.step(action)\n",
    "    state = stacker.step(next_obs)\n",
    "    done = terminated or truncated\n",
    "\n",
    "env.close()\n",
    "\n",
    "# Guardar video\n",
    "output_filename = \"space_invader_dqn.mp4\"\n",
    "imageio.mimsave(output_filename, frames, fps=30)\n",
    "print(f\"🎬 Video guardado como {output_filename}\")"
   ]
  }
 ],
 "metadata": {
  "colab": {
   "provenance": []
  },
  "kernelspec": {
   "display_name": "Python 3 (ipykernel)",
   "language": "python",
   "name": "python3"
  },
  "language_info": {
   "codemirror_mode": {
    "name": "ipython",
    "version": 3
   },
   "file_extension": ".py",
   "mimetype": "text/x-python",
   "name": "python",
   "nbconvert_exporter": "python",
   "pygments_lexer": "ipython3",
   "version": "3.12.7"
  }
 },
 "nbformat": 4,
 "nbformat_minor": 5
}
